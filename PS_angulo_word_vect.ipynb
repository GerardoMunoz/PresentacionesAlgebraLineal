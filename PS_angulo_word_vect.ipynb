{
 "cells": [
  {
   "cell_type": "markdown",
   "source": [
    "En la página https://matematicaj.blogspot.com/2020/03/Test-de-analogias-verbales-resuelto-con-claves-y-respuestas-pre-universidad-pdf.html se presentan algunas analogías de palabras. En el primer caso se pregunta soldado es a ejercito como:\r\n",
    "1. Ratón a gato,\r\n",
    "2. Llave a llavero\r\n",
    "3. Paradoja a contradicción \r\n",
    "4. Pulga a perro\r\n",
    "5. Tornillo a máquina.\r\n",
    "\r\n",
    "Usaremos el álgebra lineal para resolver el problema. A principio de semestre vimos como  algoritmos (como bolsa de palabras, Word2vec, Gensim, GloVe) aplicado a un conjunto de documentos (corpus), [incrustan las palabras](https://unipython.com/como-desarrollar-embeddings-incrustaciones-de-palabras-con-gensim/) <!--(https://es.wikipedia.org/wiki/Word_embedding)--> en $\\mathbb{R}^n$.  \r\n",
    "\r\n",
    "Algunas de estas incrutaciones tiene propiedades semánticas, es decir que algunas operaciones vectoriales son congruentes con el significado de las palabras. Como en el famoso ejemplo  Rey - Hombre + Mujer -> Reina \r\n",
    "\r\n",
    "Para este ejercicio vamos a utilizar la librería `spacy` con una base de datos de noticias (news) pequeña (sm) en español (es) llamada `es_core_news_sm`\r\n",
    "\r\n",
    "* Lo primero es obtener el vector $\\vec{u}_0$  para la palabra soldado y el vector $\\vec{v}_0$ para la palabra ejército. Los vectores no están ni en $\\mathbb{R}^2$ ni en $\\mathbb{R}^3$ sino en $\\mathbb{R}^96$\r\n",
    "\r\n",
    "* Luego se obtiene el vector  $\\vec{w}_0 =  \\vec{u}_0 - \\vec{v}_0$ que va desde soldado hasta ejército.\r\n",
    "\r\n",
    "* De manera similar se obtiene el vector para la primera repuesta. Es decir, el vector $\\vec{w}_1$ que va de raton a gato.  Finalmente se calcula el coseno del ángulo $\\cos(\\alpha_1)$ entre el vector  $\\vec{w}_0$ y $\\vec{w}_1$.\r\n",
    "\r\n",
    "* Se repite los mismo para cada par de palabras, obteniendo los vectores $\\vec{w}_2$, $\\vec{w}_3$, $\\vec{w}_4$, $\\vec{w}_5$. Posteriormente los cosenos  $\\cos(\\alpha_2)$, $\\cos(\\alpha_3)$, $\\cos(\\alpha_4)$, $\\cos(\\alpha_5)$, entre los vectores  $\\vec{w}_0$ y el respectivo $\\vec{w}_i$.\r\n",
    "\r\n",
    "*  Finalmente se selecciona la respuesta con el mayor coseno del ángulo."
   ],
   "metadata": {}
  },
  {
   "cell_type": "code",
   "execution_count": 2,
   "source": [
    "import spacy\r\n",
    "spacy_es = spacy.load(\"es_core_news_sm\")\r\n",
    "soldado=spacy_es(\"soldado\").vector\r\n",
    "soldado"
   ],
   "outputs": [
    {
     "output_type": "execute_result",
     "data": {
      "text/plain": [
       "array([ 1.6616583 ,  2.2189255 ,  0.34981376,  1.6703401 ,  2.0867515 ,\n",
       "        1.3361075 , -0.16638641,  1.7989249 , -0.3785099 , -0.9531485 ,\n",
       "       -4.787784  ,  0.5524312 , -0.27699035, -4.69687   , -1.3153002 ,\n",
       "       -2.1852336 ,  0.08720505, -1.7302126 ,  2.4323547 ,  1.7860228 ,\n",
       "       -0.19702435, -2.0001698 , -1.3060259 , -2.4178617 , -0.43159366,\n",
       "        1.8175896 , -0.21075806, -0.9220848 , -1.0492164 , -0.6611053 ,\n",
       "       -1.0855255 , -0.8291515 ,  0.27188474,  0.56854105,  0.51144755,\n",
       "        1.1975454 , -0.676649  ,  1.793778  , -2.2901528 ,  1.2468784 ,\n",
       "       -1.7368109 ,  1.179375  ,  0.1729405 ,  2.7017672 , -0.74960184,\n",
       "        4.0208335 ,  1.1929208 ,  1.8065389 ,  0.2725471 , -1.377909  ,\n",
       "        1.8582463 ,  0.10081023, -4.811147  ,  3.0806613 ,  2.0560303 ,\n",
       "       -1.5004798 ,  3.8858168 , -0.33191317,  0.515605  ,  0.6267386 ,\n",
       "       -0.66777545,  3.5780149 ,  1.2418798 ,  1.9644146 , -3.0513065 ,\n",
       "       -0.909126  , -3.0529184 ,  2.6292071 ,  1.071341  , -2.804204  ,\n",
       "        0.60980755,  2.6225066 ,  0.13941568, -3.2779117 , -3.1420555 ,\n",
       "       -0.8798433 , -1.4821728 ,  2.8546588 ,  1.5702754 , -0.2753135 ,\n",
       "       -1.9300535 , -2.8308804 ,  2.2025535 , -2.5143814 ,  2.5861998 ,\n",
       "        0.8273135 ,  1.135001  , -1.2826612 ,  1.7132772 , -0.02998275,\n",
       "        1.0749847 , -0.9381943 , -1.8569477 , -1.3117137 , -1.176722  ,\n",
       "        0.23948349], dtype=float32)"
      ]
     },
     "metadata": {},
     "execution_count": 2
    }
   ],
   "metadata": {}
  },
  {
   "cell_type": "code",
   "execution_count": 6,
   "source": [
    "ejercito=spacy_es(\"ejercito\").vector\r\n",
    "ejercito"
   ],
   "outputs": [
    {
     "output_type": "execute_result",
     "data": {
      "text/plain": [
       "array([ 1.4411745 , -2.5533943 ,  0.05001923,  0.5438783 ,  3.2191896 ,\n",
       "       -0.6444907 ,  1.6833391 ,  0.6963616 ,  1.0586026 , -1.9332976 ,\n",
       "       -1.7777734 , -2.7146525 , -1.3105258 , -3.7120824 ,  0.7392074 ,\n",
       "       -3.6514225 , -1.5230751 ,  0.58200836, -0.08182347, -0.3671136 ,\n",
       "       -2.2644074 ,  1.1282105 , -0.2524311 , -2.9431238 , -0.23749608,\n",
       "        2.0388002 ,  1.8218774 ,  0.5554329 , -3.332225  , -1.4221575 ,\n",
       "        0.9868597 , -0.93209875,  0.05404449,  1.4221487 ,  1.7075851 ,\n",
       "       -0.14718217, -0.7244853 ,  1.5032868 , -3.2873194 , -0.9774724 ,\n",
       "       -1.4539995 , -0.23640147,  0.8068797 ,  0.40529698,  0.77754277,\n",
       "        3.4201064 ,  0.9482086 ,  3.5556595 ,  0.97663105,  1.0857005 ,\n",
       "        2.2996306 ,  0.25581706,  0.9635985 , -1.1386635 ,  1.9516218 ,\n",
       "       -2.1825576 , -0.14389592, -0.6038519 , -0.7177818 ,  0.42310238,\n",
       "        0.28719002,  1.9969208 ,  0.7748813 ,  1.1907499 , -0.30491388,\n",
       "       -0.7016783 , -1.1902373 , -0.12971541, -0.01195528, -3.6620264 ,\n",
       "       -0.6722212 ,  3.1605587 ,  1.9143903 ,  2.213039  , -0.39219862,\n",
       "        0.66474754, -1.2995851 ,  0.56890804,  1.2221313 , -0.38413608,\n",
       "       -1.7856659 ,  0.39923853,  2.6337025 , -5.233451  , -0.7733247 ,\n",
       "        0.08190746, -0.518849  , -0.81869334,  4.2030044 , -1.7082746 ,\n",
       "       -0.871017  ,  0.33337918, -1.1645988 , -0.96329784,  0.2664268 ,\n",
       "        2.6126657 ], dtype=float32)"
      ]
     },
     "metadata": {},
     "execution_count": 6
    }
   ],
   "metadata": {}
  },
  {
   "cell_type": "code",
   "execution_count": 19,
   "source": [
    "len(ejercito)"
   ],
   "outputs": [
    {
     "output_type": "execute_result",
     "data": {
      "text/plain": [
       "96"
      ]
     },
     "metadata": {},
     "execution_count": 19
    }
   ],
   "metadata": {}
  },
  {
   "cell_type": "code",
   "execution_count": 7,
   "source": [
    "soldado_ejercito = soldado - ejercito\r\n",
    "soldado_ejercito"
   ],
   "outputs": [
    {
     "output_type": "execute_result",
     "data": {
      "text/plain": [
       "array([ 0.22048378,  4.77232   ,  0.29979452,  1.1264617 , -1.1324382 ,\n",
       "        1.9805982 , -1.8497255 ,  1.1025634 , -1.4371125 ,  0.98014915,\n",
       "       -3.0100107 ,  3.2670836 ,  1.0335355 , -0.98478746, -2.0545077 ,\n",
       "        1.4661889 ,  1.6102802 , -2.312221  ,  2.5141783 ,  2.1531363 ,\n",
       "        2.067383  , -3.1283803 , -1.0535948 ,  0.5252621 , -0.19409758,\n",
       "       -0.2212106 , -2.0326355 , -1.4775177 ,  2.2830086 ,  0.76105225,\n",
       "       -2.0723853 ,  0.10294724,  0.21784025, -0.85360765, -1.1961375 ,\n",
       "        1.3447275 ,  0.0478363 ,  0.2904911 ,  0.99716663,  2.224351  ,\n",
       "       -0.2828114 ,  1.4157765 , -0.6339392 ,  2.2964702 , -1.5271447 ,\n",
       "        0.6007271 ,  0.24471223, -1.7491206 , -0.7040839 , -2.4636095 ,\n",
       "       -0.44138432, -0.15500683, -5.774746  ,  4.219325  ,  0.1044085 ,\n",
       "        0.68207777,  4.0297127 ,  0.27193874,  1.2333868 ,  0.20363623,\n",
       "       -0.9549655 ,  1.581094  ,  0.46699852,  0.7736647 , -2.7463927 ,\n",
       "       -0.20744771, -1.8626812 ,  2.7589226 ,  1.0832963 ,  0.8578224 ,\n",
       "        1.2820287 , -0.5380521 , -1.7749746 , -5.4909506 , -2.749857  ,\n",
       "       -1.5445908 , -0.18258774,  2.2857509 ,  0.34814417,  0.10882258,\n",
       "       -0.1443876 , -3.230119  , -0.431149  ,  2.7190695 ,  3.3595245 ,\n",
       "        0.74540603,  1.65385   , -0.46396786, -2.489727  ,  1.6782918 ,\n",
       "        1.9460016 , -1.2715734 , -0.69234884, -0.34841585, -1.4431489 ,\n",
       "       -2.373182  ], dtype=float32)"
      ]
     },
     "metadata": {},
     "execution_count": 7
    }
   ],
   "metadata": {}
  },
  {
   "cell_type": "code",
   "execution_count": 8,
   "source": [
    "raton = spacy_es(\"raton\").vector\r\n",
    "gato = spacy_es(\"gato\").vector\r\n",
    "raton_gato = raton - gato\r\n",
    "raton_gato"
   ],
   "outputs": [
    {
     "output_type": "execute_result",
     "data": {
      "text/plain": [
       "array([ 1.7292609 , -2.6920793 ,  1.6449865 ,  0.585894  ,  0.18355125,\n",
       "        1.7529455 ,  0.26742268, -0.2818724 , -1.1140999 ,  0.27326632,\n",
       "       -2.1986642 , -3.502504  , -1.55283   ,  0.1946752 , -2.2821047 ,\n",
       "       -0.9666953 ,  3.4755416 ,  0.89788115, -2.9915497 ,  2.104562  ,\n",
       "        0.12125504, -1.684021  , -1.5519907 ,  0.64072376,  2.1139739 ,\n",
       "        0.35596192,  1.9436569 , -1.2219086 ,  1.4982193 , -0.43171203,\n",
       "        0.09910274, -3.6442175 ,  1.2660626 , -0.5276778 , -1.2549467 ,\n",
       "        3.666636  ,  4.7239256 ,  2.6916842 ,  3.5553339 , -0.19087106,\n",
       "        1.1508683 ,  0.17247939,  2.99386   , -3.9594293 ,  3.5035145 ,\n",
       "       -2.3001122 ,  2.6698284 ,  3.0638754 , -1.2746164 , -2.5987515 ,\n",
       "       -0.54226136, -2.3511488 , -1.9398496 , -3.476222  ,  1.7357211 ,\n",
       "       -2.6485043 , -4.9510717 , -5.5852194 ,  1.6283147 , -3.3416224 ,\n",
       "        1.7301524 ,  2.3105087 ,  1.9140531 ,  2.272368  ,  0.47610486,\n",
       "        1.6500486 , -0.35094178, -2.0509653 , -2.1018271 , -0.3702898 ,\n",
       "       -2.7987037 ,  1.581801  ,  1.9063344 , -1.7014474 , -0.00967622,\n",
       "        0.6775565 , -2.842426  ,  1.6591617 ,  0.35647684, -0.90369725,\n",
       "       -4.6794605 , -0.7734806 ,  0.41890812,  2.439992  ,  1.2864327 ,\n",
       "        0.34370208,  1.233607  ,  0.9861324 , -0.65657806,  1.147277  ,\n",
       "        1.9609699 ,  4.174176  , -4.653285  ,  1.1816555 , -1.1724615 ,\n",
       "       -3.3848763 ], dtype=float32)"
      ]
     },
     "metadata": {},
     "execution_count": 8
    }
   ],
   "metadata": {}
  },
  {
   "cell_type": "code",
   "execution_count": 11,
   "source": [
    "import numpy as np\r\n",
    "# Los vectores obtenidos son arreglos de numpy\r\n",
    "# El producto punto entre dos vectores se puede realizar con el método `dot`\r\n",
    "# La norma de un vector se realiza con la función `np.linalg.norm`"
   ],
   "outputs": [],
   "metadata": {}
  },
  {
   "cell_type": "code",
   "execution_count": 12,
   "source": [
    "cos_preg_rta1 = soldado_ejercito.dot(raton_gato) / (np.linalg.norm(soldado_ejercito) * np.linalg.norm(raton_gato))\r\n",
    "cos_preg_rta1"
   ],
   "outputs": [
    {
     "output_type": "execute_result",
     "data": {
      "text/plain": [
       "-0.00087636773"
      ]
     },
     "metadata": {},
     "execution_count": 12
    }
   ],
   "metadata": {}
  },
  {
   "cell_type": "code",
   "execution_count": 14,
   "source": [
    "llave = spacy_es(\"llave\").vector\r\n",
    "llavero = spacy_es(\"llavero\").vector\r\n",
    "llave_llavero = llave - llavero\r\n",
    "\r\n",
    "cos_preg_rta2 = soldado_ejercito.dot(llave_llavero) / (np.linalg.norm(soldado_ejercito) * np.linalg.norm(llave_llavero))\r\n",
    "cos_preg_rta2"
   ],
   "outputs": [
    {
     "output_type": "execute_result",
     "data": {
      "text/plain": [
       "0.21956891"
      ]
     },
     "metadata": {},
     "execution_count": 14
    }
   ],
   "metadata": {}
  },
  {
   "cell_type": "code",
   "execution_count": 15,
   "source": [
    "paradoja = spacy_es(\"paradoja\").vector\r\n",
    "contradiccion = spacy_es(\"contradicción\").vector\r\n",
    "paradoja_contradiccion = paradoja - contradiccion\r\n",
    "\r\n",
    "cos_preg_rta3 = soldado_ejercito.dot(paradoja_contradiccion) / (np.linalg.norm(soldado_ejercito) * np.linalg.norm(paradoja_contradiccion))\r\n",
    "cos_preg_rta3"
   ],
   "outputs": [
    {
     "output_type": "execute_result",
     "data": {
      "text/plain": [
       "-0.022749668"
      ]
     },
     "metadata": {},
     "execution_count": 15
    }
   ],
   "metadata": {}
  },
  {
   "cell_type": "code",
   "execution_count": 16,
   "source": [
    "pulga = spacy_es(\"pulga\").vector\r\n",
    "perro = spacy_es(\"perro\").vector\r\n",
    "pulga_perro = pulga - perro\r\n",
    "\r\n",
    "cos_preg_rta4 = soldado_ejercito.dot(pulga_perro) / (np.linalg.norm(soldado_ejercito) * np.linalg.norm(pulga_perro))\r\n",
    "cos_preg_rta4"
   ],
   "outputs": [
    {
     "output_type": "execute_result",
     "data": {
      "text/plain": [
       "0.103010654"
      ]
     },
     "metadata": {},
     "execution_count": 16
    }
   ],
   "metadata": {}
  },
  {
   "cell_type": "code",
   "execution_count": 18,
   "source": [
    "tornillo = spacy_es(\"tornillo\").vector\r\n",
    "maquina = spacy_es(\"maquina\").vector\r\n",
    "tornillo_maquina = tornillo - maquina\r\n",
    "\r\n",
    "cos_preg_rta5 = soldado_ejercito.dot(tornillo_maquina) / (np.linalg.norm(soldado_ejercito) * np.linalg.norm(tornillo_maquina))\r\n",
    "cos_preg_rta5"
   ],
   "outputs": [
    {
     "output_type": "execute_result",
     "data": {
      "text/plain": [
       "-0.03248876"
      ]
     },
     "metadata": {},
     "execution_count": 18
    }
   ],
   "metadata": {}
  },
  {
   "cell_type": "markdown",
   "source": [
    "coseno del ángulo con soldado ejercito    \r\n",
    "| palabra1 | palabra2    |        |\r\n",
    "|----------|-------------|---------------|\r\n",
    "|raton     |gato         |-0.00087636773 |\r\n",
    "|llave     |llavero      | 0.21956891    |\r\n",
    "|paradoja  |contradiccion|-0.022749668   |\r\n",
    "|pulga     |perro        | 0.103010654   |\r\n",
    "|tornillo  |maquina      |-0.03248876    |\r\n",
    "\r\n",
    "La mejor respuesta es la que el coseno del ángulo sea mayor. En este caso sería llave-llavero, que evectivamente coresponde a la respuesta correcta. Ya que al igual que soldado ejérciro, ambas tienen una relación de elemento - conjunto. \r\n"
   ],
   "metadata": {}
  },
  {
   "cell_type": "markdown",
   "source": [
    "En el siguiente listado está el ejercicio que le corresponde de la página https://matematicaj.blogspot.com/2020/03/Test-de-analogias-verbales-resuelto-con-claves-y-respuestas-pre-universidad-pdf.html\r\n",
    "\r\n",
    "|\tEjercicio\t|\tCódigo\t|\r\n",
    "|\t----\t|\t-------\t|\r\n",
    "|\t1\t|\tEjemplo\t|\r\n",
    "|\t2\t|\t20172005165\t|\r\n",
    "|\t3\t|\t20181005165\t|\r\n",
    "|\t4\t|\t20182005001\t|\r\n",
    "|\t5\t|\t20182005130\t|\r\n",
    "|\t6\t|\t20191005103\t|\r\n",
    "|\t7\t|\t20191005154\t|\r\n",
    "|\t8\t|\t20191005158\t|\r\n",
    "|\t9\t|\t20192005014\t|\r\n",
    "|\t10\t|\t20192005029\t|\r\n",
    "|\t11\t|\t20192005041\t|\r\n",
    "|\t12\t|\t20192005110\t|\r\n",
    "|\t13\t|\t20192005144\t|\r\n",
    "|\t14\t|\t20201005013\t|\r\n",
    "|\t15\t|\t20201005027\t|\r\n",
    "|\t16\t|\t20201005046\t|\r\n",
    "|\t17\t|\t20201005101\t|\r\n",
    "|\t18\t|\t20201005131\t|\r\n",
    "|\t19\t|\t20201005134\t|\r\n",
    "|\t20\t|\t20201005169\t|\r\n",
    "|\t21\t|\t20201015147\t|\r\n",
    "|\t22\t|\t20201015176\t|\r\n",
    "|\t23\t|\t20202005044\t|\r\n",
    "|\t24\t|\t20202005047\t|\r\n",
    "|\t25\t|\t20202005050\t|\r\n",
    "|\t26\t|\t20202005083\t|\r\n",
    "|\t27\t|\t20202005095\t|\r\n",
    "|\t28\t|\t20202005096\t|\r\n",
    "|\t29\t|\t20202005098\t|\r\n",
    "|\t30\t|\t20202005101\t|\r\n",
    "|\t31\t|\t20202005111\t|\r\n",
    "|\t32\t|\t20202005112\t|\r\n",
    "|\t33\t|\t20202005115\t|\r\n",
    "|\t34\t|\t20202005118\t|\r\n",
    "|\t35\t|\t20202005146\t|\r\n",
    "|\t36\t|\t20202015006\t|\r\n",
    "|\t37\t|\t20202015013\t|\r\n",
    "|\t38\t|\t20202015015\t|\r\n",
    "|\t39\t|\t20202015019\t|\r\n",
    "|\t40\t|\t20202015028\t|\r\n",
    "|\t41\t|\t20202015134\t|\r\n",
    "\r\n",
    "Llene los datos solicitados en el respectivo formulario\r\n",
    "\r\n"
   ],
   "metadata": {}
  }
 ],
 "metadata": {
  "orig_nbformat": 4,
  "language_info": {
   "name": "python",
   "version": "3.9.5",
   "mimetype": "text/x-python",
   "codemirror_mode": {
    "name": "ipython",
    "version": 3
   },
   "pygments_lexer": "ipython3",
   "nbconvert_exporter": "python",
   "file_extension": ".py"
  },
  "kernelspec": {
   "name": "python3",
   "display_name": "Python 3.9.5 64-bit"
  },
  "interpreter": {
   "hash": "92d6b3a05e9e8c68507114c49cf9da635036ff8ac36025d12f74e72be0cae55d"
  }
 },
 "nbformat": 4,
 "nbformat_minor": 2
}