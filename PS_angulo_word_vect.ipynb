{
  "nbformat": 4,
  "nbformat_minor": 0,
  "metadata": {
    "orig_nbformat": 4,
    "language_info": {
      "name": "python",
      "version": "3.9.5",
      "mimetype": "text/x-python",
      "codemirror_mode": {
        "name": "ipython",
        "version": 3
      },
      "pygments_lexer": "ipython3",
      "nbconvert_exporter": "python",
      "file_extension": ".py"
    },
    "kernelspec": {
      "name": "python3",
      "display_name": "Python 3.9.5 64-bit"
    },
    "interpreter": {
      "hash": "92d6b3a05e9e8c68507114c49cf9da635036ff8ac36025d12f74e72be0cae55d"
    },
    "colab": {
      "name": "PS_angulo_word_vect.ipynb",
      "provenance": [],
      "include_colab_link": true
    }
  },
  "cells": [
    {
      "cell_type": "markdown",
      "metadata": {
        "id": "view-in-github",
        "colab_type": "text"
      },
      "source": [
        "<a href=\"https://colab.research.google.com/github/GerardoMunoz/PresentacionesAlgebraLineal/blob/main/PS_angulo_word_vect.ipynb\" target=\"_parent\"><img src=\"https://colab.research.google.com/assets/colab-badge.svg\" alt=\"Open In Colab\"/></a>"
      ]
    },
    {
      "cell_type": "markdown",
      "metadata": {
        "id": "I7OOHXdCFaBQ"
      },
      "source": [
        "En la página https://matematicaj.blogspot.com/2020/03/Test-de-analogias-verbales-resuelto-con-claves-y-respuestas-pre-universidad-pdf.html se presentan algunas analogías de palabras. En el primer caso se pregunta soldado es a ejército como:\n",
        "1. Ratón a gato,\n",
        "2. Llave a llavero,\n",
        "3. Paradoja a contradicción,\n",
        "4. Pulga a perro,\n",
        "5. Tornillo a máquina.\n",
        "\n",
        "Usaremos el álgebra lineal para resolver el problema. A principio de semestre vimos como  algoritmos (como bolsa de palabras, Word2vec, Gensim, GloVe) aplicado a un conjunto de documentos (corpus), [incrustan las palabras](https://unipython.com/como-desarrollar-embeddings-incrustaciones-de-palabras-con-gensim/) <!--(https://es.wikipedia.org/wiki/Word_embedding)--> en $\\mathbb{R}^n$.  \n",
        "\n",
        "Algunas de estas incrustaciones tienen propiedades semánticas, es decir que algunas operaciones vectoriales son congruentes con el significado de las palabras. Como en el famoso ejemplo  Rey - Hombre + Mujer -> Reina. \n",
        "\n",
        "Para este ejercicio vamos a utilizar la librería `spacy` con una base de datos de noticias (news) pequeña (sm) en español (es) llamada `es_core_news_sm`. \n",
        "\n",
        "* Lo primero es obtener el vector $\\vec{u}_0$  para la palabra soldado y el vector $\\vec{v}_0$ para la palabra ejército. Los vectores no están ni en $\\mathbb{R}^2$ ni en $\\mathbb{R}^3$ sino en $\\mathbb{R}^{96}$\n",
        "\n",
        "* Luego se obtiene el vector  $\\vec{w}_0 =  \\vec{u}_0 - \\vec{v}_0$ que va desde soldado hasta ejército.\n",
        "\n",
        "* De manera similar se obtiene el vector para la primera repuesta. Es decir, el vector $\\vec{w}_1$ que va de raton a gato.  Finalmente se calcula el coseno del ángulo $\\cos(\\alpha_1)$ entre el vector  $\\vec{w}_0$ y $\\vec{w}_1$.\n",
        "\n",
        "* Se repite los mismo para cada par de palabras, obteniendo los vectores $\\vec{w}_2$, $\\vec{w}_3$, $\\vec{w}_4$, $\\vec{w}_5$. Posteriormente los cosenos  $\\cos(\\alpha_2)$, $\\cos(\\alpha_3)$, $\\cos(\\alpha_4)$, $\\cos(\\alpha_5)$, entre los vectores  $\\vec{w}_0$ y el respectivo $\\vec{w}_i$.\n",
        "\n",
        "*  Finalmente se selecciona la respuesta con el mayor coseno del ángulo."
      ]
    },
    {
      "cell_type": "markdown",
      "metadata": {
        "id": "slf1VcqWFaBU"
      },
      "source": [
        "Lo primero es descargar la librería en español \"es_core_news_sm\". Esto sólo hay que realizarlo una vez se inicia. \n",
        "\n"
      ]
    },
    {
      "cell_type": "code",
      "metadata": {
        "id": "LhnJFQhFFaBV"
      },
      "source": [
        "!python -m spacy download es_core_news_sm"
      ],
      "execution_count": null,
      "outputs": []
    },
    {
      "cell_type": "markdown",
      "metadata": {
        "id": "s5b6EyMRFaBW"
      },
      "source": [
        "En Colab puede 'Reinicar el entorno de ejecución' despues de descargar la librería \n",
        "\n",
        "Lo primero es llamar la libreria spacy. "
      ]
    },
    {
      "cell_type": "code",
      "metadata": {
        "id": "oYjFDV10FaBX"
      },
      "source": [
        "import spacy"
      ],
      "execution_count": null,
      "outputs": []
    },
    {
      "cell_type": "markdown",
      "metadata": {
        "id": "hSmcOKzOFaBY"
      },
      "source": [
        "Luego sigue cargar los datos del español que se descargaron previamente. En caso de no haber reiniciado el entorno de ejecución puede que se presente un error."
      ]
    },
    {
      "cell_type": "code",
      "metadata": {
        "id": "UpN0ji33FaBY"
      },
      "source": [
        "spacy_es = spacy.load(\"es_core_news_sm\")"
      ],
      "execution_count": null,
      "outputs": []
    },
    {
      "cell_type": "markdown",
      "metadata": {
        "id": "jGP100vnFaBa"
      },
      "source": [
        "Ahora si comenzamos a obtener los vectores de cada palabra. Es importante que la palabra se escriba con tilde si las tiene. "
      ]
    },
    {
      "cell_type": "code",
      "metadata": {
        "id": "T0tMDSbsFaBb",
        "outputId": "75e37d1c-3039-48d0-ea24-abc2377e6c4d"
      },
      "source": [
        "soldado=spacy_es(\"soldado\").vector\n",
        "soldado"
      ],
      "execution_count": null,
      "outputs": [
        {
          "output_type": "execute_result",
          "data": {
            "text/plain": [
              "array([ 1.6616583 ,  2.2189255 ,  0.34981376,  1.6703401 ,  2.0867515 ,\n",
              "        1.3361075 , -0.16638641,  1.7989249 , -0.3785099 , -0.9531485 ,\n",
              "       -4.787784  ,  0.5524312 , -0.27699035, -4.69687   , -1.3153002 ,\n",
              "       -2.1852336 ,  0.08720505, -1.7302126 ,  2.4323547 ,  1.7860228 ,\n",
              "       -0.19702435, -2.0001698 , -1.3060259 , -2.4178617 , -0.43159366,\n",
              "        1.8175896 , -0.21075806, -0.9220848 , -1.0492164 , -0.6611053 ,\n",
              "       -1.0855255 , -0.8291515 ,  0.27188474,  0.56854105,  0.51144755,\n",
              "        1.1975454 , -0.676649  ,  1.793778  , -2.2901528 ,  1.2468784 ,\n",
              "       -1.7368109 ,  1.179375  ,  0.1729405 ,  2.7017672 , -0.74960184,\n",
              "        4.0208335 ,  1.1929208 ,  1.8065389 ,  0.2725471 , -1.377909  ,\n",
              "        1.8582463 ,  0.10081023, -4.811147  ,  3.0806613 ,  2.0560303 ,\n",
              "       -1.5004798 ,  3.8858168 , -0.33191317,  0.515605  ,  0.6267386 ,\n",
              "       -0.66777545,  3.5780149 ,  1.2418798 ,  1.9644146 , -3.0513065 ,\n",
              "       -0.909126  , -3.0529184 ,  2.6292071 ,  1.071341  , -2.804204  ,\n",
              "        0.60980755,  2.6225066 ,  0.13941568, -3.2779117 , -3.1420555 ,\n",
              "       -0.8798433 , -1.4821728 ,  2.8546588 ,  1.5702754 , -0.2753135 ,\n",
              "       -1.9300535 , -2.8308804 ,  2.2025535 , -2.5143814 ,  2.5861998 ,\n",
              "        0.8273135 ,  1.135001  , -1.2826612 ,  1.7132772 , -0.02998275,\n",
              "        1.0749847 , -0.9381943 , -1.8569477 , -1.3117137 , -1.176722  ,\n",
              "        0.23948349], dtype=float32)"
            ]
          },
          "metadata": {
            "tags": []
          },
          "execution_count": 48
        }
      ]
    },
    {
      "cell_type": "markdown",
      "metadata": {
        "id": "dpIKGBrfFaBd"
      },
      "source": [
        "Observe que cada palabra es un vector de 96 elementos"
      ]
    },
    {
      "cell_type": "code",
      "metadata": {
        "id": "Afwi9UR7FaBd",
        "outputId": "20ed743b-64ba-4ab0-c449-a17c124347a0"
      },
      "source": [
        "len(soldado)"
      ],
      "execution_count": null,
      "outputs": [
        {
          "output_type": "execute_result",
          "data": {
            "text/plain": [
              "96"
            ]
          },
          "metadata": {
            "tags": []
          },
          "execution_count": 49
        }
      ]
    },
    {
      "cell_type": "code",
      "metadata": {
        "id": "FV_aJS6ZFaBe",
        "outputId": "2ec66f53-9f2e-41da-c9cf-575cc66bdee9"
      },
      "source": [
        "ejercito=spacy_es(\"ejército\").vector\n",
        "ejercito"
      ],
      "execution_count": null,
      "outputs": [
        {
          "output_type": "execute_result",
          "data": {
            "text/plain": [
              "array([ 1.5633483e+00,  1.4476252e-01,  1.8350602e+00,  1.1558589e-01,\n",
              "        2.3402157e+00, -1.4280640e+00,  3.0933189e+00,  1.2887498e+00,\n",
              "       -1.9117045e-01, -4.9598169e+00, -1.2467630e+00, -2.7395284e+00,\n",
              "       -2.5109317e+00, -2.6089320e+00, -1.6932045e+00, -9.9181211e-01,\n",
              "       -1.3153166e-02,  2.4071431e+00, -4.3894949e+00,  2.0477021e+00,\n",
              "        1.2002409e+00, -2.5596815e-01, -4.4633490e-01,  2.9005063e-01,\n",
              "        5.9353590e-01,  1.2809510e+00,  9.2161834e-01, -9.1395527e-01,\n",
              "       -3.1797333e+00, -2.9567182e+00, -2.7443204e+00, -1.4416915e+00,\n",
              "        9.0844846e-01, -1.4594206e+00,  5.6294864e-01,  2.2365236e+00,\n",
              "       -9.3573844e-01,  1.3580439e+00, -3.6455970e+00, -1.7200713e+00,\n",
              "       -1.0916401e+00,  3.9986399e-01,  1.9496071e+00, -3.0031584e-02,\n",
              "        1.4883491e+00, -2.2285834e-01,  4.9609989e-01,  7.1523711e-04,\n",
              "       -6.2915820e-01, -1.3156153e+00,  1.1743956e+00,  8.6497825e-01,\n",
              "        5.1256812e-01, -3.1079383e+00,  1.8793962e+00, -1.5822583e+00,\n",
              "       -8.2555246e-01, -1.0588465e+00,  8.9911532e-01,  1.2610859e+00,\n",
              "       -5.1596248e-01, -4.3782139e-01,  2.3668723e+00, -4.6982062e-01,\n",
              "       -2.2736025e-01, -2.9937935e-01, -2.7159431e+00,  1.1546696e+00,\n",
              "       -2.7792045e-01, -1.7671430e+00,  2.0827639e+00,  3.1531923e+00,\n",
              "        6.2492633e-01,  2.9716778e+00, -1.4077152e+00,  9.3613505e-02,\n",
              "        5.9815657e-01,  1.1310097e+00,  1.0654614e+00,  1.5006003e+00,\n",
              "       -1.2145735e+00, -1.7267429e+00,  1.5584991e+00, -5.2932644e-01,\n",
              "       -1.4165877e+00,  1.7871871e+00,  2.5640254e+00, -2.7076871e+00,\n",
              "        4.9118299e+00,  1.0722468e+00,  6.6549301e-01,  1.8909004e-01,\n",
              "       -3.1517220e+00,  9.8331171e-01, -4.3737450e-01,  1.8550605e+00],\n",
              "      dtype=float32)"
            ]
          },
          "metadata": {
            "tags": []
          },
          "execution_count": 50
        }
      ]
    },
    {
      "cell_type": "code",
      "metadata": {
        "id": "ojTPOpmgFaBe",
        "outputId": "82c68ee2-7838-4012-9df8-ab84bf949a51"
      },
      "source": [
        "soldado_ejercito = soldado - ejercito\n",
        "soldado_ejercito"
      ],
      "execution_count": null,
      "outputs": [
        {
          "output_type": "execute_result",
          "data": {
            "text/plain": [
              "array([ 0.09830999,  2.074163  , -1.4852464 ,  1.5547541 , -0.25346422,\n",
              "        2.7641716 , -3.2597053 ,  0.5101751 , -0.18733945,  4.0066686 ,\n",
              "       -3.541021  ,  3.2919598 ,  2.2339413 , -2.0879378 ,  0.3779043 ,\n",
              "       -1.1934215 ,  0.10035822, -4.137356  ,  6.82185   , -0.2616793 ,\n",
              "       -1.3972652 , -1.7442017 , -0.85969096, -2.7079124 , -1.0251296 ,\n",
              "        0.5366386 , -1.1323764 , -0.00812954,  2.130517  ,  2.2956128 ,\n",
              "        1.6587949 ,  0.61254   , -0.6365637 ,  2.0279617 , -0.0515011 ,\n",
              "       -1.0389782 ,  0.25908947,  0.43573403,  1.3554442 ,  2.9669497 ,\n",
              "       -0.6451708 ,  0.7795111 , -1.7766666 ,  2.731799  , -2.2379508 ,\n",
              "        4.243692  ,  0.6968209 ,  1.8058237 ,  0.90170527, -0.06229365,\n",
              "        0.68385077, -0.764168  , -5.323715  ,  6.1885996 ,  0.17663407,\n",
              "        0.08177853,  4.7113695 ,  0.7269333 , -0.38351035, -0.63434726,\n",
              "       -0.15181297,  4.0158362 , -1.1249925 ,  2.434235  , -2.8239462 ,\n",
              "       -0.60974663, -0.33697534,  1.4745375 ,  1.3492615 , -1.037061  ,\n",
              "       -1.4729564 , -0.53068566, -0.48551065, -6.2495894 , -1.7343403 ,\n",
              "       -0.9734568 , -2.0803294 ,  1.7236491 ,  0.504814  , -1.7759138 ,\n",
              "       -0.71547997, -1.1041375 ,  0.6440544 , -1.985055  ,  4.0027876 ,\n",
              "       -0.9598736 , -1.4290245 ,  1.4250259 , -3.1985526 , -1.1022296 ,\n",
              "        0.40949166, -1.1272843 ,  1.2947743 , -2.2950253 , -0.7393476 ,\n",
              "       -1.615577  ], dtype=float32)"
            ]
          },
          "metadata": {
            "tags": []
          },
          "execution_count": 51
        }
      ]
    },
    {
      "cell_type": "code",
      "metadata": {
        "id": "LALnfwDQFaBf",
        "outputId": "123b68d4-249f-47b9-bb45-66ff1e23ff06"
      },
      "source": [
        "raton = spacy_es(\"ratón\").vector\n",
        "gato = spacy_es(\"gato\").vector\n",
        "raton_gato = raton - gato\n",
        "raton_gato"
      ],
      "execution_count": null,
      "outputs": [
        {
          "output_type": "execute_result",
          "data": {
            "text/plain": [
              "array([-1.265033  ,  1.3099129 ,  1.1179032 , -1.5713887 ,  1.1892524 ,\n",
              "       -1.3013593 ,  0.5610335 , -1.5968785 , -2.3235073 , -2.8649027 ,\n",
              "        1.8099622 , -5.303787  , -2.9253464 ,  1.0467217 , -1.9469875 ,\n",
              "       -2.0728583 ,  2.5955985 ,  1.9755002 , -4.0862637 ,  1.0056701 ,\n",
              "       -1.3438596 , -1.7438902 ,  0.3450884 ,  0.8864556 ,  4.3622103 ,\n",
              "        2.4505277 , -0.22487482, -0.5231006 ,  2.2676368 , -0.9214817 ,\n",
              "       -0.458297  , -3.4453602 ,  1.3129684 ,  1.7771535 , -2.6731868 ,\n",
              "        1.9201785 ,  5.252463  ,  4.4567494 ,  1.0975027 , -1.6185219 ,\n",
              "       -0.20419598,  0.41635224,  4.443267  , -2.580287  ,  3.183191  ,\n",
              "       -1.2470889 ,  2.9683027 ,  0.45370248, -3.311287  , -0.8524591 ,\n",
              "        0.8026655 , -1.5846772 , -1.7272313 , -3.6841402 ,  2.6649466 ,\n",
              "       -0.9283836 , -1.5784795 , -1.1975842 ,  2.6008167 , -2.9763076 ,\n",
              "       -0.62568986,  1.7695354 ,  2.0158207 ,  1.6911104 ,  0.82638323,\n",
              "        2.3242762 , -1.6823988 , -2.215893  , -2.1800365 , -1.3535559 ,\n",
              "       -2.1253    ,  3.8153954 , -0.44408238,  1.0558627 ,  4.5694466 ,\n",
              "        1.7237998 , -1.8761566 , -0.8603157 , -1.1373348 ,  0.17145205,\n",
              "       -4.687316  , -1.0892782 , -0.22479123,  0.11110437,  0.3735165 ,\n",
              "       -0.50722766,  1.7984486 , -1.184711  , -1.6152093 ,  2.5131297 ,\n",
              "        2.4093184 ,  0.7554655 , -4.2114725 ,  2.2128181 ,  0.5112189 ,\n",
              "       -1.7407963 ], dtype=float32)"
            ]
          },
          "metadata": {
            "tags": []
          },
          "execution_count": 52
        }
      ]
    },
    {
      "cell_type": "code",
      "metadata": {
        "id": "zxfVxz0ZFaBf"
      },
      "source": [
        "import numpy as np\n",
        "# Los vectores obtenidos son arreglos de numpy\n",
        "# El producto punto entre dos vectores se puede realizar con el método `dot`\n",
        "# La norma de un vector se realiza con la función `np.linalg.norm`"
      ],
      "execution_count": null,
      "outputs": []
    },
    {
      "cell_type": "code",
      "metadata": {
        "id": "_Aez972IFaBg",
        "outputId": "8c7254f3-f260-43bf-ce89-e1770774ae83"
      },
      "source": [
        "cos_preg_rta1 = soldado_ejercito.dot(raton_gato) / (np.linalg.norm(soldado_ejercito) * np.linalg.norm(raton_gato))\n",
        "cos_preg_rta1"
      ],
      "execution_count": null,
      "outputs": [
        {
          "output_type": "execute_result",
          "data": {
            "text/plain": [
              "-0.3152439"
            ]
          },
          "metadata": {
            "tags": []
          },
          "execution_count": 54
        }
      ]
    },
    {
      "cell_type": "code",
      "metadata": {
        "id": "BmkzJeMwFaBg",
        "outputId": "55d7cb42-6d6e-43e4-c9b1-f67163929377"
      },
      "source": [
        "llave = spacy_es(\"llave\").vector\n",
        "llavero = spacy_es(\"llavero\").vector\n",
        "llave_llavero = llave - llavero\n",
        "\n",
        "cos_preg_rta2 = soldado_ejercito.dot(llave_llavero) / (np.linalg.norm(soldado_ejercito) * np.linalg.norm(llave_llavero))\n",
        "cos_preg_rta2"
      ],
      "execution_count": null,
      "outputs": [
        {
          "output_type": "execute_result",
          "data": {
            "text/plain": [
              "0.23535857"
            ]
          },
          "metadata": {
            "tags": []
          },
          "execution_count": 55
        }
      ]
    },
    {
      "cell_type": "code",
      "metadata": {
        "id": "qzzGwpakFaBg",
        "outputId": "f7e061f1-988a-484d-f8ea-72b0a49b4c6c"
      },
      "source": [
        "paradoja = spacy_es(\"paradoja\").vector\n",
        "contradiccion = spacy_es(\"contradicción\").vector\n",
        "paradoja_contradiccion = paradoja - contradiccion\n",
        "\n",
        "cos_preg_rta3 = soldado_ejercito.dot(paradoja_contradiccion) / (np.linalg.norm(soldado_ejercito) * np.linalg.norm(paradoja_contradiccion))\n",
        "cos_preg_rta3"
      ],
      "execution_count": null,
      "outputs": [
        {
          "output_type": "execute_result",
          "data": {
            "text/plain": [
              "-0.02385487"
            ]
          },
          "metadata": {
            "tags": []
          },
          "execution_count": 56
        }
      ]
    },
    {
      "cell_type": "code",
      "metadata": {
        "id": "n2Q1PuStFaBh",
        "outputId": "9e6c978a-333a-461a-8ff4-55ac60eebdcd"
      },
      "source": [
        "pulga = spacy_es(\"pulga\").vector\n",
        "perro = spacy_es(\"perro\").vector\n",
        "pulga_perro = pulga - perro\n",
        "\n",
        "cos_preg_rta4 = soldado_ejercito.dot(pulga_perro) / (np.linalg.norm(soldado_ejercito) * np.linalg.norm(pulga_perro))\n",
        "cos_preg_rta4"
      ],
      "execution_count": null,
      "outputs": [
        {
          "output_type": "execute_result",
          "data": {
            "text/plain": [
              "0.21286036"
            ]
          },
          "metadata": {
            "tags": []
          },
          "execution_count": 57
        }
      ]
    },
    {
      "cell_type": "code",
      "metadata": {
        "id": "12kEveaPFaBi",
        "outputId": "44ae0f89-77d8-4f7f-ffa3-8542d5056571"
      },
      "source": [
        "tornillo = spacy_es(\"tornillo\").vector\n",
        "maquina = spacy_es(\"máquina\").vector\n",
        "tornillo_maquina = tornillo - maquina\n",
        "\n",
        "cos_preg_rta5 = soldado_ejercito.dot(tornillo_maquina) / (np.linalg.norm(soldado_ejercito) * np.linalg.norm(tornillo_maquina))\n",
        "cos_preg_rta5"
      ],
      "execution_count": null,
      "outputs": [
        {
          "output_type": "execute_result",
          "data": {
            "text/plain": [
              "-0.03068008"
            ]
          },
          "metadata": {
            "tags": []
          },
          "execution_count": 58
        }
      ]
    },
    {
      "cell_type": "markdown",
      "metadata": {
        "id": "-P1NR_XsFaBi"
      },
      "source": [
        "coseno del ángulo con soldado ejercito    \n",
        "| palabra1 | palabra2    |        |\n",
        "|----------|-------------|---------------|\n",
        "|ratón     |gato         |-0.3152439     |\n",
        "|llave     |llavero      | 0.23535857    |\n",
        "|paradoja  |contradicción|-0.02385487   |\n",
        "|pulga     |perro        | 0.21286036   |\n",
        "|tornillo  |máquina      |-0.03068008    |\n",
        "\n",
        "La mejor respuesta es la que el coseno del ángulo sea mayor. En este caso sería llave-llavero, que efectivamente corresponde a la respuesta correcta. Ya que al igual que soldado-ejérciro, ambas tienen una relación de elemento - conjunto. \n"
      ]
    },
    {
      "cell_type": "markdown",
      "metadata": {
        "id": "Qae9Mt02FaBj"
      },
      "source": [
        "En el siguiente listado está el ejercicio que le corresponde de la página https://matematicaj.blogspot.com/2020/03/Test-de-analogias-verbales-resuelto-con-claves-y-respuestas-pre-universidad-pdf.html\n",
        "\n",
        "|\tEjercicio\t|\tCódigo\t|\n",
        "|\t----\t|\t-------\t|\n",
        "|\t1\t|\tEjemplo\t|\n",
        "|\t2\t|\t20172005165\t|\n",
        "|\t3\t|\t20181005165\t|\n",
        "|\t4\t|\t20182005001\t|\n",
        "|\t5\t|\t20182005130\t|\n",
        "|\t6\t|\t20191005103\t|\n",
        "|\t7\t|\t20191005154\t|\n",
        "|\t8\t|\t20191005158\t|\n",
        "|\t9\t|\t20192005014\t|\n",
        "|\t10\t|\t20192005029\t|\n",
        "|\t11\t|\t20192005041\t|\n",
        "|\t12\t|\t20192005110\t|\n",
        "|\t13\t|\t20192005144\t|\n",
        "|\t14\t|\t20201005013\t|\n",
        "|\t15\t|\t20201005027\t|\n",
        "|\t16\t|\t20201005046\t|\n",
        "|\t17\t|\t20201005101\t|\n",
        "|\t18\t|\t20201005131\t|\n",
        "|\t19\t|\t20201005134\t|\n",
        "|\t20\t|\t20201005169\t|\n",
        "|\t21\t|\t20201015147\t|\n",
        "|\t22\t|\t20201015176\t|\n",
        "|\t23\t|\t20202005044\t|\n",
        "|\t24\t|\t20202005047\t|\n",
        "|\t25\t|\t20202005050\t|\n",
        "|\t26\t|\t20202005083\t|\n",
        "|\t27\t|\t20202005095\t|\n",
        "|\t28\t|\t20202005096\t|\n",
        "|\t29\t|\t20202005098\t|\n",
        "|\t30\t|\t20202005101\t|\n",
        "|\t31\t|\t20202005111\t|\n",
        "|\t32\t|\t20202005112\t|\n",
        "|\t33\t|\t20202005115\t|\n",
        "|\t34\t|\t20202005118\t|\n",
        "|\t35\t|\t20202005146\t|\n",
        "|\t36\t|\t20202015006\t|\n",
        "|\t37\t|\t20202015013\t|\n",
        "|\t38\t|\t20202015015\t|\n",
        "|\t39\t|\t20202015019\t|\n",
        "|\t40\t|\t20202015028\t|\n",
        "|\t41\t|\t20202015134\t|\n",
        "\n",
        "Llene los datos solicitados en el respectivo formulario\n",
        "\n"
      ]
    },
    {
      "cell_type": "code",
      "metadata": {
        "id": "QiTnj9WaFaBj"
      },
      "source": [
        ""
      ],
      "execution_count": null,
      "outputs": []
    }
  ]
}