{
  "nbformat": 4,
  "nbformat_minor": 0,
  "metadata": {
    "orig_nbformat": 4,
    "language_info": {
      "name": "python",
      "version": "3.9.5",
      "mimetype": "text/x-python",
      "codemirror_mode": {
        "name": "ipython",
        "version": 3
      },
      "pygments_lexer": "ipython3",
      "nbconvert_exporter": "python",
      "file_extension": ".py"
    },
    "kernelspec": {
      "name": "python3",
      "display_name": "Python 3.9.5 64-bit"
    },
    "interpreter": {
      "hash": "92d6b3a05e9e8c68507114c49cf9da635036ff8ac36025d12f74e72be0cae55d"
    },
    "colab": {
      "name": "PS_angulo_word_vect.ipynb",
      "provenance": [],
      "include_colab_link": true
    }
  },
  "cells": [
    {
      "cell_type": "markdown",
      "metadata": {
        "id": "view-in-github",
        "colab_type": "text"
      },
      "source": [
        "<a href=\"https://colab.research.google.com/github/GerardoMunoz/PresentacionesAlgebraLineal/blob/main/PS_angulo_word_vect.ipynb\" target=\"_parent\"><img src=\"https://colab.research.google.com/assets/colab-badge.svg\" alt=\"Open In Colab\"/></a>"
      ]
    },
    {
      "cell_type": "markdown",
      "metadata": {
        "id": "I7OOHXdCFaBQ"
      },
      "source": [
        "En la página https://matematicaj.blogspot.com/2020/03/Test-de-analogias-verbales-resuelto-con-claves-y-respuestas-pre-universidad-pdf.html se presentan algunas analogías de palabras. En el primer caso se pregunta soldado es a ejército como:\n",
        "1. Ratón a gato,\n",
        "2. Llave a llavero,\n",
        "3. Paradoja a contradicción,\n",
        "4. Pulga a perro,\n",
        "5. Tornillo a máquina.\n",
        "\n",
        "Usaremos el álgebra lineal para resolver el problema. A principio de semestre vimos como  algoritmos (como bolsa de palabras, Word2vec, Gensim, GloVe) aplicado a un conjunto de documentos (corpus), [incrustan las palabras](https://unipython.com/como-desarrollar-embeddings-incrustaciones-de-palabras-con-gensim/) <!--(https://es.wikipedia.org/wiki/Word_embedding)--> en $\\mathbb{R}^n$.  \n",
        "\n",
        "Algunas de estas incrustaciones tienen propiedades semánticas, es decir que algunas operaciones vectoriales son congruentes con el significado de las palabras. Como en el famoso ejemplo  Rey - Hombre + Mujer -> Reina. \n",
        "\n",
        "Para este ejercicio vamos a utilizar la librería `spacy` con una base de datos de noticias (news) pequeña (sm) en español (es) llamada `es_core_news_sm`. \n",
        "\n",
        "* Lo primero es obtener el vector $\\vec{u}_0$  para la palabra soldado y el vector $\\vec{v}_0$ para la palabra ejército. Los vectores no están ni en $\\mathbb{R}^2$ ni en $\\mathbb{R}^3$ sino en $\\mathbb{R}^{96}$\n",
        "\n",
        "* Luego se obtiene el vector  $\\vec{w}_0 =  \\vec{u}_0 - \\vec{v}_0$ que va desde soldado hasta ejército.\n",
        "\n",
        "* De manera similar se obtiene el vector para la primera repuesta. Es decir, el vector $\\vec{w}_1$ que va de raton a gato.  Finalmente se calcula el coseno del ángulo $\\cos(\\alpha_1)$ entre el vector  $\\vec{w}_0$ y $\\vec{w}_1$.\n",
        "\n",
        "* Se repite los mismo para cada par de palabras, obteniendo los vectores $\\vec{w}_2$, $\\vec{w}_3$, $\\vec{w}_4$, $\\vec{w}_5$. Posteriormente los cosenos  $\\cos(\\alpha_2)$, $\\cos(\\alpha_3)$, $\\cos(\\alpha_4)$, $\\cos(\\alpha_5)$, entre los vectores  $\\vec{w}_0$ y el respectivo $\\vec{w}_i$.\n",
        "\n",
        "*  Finalmente se selecciona la respuesta con el mayor coseno del ángulo."
      ]
    },
    {
      "cell_type": "markdown",
      "metadata": {
        "id": "slf1VcqWFaBU"
      },
      "source": [
        "Lo primero es descargar la librería en español \"es_core_news_sm\". Esto sólo hay que realizarlo una vez se inicia. \n",
        "\n"
      ]
    },
    {
      "cell_type": "code",
      "metadata": {
        "colab": {
          "base_uri": "https://localhost:8080/"
        },
        "id": "LhnJFQhFFaBV",
        "outputId": "236a5f73-5afb-45a1-b69d-c42a9e39cb8a"
      },
      "source": [
        "!python -m spacy download es_core_news_sm"
      ],
      "execution_count": null,
      "outputs": [
        {
          "output_type": "stream",
          "text": [
            "Collecting es_core_news_sm==2.2.5\n",
            "  Downloading https://github.com/explosion/spacy-models/releases/download/es_core_news_sm-2.2.5/es_core_news_sm-2.2.5.tar.gz (16.2 MB)\n",
            "\u001b[K     |████████████████████████████████| 16.2 MB 5.0 MB/s \n",
            "\u001b[?25hRequirement already satisfied: spacy>=2.2.2 in /usr/local/lib/python3.7/dist-packages (from es_core_news_sm==2.2.5) (2.2.4)\n",
            "Requirement already satisfied: cymem<2.1.0,>=2.0.2 in /usr/local/lib/python3.7/dist-packages (from spacy>=2.2.2->es_core_news_sm==2.2.5) (2.0.5)\n",
            "Requirement already satisfied: setuptools in /usr/local/lib/python3.7/dist-packages (from spacy>=2.2.2->es_core_news_sm==2.2.5) (57.2.0)\n",
            "Requirement already satisfied: tqdm<5.0.0,>=4.38.0 in /usr/local/lib/python3.7/dist-packages (from spacy>=2.2.2->es_core_news_sm==2.2.5) (4.62.0)\n",
            "Requirement already satisfied: blis<0.5.0,>=0.4.0 in /usr/local/lib/python3.7/dist-packages (from spacy>=2.2.2->es_core_news_sm==2.2.5) (0.4.1)\n",
            "Requirement already satisfied: catalogue<1.1.0,>=0.0.7 in /usr/local/lib/python3.7/dist-packages (from spacy>=2.2.2->es_core_news_sm==2.2.5) (1.0.0)\n",
            "Requirement already satisfied: murmurhash<1.1.0,>=0.28.0 in /usr/local/lib/python3.7/dist-packages (from spacy>=2.2.2->es_core_news_sm==2.2.5) (1.0.5)\n",
            "Requirement already satisfied: wasabi<1.1.0,>=0.4.0 in /usr/local/lib/python3.7/dist-packages (from spacy>=2.2.2->es_core_news_sm==2.2.5) (0.8.2)\n",
            "Requirement already satisfied: plac<1.2.0,>=0.9.6 in /usr/local/lib/python3.7/dist-packages (from spacy>=2.2.2->es_core_news_sm==2.2.5) (1.1.3)\n",
            "Requirement already satisfied: thinc==7.4.0 in /usr/local/lib/python3.7/dist-packages (from spacy>=2.2.2->es_core_news_sm==2.2.5) (7.4.0)\n",
            "Requirement already satisfied: preshed<3.1.0,>=3.0.2 in /usr/local/lib/python3.7/dist-packages (from spacy>=2.2.2->es_core_news_sm==2.2.5) (3.0.5)\n",
            "Requirement already satisfied: numpy>=1.15.0 in /usr/local/lib/python3.7/dist-packages (from spacy>=2.2.2->es_core_news_sm==2.2.5) (1.19.5)\n",
            "Requirement already satisfied: requests<3.0.0,>=2.13.0 in /usr/local/lib/python3.7/dist-packages (from spacy>=2.2.2->es_core_news_sm==2.2.5) (2.23.0)\n",
            "Requirement already satisfied: srsly<1.1.0,>=1.0.2 in /usr/local/lib/python3.7/dist-packages (from spacy>=2.2.2->es_core_news_sm==2.2.5) (1.0.5)\n",
            "Requirement already satisfied: importlib-metadata>=0.20 in /usr/local/lib/python3.7/dist-packages (from catalogue<1.1.0,>=0.0.7->spacy>=2.2.2->es_core_news_sm==2.2.5) (4.6.3)\n",
            "Requirement already satisfied: typing-extensions>=3.6.4 in /usr/local/lib/python3.7/dist-packages (from importlib-metadata>=0.20->catalogue<1.1.0,>=0.0.7->spacy>=2.2.2->es_core_news_sm==2.2.5) (3.7.4.3)\n",
            "Requirement already satisfied: zipp>=0.5 in /usr/local/lib/python3.7/dist-packages (from importlib-metadata>=0.20->catalogue<1.1.0,>=0.0.7->spacy>=2.2.2->es_core_news_sm==2.2.5) (3.5.0)\n",
            "Requirement already satisfied: certifi>=2017.4.17 in /usr/local/lib/python3.7/dist-packages (from requests<3.0.0,>=2.13.0->spacy>=2.2.2->es_core_news_sm==2.2.5) (2021.5.30)\n",
            "Requirement already satisfied: urllib3!=1.25.0,!=1.25.1,<1.26,>=1.21.1 in /usr/local/lib/python3.7/dist-packages (from requests<3.0.0,>=2.13.0->spacy>=2.2.2->es_core_news_sm==2.2.5) (1.24.3)\n",
            "Requirement already satisfied: idna<3,>=2.5 in /usr/local/lib/python3.7/dist-packages (from requests<3.0.0,>=2.13.0->spacy>=2.2.2->es_core_news_sm==2.2.5) (2.10)\n",
            "Requirement already satisfied: chardet<4,>=3.0.2 in /usr/local/lib/python3.7/dist-packages (from requests<3.0.0,>=2.13.0->spacy>=2.2.2->es_core_news_sm==2.2.5) (3.0.4)\n",
            "\u001b[38;5;2m✔ Download and installation successful\u001b[0m\n",
            "You can now load the model via spacy.load('es_core_news_sm')\n"
          ],
          "name": "stdout"
        }
      ]
    },
    {
      "cell_type": "markdown",
      "metadata": {
        "id": "s5b6EyMRFaBW"
      },
      "source": [
        "En Colab puede 'Reinicar el entorno de ejecución' despues de descargar la librería \n",
        "\n",
        "Lo primero es llamar la libreria spacy. "
      ]
    },
    {
      "cell_type": "code",
      "metadata": {
        "id": "oYjFDV10FaBX"
      },
      "source": [
        "import spacy"
      ],
      "execution_count": null,
      "outputs": []
    },
    {
      "cell_type": "markdown",
      "metadata": {
        "id": "hSmcOKzOFaBY"
      },
      "source": [
        "Luego sigue cargar los datos del español que se descargaron previamente. En caso de no haber reiniciado el entorno de ejecución puede que se presente un error."
      ]
    },
    {
      "cell_type": "code",
      "metadata": {
        "id": "UpN0ji33FaBY"
      },
      "source": [
        "spacy_es = spacy.load(\"es_core_news_sm\")"
      ],
      "execution_count": null,
      "outputs": []
    },
    {
      "cell_type": "markdown",
      "metadata": {
        "id": "jGP100vnFaBa"
      },
      "source": [
        "Ahora si comenzamos a obtener los vectores de cada palabra. Es importante que la palabra se escriba con tilde si las tiene. "
      ]
    },
    {
      "cell_type": "code",
      "metadata": {
        "colab": {
          "base_uri": "https://localhost:8080/"
        },
        "id": "T0tMDSbsFaBb",
        "outputId": "747b5b46-7afc-4af9-823a-ca9d5be70aae"
      },
      "source": [
        "soldado=spacy_es(\"soldado\").vector\n",
        "soldado"
      ],
      "execution_count": null,
      "outputs": [
        {
          "output_type": "execute_result",
          "data": {
            "text/plain": [
              "array([ 6.3344855 ,  7.8538084 , -3.833856  ,  0.8017853 ,  4.647547  ,\n",
              "       -3.6115787 , -7.9624004 , -4.3260913 , -0.6534754 , -0.34920466,\n",
              "       -1.0873322 , -4.438015  , -8.063329  ,  7.348127  ,  1.0255387 ,\n",
              "        1.6311729 , -0.4751122 ,  4.8554654 , -2.895939  ,  5.538233  ,\n",
              "        1.1452105 , -6.394264  ,  0.83366513, -1.2777112 ,  3.8527415 ,\n",
              "       -3.4849334 , -7.7172914 ,  0.19821191, -0.42739558, -1.6300942 ,\n",
              "       -3.101515  , -4.615014  ,  3.6517115 , -2.6606016 ,  3.3364868 ,\n",
              "       -3.8454266 ,  1.9919299 , -1.3486339 ,  2.4598174 ,  2.6024532 ,\n",
              "       -0.7598468 , -0.5252705 ,  3.7853131 ,  4.3498306 , -1.8674426 ,\n",
              "        0.9362514 , -1.3034072 , -5.7030444 ,  1.3807571 , -5.042339  ,\n",
              "       -1.9307297 ,  2.250323  ,  2.0519018 , -3.100582  ,  3.2007494 ,\n",
              "        4.7060933 , -0.99164975,  4.880626  ,  0.73361194,  0.87203723,\n",
              "       -2.3065236 ,  5.947562  , -0.47327584, -0.6609935 ,  1.0311747 ,\n",
              "        4.1003036 ,  1.6786666 , -3.324019  ,  1.7406416 ,  0.50796616,\n",
              "        3.8384943 , -1.6984534 , -1.3266536 ,  4.038693  ,  0.9333302 ,\n",
              "       -1.4816449 , -0.8224287 ,  4.109129  , -6.3750644 ,  1.1042521 ,\n",
              "        1.0689449 , -3.571459  , -1.491751  , -0.55695236, -2.0649333 ,\n",
              "        1.8030113 ,  0.88954407, -4.6326175 , -7.0774894 ,  1.0983915 ,\n",
              "        1.0881926 ,  0.5700984 , -4.452753  ,  5.9484463 ,  0.8613566 ,\n",
              "        3.0569587 ], dtype=float32)"
            ]
          },
          "metadata": {
            "tags": []
          },
          "execution_count": 29
        }
      ]
    },
    {
      "cell_type": "markdown",
      "metadata": {
        "id": "dpIKGBrfFaBd"
      },
      "source": [
        "Observe que cada palabra es un vector de 96 elementos"
      ]
    },
    {
      "cell_type": "code",
      "metadata": {
        "colab": {
          "base_uri": "https://localhost:8080/"
        },
        "id": "Afwi9UR7FaBd",
        "outputId": "0f21435d-d90f-4724-9411-ec74390dda82"
      },
      "source": [
        "len(soldado)"
      ],
      "execution_count": null,
      "outputs": [
        {
          "output_type": "execute_result",
          "data": {
            "text/plain": [
              "96"
            ]
          },
          "metadata": {
            "tags": []
          },
          "execution_count": 30
        }
      ]
    },
    {
      "cell_type": "code",
      "metadata": {
        "colab": {
          "base_uri": "https://localhost:8080/"
        },
        "id": "FV_aJS6ZFaBe",
        "outputId": "b60fc3a6-b259-4a7b-b039-eeb2406f31ec"
      },
      "source": [
        "ejercito=spacy_es(\"ejército\").vector\n",
        "ejercito"
      ],
      "execution_count": null,
      "outputs": [
        {
          "output_type": "execute_result",
          "data": {
            "text/plain": [
              "array([ 7.538803  ,  8.917214  , -5.756281  , -2.04584   ,  5.580385  ,\n",
              "       -3.626072  , -7.449911  , -0.5357484 ,  2.2351847 ,  4.995864  ,\n",
              "       -0.50550306,  1.3766865 , -4.196176  ,  1.7708406 , -1.1264827 ,\n",
              "        1.8160542 , -2.6417944 ,  0.9113256 , -1.718248  ,  4.3655376 ,\n",
              "       -0.19247319, -6.596141  ,  2.5170288 , -2.2334785 ,  1.3446064 ,\n",
              "       -5.6206713 , -2.7808964 , -1.702582  , -0.88280857, -5.781607  ,\n",
              "       -3.1784806 , -4.5840597 ,  1.4608195 , -6.605699  ,  3.5741682 ,\n",
              "       -3.7378194 ,  2.9579155 , -2.3093266 ,  2.825917  ,  3.0586195 ,\n",
              "       -3.0983527 ,  1.1624153 , -2.3209682 ,  0.22037837,  0.50732464,\n",
              "       -0.20533124, -2.6595716 , -0.11621785,  4.7312164 , -2.7816224 ,\n",
              "        0.86406237, -0.5964475 ,  2.7367587 , -4.208027  , -4.3122168 ,\n",
              "        1.8786385 ,  0.87293446,  7.759996  ,  0.0966503 ,  2.1353645 ,\n",
              "        4.2650576 ,  5.1819644 , -1.8039317 ,  1.1279613 ,  4.182113  ,\n",
              "       -0.04996499,  2.5031712 , -5.781842  ,  1.468445  ,  0.26020893,\n",
              "        3.578724  , -2.0903323 ,  0.47867638, -2.2275584 , -4.1895013 ,\n",
              "       -1.379043  ,  1.9016043 ,  2.8718686 , -6.5208664 ,  0.5725379 ,\n",
              "        3.979875  , -4.357236  ,  2.4828892 , -2.1402483 ,  2.8559372 ,\n",
              "        1.8606834 ,  3.2704492 , -3.0523572 , -4.429539  ,  0.50469714,\n",
              "        1.1554652 , -3.8340294 ,  1.0503261 ,  1.5783393 ,  1.9510741 ,\n",
              "        5.167476  ], dtype=float32)"
            ]
          },
          "metadata": {
            "tags": []
          },
          "execution_count": 31
        }
      ]
    },
    {
      "cell_type": "code",
      "metadata": {
        "colab": {
          "base_uri": "https://localhost:8080/"
        },
        "id": "ojTPOpmgFaBe",
        "outputId": "21d0008b-710e-44e2-eb52-5e4e86f8d69e"
      },
      "source": [
        "soldado_ejercito = soldado - ejercito\n",
        "soldado_ejercito"
      ],
      "execution_count": null,
      "outputs": [
        {
          "output_type": "execute_result",
          "data": {
            "text/plain": [
              "array([-1.2043176 , -1.063406  ,  1.9224248 ,  2.8476253 , -0.93283844,\n",
              "        0.01449323, -0.5124893 , -3.7903428 , -2.88866   , -5.3450685 ,\n",
              "       -0.5818292 , -5.8147016 , -3.8671527 ,  5.5772862 ,  2.1520214 ,\n",
              "       -0.18488133,  2.1666822 ,  3.94414   , -1.1776911 ,  1.1726952 ,\n",
              "        1.3376837 ,  0.20187664, -1.6833637 ,  0.9557674 ,  2.508135  ,\n",
              "        2.135738  , -4.9363947 ,  1.9007939 ,  0.45541298,  4.151513  ,\n",
              "        0.07696557, -0.03095436,  2.190892  ,  3.9450974 , -0.23768139,\n",
              "       -0.10760713, -0.96598566,  0.96069276, -0.3660996 , -0.45616627,\n",
              "        2.3385057 , -1.6876857 ,  6.1062813 ,  4.129452  , -2.3747673 ,\n",
              "        1.1415826 ,  1.3561645 , -5.5868263 , -3.3504593 , -2.2607164 ,\n",
              "       -2.7947922 ,  2.8467705 , -0.6848569 ,  1.107445  ,  7.512966  ,\n",
              "        2.8274548 , -1.8645842 , -2.8793697 ,  0.63696164, -1.2633274 ,\n",
              "       -6.571581  ,  0.7655978 ,  1.3306558 , -1.7889547 , -3.1509385 ,\n",
              "        4.1502686 , -0.8245046 ,  2.4578233 ,  0.27219665,  0.24775723,\n",
              "        0.2597704 ,  0.39187884, -1.80533   ,  6.2662516 ,  5.1228313 ,\n",
              "       -0.10260189, -2.7240329 ,  1.2372603 ,  0.14580202,  0.5317142 ,\n",
              "       -2.9109302 ,  0.78577685, -3.9746401 ,  1.583296  , -4.920871  ,\n",
              "       -0.05767214, -2.3809052 , -1.5802603 , -2.6479502 ,  0.5936944 ,\n",
              "       -0.06727266,  4.404128  , -5.5030794 ,  4.3701067 , -1.0897175 ,\n",
              "       -2.1105175 ], dtype=float32)"
            ]
          },
          "metadata": {
            "tags": []
          },
          "execution_count": 32
        }
      ]
    },
    {
      "cell_type": "code",
      "metadata": {
        "colab": {
          "base_uri": "https://localhost:8080/"
        },
        "id": "LALnfwDQFaBf",
        "outputId": "d52dd894-abca-43a6-cf4e-892a29c5a800"
      },
      "source": [
        "raton = spacy_es(\"ratón\").vector\n",
        "gato = spacy_es(\"gato\").vector\n",
        "raton_gato = raton - gato\n",
        "raton_gato"
      ],
      "execution_count": null,
      "outputs": [
        {
          "output_type": "execute_result",
          "data": {
            "text/plain": [
              "array([-7.8128619e+00, -5.1120386e+00, -2.8030500e+00, -1.4234204e+00,\n",
              "        3.3935843e+00,  6.7414804e+00,  3.3021860e+00, -3.1290128e+00,\n",
              "       -3.0188837e+00,  1.2931148e+00, -4.2101846e+00,  1.3095536e+00,\n",
              "       -1.6784016e+00,  2.3608499e+00, -2.2683332e+00,  1.2097616e+00,\n",
              "       -2.3473423e+00,  1.2047687e+00,  4.0310316e+00, -3.3584726e+00,\n",
              "        1.0980959e+00,  1.1955526e+00,  1.0988231e+00,  6.7072862e-01,\n",
              "        2.7143583e+00, -2.1168501e+00, -5.7886901e+00,  3.6043692e+00,\n",
              "       -7.5329643e-01, -3.8307872e+00,  3.1315994e-01,  2.8146472e+00,\n",
              "       -1.7964878e+00, -2.7211072e+00,  3.7243035e+00,  3.2367647e-02,\n",
              "        1.4622737e+00,  5.4436147e-01,  4.9615226e+00, -4.5427138e-01,\n",
              "       -2.6951001e+00, -7.7229738e-04, -2.8688343e+00, -8.8544869e-01,\n",
              "       -5.5224299e-02,  3.6975425e-01, -1.3796983e+00,  2.8418670e+00,\n",
              "       -3.2898965e+00, -4.4440942e+00,  1.2491769e+00, -3.1466155e+00,\n",
              "        2.6476614e+00, -1.6129951e+00,  1.6012613e+00, -3.3363862e+00,\n",
              "        6.6926050e-01,  1.1161580e+00,  7.1075134e+00,  1.5054477e+00,\n",
              "        1.3656628e+00,  3.7501121e+00, -5.4011059e+00,  3.0076201e+00,\n",
              "        1.3995392e+00, -2.1485381e+00, -4.2345357e+00,  2.3690324e+00,\n",
              "       -6.6554385e-01,  2.0659795e+00,  4.1392250e+00,  3.6045556e+00,\n",
              "        5.4757088e-01, -3.3488133e+00,  4.8627007e-01,  2.5231106e+00,\n",
              "        8.2924497e-01, -2.3596916e+00, -4.6505260e+00,  2.5305438e+00,\n",
              "        8.5573158e+00, -2.7440169e+00,  4.8855243e+00,  1.5574148e+00,\n",
              "       -1.5486348e+00, -1.0727057e+00,  1.2525892e+00,  4.5072274e+00,\n",
              "        1.8428802e+00, -9.1475075e-01, -2.0090096e+00, -2.4902201e-01,\n",
              "       -4.5870466e+00,  1.1170073e+00, -7.3286223e-01, -5.9189186e+00],\n",
              "      dtype=float32)"
            ]
          },
          "metadata": {
            "tags": []
          },
          "execution_count": 33
        }
      ]
    },
    {
      "cell_type": "code",
      "metadata": {
        "id": "zxfVxz0ZFaBf"
      },
      "source": [
        "import numpy as np\n",
        "# Los vectores obtenidos son arreglos de numpy\n",
        "# El producto punto entre dos vectores se puede realizar con el método `dot`\n",
        "# La norma de un vector se realiza con la función `np.linalg.norm`"
      ],
      "execution_count": null,
      "outputs": []
    },
    {
      "cell_type": "code",
      "metadata": {
        "colab": {
          "base_uri": "https://localhost:8080/"
        },
        "id": "_Aez972IFaBg",
        "outputId": "ca3bd909-c9f3-4b1a-eda4-4129c2929a33"
      },
      "source": [
        "cos_preg_rta1 = soldado_ejercito.dot(raton_gato) / (np.linalg.norm(soldado_ejercito) * np.linalg.norm(raton_gato))\n",
        "cos_preg_rta1"
      ],
      "execution_count": null,
      "outputs": [
        {
          "output_type": "execute_result",
          "data": {
            "text/plain": [
              "-0.087970614"
            ]
          },
          "metadata": {
            "tags": []
          },
          "execution_count": 35
        }
      ]
    },
    {
      "cell_type": "code",
      "metadata": {
        "colab": {
          "base_uri": "https://localhost:8080/"
        },
        "id": "BmkzJeMwFaBg",
        "outputId": "906cd025-26ed-42e5-abce-687763ce5320"
      },
      "source": [
        "llave = spacy_es(\"llave\").vector\n",
        "llavero = spacy_es(\"llavero\").vector\n",
        "llave_llavero = llave - llavero\n",
        "\n",
        "cos_preg_rta2 = soldado_ejercito.dot(llave_llavero) / (np.linalg.norm(soldado_ejercito) * np.linalg.norm(llave_llavero))\n",
        "cos_preg_rta2"
      ],
      "execution_count": null,
      "outputs": [
        {
          "output_type": "execute_result",
          "data": {
            "text/plain": [
              "-0.14314723"
            ]
          },
          "metadata": {
            "tags": []
          },
          "execution_count": 36
        }
      ]
    },
    {
      "cell_type": "code",
      "metadata": {
        "colab": {
          "base_uri": "https://localhost:8080/"
        },
        "id": "qzzGwpakFaBg",
        "outputId": "836e83ea-4b0d-45d0-ace0-fa53d7224066"
      },
      "source": [
        "paradoja = spacy_es(\"paradoja\").vector\n",
        "contradiccion = spacy_es(\"contradicción\").vector\n",
        "paradoja_contradiccion = paradoja - contradiccion\n",
        "\n",
        "cos_preg_rta3 = soldado_ejercito.dot(paradoja_contradiccion) / (np.linalg.norm(soldado_ejercito) * np.linalg.norm(paradoja_contradiccion))\n",
        "cos_preg_rta3"
      ],
      "execution_count": null,
      "outputs": [
        {
          "output_type": "execute_result",
          "data": {
            "text/plain": [
              "-0.06602139"
            ]
          },
          "metadata": {
            "tags": []
          },
          "execution_count": 37
        }
      ]
    },
    {
      "cell_type": "code",
      "metadata": {
        "colab": {
          "base_uri": "https://localhost:8080/"
        },
        "id": "n2Q1PuStFaBh",
        "outputId": "92ef1aa0-ec5d-4870-9c12-225e4d6d1eef"
      },
      "source": [
        "pulga = spacy_es(\"pulga\").vector\n",
        "perro = spacy_es(\"perro\").vector\n",
        "pulga_perro = pulga - perro\n",
        "\n",
        "cos_preg_rta4 = soldado_ejercito.dot(pulga_perro) / (np.linalg.norm(soldado_ejercito) * np.linalg.norm(pulga_perro))\n",
        "cos_preg_rta4"
      ],
      "execution_count": null,
      "outputs": [
        {
          "output_type": "execute_result",
          "data": {
            "text/plain": [
              "0.2551043"
            ]
          },
          "metadata": {
            "tags": []
          },
          "execution_count": 38
        }
      ]
    },
    {
      "cell_type": "code",
      "metadata": {
        "colab": {
          "base_uri": "https://localhost:8080/"
        },
        "id": "12kEveaPFaBi",
        "outputId": "aa208cb3-c94f-43f5-e5c9-bf3dcdfa2b25"
      },
      "source": [
        "tornillo = spacy_es(\"tornillo\").vector\n",
        "maquina = spacy_es(\"máquina\").vector\n",
        "tornillo_maquina = tornillo - maquina\n",
        "\n",
        "cos_preg_rta5 = soldado_ejercito.dot(tornillo_maquina) / (np.linalg.norm(soldado_ejercito) * np.linalg.norm(tornillo_maquina))\n",
        "cos_preg_rta5"
      ],
      "execution_count": null,
      "outputs": [
        {
          "output_type": "execute_result",
          "data": {
            "text/plain": [
              "0.0015725981"
            ]
          },
          "metadata": {
            "tags": []
          },
          "execution_count": 39
        }
      ]
    },
    {
      "cell_type": "markdown",
      "metadata": {
        "id": "-P1NR_XsFaBi"
      },
      "source": [
        "Coseno del ángulo con soldado ejercito   \n",
        "\n",
        "| palabra1 | palabra2    |        |\n",
        "|----------|-------------|---------------|\n",
        "|ratón     |gato         |-0.087970614   |\n",
        "|llave     |llavero      |-0.14314723    |\n",
        "|paradoja  |contradicción|-0.06602139    |\n",
        "|pulga     |perro        | 0.2551043     |\n",
        "|tornillo  |máquina      | 0.0015725981  |\n",
        "\n",
        "La mejor respuesta es la que el valor absoluto del coseno del ángulo sea mayor. En este caso sería pulga-perro, pero no corresponde a la respuesta correcta. \n",
        "\n",
        "La respuesta correcta es llave-llavero, que obtuvo un segundo lugar. Que al igual que soldado-ejército,  tienen una relación de elemento - conjunto.\n",
        "\n",
        "Sin embargo, si tenemos en cuenta que tradicionalmente se ha asociado al perro con muchas pulgas, podría sugerirse esa como una causa de la respuesta.  \n",
        "\n",
        "\n",
        "Por otra parte, sabemos que una máquina usualmente tiene muchos tornillos, pero el bajo valor del coseno seguramente se debe a que pocas veces se habla al respecto. \n"
      ]
    },
    {
      "cell_type": "code",
      "metadata": {
        "id": "QiTnj9WaFaBj"
      },
      "source": [
        ""
      ],
      "execution_count": null,
      "outputs": []
    }
  ]
}