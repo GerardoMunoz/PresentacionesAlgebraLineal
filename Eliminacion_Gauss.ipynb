{
  "nbformat": 4,
  "nbformat_minor": 0,
  "metadata": {
    "colab": {
      "name": "Eliminacion_Gauss.ipynb",
      "provenance": [],
      "collapsed_sections": [],
      "include_colab_link": true
    },
    "kernelspec": {
      "name": "python3",
      "display_name": "Python 3"
    },
    "language_info": {
      "name": "python"
    }
  },
  "cells": [
    {
      "cell_type": "markdown",
      "metadata": {
        "id": "view-in-github",
        "colab_type": "text"
      },
      "source": [
        "<a href=\"https://colab.research.google.com/github/GerardoMunoz/PresentacionesAlgebraLineal/blob/main/Eliminacion_Gauss.ipynb\" target=\"_parent\"><img src=\"https://colab.research.google.com/assets/colab-badge.svg\" alt=\"Open In Colab\"/></a>"
      ]
    },
    {
      "cell_type": "markdown",
      "metadata": {
        "id": "VWLOFt_DFRLX"
      },
      "source": [
        "# Notación\n",
        "Así como durante el <u>primer</u> año de vida tenemos <u>cero</u> años. También en Python y otros lenguajes de programación, el primer renglón de las matrices es el renglón cero. \n",
        "\n",
        "$$\\begin{matrix}\\text{renglón 0}\\\\\\text{renglón 1}\\\\\\text{renglón 2}\\end{matrix}\\begin{bmatrix}a&b&c&:&x\\\\d&e&f&:&y\\\\g&h&i&:&z\\end{bmatrix}$$\n",
        "\n",
        "\n",
        "Sin embargo, en otros lenguajes como Matlab, llaman el <u>primer</u> renglón, el renglón <u>uno</u>. Esto último coincide con la notación de la mayoría de los libros de álgebra lineal.\n",
        "\n",
        "$$\\begin{matrix}\\text{renglón 1}\\\\\\text{renglón 2}\\\\\\text{renglón 3}\\end{matrix}\\begin{bmatrix}a&b&c&:&x\\\\d&e&f&:&y\\\\g&h&i&:&z\\end{bmatrix}$$\n",
        "\n",
        "En este curso usaremos ambas notaciones. Si hay duda en que, si el primer renglón es el renglón cero o el renglón uno, lo invito a que pregunte para evitar confusiones.\n",
        "En particular para la clase de HOY, como usaremos Python, llamaremos el <u>primer</u> renglón el renglón <u>cero</u>.\n",
        "\n",
        "$$\\begin{matrix}\\text{renglón 0}\\\\\\text{renglón 1}\\\\\\text{renglón 2}\\end{matrix}\\begin{bmatrix}a&b&c&:&x\\\\d&e&f&:&y\\\\g&h&i&:&z\\end{bmatrix}$$\n",
        "\n",
        "\n",
        "\n",
        "\n",
        "\n",
        "# Operaciones elementales\n",
        "[Nakos, Sec. 1.1]\n",
        "\n",
        "En esta clase veremos cómo encontrar la solución de sistemas de ecuaciones que no cumplen con E1, E2, E3 o E4.\n",
        "\n",
        "Para esto definiremos las siguientes  __operaciones elementales__  entre los renglones de una matriz extendida, las cuales permiten modificar la matriz para que cumplan las propiedades E1, E2, E3 y E4. Pero lo más importante es que <u> no alteran la solución</u> del sistema de ecuaciones.\n",
        "\n",
        "* **Intercambio de renglones**. $r_i \\leftrightarrow r_j$\n",
        "\n",
        "$$\\begin{bmatrix}a&b&c&:&x\\\\d&e&f&:&y\\\\g&h&i&:&z\\end{bmatrix}r_0 \\leftrightarrow r_1\\begin{bmatrix}d&e&f&:&y\\\\a&b&c&:&x\\\\g&h&i&:&z\\end{bmatrix}$$\n",
        "\n",
        "El intercambio de renglones no afecta la solución del sistema de ecuaciones ya que el orden de las ecuaciones no altera la solución. \n",
        "\n",
        "* **Multiplica un renglón por un escalar** (diferente de cero). $kr_i \\rightarrow r_i$ \n",
        "$$\\begin{bmatrix}a&b&c&:&x\\\\d&e&f&:&y\\\\g&h&i&:&z\\end{bmatrix}  3r_2 \\rightarrow r_2 \\begin{bmatrix}a&b&c&:&x\\\\d&e&f&:&y\\\\3g&3h&3i&:&3z\\end{bmatrix}$$\n",
        "\n",
        "Al multiplicar un renglón por una constante no se altera la solución ya que la respectiva ecuación se multiplica a ambos lados por la misma constante.\n",
        "\n",
        "* **Suma un múltiplo (no nulo) de un renglón a otro**. $kr_j + 1r_i \\rightarrow r_i$ \n",
        "\n",
        "Observe que el renglón de destino ($r_i$) es multiplicado por 1, mientras que el otro renglón ($r_j$) sí es multiplicado por $k$.\n",
        "\n",
        "$$\\begin{bmatrix}a&b&c&:&x\\\\d&e&f&:&y\\\\g&h&i&:&z\\end{bmatrix} 3r_2 + r_1  \\rightarrow r_1$$ $$\\begin{bmatrix}a&b&c&:&x\\\\3g+d&3h+e&3i+f&:&3z+y\\\\g&h&i&:&z\\end{bmatrix}$$\n",
        "\n",
        "En las siguientes páginas el profesor Von Schmohawk visualiza esta operación en  $\\mathbb{R}^2$ y en $\\mathbb{R}^3$. \n",
        "\n",
        "* https://www.youtube.com/watch?v=fGq07lDUb9k&list=PL20023FA07684B937&index=38\n",
        "* https://www.youtube.com/watch?v=cB2t5VIVHZI&list=PL20023FA07684B937&index=48\n",
        "\n",
        "Más adelante, en nuestro curso, veremos el tema de la visualización. \n",
        "\n",
        "# Una operación no tan elemental\n",
        "\n",
        "La operación $k_jr_j + k_ir_i \\rightarrow r_i$ corresponde a realizar:\n",
        "* primero  $k_ir_i \\rightarrow r_i$, \n",
        "* luego $k_jr_j + r_i \\rightarrow r_i$. \n",
        "\n",
        "$$\\begin{bmatrix}a&b&c&:&x\\\\d&e&f&:&y\\\\g&h&i&:&z\\end{bmatrix} 3r_2 + 4r_1  \\rightarrow r_1$$ $$\\begin{bmatrix}a&b&c&:&x\\\\3g+4d&3h+4e&3i+4f&:&3z+4y\\\\g&h&i&:&z\\end{bmatrix}$$\n",
        "\n",
        "# Equivalencia de matrices\n",
        "Dos matrices se dice que son __equivalentes__ si es posible pasar de una a la otra por medio de operaciones elementales y se denota $A \\sim B$.  \n",
        "\n"
      ]
    },
    {
      "cell_type": "markdown",
      "metadata": {
        "id": "k1jYuSTKFRLN"
      },
      "source": [
        "## Uso de Python para hacer operaciones matriciales \n",
        "Antes de entrar en materia es conveniente saber que en Python el símbolo numeral `#` es usado para escribir comentarios. \n",
        "\n",
        "\n",
        "\n"
      ]
    },
    {
      "cell_type": "code",
      "metadata": {
        "colab": {
          "base_uri": "https://localhost:8080/"
        },
        "id": "gPUjlaWKpejB",
        "outputId": "c8e7764c-d392-4572-c620-dbd83e2d687f"
      },
      "source": [
        "# Esto es un cometario de Python y por lo tanto no se ejecuta\n",
        "a=5\n",
        "\n",
        "a"
      ],
      "execution_count": 1,
      "outputs": [
        {
          "output_type": "execute_result",
          "data": {
            "text/plain": [
              "5"
            ]
          },
          "metadata": {},
          "execution_count": 1
        }
      ]
    },
    {
      "cell_type": "markdown",
      "metadata": {
        "id": "RTZq5a6QpfHK"
      },
      "source": [
        "A continuación, usaremos la librería `sympy` de Python, que permite realizar operaciones matriciales."
      ]
    },
    {
      "cell_type": "code",
      "metadata": {
        "id": "C4acJORQFRLO",
        "colab": {
          "base_uri": "https://localhost:8080/",
          "height": 98
        },
        "outputId": "344764f2-4a58-48f9-d71b-f3c0922c6b26"
      },
      "source": [
        "import sympy as sp # Se llama la librería `sympy` con el alias `sp`.\n",
        "\n",
        "# se define en la matriz `A`\n",
        "\n",
        "A = sp.Matrix([\n",
        "    [0, 3, -6, ],\n",
        "    [3, 3, -10],\n",
        "    [4, -9, 34],\n",
        "    [2, -5, 20]\n",
        "])\n",
        "\n",
        "A"
      ],
      "execution_count": 2,
      "outputs": [
        {
          "output_type": "execute_result",
          "data": {
            "text/plain": [
              "Matrix([\n",
              "[0,  3,  -6],\n",
              "[3,  3, -10],\n",
              "[4, -9,  34],\n",
              "[2, -5,  20]])"
            ],
            "text/latex": "$\\displaystyle \\left[\\begin{matrix}0 & 3 & -6\\\\3 & 3 & -10\\\\4 & -9 & 34\\\\2 & -5 & 20\\end{matrix}\\right]$"
          },
          "metadata": {},
          "execution_count": 2
        }
      ]
    },
    {
      "cell_type": "code",
      "metadata": {
        "id": "CmRbT8OHFRLQ",
        "colab": {
          "base_uri": "https://localhost:8080/",
          "height": 37
        },
        "outputId": "ffbf87e2-267d-4cc1-8b03-fed62d4a676d"
      },
      "source": [
        "# Obtener un elemento de la matriz\n",
        "# Renglón 0 y columna 0\n",
        "# Recuerde que comienza desde cero\n",
        "\n",
        "A[0,0]"
      ],
      "execution_count": 3,
      "outputs": [
        {
          "output_type": "execute_result",
          "data": {
            "text/plain": [
              "0"
            ],
            "text/latex": "$\\displaystyle 0$"
          },
          "metadata": {},
          "execution_count": 3
        }
      ]
    },
    {
      "cell_type": "code",
      "metadata": {
        "id": "M11B2HfeFRLQ",
        "colab": {
          "base_uri": "https://localhost:8080/",
          "height": 37
        },
        "outputId": "757dbc4b-4e83-4630-9b56-8c27c6056e5a"
      },
      "source": [
        "# Obtener un elemento de la matriz\n",
        "# Renglón 1 y columna 2\n",
        "# Recuerde que comienza desde cero\n",
        "\n",
        "A[1,2]"
      ],
      "execution_count": 4,
      "outputs": [
        {
          "output_type": "execute_result",
          "data": {
            "text/plain": [
              "-10"
            ],
            "text/latex": "$\\displaystyle -10$"
          },
          "metadata": {},
          "execution_count": 4
        }
      ]
    },
    {
      "cell_type": "code",
      "metadata": {
        "id": "wRjiCFgJFRLQ",
        "colab": {
          "base_uri": "https://localhost:8080/",
          "height": 98
        },
        "outputId": "40670234-7e34-449b-b855-942ac041868b"
      },
      "source": [
        "# Obtener la columna 2 de la matriz\n",
        "\n",
        "A[:,2]"
      ],
      "execution_count": 5,
      "outputs": [
        {
          "output_type": "execute_result",
          "data": {
            "text/plain": [
              "Matrix([\n",
              "[ -6],\n",
              "[-10],\n",
              "[ 34],\n",
              "[ 20]])"
            ],
            "text/latex": "$\\displaystyle \\left[\\begin{matrix}-6\\\\-10\\\\34\\\\20\\end{matrix}\\right]$"
          },
          "metadata": {},
          "execution_count": 5
        }
      ]
    },
    {
      "cell_type": "code",
      "metadata": {
        "id": "TE3DRHfYFRLR",
        "colab": {
          "base_uri": "https://localhost:8080/",
          "height": 38
        },
        "outputId": "f280c86e-d4c5-4e94-9e40-bee3afa6e987"
      },
      "source": [
        "# Obtener el renglón 1 de la matriz\n",
        "\n",
        "A[1,:]"
      ],
      "execution_count": 6,
      "outputs": [
        {
          "output_type": "execute_result",
          "data": {
            "text/plain": [
              "Matrix([[3, 3, -10]])"
            ],
            "text/latex": "$\\displaystyle \\left[\\begin{matrix}3 & 3 & -10\\end{matrix}\\right]$"
          },
          "metadata": {},
          "execution_count": 6
        }
      ]
    },
    {
      "cell_type": "code",
      "metadata": {
        "id": "oMak7SaSFRLR",
        "colab": {
          "base_uri": "https://localhost:8080/",
          "height": 58
        },
        "outputId": "d84d641e-d32f-4ae3-e52f-8bd0df59364a"
      },
      "source": [
        "# Obtener los renglones 0 y 2\n",
        "\n",
        "A[[0,2],:]"
      ],
      "execution_count": 7,
      "outputs": [
        {
          "output_type": "execute_result",
          "data": {
            "text/plain": [
              "Matrix([\n",
              "[0,  3, -6],\n",
              "[4, -9, 34]])"
            ],
            "text/latex": "$\\displaystyle \\left[\\begin{matrix}0 & 3 & -6\\\\4 & -9 & 34\\end{matrix}\\right]$"
          },
          "metadata": {},
          "execution_count": 7
        }
      ]
    },
    {
      "cell_type": "code",
      "metadata": {
        "id": "IU8gTJmtFRLS",
        "colab": {
          "base_uri": "https://localhost:8080/",
          "height": 58
        },
        "outputId": "33033cb1-4b53-43ac-8b4b-721e9c8766f0"
      },
      "source": [
        "# Obtener primero el renglón 2 y después el renglón 0\n",
        "\n",
        "A[[2,0],:]"
      ],
      "execution_count": 8,
      "outputs": [
        {
          "output_type": "execute_result",
          "data": {
            "text/plain": [
              "Matrix([\n",
              "[4, -9, 34],\n",
              "[0,  3, -6]])"
            ],
            "text/latex": "$\\displaystyle \\left[\\begin{matrix}4 & -9 & 34\\\\0 & 3 & -6\\end{matrix}\\right]$"
          },
          "metadata": {},
          "execution_count": 8
        }
      ]
    },
    {
      "cell_type": "code",
      "metadata": {
        "id": "fhipsw3aFRLY",
        "colab": {
          "base_uri": "https://localhost:8080/",
          "height": 98
        },
        "outputId": "4bf80fe9-f0c8-44c3-8dc8-1b24fb91039c"
      },
      "source": [
        "# Copia la matriz en otra variable. \n",
        "# Evita que las dos variables apunten a la misma matriz.\n",
        "\n",
        "M = A[:,:]\n",
        "\n",
        "M"
      ],
      "execution_count": 9,
      "outputs": [
        {
          "output_type": "execute_result",
          "data": {
            "text/plain": [
              "Matrix([\n",
              "[0,  3,  -6],\n",
              "[3,  3, -10],\n",
              "[4, -9,  34],\n",
              "[2, -5,  20]])"
            ],
            "text/latex": "$\\displaystyle \\left[\\begin{matrix}0 & 3 & -6\\\\3 & 3 & -10\\\\4 & -9 & 34\\\\2 & -5 & 20\\end{matrix}\\right]$"
          },
          "metadata": {},
          "execution_count": 9
        }
      ]
    },
    {
      "cell_type": "code",
      "metadata": {
        "id": "KkAX-ostFRLZ",
        "colab": {
          "base_uri": "https://localhost:8080/",
          "height": 98
        },
        "outputId": "5cedd1a4-1826-4d0a-c082-ff83a6bfa5e0"
      },
      "source": [
        "# Intercambiar el renglón 0 con el renglón 3, \n",
        "# R0 <-> R3\n",
        "\n",
        "M.row_swap(0,3)\n",
        "M"
      ],
      "execution_count": 10,
      "outputs": [
        {
          "output_type": "execute_result",
          "data": {
            "text/plain": [
              "Matrix([\n",
              "[2, -5,  20],\n",
              "[3,  3, -10],\n",
              "[4, -9,  34],\n",
              "[0,  3,  -6]])"
            ],
            "text/latex": "$\\displaystyle \\left[\\begin{matrix}2 & -5 & 20\\\\3 & 3 & -10\\\\4 & -9 & 34\\\\0 & 3 & -6\\end{matrix}\\right]$"
          },
          "metadata": {},
          "execution_count": 10
        }
      ]
    },
    {
      "cell_type": "code",
      "metadata": {
        "id": "IyD65bnfFRLZ",
        "colab": {
          "base_uri": "https://localhost:8080/",
          "height": 98
        },
        "outputId": "8c656346-a724-4c79-ed65-181179ad4b55"
      },
      "source": [
        "# Resta 2 veces el renglón 0 al renglón 2, \n",
        "# -2R0 + R2 -> R2\n",
        "\n",
        "M[2,:] -= M[0,:]*2    #  M[2,:] = M[2,:] - M[0,:]*2\n",
        "M"
      ],
      "execution_count": 11,
      "outputs": [
        {
          "output_type": "execute_result",
          "data": {
            "text/plain": [
              "Matrix([\n",
              "[2, -5,  20],\n",
              "[3,  3, -10],\n",
              "[0,  1,  -6],\n",
              "[0,  3,  -6]])"
            ],
            "text/latex": "$\\displaystyle \\left[\\begin{matrix}2 & -5 & 20\\\\3 & 3 & -10\\\\0 & 1 & -6\\\\0 & 3 & -6\\end{matrix}\\right]$"
          },
          "metadata": {},
          "execution_count": 11
        }
      ]
    },
    {
      "cell_type": "code",
      "metadata": {
        "colab": {
          "base_uri": "https://localhost:8080/",
          "height": 98
        },
        "id": "2WqjH_jvrozs",
        "outputId": "7b515a36-33cb-42f1-d927-5b26c093988a"
      },
      "source": [
        "# La operación que no es tan elemental, \n",
        "#     es muy útil para evitar fraccionarios\n",
        "\n",
        "# Resta 3 veces el renglón 0 a 2 veces renglón 1, \n",
        "# -3R0 + 2R1 -> R1\n",
        "\n",
        "M[1,:] = M[1,:]*2 - M[0,:]*3   #Esta operación no se puede contraer\n",
        "M"
      ],
      "execution_count": 12,
      "outputs": [
        {
          "output_type": "execute_result",
          "data": {
            "text/plain": [
              "Matrix([\n",
              "[2, -5,  20],\n",
              "[0, 21, -80],\n",
              "[0,  1,  -6],\n",
              "[0,  3,  -6]])"
            ],
            "text/latex": "$\\displaystyle \\left[\\begin{matrix}2 & -5 & 20\\\\0 & 21 & -80\\\\0 & 1 & -6\\\\0 & 3 & -6\\end{matrix}\\right]$"
          },
          "metadata": {},
          "execution_count": 12
        }
      ]
    },
    {
      "cell_type": "code",
      "metadata": {
        "id": "43iQusdYFRLZ",
        "colab": {
          "base_uri": "https://localhost:8080/",
          "height": 98
        },
        "outputId": "71978c60-dcb4-46a0-91a7-0a4420493d8d"
      },
      "source": [
        "# Multiplicar el renglón 0  por un 1/2, \n",
        "# (1/2)R0 -> R0\n",
        "\n",
        "M[0,:] = M[0,:]*1/2    #Si se contrae cambia las fracciones por decimales\n",
        "M"
      ],
      "execution_count": 13,
      "outputs": [
        {
          "output_type": "execute_result",
          "data": {
            "text/plain": [
              "Matrix([\n",
              "[1, -5/2,  10],\n",
              "[0,   21, -80],\n",
              "[0,    1,  -6],\n",
              "[0,    3,  -6]])"
            ],
            "text/latex": "$\\displaystyle \\left[\\begin{matrix}1 & - \\frac{5}{2} & 10\\\\0 & 21 & -80\\\\0 & 1 & -6\\\\0 & 3 & -6\\end{matrix}\\right]$"
          },
          "metadata": {},
          "execution_count": 13
        }
      ]
    },
    {
      "cell_type": "markdown",
      "metadata": {
        "id": "_GL_OAw4FRLa"
      },
      "source": [
        "# Operaciones no idempotentes y las celdas de Jupyter\n",
        "Una operación es **idempotente** si da lo mismo realizarla una vez o más de una vez. Por ejemplo: \n",
        "* multiplicar por cero es una operación idempotente. $0 \\cdot x=0\\cdot0 \\cdot x$. Si ejecuta una celda idempotente varias veces seguidas no cambia el resultado. \n",
        "* elevar al cuadrado no es una operación idempotente. $x^2 \\neq (x^2)^2$. Si ejecuta varas veces seguidas una celda no idempotente cambia el resultado.\n",
        "\n",
        "Las operaciones entre renglones usualmente <u>no</u> son operaciones idempotentes, entonces si usted ejecuta la celda de Jupyter dos veces, realizará dos veces la operación elemental y cambia el valor esperado. \n",
        "\n",
        "Para solucionar ese problema es mejor que <u>**ejecute todas las celdas**</u>, para eso le recomiendo usar la opción que hay en el menú de Jupyter.  \n",
        "\n",
        "Cuando corrija una operación elemental, debe volver a ejecutar TODAS las celdas ANTERIORES.  \n",
        "------------------------\n",
        "\n",
        "Quiero recordar que las variables en Jupyter se actualizan en el orden en que se ejecutan las celdas. Si usted ejecuta las celdas en desorden las variables pueden tener valores inesperados. Es por esto mi insistencia en el uso de la opción del menú que <u>ejecuta todas las celdas</u>."
      ]
    },
    {
      "cell_type": "markdown",
      "metadata": {
        "id": "kBa6oyX1FRLa"
      },
      "source": [
        "# Eliminación de Gauss\n",
        "[Nakos, Sec. 1.2]\n",
        "\n",
        "\n",
        "Una matriz se puede transformar a la forma escalón mediante los siguientes cuatro pasos. El último paso la convierte a la forma escalón reducida.\n",
        "1. Vaya a la columna extrema izquierda que no sea de ceros.\n",
        "2. Si el primer renglón tiene un cero en la columna del paso (1), intercámbielo con uno que tenga un elemento no cero en la misma columna.\n",
        "3. Obtenga ceros debajo del elemento delantero, sumando múltiplos adecuados del renglón superior a los renglones debajo de él.\n",
        "4. Cubra el renglón superior y repita el mismo proceso comenzando por el paso (1) aplicado a la sub-matriz restante. Repita este proceso con el resto de los renglones.\n",
        "5. Comenzando con el último renglón no cero, avance hacia arriba: para cada renglón obtenga un 1 delantero e introduzca ceros arriba de él, sumando múltiplos adecuados a los renglones correspondientes. "
      ]
    },
    {
      "cell_type": "markdown",
      "metadata": {
        "id": "YA70LJGGFRLa"
      },
      "source": [
        "## Ejercicio\n",
        "\n",
        "Utilizando el algoritmo de Gauss, encuentre la forma escalón reducida de la matriz extendida del siguiente sistema de ecuaciones. \n",
        "\n",
        "$\\matrix{\n",
        "1a + 3b - 6c - 4d - 3e = -5\\\\\n",
        "4a + 3b - 10c - 4d - 4e = -2\\\\\n",
        "4a - 9b + 34c + 0d + 4e = -21\\\\\n",
        "2a - 6b + 20c + 2d + 8e = -8}$\n",
        "\n",
        "## Solución\n",
        "\n"
      ]
    },
    {
      "cell_type": "code",
      "metadata": {
        "colab": {
          "base_uri": "https://localhost:8080/",
          "height": 98
        },
        "id": "MzvEB4HFv4wA",
        "outputId": "e0b54df5-64d4-498c-9f58-e933615d0932"
      },
      "source": [
        "import sympy as sp\n",
        "M=sp.Matrix([\n",
        "    [1,  3,  -6, -4, -3, -5 ],\n",
        "    [4, 3, -10, -4, -4, -2 ],\n",
        "    [4, -9,  34,  0,  4, -21],\n",
        "    [2, -6,  20,  2,  8, -8 ]\n",
        "])\n",
        "M"
      ],
      "execution_count": 14,
      "outputs": [
        {
          "output_type": "execute_result",
          "data": {
            "text/plain": [
              "Matrix([\n",
              "[1,  3,  -6, -4, -3,  -5],\n",
              "[4,  3, -10, -4, -4,  -2],\n",
              "[4, -9,  34,  0,  4, -21],\n",
              "[2, -6,  20,  2,  8,  -8]])"
            ],
            "text/latex": "$\\displaystyle \\left[\\begin{matrix}1 & 3 & -6 & -4 & -3 & -5\\\\4 & 3 & -10 & -4 & -4 & -2\\\\4 & -9 & 34 & 0 & 4 & -21\\\\2 & -6 & 20 & 2 & 8 & -8\\end{matrix}\\right]$"
          },
          "metadata": {},
          "execution_count": 14
        }
      ]
    },
    {
      "cell_type": "code",
      "source": [
        ""
      ],
      "metadata": {
        "id": "dklU6naK_Znh"
      },
      "execution_count": 14,
      "outputs": []
    }
  ]
}