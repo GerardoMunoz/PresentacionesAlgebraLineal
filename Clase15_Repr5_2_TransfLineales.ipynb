{
  "nbformat": 4,
  "nbformat_minor": 0,
  "metadata": {
    "colab": {
      "name": "Clase15_Repr5_2_TransfLineales.ipynb",
      "provenance": [],
      "include_colab_link": true
    },
    "kernelspec": {
      "display_name": "Python 3",
      "language": "python",
      "name": "python3"
    },
    "language_info": {
      "codemirror_mode": {
        "name": "ipython",
        "version": 3
      },
      "file_extension": ".py",
      "mimetype": "text/x-python",
      "name": "python",
      "nbconvert_exporter": "python",
      "pygments_lexer": "ipython3",
      "version": "3.7.4"
    }
  },
  "cells": [
    {
      "cell_type": "markdown",
      "metadata": {
        "id": "view-in-github",
        "colab_type": "text"
      },
      "source": [
        "<a href=\"https://colab.research.google.com/github/GerardoMunoz/PresentacionesAlgebraLineal/blob/main/Clase15_Repr5_2_TransfLineales.ipynb\" target=\"_parent\"><img src=\"https://colab.research.google.com/assets/colab-badge.svg\" alt=\"Open In Colab\"/></a>"
      ]
    },
    {
      "cell_type": "code",
      "metadata": {
        "id": "v7gdP7zO4mKc"
      },
      "source": [
        "import matplotlib.pyplot as plt\n",
        "\n",
        "def grafo(nodos,arcos,etiquetas=[]):\n",
        "    fig, ax = plt.subplots()\n",
        "    for nodo in nodos:\n",
        "        nodo=nodos[nodo]\n",
        "        ax.scatter(nodo[0],-nodo[1],s=20,color='k')\n",
        "        ax.text(nodo[0],-nodo[1],'$'+nodo[2]+'$',fontsize=15) \n",
        "    ax.axis('off')\n",
        "    for nombre,nodo1,nodo2 in arcos:\n",
        "        nodo1=nodos[nodo1]\n",
        "        nodo2=nodos[nodo2]\n",
        "        ax.arrow(float(nodo1[0]),-float(nodo1[1]),-float(nodo1[0])+float(nodo2[0]),float(nodo1[1])-float(nodo2[1]),head_width=0.05,head_length=0.05, length_includes_head=True)\n",
        "        ax.text((nodo1[0]+nodo2[0])/2.0,-(nodo1[1]+nodo2[1])/2.0,'$'+nombre+'$',fontsize=18) \n",
        "    for x,y,texto in etiquetas:\n",
        "        ax.text(x,-y,'$'+texto+'$',fontsize=15) "
      ],
      "execution_count": null,
      "outputs": []
    },
    {
      "cell_type": "markdown",
      "metadata": {
        "id": "Mal4wUGH4mKg"
      },
      "source": [
        "# Transformaciones lineales\n",
        "Sabemos que una transformación lineal entre espacios vectoriales $T:U \\rightarrow V$ cumple: \n",
        "* (AT) $T(u_1 + u_2)=T(u_1) + T(u_2)$\n",
        "* (MT) $T(c_1u_1)=c_1T(u_1)$\n",
        "\n",
        "para todo $u_1,u_2 \\in U$ y para todo $c_1, c_2 \\in \\mathbb{R}$\n",
        "\n",
        "(AT) y (MT) equivalen a la siguiente igualdad \n",
        "\n",
        "* $T(c_1u_1 + c_2u_2)=c_1T(u_1) + c_2T(u_2)$\n",
        "\n",
        "Utilizando inducción matemática se puede mostrar la equivalencia de (AT) y (MT) con la siguiente igualdad \n",
        "\n",
        "* $T(c_1u_1 + c_2u_2 + \\cdots + c_nu_n)=c_1T(u_1) + c_2T(u_2) + \\cdots + c_nT(u_n)$\n",
        "\n",
        "para todo $u_1,u_2, \\ldots , u_n \\in U$ y para todo $c_1, c_2, \\ldots, c_n \\in \\mathbb{R}$\n",
        "\n",
        "Esto permite concluir que la transformación de una combinación lineal de vectores es la misma combinación lineal de las transformaciones de los vectores.\n",
        "\n",
        "Si $B=[v_1, v_2, \\ldots, v_n]$ es una sucesión de vectores de $U$  entonces $T^*(B)$ va a denotar la sucesión  de vectores dada por:\n",
        "\n",
        " $T^*(B)=[T(v_1), T(v_2), \\ldots, T(v_n)]$\n",
        "\n",
        "De manera análoga se puede aplicar si $B$ es un conjunto de vectores de $U$. \n",
        "\n",
        "\n",
        "\n",
        "\n",
        "\n",
        "# Teorema\n",
        "$T:\\mathbb{R}^n \\rightarrow \\mathbb{R}^m$ es una transformación lineal **si y sólo si** para todo $v \\in \\mathbb{R}^n$ se cumple que $T(v)=Av$. Donde $A$ es la matriz de $m \\times n$  dada por \n",
        " $$A=T^*(I)= \\begin{bmatrix}\n",
        "  T \\left( \\begin{bmatrix} 1 \\\\ 0 \\\\ \\vdots \\\\ 0 \\end{bmatrix} \\right) & \n",
        "  T \\left( \\begin{bmatrix} 0 \\\\ 1 \\\\ \\vdots \\\\ 0 \\end{bmatrix} \\right) &\n",
        "  \\cdots &\n",
        "  T \\left( \\begin{bmatrix} 0 \\\\ 0 \\\\ \\vdots \\\\ 1 \\end{bmatrix} \\right) \n",
        " \\end{bmatrix} $$ \n",
        " \n",
        "\n",
        "# Ejemplos\n",
        "De las siguietes transformaciones de $\\mathbb{R}^n$ en  $\\mathbb{R}^m$ determine cuales son lineales y cuales no lo son. Para las transformaciones lineales encuentre la respectiva matriz de la transformación.\n",
        "* (a) $T_1 \\left( \\begin{bmatrix} x_0 \\\\ x_1  \\end{bmatrix} \\right)= \\left( \\begin{bmatrix} 2x_0+ 3x_1 \\\\ 5x_0- 4x_1 \\\\ 6x_0 +2x_1 \\end{bmatrix} \\right)$\n",
        "* (b) $T_2 \\left( \\begin{bmatrix} x_0 \\\\ x_1\\\\ x_2 \\end{bmatrix} \\right)= \\left( \\begin{bmatrix} 4x_0 - x_2 \\\\ 5x_1- 4  \\end{bmatrix} \\right)$\n",
        "* (c) $T_3 \\left( \\begin{bmatrix} x_0 \\\\ x_1\\end{bmatrix} \\right)= \\left( \\begin{bmatrix} x_0x_1 \\\\ x_0- x_1 \\end{bmatrix} \\right)$\n",
        "\n",
        "Solución:\n"
      ]
    },
    {
      "cell_type": "code",
      "metadata": {
        "id": "jzzBmVh24mKh",
        "outputId": "fbde1125-eefe-4db2-e2f7-b185f6c11119"
      },
      "source": [
        "import sympy as sp\n",
        "x0, x1, x2 = sp.symbols('x_0 x_1 x_2')\n",
        "u=sp.Matrix((x0,x1))  # un vector en $R^2$\n",
        "v=sp.Matrix((x0,x1,x2)) # un vector en $R^3$\n",
        "\n",
        "I2=sp.eye(2)\n",
        "I2"
      ],
      "execution_count": null,
      "outputs": [
        {
          "data": {
            "text/latex": [
              "$\\displaystyle \\left[\\begin{matrix}1 & 0\\\\0 & 1\\end{matrix}\\right]$"
            ],
            "text/plain": [
              "Matrix([\n",
              "[1, 0],\n",
              "[0, 1]])"
            ]
          },
          "execution_count": 2,
          "metadata": {
            "tags": []
          },
          "output_type": "execute_result"
        }
      ]
    },
    {
      "cell_type": "code",
      "metadata": {
        "id": "1mt-4DTW4mKm",
        "outputId": "e37ed06d-19f3-42a8-c1d8-89724a5da888"
      },
      "source": [
        "I3=sp.eye(3)\n",
        "I3"
      ],
      "execution_count": null,
      "outputs": [
        {
          "data": {
            "text/latex": [
              "$\\displaystyle \\left[\\begin{matrix}1 & 0 & 0\\\\0 & 1 & 0\\\\0 & 0 & 1\\end{matrix}\\right]$"
            ],
            "text/plain": [
              "Matrix([\n",
              "[1, 0, 0],\n",
              "[0, 1, 0],\n",
              "[0, 0, 1]])"
            ]
          },
          "execution_count": 3,
          "metadata": {
            "tags": []
          },
          "output_type": "execute_result"
        }
      ]
    },
    {
      "cell_type": "code",
      "metadata": {
        "id": "dVxF3h1i4mKp",
        "outputId": "7a3cde6a-117d-446a-c597-0f24ae4b1ff7"
      },
      "source": [
        "# Ejemplo 1\n",
        "def T1(u):\n",
        "    (x0,x1) = u\n",
        "    return sp.Matrix((2*x0+ 3*x1, \n",
        "                      5*x0 - 4*x1, \n",
        "                      6*x0 +2*x1))\n",
        "\n",
        "A1=T1(I2[:,0]).row_join(T1(I2[:,1]))\n",
        "A1"
      ],
      "execution_count": null,
      "outputs": [
        {
          "data": {
            "text/latex": [
              "$\\displaystyle \\left[\\begin{matrix}2 & 3\\\\5 & -4\\\\6 & 2\\end{matrix}\\right]$"
            ],
            "text/plain": [
              "Matrix([\n",
              "[2,  3],\n",
              "[5, -4],\n",
              "[6,  2]])"
            ]
          },
          "execution_count": 4,
          "metadata": {
            "tags": []
          },
          "output_type": "execute_result"
        }
      ]
    },
    {
      "cell_type": "code",
      "metadata": {
        "id": "tHTDFp7I4mKr",
        "outputId": "4406f4bc-897c-4de4-8689-b31153340138"
      },
      "source": [
        "A1*u"
      ],
      "execution_count": null,
      "outputs": [
        {
          "data": {
            "text/latex": [
              "$\\displaystyle \\left[\\begin{matrix}2 x_{0} + 3 x_{1}\\\\5 x_{0} - 4 x_{1}\\\\6 x_{0} + 2 x_{1}\\end{matrix}\\right]$"
            ],
            "text/plain": [
              "Matrix([\n",
              "[2*x_0 + 3*x_1],\n",
              "[5*x_0 - 4*x_1],\n",
              "[6*x_0 + 2*x_1]])"
            ]
          },
          "execution_count": 5,
          "metadata": {
            "tags": []
          },
          "output_type": "execute_result"
        }
      ]
    },
    {
      "cell_type": "code",
      "metadata": {
        "id": "ZRJ1wdf74mKv",
        "outputId": "9c13647e-e392-418d-a092-92010aaa0daf"
      },
      "source": [
        "T1(u)"
      ],
      "execution_count": null,
      "outputs": [
        {
          "data": {
            "text/latex": [
              "$\\displaystyle \\left[\\begin{matrix}2 x_{0} + 3 x_{1}\\\\5 x_{0} - 4 x_{1}\\\\6 x_{0} + 2 x_{1}\\end{matrix}\\right]$"
            ],
            "text/plain": [
              "Matrix([\n",
              "[2*x_0 + 3*x_1],\n",
              "[5*x_0 - 4*x_1],\n",
              "[6*x_0 + 2*x_1]])"
            ]
          },
          "execution_count": 6,
          "metadata": {
            "tags": []
          },
          "output_type": "execute_result"
        }
      ]
    },
    {
      "cell_type": "code",
      "metadata": {
        "id": "nIgoCK1e4mKy",
        "outputId": "30153ce1-873b-4a04-cae8-7d81dc966160"
      },
      "source": [
        "T1(u) == A1*u"
      ],
      "execution_count": null,
      "outputs": [
        {
          "data": {
            "text/plain": [
              "True"
            ]
          },
          "execution_count": 7,
          "metadata": {
            "tags": []
          },
          "output_type": "execute_result"
        }
      ]
    },
    {
      "cell_type": "code",
      "metadata": {
        "id": "rKd5cbXL4mK2"
      },
      "source": [
        "respuesta_ejemplo_a='Sí es una transformación lineal'"
      ],
      "execution_count": null,
      "outputs": []
    },
    {
      "cell_type": "code",
      "metadata": {
        "id": "xCUtGTBy4mK4",
        "outputId": "c01b5c87-d693-40df-a094-6c0312d2eb6b"
      },
      "source": [
        "# Ejemplo 2\n",
        "def T2(v):\n",
        "    (x0,x1,x2) = v\n",
        "    return sp.Matrix(( 4*x0 - x2, \n",
        "                      5*x1- 4 ))\n",
        "\n",
        "A2=T2(I3[:,0]).row_join(T2(I3[:,1])).row_join(T2(I3[:,2]))\n",
        "A2"
      ],
      "execution_count": null,
      "outputs": [
        {
          "data": {
            "text/latex": [
              "$\\displaystyle \\left[\\begin{matrix}4 & 0 & -1\\\\-4 & 1 & -4\\end{matrix}\\right]$"
            ],
            "text/plain": [
              "Matrix([\n",
              "[ 4, 0, -1],\n",
              "[-4, 1, -4]])"
            ]
          },
          "execution_count": 9,
          "metadata": {
            "tags": []
          },
          "output_type": "execute_result"
        }
      ]
    },
    {
      "cell_type": "code",
      "metadata": {
        "id": "akWuVtZa4mK7",
        "outputId": "ebe6d823-c280-4abd-fd57-07e7829ab46b"
      },
      "source": [
        "A2*v"
      ],
      "execution_count": null,
      "outputs": [
        {
          "data": {
            "text/latex": [
              "$\\displaystyle \\left[\\begin{matrix}4 x_{0} - x_{2}\\\\- 4 x_{0} + x_{1} - 4 x_{2}\\end{matrix}\\right]$"
            ],
            "text/plain": [
              "Matrix([\n",
              "[         4*x_0 - x_2],\n",
              "[-4*x_0 + x_1 - 4*x_2]])"
            ]
          },
          "execution_count": 10,
          "metadata": {
            "tags": []
          },
          "output_type": "execute_result"
        }
      ]
    },
    {
      "cell_type": "code",
      "metadata": {
        "id": "NmvAM9nE4mK9",
        "outputId": "b22f8b11-6c94-480f-85de-20f91caf573d"
      },
      "source": [
        "T2(v)"
      ],
      "execution_count": null,
      "outputs": [
        {
          "data": {
            "text/latex": [
              "$\\displaystyle \\left[\\begin{matrix}4 x_{0} - x_{2}\\\\5 x_{1} - 4\\end{matrix}\\right]$"
            ],
            "text/plain": [
              "Matrix([\n",
              "[4*x_0 - x_2],\n",
              "[  5*x_1 - 4]])"
            ]
          },
          "execution_count": 11,
          "metadata": {
            "tags": []
          },
          "output_type": "execute_result"
        }
      ]
    },
    {
      "cell_type": "code",
      "metadata": {
        "id": "ejmC9qhZ4mLA",
        "outputId": "42e86311-0854-4206-d3c1-3aab6de29133"
      },
      "source": [
        "T2(v) == A2*v"
      ],
      "execution_count": null,
      "outputs": [
        {
          "data": {
            "text/plain": [
              "False"
            ]
          },
          "execution_count": 12,
          "metadata": {
            "tags": []
          },
          "output_type": "execute_result"
        }
      ]
    },
    {
      "cell_type": "code",
      "metadata": {
        "id": "B4h2ANV04mLE"
      },
      "source": [
        "respuesta_ejemplo_b='No es una transformación lineal'"
      ],
      "execution_count": null,
      "outputs": []
    },
    {
      "cell_type": "code",
      "metadata": {
        "id": "vosFLs0u4mLH",
        "outputId": "62d895e9-9a7b-4d23-9b94-cf13157261ad"
      },
      "source": [
        "# Ejemplo 3\n",
        "def T3(u):\n",
        "    (x0,x1) = u\n",
        "    return sp.Matrix((x0*x1, x0 - x1))\n",
        "\n",
        "A3=T3(I2[:,0]).row_join(T3(I2[:,1]))\n",
        "A3"
      ],
      "execution_count": null,
      "outputs": [
        {
          "data": {
            "text/latex": [
              "$\\displaystyle \\left[\\begin{matrix}0 & 0\\\\1 & -1\\end{matrix}\\right]$"
            ],
            "text/plain": [
              "Matrix([\n",
              "[0,  0],\n",
              "[1, -1]])"
            ]
          },
          "execution_count": 14,
          "metadata": {
            "tags": []
          },
          "output_type": "execute_result"
        }
      ]
    },
    {
      "cell_type": "code",
      "metadata": {
        "id": "bNy9S6IF4mLK",
        "outputId": "d2003962-1875-46a1-e333-cb47e40acc28"
      },
      "source": [
        "A3*u"
      ],
      "execution_count": null,
      "outputs": [
        {
          "data": {
            "text/latex": [
              "$\\displaystyle \\left[\\begin{matrix}0\\\\x_{0} - x_{1}\\end{matrix}\\right]$"
            ],
            "text/plain": [
              "Matrix([\n",
              "[        0],\n",
              "[x_0 - x_1]])"
            ]
          },
          "execution_count": 15,
          "metadata": {
            "tags": []
          },
          "output_type": "execute_result"
        }
      ]
    },
    {
      "cell_type": "code",
      "metadata": {
        "id": "pA5UPQAT4mLM",
        "outputId": "e356eb87-522e-41da-f881-848bff11bea8"
      },
      "source": [
        "T3(u)"
      ],
      "execution_count": null,
      "outputs": [
        {
          "data": {
            "text/latex": [
              "$\\displaystyle \\left[\\begin{matrix}x_{0} x_{1}\\\\x_{0} - x_{1}\\end{matrix}\\right]$"
            ],
            "text/plain": [
              "Matrix([\n",
              "[  x_0*x_1],\n",
              "[x_0 - x_1]])"
            ]
          },
          "execution_count": 16,
          "metadata": {
            "tags": []
          },
          "output_type": "execute_result"
        }
      ]
    },
    {
      "cell_type": "code",
      "metadata": {
        "id": "gfVzHpd54mLO",
        "outputId": "699bc1c6-59b2-4589-8484-9df7ec044880"
      },
      "source": [
        "T3(u) == A3*u"
      ],
      "execution_count": null,
      "outputs": [
        {
          "data": {
            "text/plain": [
              "False"
            ]
          },
          "execution_count": 17,
          "metadata": {
            "tags": []
          },
          "output_type": "execute_result"
        }
      ]
    },
    {
      "cell_type": "code",
      "metadata": {
        "id": "Wo9gCVlg4mLR"
      },
      "source": [
        "respuesta_ejemplo_c='No es una transformación lineal'"
      ],
      "execution_count": null,
      "outputs": []
    },
    {
      "cell_type": "markdown",
      "metadata": {
        "id": "RLzkgkaA4mLU"
      },
      "source": [
        "# Extrapolación de las definiciones de las trasformaciones matriciales  a las transformaciones lineales\n",
        "\n",
        "En la sección de espacios vectoriales vimos que el espacio vectorial de los polinomios de grado $n$ o menor tienen dimensión $n+1$ y que el espacio de las matrices de $m \\times n$ tienen dimensión $mn$. Sin embargo, el espacio vectorial de todos los polinomios no tenía dimensión finita, al igual que el espacio de las funciones de valor real.\n",
        "\n",
        "En esta sección nos centraremos en los espacios vectoriales de dimensión finita, en particular en los espacios vectoriales de los polinomios de grado $n$ o menor. \n",
        "\n",
        "Una matriz asocia una sucesión de vectores $A=[v_1, v_2, \\ldots, v_n]$ con una transformación $T_A$. Esta asociación no se pierde en las transformaciones lineales entre espacios vectoriales de dimensión finita y es una de las ideas fundamentales del álgebra lineal.\n",
        "\n",
        "## Teorema\n",
        "Sea $A=[v_1, v_2, \\ldots, v_n]$ una sucesión de vectores del espacio vectorial $V$ y sea $T_A: \\mathbb{R}^n \\rightarrow V$ una transformación dada por la combinación lineal de los vectores de $A$.\n",
        "\n",
        "$$T_A\\begin{pmatrix}x_1\\\\x_2\\\\\\vdots\\\\x_n\\end{pmatrix}=x_1v_1+x_2v_2+\\cdots+x_nv_n$$\n",
        "\n",
        "* $A$ es LI **si y sólo si** $T_A$ es inyectiva.\n",
        "* $\\text{Gen}(A)=V$  **si y sólo si** $T_A$ es sobreyectiva.\n",
        "* $A$ es una base de $V$ **si y sólo si** $T_A$ es un isomorfismo.\n",
        "\n",
        "Por lo tanto, la base estándar $B$ del espacio vectorial $V$ (de dimensión $n$) inducirá el isomorfismo $S_V: \\mathbb{R}^n \\rightarrow V$ llamado  **isomorfismo estándar del espacio $V$**.\n",
        "\n",
        "\n",
        "## Ejemplo\n",
        "\n",
        "Como la base estándar del espacio vectorial de los polinomios de grado $n$ o menor es $E_{Pn}=[1,x,x^2, \\ldots, x^n ]$ entonces el isomorfismo estándar  será una combinación lineal de los vectores de la base.\n",
        "$$S_{Pn}\\left( \\begin{bmatrix} a_0 \\\\ a_1 \\\\ \\vdots \\\\ a_n  \\end{bmatrix} \\right)=a_0(1) + a_1(x) + \\cdots + a_n(x^n) $$\n",
        "\n",
        "En particular, la base estándar de $P_3$ es $E_{P3}=[1,x,x^2,x^3]$ y su isomorfismo es \n",
        "$$S_{P3}\\left( \\begin{bmatrix} a_0 \\\\ a_1 \\\\ a_2 \\\\ a_3  \\end{bmatrix} \\right)=a_0(1) + a_1(x) +a_2(x^2) + a_3(x^3) $$\n",
        "\n",
        "\n",
        "\n",
        "## Coordenadas\n",
        "Si $B$ es una base de $V$ que induce el isomorfismo $S_B: \\mathbb{R}^n \\rightarrow V$ y $v \\in V$. Entonces al vector $\\vec{x} \\in \\mathbb{R}^n$ que cumple $$S_B(\\vec{x})=v$$ se conoce como las **coordenadas** de $v$ en la base $B$ y se denota\n",
        "\n",
        "$$[v]_B=\\vec{x}$$\n",
        "\n",
        "Debido a que $$S_{P3}\\begin{bmatrix} 3 \\\\ 5 \\\\ 8 \\\\ -2  \\end{bmatrix}=3 + 5x + 8x^2 - 2x^3$$ entonces \n",
        "\n",
        "\n",
        "$$[3 + 5x + 8x^2 - 2x^3]_{EP3}=\\begin{bmatrix} 3 \\\\ 5 \\\\ 8 \\\\ -2  \\end{bmatrix}$$\n",
        "\n",
        "## Núcleo e imagen\n",
        "\n",
        "Las definiciones de las transformaciones matriciales que se basan en combinaciones lineales pueden ser extrapoladas a las transformaciones lineales. En particular las definiciones de **Núcleo** e **Imagen**. La **Nulidad** y el **Rango** corresponden a las dimensiones de los subespacios del núcleo e imagen respectivamente.  Además, cumplen las mismas propiedades que se enuncian a continuación.\n",
        "\n",
        "\n",
        "## Teorema\n",
        "Sea $T: U \\rightarrow V$ una transformación lineal entre los espacios vectoriales $U$ y $V$.\n",
        "\n",
        "Las siguientes tres afirmaciones son equivalentes.\n",
        "* $T$ es inyectiva\n",
        "* $\\text{Nu}(T)=\\{\\vec{0}\\}$\n",
        "* $\\nu(T)=0$\n",
        "\n",
        "Estas otras tres afirmaciones son equivalentes.\n",
        "* $T$ es sobreyectiva\n",
        "* $\\text{Im}(T)=V$\n",
        "* $\\rho(T)=Dim(V)$\n"
      ]
    },
    {
      "cell_type": "markdown",
      "metadata": {
        "id": "rAM7k42N4mLa"
      },
      "source": [
        "# Propiedades de los isomorfismos\n",
        "Si además, la transformación lineal $T:U \\rightarrow V$ es biyectiva (es decir, es un isomorfismo) entonces hay una correspondencia de elemento a elemento. Por lo tanto, cualquier propiedad derivada de las combinaciones lineales que se cumpla en un conjunto tendrá su correspondiente en el otro conjunto, lo cual fundamente los siguientes dos teoremas."
      ]
    },
    {
      "cell_type": "markdown",
      "metadata": {
        "id": "5iQgmAHB4mLa"
      },
      "source": [
        "## Teorema\n",
        "Sea el isomorfismos $S:U \\rightarrow V$ entre los espacios vectoriales $U$ y $V$, sea $A=[\\vec{u_1}, \\vec{u_2}, \\ldots, \\vec{u_n}]$ una sucesión de vectores de $U$, y sean $W$ y $W'$ un subespacio y un subconjunto de $U$. \n",
        "entonces:\n",
        " \n",
        "* $\\text{Gen}(A)=U$ **si y sólo si** $\\text{Gen}(S^*(A))=V$\n",
        "* $A$ es LI **si y sólo si** $S^*(A)$ es LI\n",
        "* $A$ es base de $U$ **si y sólo si** $S^*(A)$ es base de $V$\n",
        "* $\\text{Dim}(U)=\\text{Dim}(V)$\n",
        "* $W'$ es subespacio de $U$ **si y sólo si** $S^*(W')$ es subespacio de $V$\n",
        "* $\\text{Gen}(A)=W$ **si y sólo si** $\\text{Gen}(S^*(A))=S^*(W)$\n",
        "* $A$ es base de $W$ **si y sólo si** $S^*(A)$ es base de $S^*(W)$\n",
        "* $\\text{Dim}(W)=\\text{Dim}(S^*(W))$\n",
        "\n",
        "## Teorema \n",
        "Sean dos isomorfismos $S_1:A \\rightarrow B$ y $S_2:C \\rightarrow D$ en los espacios vectoriales $A, B, C, D$  "
      ]
    },
    {
      "cell_type": "code",
      "metadata": {
        "id": "aMa0TMPt4mLb",
        "outputId": "ced7e330-7915-4e08-96f6-344e179b92a2"
      },
      "source": [
        "grafo({\"V\":(1,1,\". B\"),\"W\":(2,1,\". D\"),\"V1\":(1,2,\"A\"),\"W1\":(2,2,\"C\")},[(\"S_1\",\"V1\",\"V\"),(\"S_2\",\"W1\",\"W\")]\n",
        "     )"
      ],
      "execution_count": null,
      "outputs": [
        {
          "data": {
            "image/png": "[encoded data removed]",
            "text/plain": [
              "<Figure size 432x288 with 1 Axes>"
            ]
          },
          "metadata": {
            "needs_background": "light",
            "tags": []
          },
          "output_type": "display_data"
        }
      ]
    },
    {
      "cell_type": "markdown",
      "metadata": {
        "id": "l4VGlvM-4mLe"
      },
      "source": [
        "y sean las transformaciones $T_1:A \\rightarrow C$ y  $T_2:B \\rightarrow D$ tales que\n",
        "* $T_1 \\circ S_1 = S_2 \\circ T_2$\n",
        "\n",
        "(esto se indica con un '=' entre los dos caminos)."
      ]
    },
    {
      "cell_type": "code",
      "metadata": {
        "id": "ED61_nEb4mLe",
        "outputId": "0e7d918d-fa16-4ec7-b1f5-523fa29e4819"
      },
      "source": [
        "grafo({\"V\":(1,1,\". B\"),\"W\":(2,1,\". D\"),\"V1\":(1,2,\"A\"),\"W1\":(2,2,\"C\")},[(\"T_1\",\"V\",\"W\"),(\"S_1\",\"V1\",\"V\"),(\"S_2\",\"W1\",\"W\"),(\"T_2\",\"V1\",\"W1\")]\n",
        "     ,[(1.5,1.5,\"=\")])"
      ],
      "execution_count": null,
      "outputs": [
        {
          "data": {
            "image/png": "[encoded data removed]",
            "text/plain": [
              "<Figure size 432x288 with 1 Axes>"
            ]
          },
          "metadata": {
            "needs_background": "light",
            "tags": []
          },
          "output_type": "display_data"
        }
      ]
    },
    {
      "cell_type": "markdown",
      "metadata": {
        "id": "Vgfjeogr4mLi"
      },
      "source": [
        "entonces:\n",
        "* $T_1$ es una transformación lineal **si y sólo si** $T_2$ es una transformación lineal.\n",
        "* $T_1$ es una transformación inyectiva **si y sólo si** $T_2$ es una transformación inyectiva.\n",
        "* $T_1$ es una transformación sobreyectiva **si y sólo si** $T_2$ es una transformación sobreyectiva.\n",
        "* $T_1$ es un isomorfismo **si y sólo si** $T_2$ es un isomorfismo.\n",
        "* $\\text{Im}(T_1)=S_2^*(\\text{Im}(T_2))$\n",
        "* $\\text{Nu}(T_1)=S_1^*(\\text{Nu}(T_2))$\n",
        "* $\\rho(T_1)=\\rho(T_2)$\n",
        "* $\\nu(T_1)=\\nu(T_2)$\n",
        "\n"
      ]
    },
    {
      "cell_type": "markdown",
      "metadata": {
        "id": "oiHDX_2H4mLi"
      },
      "source": [
        "# Ejemplo 1\n",
        "Demuestre que $T \\left( \\begin{bmatrix} x \\\\ y \\\\ z \\end{bmatrix} \\right) = \\begin{bmatrix} 3x - z \\\\ y  \\end{bmatrix} $ es una transformación lineal y encuentre la respectiva matriz.\n",
        "\n",
        "## Recorderis \n",
        "$T:\\mathbb{R}^n \\rightarrow \\mathbb{R}^m$ es una transformación lineal **si y sólo si** para todo $v \\in \\mathbb{R}^n$ se cumple que $T(v)=Av$. Donde $A$ es la matriz de $m \\times n$  dada por \n",
        " $$A=T^*(I)= \\begin{bmatrix}\n",
        "  T \\left( \\begin{bmatrix} 1 \\\\ 0 \\\\ \\vdots \\\\ 0 \\end{bmatrix} \\right) & \n",
        "  T \\left( \\begin{bmatrix} 0 \\\\ 1 \\\\ \\vdots \\\\ 0 \\end{bmatrix} \\right) &\n",
        "  \\cdots &\n",
        "  T \\left( \\begin{bmatrix} 0 \\\\ 0 \\\\ \\vdots \\\\ 1 \\end{bmatrix} \\right) \n",
        " \\end{bmatrix} $$ \n",
        "\n",
        "## Solución\n",
        "Primero encontraremos la matriz $A=T^*(I)$ y luego comprobaremos que $A\\begin{bmatrix} x \\\\ y \\\\ z \\end{bmatrix}=T \\left( \\begin{bmatrix} x \\\\ y \\\\ z \\end{bmatrix} \\right) = \\begin{bmatrix} 3x - z \\\\ y  \\end{bmatrix} $\n",
        "\n",
        "\\begin{align}\n",
        "A &=T^*\\left(\\begin{bmatrix} 1 & 0 & 0 \\\\ 0 & 1 & 0 \\\\ 0 & 0 & 1 \\end{bmatrix}\\right)\\\\\n",
        "  &=\\begin{bmatrix}\n",
        "  T \\left( \\begin{bmatrix} 1 \\\\ 0 \\\\ 0 \\end{bmatrix} \\right) & \n",
        "  T \\left( \\begin{bmatrix} 0 \\\\ 1 \\\\ 0 \\end{bmatrix} \\right) &\n",
        "  T \\left( \\begin{bmatrix} 0 \\\\ 0 \\\\ 1 \\end{bmatrix} \\right) \n",
        " \\end{bmatrix}\\\\\n",
        " &=\\begin{bmatrix}\n",
        " 3 & 0 & -1 \\\\ \n",
        " 0 & 1 &  0\n",
        " \\end{bmatrix}\n",
        "\\end{align}\n",
        "\n",
        "Ahora probamos que $A\\begin{bmatrix} x \\\\ y \\\\ z \\end{bmatrix}=T \\left( \\begin{bmatrix} x \\\\ y \\\\ z \\end{bmatrix} \\right) = \\begin{bmatrix} 3x - z \\\\ y  \\end{bmatrix} $\n",
        "\n",
        "$A\\begin{bmatrix} x \\\\ y \\\\ z \\end{bmatrix}=\\begin{bmatrix}\n",
        " 3 & 0 & -1 \\\\ \n",
        " 0 & 1 &  0\n",
        " \\end{bmatrix}\n",
        "\\begin{bmatrix} x \\\\ y \\\\ z \\end{bmatrix}\n",
        "=\\begin{bmatrix} 3x - z \\\\ y  \\end{bmatrix} $\n",
        "\n",
        "Lo cual prueba que $T$ si es lineal.\n",
        "\n",
        "\n"
      ]
    },
    {
      "cell_type": "code",
      "metadata": {
        "id": "IwHUTuyH4mLj"
      },
      "source": [
        "respuesta_ejemplo_1='Sí es lineal'"
      ],
      "execution_count": null,
      "outputs": []
    },
    {
      "cell_type": "code",
      "metadata": {
        "id": "DpktTJxI4mLl"
      },
      "source": [
        "matriz_ejemplo_1=sp.Matrix([\n",
        " [3, 0, -1], \n",
        " [0, 1,  0]\n",
        "])\n"
      ],
      "execution_count": null,
      "outputs": []
    },
    {
      "cell_type": "markdown",
      "metadata": {
        "id": "sUHcwuvM4mLo"
      },
      "source": [
        "# Ejemplo 2\n",
        "Demuestre que $T:P_1 \\rightarrow P_3$ dada por \n",
        "$$T(a_0 + a_1 x )= 3a_0 + (2a_0 + a_1)x + (a_0 + 2a_1)x^2 + 3a_1x^3 $$\n",
        "es una transformación lineal y encuentre la matriz usando las respectivas bases estándar.\n",
        "\n",
        "## Recorderis 1\n",
        "$B=\\begin{bmatrix} v_0 & v_1 & \\cdots & v_{n-1} \\end{bmatrix}$ es una base del espacio vectorial $V$ de dimensión $n$ **si y sólo si** la transformación asociada \n",
        "$S_B:\\mathbb{R}^n \\rightarrow V$ dada por \n",
        "$$S_B\\left( \\begin{bmatrix} a_0 \\\\ a_1 \\\\ \\vdots \\\\ a_{(n-1)} \\end{bmatrix} \\right)=a_0 v_0 +a_1 v_1 + \\cdots +a_{(n-1)} v_{(n-1)} $$\n",
        "es un isomorfismo.\n",
        "\n",
        "## Recorderis 2\n",
        "La base estándar de $P_1$ es $E_{P1}=[1,x]$ y su isomorfismo es \n",
        "$$S_{P1}\\left( \\begin{bmatrix} a_0 \\\\ a_1  \\end{bmatrix} \\right)=a_0(1) + a_1(x) $$\n",
        "\n",
        "La base estándar de $P_3$ es $E_{P3}=[1,x,x^2,x^3]$ y su isomorfismo es \n",
        "$$S_{P3}\\left( \\begin{bmatrix} a_0 \\\\ a_1 \\\\ a_2 \\\\ a_3  \\end{bmatrix} \\right)=a_0(1) + a_1(x) +a_2(x^2) + a_3(x^3) $$\n",
        "\n",
        "## Recorderis 3"
      ]
    },
    {
      "cell_type": "code",
      "metadata": {
        "id": "1XGUf4-i4mLo",
        "outputId": "fd29a586-5ac8-4457-f132-de3b997de80e"
      },
      "source": [
        "grafo({\"V\":(1,1,\"V\"),\"W\":(2,1,\"W\"),\"V1\":(1,2,\"R^n\"),\"W1\":(2,2,\"R^m\")},[(\"S_V\",\"V1\",\"V\"),(\"S_W\",\"W1\",\"W\")]\n",
        "     )"
      ],
      "execution_count": null,
      "outputs": [
        {
          "data": {
            "image/png": "[encoded data removed]",
            "text/plain": [
              "<Figure size 432x288 with 1 Axes>"
            ]
          },
          "metadata": {
            "needs_background": "light",
            "tags": []
          },
          "output_type": "display_data"
        }
      ]
    },
    {
      "cell_type": "markdown",
      "metadata": {
        "id": "YxfkXt004mLr"
      },
      "source": [
        "Sean $V$ y $W$ espacios vectoriales, sean $n$ y $m$ sus respectivas dimensiones, sean $B_V$ y $B_W$ bases de cada espacio y sean $S_V:\\mathbb{R}^n \\rightarrow V$ y $S_W:\\mathbb{R}^m \\rightarrow W$ sus respectivos isomorfismos."
      ]
    },
    {
      "cell_type": "code",
      "metadata": {
        "id": "mipyIGQp4mLr",
        "outputId": "2b367543-fdbb-4b01-d809-7599c7b7cf30"
      },
      "source": [
        "grafo({\"V\":(1,1,\". V\"),\"W\":(2,1,\". W\"),\"V1\":(1,2,\"R^n\"),\"W1\":(2,2,\"R^m\")},[(\"T\",\"V\",\"W\"),(\"S_V\",\"V1\",\"V\"),(\"S_W\",\"W1\",\"W\")]\n",
        "     )"
      ],
      "execution_count": null,
      "outputs": [
        {
          "data": {
            "image/png": "[encoded data removed]",
            "text/plain": [
              "<Figure size 432x288 with 1 Axes>"
            ]
          },
          "metadata": {
            "needs_background": "light",
            "tags": []
          },
          "output_type": "display_data"
        }
      ]
    },
    {
      "cell_type": "markdown",
      "metadata": {
        "id": "jNGov9yp4mLv"
      },
      "source": [
        "$T:V \\rightarrow W$ es una transformación lineal **si y sólo si** para todo $v \\in V$ se cumple que $S_W^{-1} \\circ T \\circ S_V(v)=Av$. Donde $A$ es la matriz de $m \\times n$  dada por \n",
        " $$A=S_W^{*-1} \\circ T^* \\circ S_V^*(I)$$"
      ]
    },
    {
      "cell_type": "code",
      "metadata": {
        "id": "zUXjanGg4mLv",
        "outputId": "f89aae15-c137-4628-cabd-22e4ab8937d7"
      },
      "source": [
        "grafo({\"V\":(1,1,\". V\"),\"W\":(2,1,\". W\"),\"V1\":(1,2,\"R^n\"),\"W1\":(2,2,\"R^m\")},[(\"T\",\"V\",\"W\"),(\"S_V\",\"V1\",\"V\"),(\"S_W\",\"W1\",\"W\"),(\"A\",\"V1\",\"W1\")]\n",
        "     ,[(1.5,1.5,\"=\")])"
      ],
      "execution_count": null,
      "outputs": [
        {
          "data": {
            "image/png": "[encoded data removed]",
            "text/plain": [
              "<Figure size 432x288 with 1 Axes>"
            ]
          },
          "metadata": {
            "needs_background": "light",
            "tags": []
          },
          "output_type": "display_data"
        }
      ]
    },
    {
      "cell_type": "markdown",
      "metadata": {
        "id": "AUck4FEV4mLy"
      },
      "source": [
        "## Solución\n",
        "Recordemos que \n",
        "$$T(a_0 + a_1 x )= 3a_0 + (2a_0 + a_1)x + (a_0 + 2a_1)x^2 + 3a_1x^3 $$\n",
        "\n",
        "Primero encontraremos la matriz $A=S_{P3}^{*-1} \\circ T^* \\circ S_{P1}^*(I)$ y luego comprobaremos que $A\\begin{bmatrix} a_0 \\\\ a_1  \\end{bmatrix}=S_{P3}^{-1} \\circ T \\circ S_{P1} \\left( \\begin{bmatrix} a_0 \\\\ a_1  \\end{bmatrix} \\right)  $"
      ]
    },
    {
      "cell_type": "code",
      "metadata": {
        "id": "uTUiPQL_4mLy",
        "outputId": "bb44f07e-8de9-49b5-f377-e250a15c26ee"
      },
      "source": [
        "grafo({\"V\":(1,1,\". P_1\"),\"W\":(2,1,\". P_3\"),\"V1\":(1,2,\"R^2\"),\"W1\":(2,2,\"R^4\")},\n",
        "      [(\"T\",\"V\",\"W\"),(\"S_{P1}\",\"V1\",\"V\"),(\"S_{P3}\",\"W1\",\"W\"),(\"A\",\"V1\",\"W1\")]\n",
        "     ,[(1.5,1.5,\"=\")])"
      ],
      "execution_count": null,
      "outputs": [
        {
          "data": {
            "image/png": "[encoded data removed]",
            "text/plain": [
              "<Figure size 432x288 with 1 Axes>"
            ]
          },
          "metadata": {
            "needs_background": "light",
            "tags": []
          },
          "output_type": "display_data"
        }
      ]
    },
    {
      "cell_type": "markdown",
      "metadata": {
        "id": "ZcVqZxSb4mL1"
      },
      "source": [
        "\\begin{align}\n",
        "A &=S_{P3}^{*-1} \\circ T^* \\circ S_{P1}^* \\left(\\begin{bmatrix} 1 & 0 \\\\ 0 & 1 \\end{bmatrix}\\right)\\\\\n",
        "  &=S_{P3}^{*-1} \\circ T^*\\left(\\begin{bmatrix}\n",
        "  S_{P1} \\left( \\begin{bmatrix} 1 \\\\ 0  \\end{bmatrix} \\right) & \n",
        "  S_{P1} \\left( \\begin{bmatrix} 0 \\\\ 1 \\end{bmatrix} \\right)  \n",
        " \\end{bmatrix}\\right)\\\\\n",
        "  &=S_{P3}^{*-1} \\circ T^*\\left([\n",
        "   1 + 0x,  \n",
        "   0 + 1x   \n",
        " ]\\right)\\\\\n",
        "  &=S_{P3}^{*-1}\\left([\n",
        "   T(1 + 0x),  \n",
        "   T(0 + 1x)   \n",
        " ]\\right)\\\\\n",
        "  &=S_{P3}^{*-1}\\left([\n",
        "   3 + 2x + 1x^2 + 0x^3,  \n",
        "   0 + 1x + 2x^2 + 3x^3   \n",
        " ]\\right)\\\\\n",
        "  &=[\n",
        "   S_{P3}^{-1}(3 + 2x + 1x^2 + 0x^3),  \n",
        "   S_{P3}^{-1}(0 + 1x + 2x^2 + 3x^3)   \n",
        " ]\\\\\n",
        " &=\\begin{bmatrix}\n",
        " 3 & 0 \\\\ \n",
        " 2 & 1 \\\\ \n",
        " 1 & 2 \\\\\n",
        " 0 & 3 \n",
        " \\end{bmatrix}\n",
        "\\end{align}\n",
        "\n",
        "Ahora probamos que $A\\begin{bmatrix} a_0 \\\\ a_1  \\end{bmatrix}=S_{P3}^{-1} \\circ T \\circ S_{P1} \\left( \\begin{bmatrix} a_0 \\\\ a_1  \\end{bmatrix} \\right)$\n",
        "\n",
        "\\begin{align}\n",
        "A\\begin{bmatrix} a_0 \\\\ a_1 \\end{bmatrix}\n",
        " &\\stackrel{?}{=}S_{P3}^{-1} \\circ T \\circ S_{P1} \\left(\\begin{bmatrix} a_0 \\\\ a_1 \\end{bmatrix}\\right)\\\\\n",
        "\\begin{bmatrix}\n",
        " 3 & 0 \\\\ \n",
        " 2 & 1 \\\\ \n",
        " 1 & 2 \\\\\n",
        " 0 & 3 \n",
        " \\end{bmatrix} \\begin{bmatrix} a_0 \\\\ a_1 \\end{bmatrix} \n",
        "  &\\stackrel{?}{=}S_{P3}^{-1} \\circ T\\left(\n",
        "   a_0 + a_1 x\n",
        " \\right)\\\\\n",
        "\\begin{bmatrix}\n",
        " 3a_0 \\\\ \n",
        " 2a_0 + a_1 \\\\ \n",
        " 1a_0 + 2a_1 \\\\\n",
        "        3a_1 \n",
        " \\end{bmatrix}  &=S_{P3}^{-1}\\left(\n",
        "   3a_0 + (2a_0 + a_1)x + (a_0 + 2a_1)x^2 + 3a_1x^3\\right)\\\\\n",
        "\\end{align}\n",
        "\n",
        "Lo cual prueba que $T$ es una transformación lineal."
      ]
    },
    {
      "cell_type": "code",
      "metadata": {
        "id": "AtBQQYfe4mL1"
      },
      "source": [
        "respuesta_ejemplo_2='Sí es lineal'"
      ],
      "execution_count": null,
      "outputs": []
    },
    {
      "cell_type": "code",
      "metadata": {
        "id": "B-9baWrH4mL3"
      },
      "source": [
        "matriz_ejemplo_2=sp.Matrix([\n",
        " [3, 0], \n",
        " [2, 1], \n",
        " [1, 2],\n",
        " [0, 3] \n",
        " ])\n"
      ],
      "execution_count": null,
      "outputs": []
    },
    {
      "cell_type": "markdown",
      "metadata": {
        "id": "fzV9X8po4mL6"
      },
      "source": [
        "# Ejemplo 3\n",
        "Para la transformación de ejercicio 2 encuentre una base para el núcleo, una base para la imagen, la nulidad, el rango y diga si es inyectiva, sobreyectiva o es un isomorfismo.\n",
        "\n",
        "## Recorderis \n",
        "Usando la notación del Ejercicio 2.\n",
        "\n",
        "* $B_N$ es base del núcleo de $A$ **si y sólo si** $S_V^*(B_N)$ es base del núcleo de $V$ \n",
        "* $B_I$ es base de la imagen de $A$ **si y sólo si** $S_W^*(B_I)$ es base de la imagen de $W$ \n",
        "\n",
        "## Solución\n",
        "Primero encontraremos el núcleo de $A$, que es la solución del sistema homogéneo [A:0] \n",
        "\n",
        "$\\begin{bmatrix}\n",
        " 3 & 0 & : & 0\\\\ \n",
        " 2 & 1 & : & 0\\\\ \n",
        " 1 & 2 & : & 0\\\\\n",
        " 0 & 3 & : & 0\n",
        " \\end{bmatrix} \\sim\n",
        "\\begin{bmatrix}\n",
        " 3 & 0 & : & 0\\\\ \n",
        " 0 & 1 & : & 0\\\\ \n",
        " 0 & 2 & : & 0\\\\\n",
        " 0 & 3 & : & 0\n",
        " \\end{bmatrix} \\sim\n",
        "\\begin{bmatrix}\n",
        " 3 & 0 & : & 0\\\\ \n",
        " 0 & 1 & : & 0\\\\ \n",
        " 0 & 0 & : & 0\\\\\n",
        " 0 & 0 & : & 0\n",
        " \\end{bmatrix} $\n",
        "\n",
        "Cómo el sistema de ecuaciones no tiene variables libres entonces la solución del sistema homogéneo es el vector cero y su base es el conjunto vació. Por lo tanto, la base del núcleo de $A$ es el conjunto vació. Lo cual implica que la base del núcleo de $T$ es también el conjunto vacío.\n",
        "\n",
        "Como cada columna de $A$ tiene un l-pivote entonces las columnas de $A$ son la base de la imagen de $A$  \n",
        "Por lo tanto, la base de la imagen de $T$ es  \n",
        "\n",
        "$$ S^*_V\\left(\n",
        "\\begin{bmatrix}\n",
        " 3 & 0 \\\\ \n",
        " 2 & 1 \\\\ \n",
        " 1 & 2 \\\\\n",
        " 0 & 3\n",
        " \\end{bmatrix}\\right)=\n",
        "\\left[\n",
        "S_V\\left(\\begin{bmatrix}\n",
        " 3\\\\ \n",
        " 2\\\\ \n",
        " 1\\\\\n",
        " 0\n",
        " \\end{bmatrix} \n",
        " \\right),\n",
        " S_V\\left(\\begin{bmatrix}\n",
        " 0\\\\ \n",
        " 1\\\\ \n",
        " 2\\\\\n",
        " 3\n",
        " \\end{bmatrix} \n",
        " \\right) \\right]=\n",
        " [3+2x+x^2,x+2x^2+3x^3]\n",
        " $$\n",
        " \n",
        "\n",
        "\n",
        "\n"
      ]
    },
    {
      "cell_type": "code",
      "metadata": {
        "id": "adaQWxdw4mL7"
      },
      "source": [
        "base_nucleo_ejemplo_3=sp.Matrix()"
      ],
      "execution_count": null,
      "outputs": []
    },
    {
      "cell_type": "code",
      "metadata": {
        "id": "OjKeFXj04mL9"
      },
      "source": [
        "base_imagen_ejemplo_3=sp.Matrix([\n",
        " [3, 0], \n",
        " [2, 1], \n",
        " [1, 2],\n",
        " [0, 3] \n",
        " ])\n"
      ],
      "execution_count": null,
      "outputs": []
    },
    {
      "cell_type": "code",
      "metadata": {
        "id": "J0nvRz7g4mL_"
      },
      "source": [
        "nulidad_ejemplo_3=0"
      ],
      "execution_count": null,
      "outputs": []
    },
    {
      "cell_type": "code",
      "metadata": {
        "id": "fWpJQ7c94mMD"
      },
      "source": [
        "rango_ejemplo_3=2"
      ],
      "execution_count": null,
      "outputs": []
    },
    {
      "cell_type": "code",
      "metadata": {
        "id": "MfMFQl3B4mMG"
      },
      "source": [
        "inyectiva_ejemplo_3='Sí'"
      ],
      "execution_count": null,
      "outputs": []
    },
    {
      "cell_type": "code",
      "metadata": {
        "id": "GiK8cQfv4mMI"
      },
      "source": [
        "sobreyectiva_ejemplo_3='No'"
      ],
      "execution_count": null,
      "outputs": []
    },
    {
      "cell_type": "code",
      "metadata": {
        "id": "y7OhBL3j4mML"
      },
      "source": [
        "isomorfismo_ejemplo_3='No'"
      ],
      "execution_count": null,
      "outputs": []
    },
    {
      "cell_type": "markdown",
      "metadata": {
        "id": "8hxAXeeg4mMO"
      },
      "source": [
        "# Ejemplo 4\n",
        "Sean $B_1=[1+x, 1-x]$ y $B_2=[1, 1+x]$ bases de $P_1$. Encuentre la matriz:\n",
        "* $A_2$ para pasar de $B_2$ a $E_{P1}$\n",
        "* $A'_2$ para pasar de $E_{P1}$ a $B_2$\n",
        "* $A_1$ para pasar de $B_1$ a $E_{P1}$\n",
        "* $A_5$ para pasar de $B_1$ a $B_2$\n",
        "\n",
        "## Recorderis\n",
        "Sea $V$ un espacio vectorial y sean $B_1$ y $B_2$ dos bases de $V$, con sus respectivos isomorfismos $S_{B1}:\\mathbb{R}^n \\rightarrow V$ y $S_{B2}:\\mathbb{R}^n \\rightarrow V$. \n",
        "\n",
        "La matriz de cambio de la base $B_1$ a la base $B_2$ está dada por\n",
        "$A=S^{*-1}_{B2}S^*_{B1}(I)$.\n",
        "\n",
        "De tal forma que si $v \\in V$ entonces  $A[v]_{B1}=[v]_{B2}$. Donde $[v]_B=S^{-1}_{B}(v)$ corresponde a las coordenadas de $v$ en la base $B$. "
      ]
    },
    {
      "cell_type": "code",
      "metadata": {
        "id": "PNlRGBRl4mMO",
        "outputId": "65769bce-aea5-47bd-f396-08d87786789b"
      },
      "source": [
        "grafo({\"V\":(1,0,\"V\"),\"V1\":(1,1,\"R^n\"),\"W1\":(2,1,\"R^n\")},[(\"S_{B1}\",\"V1\",\"V\"),(\"S_{B2}\",\"W1\",\"V\"),(\"A2\",\"V1\",\"W1\")]\n",
        "     ,[(1.2,0.5,\"=\")])"
      ],
      "execution_count": null,
      "outputs": [
        {
          "data": {
            "image/png": "[encoded data removed]",
            "text/plain": [
              "<Figure size 432x288 with 1 Axes>"
            ]
          },
          "metadata": {
            "needs_background": "light",
            "tags": []
          },
          "output_type": "display_data"
        }
      ]
    },
    {
      "cell_type": "markdown",
      "metadata": {
        "id": "lbtpWoqp4mMR"
      },
      "source": [
        "## Solución\n",
        "Recordemos que la base estándar de $P_1$ es $E_{P1}=[1+0x,0+1x]$ y que el isomorfismo estándar es $S_{P1}\\left(\\begin{bmatrix}a_0\\\\a_1\\end{bmatrix}\\right)=a_0(1)+a_1(x)$\n",
        "\n",
        "La base $B_1=[1+x, 1-x]$ tiene asociado el isomorfismo $S_{B1}\\left(\\begin{bmatrix}a_0\\\\a_1\\end{bmatrix}\\right)=a_0(1+x)+a_1(1-x)$\n",
        "$$S_{B1}\\left(\\begin{bmatrix}a_0\\\\a_1\\end{bmatrix}\\right)=(a_0+a_1)+(a_0-a_1)x$$\n",
        "\n",
        "La base $B_2=[1, 1+x]$ tiene asociado el isomorfismo $S_{B2}\\left(\\begin{bmatrix}a_0\\\\a_1\\end{bmatrix}\\right)=a_0(1)+a_1(1+x)$\n",
        "$$S_{B2}\\left(\\begin{bmatrix}a_0\\\\a_1\\end{bmatrix}\\right)=(a_0+a_1)+(a_1)x$$\n",
        "\n"
      ]
    },
    {
      "cell_type": "code",
      "metadata": {
        "id": "GDJPvcLc4mMR",
        "outputId": "f0977a41-1187-4c72-d105-e28db6467f2f"
      },
      "source": [
        "grafo({\"V\":(1,1,\"P1\"),\"V0\":(0,2,\"R^2\"),\"V1\":(1,2,\". R^2\"),\"W1\":(2,2,\"R^2\")},\n",
        "      [(\"S_{B1}\",\"V0\",\"V\"),(\"S_{P1}\",\"V1\",\"V\"),(\"S_{B2}\",\"W1\",\"V\"),(\"A2\",\"W1\",\"V1\"),(\"A1\",\"V0\",\"V1\")]\n",
        "     ,[(0.8,1.7,\"=\"),(1.2,1.7,\"=\")])"
      ],
      "execution_count": null,
      "outputs": [
        {
          "data": {
            "image/png": "[encoded data removed]",
            "text/plain": [
              "<Figure size 432x288 with 1 Axes>"
            ]
          },
          "metadata": {
            "needs_background": "light",
            "tags": []
          },
          "output_type": "display_data"
        }
      ]
    },
    {
      "cell_type": "markdown",
      "metadata": {
        "id": "KgY5EWR84mMU"
      },
      "source": [
        "La matriz de $B_2$ a $E_{P1}$ es \n",
        "$$A_2=S^{*-1}_{P1}S^*_{B2}\\left(\\begin{bmatrix}1 & 0\\\\0 & 1\\end{bmatrix}\\right)=S^{*-1}_{P1}([1,1+x])=\\begin{bmatrix}1 & 1\\\\0 & 1\\end{bmatrix}$$\n",
        "\n",
        "La matriz de $E_{P1}$ a $B_{2}$ es la matriz inversa de la matriz de $B_2$ a $E_{P1}$ \n",
        "$$A_2^{-1}=\\begin{bmatrix}1 & 1\\\\0 & 1\\end{bmatrix}^{-1}=\\frac{1}{1-0}\\begin{bmatrix}1 & -1\\\\0 & 1\\end{bmatrix}=\\begin{bmatrix}1 & -1\\\\0 & 1\\end{bmatrix}$$\n",
        "\n",
        "\n",
        "La matriz de $B_1$ a $E_{P1}$ es \n",
        "$$A_1=S^{*-1}_{P1}S^*_{B1}\\left(\\begin{bmatrix}1 & 0\\\\0 & 1\\end{bmatrix}\\right)=S^{*-1}_{P1}([1+x,1-x])=\\begin{bmatrix}1 & 1\\\\1 & -1\\end{bmatrix}$$\n",
        "\n",
        "La matriz de $B_1$ a $B_2$ es la multiplicación de las matrices de $B_1$ a $E_{P1}$ y de $E_{P1}$ a $B_2$\n",
        "$$ A_5=A_2^{-1}A_1=\\begin{bmatrix}1 & -1\\\\0 & 1\\end{bmatrix}\\begin{bmatrix}1 & 1\\\\1 & -1\\end{bmatrix}=\\begin{bmatrix}0 & 2\\\\1 & -1\\end{bmatrix}$$"
      ]
    },
    {
      "cell_type": "code",
      "metadata": {
        "id": "x0agwwT64mMU",
        "outputId": "14b351a1-efa1-49a3-872f-a2521470f9a7"
      },
      "source": [
        "grafo({\"V\":(1,1,\" V\"),\"V0\":(0,2,\"R^n\"),\"V1\":(1,2,\"R^n\"),\"W1\":(2,2,\"R^n\")},\n",
        "      [(\"S_{B1}\",\"V0\",\"V\"),(\"S_{P1}\",\"V1\",\"V\"),(\"S_{B2}\",\"W1\",\"V\"),(\"A_2\",\"W1\",\"V1\"),(\"A_1\",\"V0\",\"V1\")]\n",
        "     ,[(0.8,1.7,\"=\"),(1.2,1.7,\"=\")])"
      ],
      "execution_count": null,
      "outputs": [
        {
          "data": {
            "image/png": "[encoded data removed]",
            "text/plain": [
              "<Figure size 432x288 with 1 Axes>"
            ]
          },
          "metadata": {
            "needs_background": "light",
            "tags": []
          },
          "output_type": "display_data"
        }
      ]
    },
    {
      "cell_type": "code",
      "metadata": {
        "id": "DNrXXVeH4mMY"
      },
      "source": [
        "A2_ejemplo_4=sp.Matrix([\n",
        " [1, 1], \n",
        " [0, 1], \n",
        " ])"
      ],
      "execution_count": null,
      "outputs": []
    },
    {
      "cell_type": "code",
      "metadata": {
        "id": "4PNPoGlh4mMc"
      },
      "source": [
        "A2_prima_ejemplo_4=sp.Matrix([\n",
        " [1, -1], \n",
        " [0, 1 ], \n",
        " ])"
      ],
      "execution_count": null,
      "outputs": []
    },
    {
      "cell_type": "code",
      "metadata": {
        "id": "ON10Y2sk4mMf"
      },
      "source": [
        "A1_ejemplo_4=sp.Matrix([\n",
        " [1, 1], \n",
        " [1, -1], \n",
        " ])"
      ],
      "execution_count": null,
      "outputs": []
    },
    {
      "cell_type": "code",
      "metadata": {
        "id": "gHFfZMXI4mMj"
      },
      "source": [
        "A5_ejemplo_4=sp.Matrix([\n",
        " [0, 2], \n",
        " [1, -1], \n",
        " ])"
      ],
      "execution_count": null,
      "outputs": []
    },
    {
      "cell_type": "markdown",
      "metadata": {
        "id": "L48JgkVD4mMn"
      },
      "source": [
        "# Ejemplo 5\n",
        "Para la transformación $T:P_1 \\rightarrow P_3$ dada por \n",
        "$$T(a_0 + a_1 x )= 3a_0 + (2a_0 + a_1)x + (a_0 + 2a_1)x^2 + 3a_1x^3 $$\n",
        "encuentre la matriz de la transformación $A4$ usando la base $B_1=[1+x, 1-x]$ para el dominio y la base $B_3=[1,1+x, x+x^2, x^2+x^3 ]$ para el codominio.  \n",
        "\n",
        "## Solución\n",
        "\n",
        "Recordemos que la base estándar de $P_1$ es $$E_{P1}=[1,x]$$ y que el isomorfismo estándar es $$S_{P1}\\left(\\begin{bmatrix}a_0\\\\a_1\\end{bmatrix}\\right)=a_0(1)+a_1(x)$$\n",
        "Además, la base estándar de $P_3$ es $$E_{P3}=[1,x,x^2,x^3]$$ y que el isomorfismo estándar es $$S_{P3}\\left(\\begin{bmatrix}a_0\\\\a_1\\\\a_2\\\\a_3\\end{bmatrix}\\right)=a_0(1)+a_1(x)+a_2(x^2)+a_3(x^3)$$\n",
        "La base $$B_1=[1+x, 1-x]$$ tiene asociado el isomorfismo $$S_{B1}\\left(\\begin{bmatrix}a_0\\\\a_1\\end{bmatrix}\\right)=a_0(1+x)+a_1(1-x)$$\n",
        "La base $$B_3=[1,1+x, x+x^2, x^2+x^3 ]$$ tiene asociado el isomorfismo $$S_{B}\\left(\\begin{bmatrix}a_0\\\\a_1\\end{bmatrix}\\right)=a_0(1)+a_1(1+x)+a_2(x+x^2)+a_3(x^2+x^3)$$\n"
      ]
    },
    {
      "cell_type": "code",
      "metadata": {
        "id": "pjb8s9zd4mMn",
        "outputId": "e8faa649-a739-406e-d9e3-e019d890ae50"
      },
      "source": [
        "grafo({\"P1\":(1,1,\"P_1\"),\"P3\":(2,1,\"P_3\"),\"B1\":(0,2,\"R^2\"),\"R2\":(1,2,\"R^2\"),\"R4\":(2,2,\"R^2\"),\"B3\":(3,2,\"R^2\")},\n",
        "      [(\"T\",\"P1\",\"P3\"),(\"S_{B1}\",\"B1\",\"P1\"),(\"S_{P1}\",\"R2\",\"P1\"),(\"S_{P3}\",\"R4\",\"P3\"),(\"S_{B3}\",\"B3\",\"P3\"),(\"A_1\",\"B1\",\"R2\"),\n",
        "       (\"A\",\"R2\",\"R4\"),(\"A_3\",\"B3\",\"R4\")],\n",
        "      [(0.8,1.6,\"=\"),(1.5,1.6,\"=\"),(2.2,1.6,\"=\")])"
      ],
      "execution_count": null,
      "outputs": [
        {
          "data": {
            "image/png": "[encoded data removed]",
            "text/plain": [
              "<Figure size 432x288 with 1 Axes>"
            ]
          },
          "metadata": {
            "needs_background": "light",
            "tags": []
          },
          "output_type": "display_data"
        }
      ]
    },
    {
      "cell_type": "markdown",
      "metadata": {
        "id": "JqA--UrN4mMp"
      },
      "source": [
        "La matriz $A_1$ coincide con la del ejercicio 4."
      ]
    },
    {
      "cell_type": "code",
      "metadata": {
        "id": "w__KjQD94mMq",
        "outputId": "f517fbc1-939c-4ef7-d102-5e56230057a3"
      },
      "source": [
        "import sympy as sp\n",
        "A1=sp.Matrix([\n",
        "    [1, 1],\n",
        "    [1, -1]\n",
        "])\n",
        "A1"
      ],
      "execution_count": null,
      "outputs": [
        {
          "data": {
            "text/latex": [
              "$\\displaystyle \\left[\\begin{matrix}1 & 1\\\\1 & -1\\end{matrix}\\right]$"
            ],
            "text/plain": [
              "Matrix([\n",
              "[1,  1],\n",
              "[1, -1]])"
            ]
          },
          "execution_count": 44,
          "metadata": {
            "tags": []
          },
          "output_type": "execute_result"
        }
      ]
    },
    {
      "cell_type": "markdown",
      "metadata": {
        "id": "H15f0a9y4mMs"
      },
      "source": [
        "La matriz $A$ coincide con la del ejercicio 2. "
      ]
    },
    {
      "cell_type": "code",
      "metadata": {
        "id": "YIn_N68Q4mMt",
        "outputId": "4e028dfc-aee2-4f01-9f51-b2e149f22efe"
      },
      "source": [
        "A=sp.Matrix([\n",
        " [3, 0], \n",
        " [2, 1], \n",
        " [1, 2],\n",
        " [0, 3] \n",
        "])\n",
        "A"
      ],
      "execution_count": null,
      "outputs": [
        {
          "data": {
            "text/latex": [
              "$\\displaystyle \\left[\\begin{matrix}3 & 0\\\\2 & 1\\\\1 & 2\\\\0 & 3\\end{matrix}\\right]$"
            ],
            "text/plain": [
              "Matrix([\n",
              "[3, 0],\n",
              "[2, 1],\n",
              "[1, 2],\n",
              "[0, 3]])"
            ]
          },
          "execution_count": 45,
          "metadata": {
            "tags": []
          },
          "output_type": "execute_result"
        }
      ]
    },
    {
      "cell_type": "markdown",
      "metadata": {
        "id": "etTmC-Go4mMu"
      },
      "source": [
        "Queda pendiente encontrar la matriz $A_3$.\n",
        "\n",
        "La matriz de $B_3$ a $E_{P3}$ es \n",
        "$$\\begin{align}\n",
        "A_3&=S^{*-1}_{E3}S^*_{B3}\\left(\\begin{bmatrix}1 & 0 & 0 & 0\\\\0 & 1 & 0 & 0\\\\0 & 0 & 1 & 0\\\\0 & 0 & 0 & 1\\end{bmatrix}\\right)\\\\\n",
        "&=S^{*-1}_{E1}([1,1+x, x+x^2, x^2+x^3])\\\\\n",
        "&=\\begin{bmatrix}1 & 1 &0 &0\\\\0 & 1 &1&0\\\\0&0&1&1\\\\0&0&0&1\\end{bmatrix}\\\\\n",
        "\\end{align}$$\n",
        "\n",
        "La matriz solicitada ($A4$) corresponde al producto\n",
        "$$A4=A_3^{-1}AA_1$$\n",
        "Por lo tanto, vamos a encontrar $A_3^{-1}$  "
      ]
    },
    {
      "cell_type": "code",
      "metadata": {
        "id": "qoA90TX84mMv",
        "outputId": "364bc32c-c6cf-4c0f-ae17-c6e71bc01900"
      },
      "source": [
        "A3=sp.Matrix([[1, 1, 0, 0],\n",
        "             [0, 1, 1, 0],\n",
        "             [0, 0, 1, 1],\n",
        "             [0, 0, 0, 1]])\n",
        "A3"
      ],
      "execution_count": null,
      "outputs": [
        {
          "data": {
            "text/latex": [
              "$\\displaystyle \\left[\\begin{matrix}1 & 1 & 0 & 0\\\\0 & 1 & 1 & 0\\\\0 & 0 & 1 & 1\\\\0 & 0 & 0 & 1\\end{matrix}\\right]$"
            ],
            "text/plain": [
              "Matrix([\n",
              "[1, 1, 0, 0],\n",
              "[0, 1, 1, 0],\n",
              "[0, 0, 1, 1],\n",
              "[0, 0, 0, 1]])"
            ]
          },
          "execution_count": 46,
          "metadata": {
            "tags": []
          },
          "output_type": "execute_result"
        }
      ]
    },
    {
      "cell_type": "code",
      "metadata": {
        "id": "0PEmGN6m4mMx",
        "outputId": "7194935f-309e-497f-9053-d000f668eacd"
      },
      "source": [
        "M=A3.row_join(sp.eye(4))\n",
        "M"
      ],
      "execution_count": null,
      "outputs": [
        {
          "data": {
            "text/latex": [
              "$\\displaystyle \\left[\\begin{matrix}1 & 1 & 0 & 0 & 1 & 0 & 0 & 0\\\\0 & 1 & 1 & 0 & 0 & 1 & 0 & 0\\\\0 & 0 & 1 & 1 & 0 & 0 & 1 & 0\\\\0 & 0 & 0 & 1 & 0 & 0 & 0 & 1\\end{matrix}\\right]$"
            ],
            "text/plain": [
              "Matrix([\n",
              "[1, 1, 0, 0, 1, 0, 0, 0],\n",
              "[0, 1, 1, 0, 0, 1, 0, 0],\n",
              "[0, 0, 1, 1, 0, 0, 1, 0],\n",
              "[0, 0, 0, 1, 0, 0, 0, 1]])"
            ]
          },
          "execution_count": 47,
          "metadata": {
            "tags": []
          },
          "output_type": "execute_result"
        }
      ]
    },
    {
      "cell_type": "code",
      "metadata": {
        "id": "7N3FXoj54mM2",
        "outputId": "26c36f9a-e0b8-4abb-af9b-4ee2e4dfdbbe"
      },
      "source": [
        "M[2,:] -= M[3,:]\n",
        "M"
      ],
      "execution_count": null,
      "outputs": [
        {
          "data": {
            "text/latex": [
              "$\\displaystyle \\left[\\begin{matrix}1 & 1 & 0 & 0 & 1 & 0 & 0 & 0\\\\0 & 1 & 1 & 0 & 0 & 1 & 0 & 0\\\\0 & 0 & 1 & 0 & 0 & 0 & 1 & -1\\\\0 & 0 & 0 & 1 & 0 & 0 & 0 & 1\\end{matrix}\\right]$"
            ],
            "text/plain": [
              "Matrix([\n",
              "[1, 1, 0, 0, 1, 0, 0,  0],\n",
              "[0, 1, 1, 0, 0, 1, 0,  0],\n",
              "[0, 0, 1, 0, 0, 0, 1, -1],\n",
              "[0, 0, 0, 1, 0, 0, 0,  1]])"
            ]
          },
          "execution_count": 48,
          "metadata": {
            "tags": []
          },
          "output_type": "execute_result"
        }
      ]
    },
    {
      "cell_type": "code",
      "metadata": {
        "id": "XuwxFqs94mM3",
        "outputId": "b33d0b3f-701a-4e8c-b5f4-b18605f2f6fc"
      },
      "source": [
        "M[1,:] -= M[2,:]\n",
        "M"
      ],
      "execution_count": null,
      "outputs": [
        {
          "data": {
            "text/latex": [
              "$\\displaystyle \\left[\\begin{matrix}1 & 1 & 0 & 0 & 1 & 0 & 0 & 0\\\\0 & 1 & 0 & 0 & 0 & 1 & -1 & 1\\\\0 & 0 & 1 & 0 & 0 & 0 & 1 & -1\\\\0 & 0 & 0 & 1 & 0 & 0 & 0 & 1\\end{matrix}\\right]$"
            ],
            "text/plain": [
              "Matrix([\n",
              "[1, 1, 0, 0, 1, 0,  0,  0],\n",
              "[0, 1, 0, 0, 0, 1, -1,  1],\n",
              "[0, 0, 1, 0, 0, 0,  1, -1],\n",
              "[0, 0, 0, 1, 0, 0,  0,  1]])"
            ]
          },
          "execution_count": 49,
          "metadata": {
            "tags": []
          },
          "output_type": "execute_result"
        }
      ]
    },
    {
      "cell_type": "code",
      "metadata": {
        "id": "QS4ZvLZQ4mNA",
        "outputId": "f76749c4-5be4-4374-d688-c4c97d09d852"
      },
      "source": [
        "M[0,:] -= M[1,:]\n",
        "M"
      ],
      "execution_count": null,
      "outputs": [
        {
          "data": {
            "text/latex": [
              "$\\displaystyle \\left[\\begin{matrix}1 & 0 & 0 & 0 & 1 & -1 & 1 & -1\\\\0 & 1 & 0 & 0 & 0 & 1 & -1 & 1\\\\0 & 0 & 1 & 0 & 0 & 0 & 1 & -1\\\\0 & 0 & 0 & 1 & 0 & 0 & 0 & 1\\end{matrix}\\right]$"
            ],
            "text/plain": [
              "Matrix([\n",
              "[1, 0, 0, 0, 1, -1,  1, -1],\n",
              "[0, 1, 0, 0, 0,  1, -1,  1],\n",
              "[0, 0, 1, 0, 0,  0,  1, -1],\n",
              "[0, 0, 0, 1, 0,  0,  0,  1]])"
            ]
          },
          "execution_count": 50,
          "metadata": {
            "tags": []
          },
          "output_type": "execute_result"
        }
      ]
    },
    {
      "cell_type": "code",
      "metadata": {
        "id": "Ly2qxBep4mNC",
        "outputId": "f7b6ed5b-eef6-4a52-d5cb-e0ae99de0799"
      },
      "source": [
        "A3_inv=M[:,4:]\n",
        "A3_inv"
      ],
      "execution_count": null,
      "outputs": [
        {
          "data": {
            "text/latex": [
              "$\\displaystyle \\left[\\begin{matrix}1 & -1 & 1 & -1\\\\0 & 1 & -1 & 1\\\\0 & 0 & 1 & -1\\\\0 & 0 & 0 & 1\\end{matrix}\\right]$"
            ],
            "text/plain": [
              "Matrix([\n",
              "[1, -1,  1, -1],\n",
              "[0,  1, -1,  1],\n",
              "[0,  0,  1, -1],\n",
              "[0,  0,  0,  1]])"
            ]
          },
          "execution_count": 51,
          "metadata": {
            "tags": []
          },
          "output_type": "execute_result"
        }
      ]
    },
    {
      "cell_type": "code",
      "metadata": {
        "id": "_mx5IPxM4mNK",
        "outputId": "81928cf5-f759-45f8-9890-54a81974c29b"
      },
      "source": [
        "A3_inv*A3"
      ],
      "execution_count": null,
      "outputs": [
        {
          "data": {
            "text/latex": [
              "$\\displaystyle \\left[\\begin{matrix}1 & 0 & 0 & 0\\\\0 & 1 & 0 & 0\\\\0 & 0 & 1 & 0\\\\0 & 0 & 0 & 1\\end{matrix}\\right]$"
            ],
            "text/plain": [
              "Matrix([\n",
              "[1, 0, 0, 0],\n",
              "[0, 1, 0, 0],\n",
              "[0, 0, 1, 0],\n",
              "[0, 0, 0, 1]])"
            ]
          },
          "execution_count": 52,
          "metadata": {
            "tags": []
          },
          "output_type": "execute_result"
        }
      ]
    },
    {
      "cell_type": "markdown",
      "metadata": {
        "id": "jCphv4vQ4mNN"
      },
      "source": [
        "La matriz de la transformación en las bases solicitadas es"
      ]
    },
    {
      "cell_type": "code",
      "metadata": {
        "id": "lDu8j1L-4mNN",
        "outputId": "65852a71-d14f-4ba3-e14f-e0997038d4d2"
      },
      "source": [
        "A4=A3_inv*A*A1\n",
        "A4"
      ],
      "execution_count": null,
      "outputs": [
        {
          "data": {
            "text/latex": [
              "$\\displaystyle \\left[\\begin{matrix}0 & 4\\\\3 & -1\\\\0 & 2\\\\3 & -3\\end{matrix}\\right]$"
            ],
            "text/plain": [
              "Matrix([\n",
              "[0,  4],\n",
              "[3, -1],\n",
              "[0,  2],\n",
              "[3, -3]])"
            ]
          },
          "execution_count": 53,
          "metadata": {
            "tags": []
          },
          "output_type": "execute_result"
        }
      ]
    },
    {
      "cell_type": "markdown",
      "metadata": {
        "id": "WRrX5tGO4mNP"
      },
      "source": [
        "## Verificación\n",
        "Para verificar, vamos a mostrar que para cualquier $v=\\left(\\matrix{x_0\\\\x_1}\\right)$ se cumple que\n",
        "$T \\circ S_{B1}(v) = S_{B2} \\circ A4(v)$"
      ]
    },
    {
      "cell_type": "code",
      "metadata": {
        "id": "kNmJAcjf4mNP",
        "outputId": "f10c8b60-aa50-4bef-c754-fb05cb3746f5"
      },
      "source": [
        "x,v0,v1=sp.symbols('x v_0 v_1')\n",
        "\n",
        "def sb1(v2):\n",
        "    return v2[0]*(1+x) + v2[1]*(1-x)\n",
        "\n",
        "def sb3(v4):\n",
        "    return v4[0]*1+v4[1]*(1+x)+v4[2]*(x+x**2)+v4[3]*(x**2+x**3) \n",
        "\n",
        "def T(p):\n",
        "    a_0=p.subs({x:0})\n",
        "    a_1=p.subs({x:1})-a_0\n",
        "    return 3*a_0 + (2*a_0 + a_1)*x + (a_0 + 2*a_1)*x**2 + 3*a_1*x**3\n",
        "\n",
        "v=sp.Matrix([v0,\n",
        "             v1])\n",
        "\n",
        "v"
      ],
      "execution_count": null,
      "outputs": [
        {
          "data": {
            "text/latex": [
              "$\\displaystyle \\left[\\begin{matrix}v_{0}\\\\v_{1}\\end{matrix}\\right]$"
            ],
            "text/plain": [
              "Matrix([\n",
              "[v_0],\n",
              "[v_1]])"
            ]
          },
          "execution_count": 54,
          "metadata": {
            "tags": []
          },
          "output_type": "execute_result"
        }
      ]
    },
    {
      "cell_type": "code",
      "metadata": {
        "id": "X5OZgzte4mNR",
        "outputId": "71f18cfc-7a04-4f2d-8c57-1ed636e81064"
      },
      "source": [
        "sb1(v)"
      ],
      "execution_count": null,
      "outputs": [
        {
          "data": {
            "text/latex": [
              "$\\displaystyle v_{0} \\left(x + 1\\right) + v_{1} \\left(1 - x\\right)$"
            ],
            "text/plain": [
              "v_0*(x + 1) + v_1*(1 - x)"
            ]
          },
          "execution_count": 55,
          "metadata": {
            "tags": []
          },
          "output_type": "execute_result"
        }
      ]
    },
    {
      "cell_type": "code",
      "metadata": {
        "id": "0Z32DzWz4mNV",
        "outputId": "aea5d508-985c-44fb-ffc9-f40c24657589"
      },
      "source": [
        " T(sb1(v)).expand()"
      ],
      "execution_count": null,
      "outputs": [
        {
          "data": {
            "text/latex": [
              "$\\displaystyle 3 v_{0} x^{3} + 3 v_{0} x^{2} + 3 v_{0} x + 3 v_{0} - 3 v_{1} x^{3} - v_{1} x^{2} + v_{1} x + 3 v_{1}$"
            ],
            "text/plain": [
              "3*v_0*x**3 + 3*v_0*x**2 + 3*v_0*x + 3*v_0 - 3*v_1*x**3 - v_1*x**2 + v_1*x + 3*v_1"
            ]
          },
          "execution_count": 56,
          "metadata": {
            "tags": []
          },
          "output_type": "execute_result"
        }
      ]
    },
    {
      "cell_type": "code",
      "metadata": {
        "id": "MwM_-pZt4mNY",
        "outputId": "66d2e94d-c1ef-4d9f-8235-d265ed424317"
      },
      "source": [
        "A*v"
      ],
      "execution_count": null,
      "outputs": [
        {
          "data": {
            "text/latex": [
              "$\\displaystyle \\left[\\begin{matrix}3 v_{0}\\\\2 v_{0} + v_{1}\\\\v_{0} + 2 v_{1}\\\\3 v_{1}\\end{matrix}\\right]$"
            ],
            "text/plain": [
              "Matrix([\n",
              "[      3*v_0],\n",
              "[2*v_0 + v_1],\n",
              "[v_0 + 2*v_1],\n",
              "[      3*v_1]])"
            ]
          },
          "execution_count": 57,
          "metadata": {
            "tags": []
          },
          "output_type": "execute_result"
        }
      ]
    },
    {
      "cell_type": "code",
      "metadata": {
        "id": "vVZJpkLd4mNa",
        "outputId": "c2cbe16b-d437-451f-a18d-bbefcb828b80"
      },
      "source": [
        "sb3(A4*v).expand()"
      ],
      "execution_count": null,
      "outputs": [
        {
          "data": {
            "text/latex": [
              "$\\displaystyle 3 v_{0} x^{3} + 3 v_{0} x^{2} + 3 v_{0} x + 3 v_{0} - 3 v_{1} x^{3} - v_{1} x^{2} + v_{1} x + 3 v_{1}$"
            ],
            "text/plain": [
              "3*v_0*x**3 + 3*v_0*x**2 + 3*v_0*x + 3*v_0 - 3*v_1*x**3 - v_1*x**2 + v_1*x + 3*v_1"
            ]
          },
          "execution_count": 58,
          "metadata": {
            "tags": []
          },
          "output_type": "execute_result"
        }
      ]
    },
    {
      "cell_type": "code",
      "metadata": {
        "id": "MGZlL9rG4mNc",
        "outputId": "f699a84a-01b3-4138-cf19-8dbc63618c4d"
      },
      "source": [
        "sb3(A4*v).expand() == T(sb1(v)).expand()"
      ],
      "execution_count": null,
      "outputs": [
        {
          "data": {
            "text/plain": [
              "True"
            ]
          },
          "execution_count": 59,
          "metadata": {
            "tags": []
          },
          "output_type": "execute_result"
        }
      ]
    },
    {
      "cell_type": "markdown",
      "metadata": {
        "id": "h8yBoyKJ4mNe"
      },
      "source": [
        "Lo cual prueba que sí son iguales ambos caminos."
      ]
    },
    {
      "cell_type": "code",
      "metadata": {
        "id": "hKx16vHc4mNe"
      },
      "source": [
        "A4_ejemplo_5=A4[:]"
      ],
      "execution_count": null,
      "outputs": []
    },
    {
      "cell_type": "code",
      "metadata": {
        "id": "BOBIRmZ-4mNg"
      },
      "source": [
        "nombre=''"
      ],
      "execution_count": null,
      "outputs": []
    },
    {
      "cell_type": "code",
      "metadata": {
        "id": "gxwuUKan4mNj"
      },
      "source": [
        "codigo=0"
      ],
      "execution_count": null,
      "outputs": []
    },
    {
      "cell_type": "code",
      "metadata": {
        "id": "a2qyx_lO4mNl"
      },
      "source": [
        "# Recuerde que a es el último dígito de código\n",
        "# y que b es el penúltimo dígito\n"
      ],
      "execution_count": null,
      "outputs": []
    },
    {
      "cell_type": "markdown",
      "metadata": {
        "id": "jWk_KM0I4mNn"
      },
      "source": [
        "# Ejercicio 1 (lunes)\n",
        "Demuestre que $T \\left( \\begin{bmatrix} x \\\\ y  \\end{bmatrix} \\right) = \\begin{bmatrix} 3x - y \\\\ (a+5)x \\\\ (b+3)y  \\end{bmatrix} $ es una transformación lineal y encuentre la respectiva matriz."
      ]
    },
    {
      "cell_type": "code",
      "metadata": {
        "id": "6rWl37Nc4mNn"
      },
      "source": [
        "matriz_ejercicio_1=sp.Matrix()"
      ],
      "execution_count": null,
      "outputs": []
    },
    {
      "cell_type": "markdown",
      "metadata": {
        "id": "G7hQyxk94mNp"
      },
      "source": [
        "# Ejercicio 1.5 (martes)(Opcional, sube una nota de otros talleres)\n",
        "Determine si $T':P_1 \\rightarrow P_3$ dada por \n",
        "$$T'(c_0 + c_1 x )= (a+c_0) + (2c_0+b)x + (c_0 + 2c_1)x^2 + 3c_1x^3 $$\n",
        "es una transformación lineal."
      ]
    },
    {
      "cell_type": "code",
      "metadata": {
        "id": "NbxIgdce4mNp"
      },
      "source": [
        "respuesta_ejercicio_1_5='si/no es una transformación lineal'"
      ],
      "execution_count": null,
      "outputs": []
    },
    {
      "cell_type": "markdown",
      "metadata": {
        "id": "mlLdBAAm4mNr"
      },
      "source": [
        "# Ejercicio 2 (martes)\n",
        "Demuestre que $T:P_1 \\rightarrow P_3$ dada por \n",
        "$$T(c_0 + c_1 x )= ((a+1)c_0) + ((2b+3)c_0)x + (c_0 + 2c_1)x^2 + 3c_1x^3 $$\n",
        "es una transformación lineal y encuentre la matriz usando las respectivas bases estándar."
      ]
    },
    {
      "cell_type": "code",
      "metadata": {
        "id": "QsK1C2Gq4mNs"
      },
      "source": [
        "matriz_ejercicio_2=sp.Matrix()"
      ],
      "execution_count": null,
      "outputs": []
    },
    {
      "cell_type": "markdown",
      "metadata": {
        "id": "Z12n3nh74mNx"
      },
      "source": [
        "# Ejercicio 3 (miércoles)\n",
        "Para la transformación del ejercicio 2, encuentre una base para el núcleo, una base para la imagen, la nulidad, el rango y diga si es inyectiva, sobreyectiva o es un isomorfismo."
      ]
    },
    {
      "cell_type": "code",
      "metadata": {
        "id": "lmBhjgVG4mNy"
      },
      "source": [
        "base_nucleo_ejercicio_3=sp.Matrix()"
      ],
      "execution_count": null,
      "outputs": []
    },
    {
      "cell_type": "code",
      "metadata": {
        "id": "uR-HCBfo4mNz"
      },
      "source": [
        "base_imagen_ejercicio_3=sp.Matrix()"
      ],
      "execution_count": null,
      "outputs": []
    },
    {
      "cell_type": "code",
      "metadata": {
        "id": "tdG1VpOC4mN2"
      },
      "source": [
        "nulidad_ejercicio_3=0"
      ],
      "execution_count": null,
      "outputs": []
    },
    {
      "cell_type": "code",
      "metadata": {
        "id": "mA6eBk8Z4mN4"
      },
      "source": [
        "rango_ejercicio_3=0"
      ],
      "execution_count": null,
      "outputs": []
    },
    {
      "cell_type": "code",
      "metadata": {
        "id": "TytEZ6x14mN5"
      },
      "source": [
        "inyectiva_ejercicio_3=''"
      ],
      "execution_count": null,
      "outputs": []
    },
    {
      "cell_type": "code",
      "metadata": {
        "id": "-yP4Cc794mN-"
      },
      "source": [
        "sobreyectiva_ejercicio_3=''"
      ],
      "execution_count": null,
      "outputs": []
    },
    {
      "cell_type": "code",
      "metadata": {
        "id": "KIc1RHIb4mOB"
      },
      "source": [
        "isomorfismo_ejercicio_3=''"
      ],
      "execution_count": null,
      "outputs": []
    },
    {
      "cell_type": "markdown",
      "metadata": {
        "id": "QhQ8qshO4mOE"
      },
      "source": [
        "# Ejercicio 4 (jueves)\n",
        "Sean $B_1=[3+a+x, 1-x]$ y $B_2=[1, 1+(b+2)x]$ bases de $P_1$. Encuentre la matriz:\n",
        "* $A_2$ para pasar de $B_2$ a $E_{P1}$\n",
        "* $A'_2$ para pasar de $E_{P1}$ a $B_2$\n",
        "* $A_1$ para pasar de $B_1$ a $E_{P1}$\n",
        "* $A_5$ para pasar de $B_1$ a $B_2$"
      ]
    },
    {
      "cell_type": "code",
      "metadata": {
        "id": "vnXf_vjY4mOF"
      },
      "source": [
        "A2_ejercicio_4=sp.Matrix()"
      ],
      "execution_count": null,
      "outputs": []
    },
    {
      "cell_type": "code",
      "metadata": {
        "id": "3KOpy5uZ4mOH"
      },
      "source": [
        "A2_prima_ejercicio_4=sp.Matrix()"
      ],
      "execution_count": null,
      "outputs": []
    },
    {
      "cell_type": "code",
      "metadata": {
        "id": "f-ANYSUC4mOK"
      },
      "source": [
        "A1_ejercicio_4=sp.Matrix()"
      ],
      "execution_count": null,
      "outputs": []
    },
    {
      "cell_type": "code",
      "metadata": {
        "id": "lov7dJK_4mOL"
      },
      "source": [
        "A5_ejercicio_4=sp.Matrix()"
      ],
      "execution_count": null,
      "outputs": []
    },
    {
      "cell_type": "markdown",
      "metadata": {
        "id": "r2anASfG4mOP"
      },
      "source": [
        "# Ejercicio 5 (viernes)\n",
        "Para la transformación $T:P_1 \\rightarrow P_3$ dada por en el ejercicio 2\n",
        "encuentre la matriz de la transformación $A_4$ usando la base $B_1$ del ejercicio 4 para el dominio y la base $B_3=[4+a,1+x, x+x^2, 3+b+x^2+x^3 ]$ para el codominio.  \n"
      ]
    },
    {
      "cell_type": "code",
      "metadata": {
        "id": "A8LUTYLK4mOP"
      },
      "source": [
        "A4_ejercicio_5=sp.Matrix()"
      ],
      "execution_count": null,
      "outputs": []
    }
  ]
}