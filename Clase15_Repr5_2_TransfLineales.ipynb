{
  "nbformat": 4,
  "nbformat_minor": 0,
  "metadata": {
    "kernelspec": {
      "display_name": "Python 3",
      "language": "python",
      "name": "python3"
    },
    "language_info": {
      "codemirror_mode": {
        "name": "ipython",
        "version": 3
      },
      "file_extension": ".py",
      "mimetype": "text/x-python",
      "name": "python",
      "nbconvert_exporter": "python",
      "pygments_lexer": "ipython3",
      "version": "3.7.4"
    },
    "colab": {
      "name": "Clase15_Repr5_2_TransfLineales.ipynb",
      "provenance": []
    }
  },
  "cells": [
    {
      "cell_type": "code",
      "metadata": {
        "id": "9rlT1HS21oyz"
      },
      "source": [
        "import matplotlib.pyplot as plt\n",
        "\n",
        "def grafo(nodos,arcos,etiquetas=[]):\n",
        "    fig, ax = plt.subplots()\n",
        "    for nodo in nodos:\n",
        "        nodo=nodos[nodo]\n",
        "        ax.scatter(nodo[0],-nodo[1],s=20,color='k')\n",
        "        ax.text(nodo[0],-nodo[1],'$'+nodo[2]+'$',fontsize=15) \n",
        "    ax.axis('off')\n",
        "    for nombre,nodo1,nodo2 in arcos:\n",
        "        nodo1=nodos[nodo1]\n",
        "        nodo2=nodos[nodo2]\n",
        "        ax.arrow(float(nodo1[0]),-float(nodo1[1]),-float(nodo1[0])+float(nodo2[0]),float(nodo1[1])-float(nodo2[1]),head_width=0.05,head_length=0.05, length_includes_head=True)\n",
        "        ax.text((nodo1[0]+nodo2[0])/2.0,-(nodo1[1]+nodo2[1])/2.0,'$'+nombre+'$',fontsize=18) \n",
        "    for x,y,texto in etiquetas:\n",
        "        ax.text(x,-y,'$'+texto+'$',fontsize=15) "
      ],
      "execution_count": 4,
      "outputs": []
    },
    {
      "cell_type": "markdown",
      "metadata": {
        "id": "Iy4yIhAw1oy2"
      },
      "source": [
        "# Transformaciones lineales\n",
        "Sabemos que una transformación lineal entre espacios vectoriales $T:U \\rightarrow V$ cumple: \n",
        "* (AT) $T(u_1 + u_2)=T(u_1) + T(u_2)$\n",
        "* (MT) $T(c_1u_1)=c_1T(u_1)$\n",
        "\n",
        "para todo $u_1,u_2 \\in U$ y para todo $c_1, c_2 \\in \\mathbb{R}$\n",
        "\n",
        "(AT) y (MT) equivalen a la siguiente igualdad \n",
        "\n",
        "* $T(c_1u_1 + c_2u_2)=c_1T(u_1) + c_2T(u_2)$\n",
        "\n",
        "Utilizando inducción matemática se puede mostrar la equivalencia de (AT) y (MT) con la siguiente igualdad \n",
        "\n",
        "* $T(c_1u_1 + c_2u_2 + \\cdots + c_nu_n)=c_1T(u_1) + c_2T(u_2) + \\cdots + c_nT(u_n)$\n",
        "\n",
        "para todo $u_1,u_2, \\ldots , u_n \\in U$ y para todo $c_1, c_2, \\ldots, c_n \\in \\mathbb{R}$\n",
        "\n",
        "Esto permite concluir que la transformación de una combinación lineal de vectores es la misma combinación lineal de las transformaciones de los vectores.\n",
        "\n",
        "Si $B=[v_1, v_2, \\ldots, v_n]$ es una sucesión de vectores de $U$  entonces $T^*(B)$ va a denotar la sucesión  de vectores dada por:\n",
        "\n",
        " $T^*(B)=[T(v_1), T(v_2), \\ldots, T(v_n)]$\n",
        "\n",
        "De manera análoga se puede aplicar si $B$ es un conjunto de vectores de $U$. \n",
        "\n",
        "\n",
        "\n",
        "\n",
        "\n",
        "# Teorema\n",
        "$T:\\mathbb{R}^n \\rightarrow \\mathbb{R}^m$ es una transformación lineal **si y sólo si** para todo $v \\in \\mathbb{R}^n$ se cumple que $T(v)=Av$. Donde $A$ es la matriz de $m \\times n$  dada por \n",
        " $$A=T^*(I)= \\begin{bmatrix}\n",
        "  T \\left( \\begin{bmatrix} 1 \\\\ 0 \\\\ \\vdots \\\\ 0 \\end{bmatrix} \\right) & \n",
        "  T \\left( \\begin{bmatrix} 0 \\\\ 1 \\\\ \\vdots \\\\ 0 \\end{bmatrix} \\right) &\n",
        "  \\cdots &\n",
        "  T \\left( \\begin{bmatrix} 0 \\\\ 0 \\\\ \\vdots \\\\ 1 \\end{bmatrix} \\right) \n",
        " \\end{bmatrix} $$ \n",
        " \n",
        "\n",
        "# Ejemplos\n",
        "De las siguietes transformaciones de $\\mathbb{R}^n$ en  $\\mathbb{R}^m$ determine cuales son lineales y cuales no lo son. Para las transformaciones lineales encuentre la respectiva matriz de la transformación.\n",
        "* (a) $T_1 \\left( \\begin{bmatrix} x_0 \\\\ x_1  \\end{bmatrix} \\right)= \\left( \\begin{bmatrix} 2x_0+ 3x_1 \\\\ 5x_0- 4x_1 \\\\ 6x_0 +2x_1 \\end{bmatrix} \\right)$\n",
        "* (b) $T_2 \\left( \\begin{bmatrix} x_0 \\\\ x_1\\\\ x_2 \\end{bmatrix} \\right)= \\left( \\begin{bmatrix} 4x_0 - x_2 \\\\ 5x_1- 4  \\end{bmatrix} \\right)$\n",
        "* (c) $T_3 \\left( \\begin{bmatrix} x_0 \\\\ x_1\\end{bmatrix} \\right)= \\left( \\begin{bmatrix} x_0x_1 \\\\ x_0- x_1 \\end{bmatrix} \\right)$\n",
        "\n",
        "Solución:\n"
      ]
    },
    {
      "cell_type": "code",
      "metadata": {
        "id": "kfibfgHK1oy4",
        "outputId": "770245ae-173b-48e9-dcf3-4af65db8196d"
      },
      "source": [
        "import sympy as sp\n",
        "x0, x1, x2 = sp.symbols('x_0 x_1 x_2')\n",
        "u=sp.Matrix((x0,x1))  # un vector en $R^2$\n",
        "v=sp.Matrix((x0,x1,x2)) # un vector en $R^3$\n",
        "\n",
        "I2=sp.eye(2)\n",
        "I2"
      ],
      "execution_count": null,
      "outputs": [
        {
          "data": {
            "text/latex": [
              "$\\displaystyle \\left[\\begin{matrix}1 & 0\\\\0 & 1\\end{matrix}\\right]$"
            ],
            "text/plain": [
              "Matrix([\n",
              "[1, 0],\n",
              "[0, 1]])"
            ]
          },
          "execution_count": 3,
          "metadata": {},
          "output_type": "execute_result"
        }
      ]
    },
    {
      "cell_type": "code",
      "metadata": {
        "id": "fJax11JJ1oy5",
        "outputId": "5a38de41-e19d-473c-b412-360878c10e8d"
      },
      "source": [
        "I3=sp.eye(3)\n",
        "I3"
      ],
      "execution_count": null,
      "outputs": [
        {
          "data": {
            "text/latex": [
              "$\\displaystyle \\left[\\begin{matrix}1 & 0 & 0\\\\0 & 1 & 0\\\\0 & 0 & 1\\end{matrix}\\right]$"
            ],
            "text/plain": [
              "Matrix([\n",
              "[1, 0, 0],\n",
              "[0, 1, 0],\n",
              "[0, 0, 1]])"
            ]
          },
          "execution_count": 4,
          "metadata": {},
          "output_type": "execute_result"
        }
      ]
    },
    {
      "cell_type": "code",
      "metadata": {
        "id": "sXgqCW6C1oy6",
        "outputId": "3643921d-ba53-43e8-dadd-450647146ab2"
      },
      "source": [
        "# Ejemplo 1\n",
        "def T1(u):\n",
        "    (x0,x1) = u\n",
        "    return sp.Matrix((2*x0+ 3*x1, \n",
        "                      5*x0 - 4*x1, \n",
        "                      6*x0 +2*x1))\n",
        "\n",
        "A1=T1(I2[:,0]).row_join(T1(I2[:,1]))\n",
        "A1"
      ],
      "execution_count": null,
      "outputs": [
        {
          "data": {
            "text/latex": [
              "$\\displaystyle \\left[\\begin{matrix}2 & 3\\\\5 & -4\\\\6 & 2\\end{matrix}\\right]$"
            ],
            "text/plain": [
              "Matrix([\n",
              "[2,  3],\n",
              "[5, -4],\n",
              "[6,  2]])"
            ]
          },
          "execution_count": 5,
          "metadata": {},
          "output_type": "execute_result"
        }
      ]
    },
    {
      "cell_type": "code",
      "metadata": {
        "id": "ZsAUJk_-1oy6",
        "outputId": "5f5d6bf8-be3a-4657-ab45-f88380e81103"
      },
      "source": [
        "A1*u"
      ],
      "execution_count": null,
      "outputs": [
        {
          "data": {
            "text/latex": [
              "$\\displaystyle \\left[\\begin{matrix}2 x_{0} + 3 x_{1}\\\\5 x_{0} - 4 x_{1}\\\\6 x_{0} + 2 x_{1}\\end{matrix}\\right]$"
            ],
            "text/plain": [
              "Matrix([\n",
              "[2*x_0 + 3*x_1],\n",
              "[5*x_0 - 4*x_1],\n",
              "[6*x_0 + 2*x_1]])"
            ]
          },
          "execution_count": 6,
          "metadata": {},
          "output_type": "execute_result"
        }
      ]
    },
    {
      "cell_type": "code",
      "metadata": {
        "id": "UK7zpPBf1oy7",
        "outputId": "a5042259-f997-4197-cf06-da45b2423898"
      },
      "source": [
        "T1(u)"
      ],
      "execution_count": null,
      "outputs": [
        {
          "data": {
            "text/latex": [
              "$\\displaystyle \\left[\\begin{matrix}2 x_{0} + 3 x_{1}\\\\5 x_{0} - 4 x_{1}\\\\6 x_{0} + 2 x_{1}\\end{matrix}\\right]$"
            ],
            "text/plain": [
              "Matrix([\n",
              "[2*x_0 + 3*x_1],\n",
              "[5*x_0 - 4*x_1],\n",
              "[6*x_0 + 2*x_1]])"
            ]
          },
          "execution_count": 7,
          "metadata": {},
          "output_type": "execute_result"
        }
      ]
    },
    {
      "cell_type": "code",
      "metadata": {
        "id": "QjlXaeET1oy7",
        "outputId": "4c374af0-811e-4119-9a7d-95cf53bc69a8"
      },
      "source": [
        "T1(u) == A1*u"
      ],
      "execution_count": null,
      "outputs": [
        {
          "data": {
            "text/plain": [
              "True"
            ]
          },
          "execution_count": 8,
          "metadata": {},
          "output_type": "execute_result"
        }
      ]
    },
    {
      "cell_type": "code",
      "metadata": {
        "id": "_bATJVfS1oy7"
      },
      "source": [
        "respuesta_ejemplo_a='Sí es una transformación lineal'"
      ],
      "execution_count": null,
      "outputs": []
    },
    {
      "cell_type": "code",
      "metadata": {
        "id": "3ob0JNYa1oy8",
        "outputId": "087cfb88-8c1a-492b-c429-856a0d4ad9c7"
      },
      "source": [
        "# Ejemplo 2\n",
        "def T2(v):\n",
        "    (x0,x1,x2) = v\n",
        "    return sp.Matrix(( 4*x0 - x2, \n",
        "                      5*x1- 4 ))\n",
        "\n",
        "A2=T2(I3[:,0]).row_join(T2(I3[:,1])).row_join(T2(I3[:,2]))\n",
        "A2"
      ],
      "execution_count": null,
      "outputs": [
        {
          "data": {
            "text/latex": [
              "$\\displaystyle \\left[\\begin{matrix}4 & 0 & -1\\\\-4 & 1 & -4\\end{matrix}\\right]$"
            ],
            "text/plain": [
              "Matrix([\n",
              "[ 4, 0, -1],\n",
              "[-4, 1, -4]])"
            ]
          },
          "execution_count": 10,
          "metadata": {},
          "output_type": "execute_result"
        }
      ]
    },
    {
      "cell_type": "code",
      "metadata": {
        "id": "5ArntqWD1oy8",
        "outputId": "d41dbeaa-979a-4feb-c86f-be0c57fa0caa"
      },
      "source": [
        "A2*v"
      ],
      "execution_count": null,
      "outputs": [
        {
          "data": {
            "text/latex": [
              "$\\displaystyle \\left[\\begin{matrix}4 x_{0} - x_{2}\\\\- 4 x_{0} + x_{1} - 4 x_{2}\\end{matrix}\\right]$"
            ],
            "text/plain": [
              "Matrix([\n",
              "[         4*x_0 - x_2],\n",
              "[-4*x_0 + x_1 - 4*x_2]])"
            ]
          },
          "execution_count": 11,
          "metadata": {},
          "output_type": "execute_result"
        }
      ]
    },
    {
      "cell_type": "code",
      "metadata": {
        "id": "c_AKfPq61oy8",
        "outputId": "fad2f2a4-de20-48df-d9a6-7b2c49138149"
      },
      "source": [
        "T2(v)"
      ],
      "execution_count": null,
      "outputs": [
        {
          "data": {
            "text/latex": [
              "$\\displaystyle \\left[\\begin{matrix}4 x_{0} - x_{2}\\\\5 x_{1} - 4\\end{matrix}\\right]$"
            ],
            "text/plain": [
              "Matrix([\n",
              "[4*x_0 - x_2],\n",
              "[  5*x_1 - 4]])"
            ]
          },
          "execution_count": 12,
          "metadata": {},
          "output_type": "execute_result"
        }
      ]
    },
    {
      "cell_type": "code",
      "metadata": {
        "id": "ptnXhcxh1oy9",
        "outputId": "98c416ce-255d-45d9-8cbe-473577759586"
      },
      "source": [
        "T2(v) == A2*v"
      ],
      "execution_count": null,
      "outputs": [
        {
          "data": {
            "text/plain": [
              "False"
            ]
          },
          "execution_count": 13,
          "metadata": {},
          "output_type": "execute_result"
        }
      ]
    },
    {
      "cell_type": "code",
      "metadata": {
        "id": "I5EdHQ581oy9"
      },
      "source": [
        "respuesta_ejemplo_b='No es una transformación lineal'"
      ],
      "execution_count": null,
      "outputs": []
    },
    {
      "cell_type": "code",
      "metadata": {
        "id": "tQ9qaqoN1oy9",
        "outputId": "b09d4b13-e84f-4ff1-9716-9d52bcc89766"
      },
      "source": [
        "# Ejemplo 3\n",
        "def T3(u):\n",
        "    (x0,x1) = u\n",
        "    return sp.Matrix((x0*x1, x0 - x1))\n",
        "\n",
        "A3=T3(I2[:,0]).row_join(T3(I2[:,1]))\n",
        "A3"
      ],
      "execution_count": null,
      "outputs": [
        {
          "data": {
            "text/latex": [
              "$\\displaystyle \\left[\\begin{matrix}0 & 0\\\\1 & -1\\end{matrix}\\right]$"
            ],
            "text/plain": [
              "Matrix([\n",
              "[0,  0],\n",
              "[1, -1]])"
            ]
          },
          "execution_count": 15,
          "metadata": {},
          "output_type": "execute_result"
        }
      ]
    },
    {
      "cell_type": "code",
      "metadata": {
        "id": "K7Rp8Wp01oy-",
        "outputId": "852670c8-3181-415c-938e-5b3cf536ecb2"
      },
      "source": [
        "A3*u"
      ],
      "execution_count": null,
      "outputs": [
        {
          "data": {
            "text/latex": [
              "$\\displaystyle \\left[\\begin{matrix}0\\\\x_{0} - x_{1}\\end{matrix}\\right]$"
            ],
            "text/plain": [
              "Matrix([\n",
              "[        0],\n",
              "[x_0 - x_1]])"
            ]
          },
          "execution_count": 16,
          "metadata": {},
          "output_type": "execute_result"
        }
      ]
    },
    {
      "cell_type": "code",
      "metadata": {
        "id": "p4Yuz3KZ1oy-",
        "outputId": "1dfbb14c-f751-47b5-8d0d-357e4ea9ca74"
      },
      "source": [
        "T3(u)"
      ],
      "execution_count": null,
      "outputs": [
        {
          "data": {
            "text/latex": [
              "$\\displaystyle \\left[\\begin{matrix}x_{0} x_{1}\\\\x_{0} - x_{1}\\end{matrix}\\right]$"
            ],
            "text/plain": [
              "Matrix([\n",
              "[  x_0*x_1],\n",
              "[x_0 - x_1]])"
            ]
          },
          "execution_count": 17,
          "metadata": {},
          "output_type": "execute_result"
        }
      ]
    },
    {
      "cell_type": "code",
      "metadata": {
        "id": "9WMH1YmB1oy-",
        "outputId": "82a96332-e973-473f-c23f-fa36e32261d2"
      },
      "source": [
        "T3(u) == A3*u"
      ],
      "execution_count": null,
      "outputs": [
        {
          "data": {
            "text/plain": [
              "False"
            ]
          },
          "execution_count": 18,
          "metadata": {},
          "output_type": "execute_result"
        }
      ]
    },
    {
      "cell_type": "code",
      "metadata": {
        "id": "rG0ZWN6W1oy-"
      },
      "source": [
        "respuesta_ejemplo_c='No es una transformación lineal'"
      ],
      "execution_count": null,
      "outputs": []
    },
    {
      "cell_type": "markdown",
      "metadata": {
        "id": "GIYWSzWT1oy-"
      },
      "source": [
        "# Extrapolación de las definiciones de las trasformaciones matriciales  a las transformaciones lineales\n",
        "\n",
        "En la sección de espacios vectoriales vimos que el espacio vectorial de los polinomios de grado $n$ o menor tienen dimensión $n+1$ y que el espacio de las matrices de $m \\times n$ tienen dimensión $mn$. Sin embargo, el espacio vectorial de todos los polinomios no tenía dimensión finita, al igual que el espacio de las funciones de valor real.\n",
        "\n",
        "En esta sección nos centraremos en los espacios vectoriales de dimensión finita, en particular en los espacios vectoriales de los polinomios de grado $n$ o menor. \n",
        "\n",
        "Una matriz asocia una sucesión de vectores $A=[v_1, v_2, \\ldots, v_n]$ con una transformación $T_A$. Esta asociación no se pierde en las transformaciones lineales entre espacios vectoriales de dimensión finita y es una de las ideas fundamentales del álgebra lineal.\n",
        "\n",
        "## Teorema\n",
        "Sea $A=[v_1, v_2, \\ldots, v_n]$ una sucesión de vectores del espacio vectorial $V$ y sea $T_A: \\mathbb{R}^n \\rightarrow V$ una transformación dada por la combinación lineal de los vectores de $A$.\n",
        "\n",
        "$$T_A\\begin{pmatrix}x_1\\\\x_2\\\\\\vdots\\\\x_n\\end{pmatrix}=x_1v_1+x_2v_2+\\cdots+x_nv_n$$\n",
        "\n",
        "* $A$ es LI **si y sólo si** $T_A$ es inyectiva.\n",
        "* $\\text{Gen}(A)=V$  **si y sólo si** $T_A$ es sobreyectiva.\n",
        "* $A$ es una base de $V$ **si y sólo si** $T_A$ es un isomorfismo.\n",
        "\n",
        "Por lo tanto, la base estándar $B$ del espacio vectorial $V$ (de dimensión $n$) inducirá el isomorfismo $S_V: \\mathbb{R}^n \\rightarrow V$ llamado  **isomorfismo estándar del espacio $V$**.\n",
        "\n",
        "\n",
        "## Ejemplo\n",
        "\n",
        "Como la base estándar del espacio vectorial de los polinomios de grado $n$ o menor es $E_{Pn}=[1,x,x^2, \\ldots, x^n ]$ entonces el isomorfismo estándar  será una combinación lineal de los vectores de la base.\n",
        "$$S_{Pn}\\left( \\begin{bmatrix} a_0 \\\\ a_1 \\\\ \\vdots \\\\ a_n  \\end{bmatrix} \\right)=a_0(1) + a_1(x) + \\cdots + a_n(x^n) $$\n",
        "\n",
        "En particular, la base estándar de $P_3$ es $E_{P3}=[1,x,x^2,x^3]$ y su isomorfismo es \n",
        "$$S_{P3}\\left( \\begin{bmatrix} a_0 \\\\ a_1 \\\\ a_2 \\\\ a_3  \\end{bmatrix} \\right)=a_0(1) + a_1(x) +a_2(x^2) + a_3(x^3) $$\n",
        "\n",
        "\n",
        "\n",
        "## Coordenadas\n",
        "Si $B$ es una base de $V$ que induce el isomorfismo $S_B: \\mathbb{R}^n \\rightarrow V$ y $v \\in V$. Entonces al vector $\\vec{x} \\in \\mathbb{R}^n$ que cumple $$S_B(\\vec{x})=v$$ se conoce como las **coordenadas** de $v$ en la base $B$ y se denota\n",
        "\n",
        "$$[v]_B=\\vec{x}$$\n",
        "\n",
        "Debido a que $$S_{P3}\\begin{bmatrix} 3 \\\\ 5 \\\\ 8 \\\\ -2  \\end{bmatrix}=3 + 5x + 8x^2 - 2x^3$$ entonces \n",
        "\n",
        "\n",
        "$$[3 + 5x + 8x^2 - 2x^3]_{EP3}=\\begin{bmatrix} 3 \\\\ 5 \\\\ 8 \\\\ -2  \\end{bmatrix}$$\n",
        "\n"
      ]
    },
    {
      "cell_type": "markdown",
      "metadata": {
        "id": "XJt9WhYN__Dy"
      },
      "source": [
        "$E_{M2x2}=\\left[\\begin{bmatrix} 1 & 0 \\\\0 & 0 \\end{bmatrix},\\begin{bmatrix} 0 & 1 \\\\0 & 0 \\end{bmatrix},\\begin{bmatrix} 0 & 0 \\\\1 & 0 \\end{bmatrix},\\begin{bmatrix} 0 & 0 \\\\0 & 1 \\end{bmatrix}\\right] $"
      ]
    },
    {
      "cell_type": "markdown",
      "metadata": {
        "id": "88R1dPpGBXRU"
      },
      "source": [
        "$S_{M2x2}\\begin{pmatrix} 3 \\\\ 5 \\\\ 8 \\\\ -2  \\end{pmatrix}=3\\begin{bmatrix} 1 & 0 \\\\0 & 0 \\end{bmatrix}+5\\begin{bmatrix} 0 & 1 \\\\0 & 0 \\end{bmatrix}+8\\begin{bmatrix} 0 & 0 \\\\1 & 0 \\end{bmatrix}-2\\begin{bmatrix} 0 & 0 \\\\0 & 1 \\end{bmatrix}=\\begin{bmatrix} 3 & 5 \\\\8 & -2 \\end{bmatrix}$"
      ]
    },
    {
      "cell_type": "markdown",
      "metadata": {
        "id": "3_gEQGf0Cao4"
      },
      "source": [
        "$$[\\begin{bmatrix} 3 & 5 \\\\8 & -2 \\end{bmatrix}]_{EM2x2}=\\begin{bmatrix} 3 \\\\ 5 \\\\ 8 \\\\ -2  \\end{bmatrix}$$\n"
      ]
    },
    {
      "cell_type": "markdown",
      "metadata": {
        "id": "BTgx_tnK_24W"
      },
      "source": [
        "## Núcleo e imagen\n",
        "\n",
        "Las definiciones de las transformaciones matriciales que se basan en combinaciones lineales pueden ser extrapoladas a las transformaciones lineales. En particular las definiciones de **Núcleo** e **Imagen**. La **Nulidad** y el **Rango** corresponden a las dimensiones de los subespacios del núcleo e imagen respectivamente.  Además, cumplen las mismas propiedades que se enuncian a continuación.\n",
        "\n",
        "\n",
        "## Teorema\n",
        "Sea $T: U \\rightarrow V$ una transformación lineal entre los espacios vectoriales $U$ y $V$.\n",
        "\n",
        "Las siguientes tres afirmaciones son equivalentes.\n",
        "* $T$ es inyectiva\n",
        "* $\\text{Nu}(T)=\\{\\vec{0}\\}$\n",
        "* $\\nu(T)=0$\n",
        "\n",
        "Estas otras tres afirmaciones son equivalentes.\n",
        "* $T$ es sobreyectiva\n",
        "* $\\text{Im}(T)=V$\n",
        "* $\\rho(T)=Dim(V)$\n"
      ]
    },
    {
      "cell_type": "markdown",
      "metadata": {
        "id": "yLb3Pzw11oy_"
      },
      "source": [
        "# Propiedades de los isomorfismos\n",
        "Si además, la transformación lineal $T:U \\rightarrow V$ es biyectiva (es decir, es un isomorfismo) entonces hay una correspondencia de elemento a elemento. Por lo tanto, cualquier propiedad derivada de las combinaciones lineales que se cumpla en un conjunto tendrá su correspondiente en el otro conjunto, lo cual fundamente los siguientes dos teoremas."
      ]
    },
    {
      "cell_type": "markdown",
      "metadata": {
        "id": "i1kY-stVEAee"
      },
      "source": [
        "![image.png](data:image/png;base64,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)"
      ]
    },
    {
      "cell_type": "markdown",
      "metadata": {
        "id": "3j0pfxr91oy_"
      },
      "source": [
        "## Teorema\n",
        "Sea el isomorfismos $S:U \\rightarrow V$ entre los espacios vectoriales $U$ y $V$, sea $A=[\\vec{u_1}, \\vec{u_2}, \\ldots, \\vec{u_n}]$ una sucesión de vectores de $U$, y sean $W$ y $W'$ un subespacio y un subconjunto de $U$. \n",
        "entonces:\n",
        " \n",
        "* $\\text{Gen}(A)=U$ **si y sólo si** $\\text{Gen}(S^*(A))=V$\n",
        "* $A$ es LI **si y sólo si** $S^*(A)$ es LI\n",
        "* $A$ es base de $U$ **si y sólo si** $S^*(A)$ es base de $V$\n",
        "* $\\text{Dim}(U)=\\text{Dim}(V)$\n",
        "* $W'$ es subespacio de $U$ **si y sólo si** $S^*(W')$ es subespacio de $V$\n",
        "* $\\text{Gen}(A)=W$ **si y sólo si** $\\text{Gen}(S^*(A))=S^*(W)$\n",
        "* $A$ es base de $W$ **si y sólo si** $S^*(A)$ es base de $S^*(W)$\n",
        "* $\\text{Dim}(W)=\\text{Dim}(S^*(W))$\n",
        "\n",
        "## Teorema \n",
        "Sean dos isomorfismos $S_1:A \\rightarrow B$ y $S_2:C \\rightarrow D$ en los espacios vectoriales $A, B, C, D$  "
      ]
    },
    {
      "cell_type": "code",
      "metadata": {
        "id": "JggsYJn01oy_",
        "outputId": "3f59d873-0ce5-4437-9a41-8c78ec3e602e"
      },
      "source": [
        "grafo({\"V\":(1,1,\". B\"),\"W\":(2,1,\". D\"),\"V1\":(1,2,\"A\"),\"W1\":(2,2,\"C\")},[(\"S_1\",\"V1\",\"V\"),(\"S_2\",\"W1\",\"W\")]\n",
        "     )"
      ],
      "execution_count": null,
      "outputs": [
        {
          "data": {
            "image/png": "[encoded data removed]",
            "text/plain": [
              "<Figure size 432x288 with 1 Axes>"
            ]
          },
          "metadata": {
            "needs_background": "light"
          },
          "output_type": "display_data"
        }
      ]
    },
    {
      "cell_type": "markdown",
      "metadata": {
        "id": "XLmQehOx1oy_"
      },
      "source": [
        "y sean las transformaciones $T_1:A \\rightarrow C$ y  $T_2:B \\rightarrow D$ tales que\n",
        "* $T_1 \\circ S_1 = S_2 \\circ T_2$\n",
        "\n",
        "(esto se indica con un '=' entre los dos caminos)."
      ]
    },
    {
      "cell_type": "code",
      "metadata": {
        "id": "nh3xCPPp1ozA",
        "outputId": "2885e4aa-25a8-4533-911a-94d4f29caa49"
      },
      "source": [
        "grafo({\"V\":(1,1,\". B\"),\"W\":(2,1,\". D\"),\"V1\":(1,2,\"A\"),\"W1\":(2,2,\"C\")},[(\"T_1\",\"V\",\"W\"),(\"S_1\",\"V1\",\"V\"),(\"S_2\",\"W1\",\"W\"),(\"T_2\",\"V1\",\"W1\")]\n",
        "     ,[(1.5,1.5,\"=\")])"
      ],
      "execution_count": null,
      "outputs": [
        {
          "data": {
            "image/png": "[encoded data removed]",
            "text/plain": [
              "<Figure size 432x288 with 1 Axes>"
            ]
          },
          "metadata": {
            "needs_background": "light"
          },
          "output_type": "display_data"
        }
      ]
    },
    {
      "cell_type": "markdown",
      "metadata": {
        "id": "yoOPPY6e1ozA"
      },
      "source": [
        "entonces:\n",
        "* $T_1$ es una transformación lineal **si y sólo si** $T_2$ es una transformación lineal.\n",
        "* $T_1$ es una transformación inyectiva **si y sólo si** $T_2$ es una transformación inyectiva.\n",
        "* $T_1$ es una transformación sobreyectiva **si y sólo si** $T_2$ es una transformación sobreyectiva.\n",
        "* $T_1$ es un isomorfismo **si y sólo si** $T_2$ es un isomorfismo.\n",
        "* $\\text{Im}(T_1)=S_2^*(\\text{Im}(T_2))$\n",
        "* $\\text{Nu}(T_1)=S_1^*(\\text{Nu}(T_2))$\n",
        "* $\\rho(T_1)=\\rho(T_2)$\n",
        "* $\\nu(T_1)=\\nu(T_2)$\n",
        "\n"
      ]
    },
    {
      "cell_type": "markdown",
      "metadata": {
        "id": "Ui6tMVB11ozA"
      },
      "source": [
        "# Ejemplo 1\n",
        "Demuestre que $T \\left( \\begin{bmatrix} x \\\\ y \\\\ z \\end{bmatrix} \\right) = \\begin{bmatrix} 3x - z \\\\ y  \\end{bmatrix} $ es una transformación lineal y encuentre la respectiva matriz.\n",
        "\n",
        "## Recorderis \n",
        "$T:\\mathbb{R}^n \\rightarrow \\mathbb{R}^m$ es una transformación lineal **si y sólo si** para todo $v \\in \\mathbb{R}^n$ se cumple que $T(v)=Av$. Donde $A$ es la matriz de $m \\times n$  dada por \n",
        " $$A=T^*(I)= \\begin{bmatrix}\n",
        "  T \\left( \\begin{bmatrix} 1 \\\\ 0 \\\\ \\vdots \\\\ 0 \\end{bmatrix} \\right) & \n",
        "  T \\left( \\begin{bmatrix} 0 \\\\ 1 \\\\ \\vdots \\\\ 0 \\end{bmatrix} \\right) &\n",
        "  \\cdots &\n",
        "  T \\left( \\begin{bmatrix} 0 \\\\ 0 \\\\ \\vdots \\\\ 1 \\end{bmatrix} \\right) \n",
        " \\end{bmatrix} $$ \n",
        "\n",
        "## Solución\n",
        "Primero encontraremos la matriz $A=T^*(I)$ y luego comprobaremos que $A\\begin{bmatrix} x \\\\ y \\\\ z \\end{bmatrix}=T \\left( \\begin{bmatrix} x \\\\ y \\\\ z \\end{bmatrix} \\right) = \\begin{bmatrix} 3x - z \\\\ y  \\end{bmatrix} $\n",
        "\n",
        "\\begin{align}\n",
        "A &=T^*\\left(\\begin{bmatrix} 1 & 0 & 0 \\\\ 0 & 1 & 0 \\\\ 0 & 0 & 1 \\end{bmatrix}\\right)\\\\\n",
        "  &=\\begin{bmatrix}\n",
        "  T \\left( \\begin{bmatrix} 1 \\\\ 0 \\\\ 0 \\end{bmatrix} \\right) & \n",
        "  T \\left( \\begin{bmatrix} 0 \\\\ 1 \\\\ 0 \\end{bmatrix} \\right) &\n",
        "  T \\left( \\begin{bmatrix} 0 \\\\ 0 \\\\ 1 \\end{bmatrix} \\right) \n",
        " \\end{bmatrix}\\\\\n",
        " &=\\begin{bmatrix}\n",
        " 3 & 0 & -1 \\\\ \n",
        " 0 & 1 &  0\n",
        " \\end{bmatrix}\n",
        "\\end{align}\n",
        "\n",
        "Ahora probamos que $A\\begin{bmatrix} x \\\\ y \\\\ z \\end{bmatrix}=T \\left( \\begin{bmatrix} x \\\\ y \\\\ z \\end{bmatrix} \\right) = \\begin{bmatrix} 3x - z \\\\ y  \\end{bmatrix} $\n",
        "\n",
        "$A\\begin{bmatrix} x \\\\ y \\\\ z \\end{bmatrix}=\\begin{bmatrix}\n",
        " 3 & 0 & -1 \\\\ \n",
        " 0 & 1 &  0\n",
        " \\end{bmatrix}\n",
        "\\begin{bmatrix} x \\\\ y \\\\ z \\end{bmatrix}\n",
        "=\\begin{bmatrix} 3x - z \\\\ y  \\end{bmatrix} $\n",
        "\n",
        "Lo cual prueba que $T$ si es lineal.\n",
        "\n",
        "\n"
      ]
    },
    {
      "cell_type": "markdown",
      "metadata": {
        "id": "AmajKNW11ozB"
      },
      "source": [
        "# Ejemplo 2\n",
        "Demuestre que $T:P_1 \\rightarrow P_3$ dada por \n",
        "$$T(a_0 + a_1 x )= 3a_0 + (2a_0 + a_1)x + (a_0 + 2a_1)x^2 + 3a_1x^3 $$\n",
        "es una transformación lineal y encuentre la matriz usando las respectivas bases estándar.\n",
        "\n",
        "## Recorderis 1\n",
        "$B=\\begin{bmatrix} v_0 & v_1 & \\cdots & v_{n-1} \\end{bmatrix}$ es una base del espacio vectorial $V$ de dimensión $n$ **si y sólo si** la transformación asociada \n",
        "$S_B:\\mathbb{R}^n \\rightarrow V$ dada por \n",
        "$$S_B\\left( \\begin{bmatrix} a_0 \\\\ a_1 \\\\ \\vdots \\\\ a_{(n-1)} \\end{bmatrix} \\right)=a_0 v_0 +a_1 v_1 + \\cdots +a_{(n-1)} v_{(n-1)} $$\n",
        "es un isomorfismo.\n",
        "\n",
        "## Recorderis 2\n",
        "La base estándar de $P_1$ es $E_{P1}=[1,x]$ y su isomorfismo es \n",
        "$$S_{P1}\\left( \\begin{bmatrix} a_0 \\\\ a_1  \\end{bmatrix} \\right)=a_0(1) + a_1(x) $$\n"
      ]
    },
    {
      "cell_type": "markdown",
      "metadata": {
        "id": "jQAHUG6cKVMm"
      },
      "source": [
        "$$S_{P1}\\left( \\begin{bmatrix} 8 \\\\ 4  \\end{bmatrix} \\right)=8 + 4x\n",
        " $$"
      ]
    },
    {
      "cell_type": "markdown",
      "metadata": {
        "id": "mluELkYXLg8G"
      },
      "source": [
        "$$T(8 + 4 x )= 3*8 + (2*8 + 4)x + (8 + 2*4)x^2 + 3*4x^3 = 24 + 20x + 16 x^2 + 15x^3\n",
        "$$"
      ]
    },
    {
      "cell_type": "markdown",
      "metadata": {
        "id": "HuUKgjjxPxCw"
      },
      "source": [
        "$[24 + 20x + 16 x^2 + 15x^3]_{EP3}=\\begin{pmatrix} 24 \\\\ 20 \\\\ 16 \\\\ 15  \\end{pmatrix}$"
      ]
    },
    {
      "cell_type": "markdown",
      "metadata": {
        "id": "Xt5pA2uJKFpC"
      },
      "source": [
        "\n",
        "La base estándar de $P_3$ es $E_{P3}=[1,x,x^2,x^3]$ y su isomorfismo es \n",
        "$$S_{P3}\\left( \\begin{bmatrix} a_0 \\\\ a_1 \\\\ a_2 \\\\ a_3  \\end{bmatrix} \\right)=a_0(1) + a_1(x) +a_2(x^2) + a_3(x^3) $$\n"
      ]
    },
    {
      "cell_type": "markdown",
      "metadata": {
        "id": "ikQYj1uhNWvS"
      },
      "source": [
        "$$S_{P3}\\left( \\begin{bmatrix} 4 \\\\ 1 \\\\ -1 \\\\ 3  \\end{bmatrix} \\right)= 4 + 1x + (-1)x^2  + 3x^3 \n",
        " $$"
      ]
    },
    {
      "cell_type": "markdown",
      "metadata": {
        "id": "EhCk_ZOUO63R"
      },
      "source": [
        "$[4+x-x^2+3x^3]_{EP3}=\\begin{pmatrix} 4 \\\\ 1 \\\\ -1 \\\\ 3  \\end{pmatrix}$\n"
      ]
    },
    {
      "cell_type": "markdown",
      "metadata": {
        "id": "xEHdkTE-KP8C"
      },
      "source": [
        "\n",
        "## Recorderis 3"
      ]
    },
    {
      "cell_type": "code",
      "metadata": {
        "id": "fcy2rbza1ozB",
        "outputId": "3f507cc6-879f-4dc2-f31b-4d3495f7047a"
      },
      "source": [
        "grafo({\"V\":(1,1,\"V\"),\"W\":(2,1,\"W\"),\"V1\":(1,2,\"R^n\"),\"W1\":(2,2,\"R^m\")},[(\"S_V\",\"V1\",\"V\"),(\"S_W\",\"W1\",\"W\")]\n",
        "     )"
      ],
      "execution_count": null,
      "outputs": [
        {
          "data": {
            "image/png": "[encoded data removed]",
            "text/plain": [
              "<Figure size 432x288 with 1 Axes>"
            ]
          },
          "metadata": {
            "needs_background": "light"
          },
          "output_type": "display_data"
        }
      ]
    },
    {
      "cell_type": "markdown",
      "metadata": {
        "id": "OwTBrsDb1ozB"
      },
      "source": [
        "Sean $V$ y $W$ espacios vectoriales, sean $n$ y $m$ sus respectivas dimensiones, sean $B_V$ y $B_W$ bases de cada espacio y sean $S_V:\\mathbb{R}^n \\rightarrow V$ y $S_W:\\mathbb{R}^m \\rightarrow W$ sus respectivos isomorfismos."
      ]
    },
    {
      "cell_type": "code",
      "metadata": {
        "id": "9QxWSS_x1ozB",
        "outputId": "d1b5187a-56b2-4fb4-c440-fefedca424c6"
      },
      "source": [
        "grafo({\"V\":(1,1,\". V\"),\"W\":(2,1,\". W\"),\"V1\":(1,2,\"R^n\"),\"W1\":(2,2,\"R^m\")},[(\"T\",\"V\",\"W\"),(\"S_V\",\"V1\",\"V\"),(\"S_W\",\"W1\",\"W\")]\n",
        "     )"
      ],
      "execution_count": null,
      "outputs": [
        {
          "data": {
            "image/png": "[encoded data removed]",
            "text/plain": [
              "<Figure size 432x288 with 1 Axes>"
            ]
          },
          "metadata": {
            "needs_background": "light"
          },
          "output_type": "display_data"
        }
      ]
    },
    {
      "cell_type": "markdown",
      "metadata": {
        "id": "JPDpBWPi1ozB"
      },
      "source": [
        "$T:V \\rightarrow W$ es una transformación lineal **si y sólo si** para todo $v \\in V$ se cumple que $S_W^{-1} \\circ T \\circ S_V(v)=Av$. Donde $A$ es la matriz de $m \\times n$  dada por \n",
        " $$A=S_W^{*-1} \\circ T^* \\circ S_V^*(I)$$"
      ]
    },
    {
      "cell_type": "code",
      "metadata": {
        "id": "ukfqL9_01ozB",
        "outputId": "654998aa-1b09-4d3e-ccbb-4228ee91c3cf"
      },
      "source": [
        "grafo({\"V\":(1,1,\". V\"),\"W\":(2,1,\". W\"),\"V1\":(1,2,\"R^n\"),\"W1\":(2,2,\"R^m\")},[(\"T\",\"V\",\"W\"),(\"S_V\",\"V1\",\"V\"),(\"S_W\",\"W1\",\"W\"),(\"A\",\"V1\",\"W1\")]\n",
        "     ,[(1.5,1.5,\"=\")])"
      ],
      "execution_count": null,
      "outputs": [
        {
          "data": {
            "image/png": "[encoded data removed]",
            "text/plain": [
              "<Figure size 432x288 with 1 Axes>"
            ]
          },
          "metadata": {
            "needs_background": "light"
          },
          "output_type": "display_data"
        }
      ]
    },
    {
      "cell_type": "markdown",
      "metadata": {
        "id": "UcRYLmv51ozB"
      },
      "source": [
        "## Solución\n",
        "Recordemos que \n",
        "$$T(a_0 + a_1 x )= 3a_0 + (2a_0 + a_1)x + (a_0 + 2a_1)x^2 + 3a_1x^3 $$\n",
        "\n",
        "Primero encontraremos la matriz $A=S_{P3}^{*-1} \\circ T^* \\circ S_{P1}^*(I)$ y luego comprobaremos que $A\\begin{bmatrix} a_0 \\\\ a_1  \\end{bmatrix}=S_{P3}^{-1} \\circ T \\circ S_{P1} \\left( \\begin{bmatrix} a_0 \\\\ a_1  \\end{bmatrix} \\right)  $"
      ]
    },
    {
      "cell_type": "code",
      "metadata": {
        "id": "Z96Inn2J1ozC",
        "outputId": "fcc919ed-c559-4c6d-d8c1-9f4f5d3dc1ed",
        "colab": {
          "base_uri": "https://localhost:8080/",
          "height": 252
        }
      },
      "source": [
        "grafo({\"V\":(1,1,\". P_1\"),\"W\":(2,1,\". P_3\"),\"V1\":(1,2,\"R^2\"),\"W1\":(2,2,\"R^4\")},\n",
        "      [(\"T\",\"V\",\"W\"),(\"S_{P1}\",\"V1\",\"V\"),(\"S_{P3}\",\"W1\",\"W\"),(\"A\",\"V1\",\"W1\")]\n",
        "     ,[(1.5,1.5,\"=\")])"
      ],
      "execution_count": 5,
      "outputs": [
        {
          "output_type": "display_data",
          "data": {
            "image/png": "[encoded data removed]",
            "text/plain": [
              "<Figure size 432x288 with 1 Axes>"
            ]
          },
          "metadata": {
            "needs_background": "light"
          }
        }
      ]
    },
    {
      "cell_type": "markdown",
      "metadata": {
        "id": "b7jJfb861ozC"
      },
      "source": [
        "\\begin{align}\n",
        "A &=S_{P3}^{*-1} \\circ T^* \\circ S_{P1}^* \\left(\\begin{bmatrix} 1 & 0 \\\\ 0 & 1 \\end{bmatrix}\\right)\\\\\n",
        "  &=S_{P3}^{*-1} \\circ T^*\\left(\\begin{bmatrix}\n",
        "  S_{P1} \\left( \\begin{bmatrix} 1 \\\\ 0  \\end{bmatrix} \\right) & \n",
        "  S_{P1} \\left( \\begin{bmatrix} 0 \\\\ 1 \\end{bmatrix} \\right)  \n",
        " \\end{bmatrix}\\right)\\\\\n",
        "  &=S_{P3}^{*-1} \\circ T^*\\left([\n",
        "   1 + 0x,  \n",
        "   0 + 1x   \n",
        " ]\\right)\\\\\n",
        "  &=S_{P3}^{*-1}\\left([\n",
        "   T(1 + 0x),  \n",
        "   T(0 + 1x)   \n",
        " ]\\right)\\\\\n",
        "  &=S_{P3}^{*-1}\\left([\n",
        "   3 + 2x + 1x^2 + 0x^3,  \n",
        "   0 + 1x + 2x^2 + 3x^3   \n",
        " ]\\right)\\\\\n",
        "  &=[\n",
        "   S_{P3}^{-1}(3 + 2x + 1x^2 + 0x^3),  \n",
        "   S_{P3}^{-1}(0 + 1x + 2x^2 + 3x^3)   \n",
        " ]\\\\\n",
        " &=\\begin{bmatrix}\n",
        " 3 & 0 \\\\ \n",
        " 2 & 1 \\\\ \n",
        " 1 & 2 \\\\\n",
        " 0 & 3 \n",
        " \\end{bmatrix}\n",
        "\\end{align}\n",
        "\n",
        "Ahora probamos que $A\\begin{bmatrix} a_0 \\\\ a_1  \\end{bmatrix}=S_{P3}^{-1} \\circ T \\circ S_{P1} \\left( \\begin{bmatrix} a_0 \\\\ a_1  \\end{bmatrix} \\right)$\n",
        "\n",
        "\\begin{align}\n",
        "A\\begin{bmatrix} a_0 \\\\ a_1 \\end{bmatrix}\n",
        " &\\stackrel{?}{=}S_{P3}^{-1} \\circ T \\circ S_{P1} \\left(\\begin{bmatrix} a_0 \\\\ a_1 \\end{bmatrix}\\right)\\\\\n",
        "\\begin{bmatrix}\n",
        " 3 & 0 \\\\ \n",
        " 2 & 1 \\\\ \n",
        " 1 & 2 \\\\\n",
        " 0 & 3 \n",
        " \\end{bmatrix} \\begin{bmatrix} a_0 \\\\ a_1 \\end{bmatrix} \n",
        "  &\\stackrel{?}{=}S_{P3}^{-1} \\circ T\\left(\n",
        "   a_0 + a_1 x\n",
        " \\right)\\\\\n",
        "\\begin{bmatrix}\n",
        " 3a_0 \\\\ \n",
        " 2a_0 + a_1 \\\\ \n",
        " 1a_0 + 2a_1 \\\\\n",
        "        3a_1 \n",
        " \\end{bmatrix}  &=S_{P3}^{-1}\\left(\n",
        "   3a_0 + (2a_0 + a_1)x + (a_0 + 2a_1)x^2 + 3a_1x^3\\right)\\\\\n",
        "\\end{align}\n",
        "\n",
        "Lo cual prueba que $T$ es una transformación lineal."
      ]
    },
    {
      "cell_type": "markdown",
      "metadata": {
        "id": "tJF6ghihT13y"
      },
      "source": [
        "## Ejemplo 2b\n",
        "$$T(a_0 + a_1 x )= (a_0 +a_1) + (a_0 + a_1)x + (a_0 + a_1)x^2 $$\n",
        "\n"
      ]
    },
    {
      "cell_type": "code",
      "metadata": {
        "id": "HkDFakv-Un5l",
        "outputId": "ca0b74d3-b9a6-456c-9192-a6dc9aa03ce9",
        "colab": {
          "base_uri": "https://localhost:8080/",
          "height": 252
        }
      },
      "source": [
        "grafo({\"V\":(1,1,\". P_1\"),\"W\":(2,1,\". P_2\"),\"V1\":(1,2,\"R^2\"),\"W1\":(2,2,\"R^3\")},\n",
        "      [(\"T\",\"V\",\"W\"),(\"S_{P1}\",\"V1\",\"V\"),(\"S_{P2}\",\"W1\",\"W\"),(\"A\",\"V1\",\"W1\")]\n",
        "     ,[(1.5,1.5,\"=\")])"
      ],
      "execution_count": 7,
      "outputs": [
        {
          "output_type": "display_data",
          "data": {
            "image/png": "[encoded data removed]",
            "text/plain": [
              "<Figure size 432x288 with 1 Axes>"
            ]
          },
          "metadata": {
            "needs_background": "light"
          }
        }
      ]
    },
    {
      "cell_type": "markdown",
      "metadata": {
        "id": "AZWa30GbUGGD"
      },
      "source": [
        "$A =S_{P3}^{*-1} \\circ T^* \\circ S_{P1}^* \\left(\\begin{bmatrix} 1 & 0 \\\\ 0 & 1 \\end{bmatrix}\\right)$"
      ]
    },
    {
      "cell_type": "markdown",
      "metadata": {
        "id": "qIOWQ3Q5UhTU"
      },
      "source": [
        "$A =S_{P3}^{*-1} \\circ T^* \\left(1,x\\right)$"
      ]
    },
    {
      "cell_type": "markdown",
      "metadata": {
        "id": "saQpqdxnVPDv"
      },
      "source": [
        "$A =S_{P3}^{*-1}  \\left(1+x+x^2 ,1+x+x^2\\right)$"
      ]
    },
    {
      "cell_type": "markdown",
      "metadata": {
        "id": "FW21w3EgWD3T"
      },
      "source": [
        "$A=\\begin{bmatrix}\n",
        " 1 & 1 \\\\ \n",
        " 1 & 1 \\\\ \n",
        " 1 & 1 \n",
        "  \\end{bmatrix}$"
      ]
    },
    {
      "cell_type": "code",
      "metadata": {
        "id": "CoCb9OkRWSUy"
      },
      "source": [
        ""
      ],
      "execution_count": null,
      "outputs": []
    },
    {
      "cell_type": "code",
      "metadata": {
        "id": "CYZogUvlUgZu"
      },
      "source": [
        ""
      ],
      "execution_count": null,
      "outputs": []
    },
    {
      "cell_type": "markdown",
      "metadata": {
        "id": "cH4bRlOq1ozC"
      },
      "source": [
        "# Ejemplo 3\n",
        "Para la transformación de ejercicio 2 encuentre una base para el núcleo, una base para la imagen, la nulidad, el rango y diga si es inyectiva, sobreyectiva o es un isomorfismo.\n",
        "\n",
        "## Recorderis \n",
        "Usando la notación del Ejercicio 2.\n",
        "\n",
        "* $B_N$ es base del núcleo de $A$ **si y sólo si** $S_V^*(B_N)$ es base del núcleo de $V$ \n",
        "* $B_I$ es base de la imagen de $A$ **si y sólo si** $S_W^*(B_I)$ es base de la imagen de $W$ \n",
        "\n",
        "## Solución\n",
        "Primero encontraremos el núcleo de $A$, que es la solución del sistema homogéneo [A:0] \n",
        "\n",
        "$\\begin{bmatrix}\n",
        " 3 & 0 & : & 0\\\\ \n",
        " 2 & 1 & : & 0\\\\ \n",
        " 1 & 2 & : & 0\\\\\n",
        " 0 & 3 & : & 0\n",
        " \\end{bmatrix} \\sim\n",
        "\\begin{bmatrix}\n",
        " 3 & 0 & : & 0\\\\ \n",
        " 0 & 1 & : & 0\\\\ \n",
        " 0 & 2 & : & 0\\\\\n",
        " 0 & 3 & : & 0\n",
        " \\end{bmatrix} \\sim\n",
        "\\begin{bmatrix}\n",
        " 3 & 0 & : & 0\\\\ \n",
        " 0 & 1 & : & 0\\\\ \n",
        " 0 & 0 & : & 0\\\\\n",
        " 0 & 0 & : & 0\n",
        " \\end{bmatrix} $\n",
        "\n",
        "Cómo el sistema de ecuaciones no tiene variables libres entonces la solución del sistema homogéneo es el vector cero y su base es el conjunto vació. Por lo tanto, la base del núcleo de $A$ es el conjunto vació. Lo cual implica que la base del núcleo de $T$ es también el conjunto vacío.\n",
        "\n",
        "Como cada columna de $A$ tiene un l-pivote entonces las columnas de $A$ son la base de la imagen de $A$  \n",
        "Por lo tanto, la base de la imagen de $T$ es  \n",
        "\n",
        "$$ S^*_V\\left(\n",
        "\\begin{bmatrix}\n",
        " 3 & 0 \\\\ \n",
        " 2 & 1 \\\\ \n",
        " 1 & 2 \\\\\n",
        " 0 & 3\n",
        " \\end{bmatrix}\\right)=\n",
        "\\left[\n",
        "S_V\\left(\\begin{bmatrix}\n",
        " 3\\\\ \n",
        " 2\\\\ \n",
        " 1\\\\\n",
        " 0\n",
        " \\end{bmatrix} \n",
        " \\right),\n",
        " S_V\\left(\\begin{bmatrix}\n",
        " 0\\\\ \n",
        " 1\\\\ \n",
        " 2\\\\\n",
        " 3\n",
        " \\end{bmatrix} \n",
        " \\right) \\right]=\n",
        " [3+2x+x^2,x+2x^2+3x^3]\n",
        " $$\n",
        " \n",
        "\n",
        "\n",
        "\n"
      ]
    },
    {
      "cell_type": "code",
      "metadata": {
        "id": "8MBwGyh11ozD"
      },
      "source": [
        "base_nucleo_ejemplo_3=sp.Matrix()"
      ],
      "execution_count": null,
      "outputs": []
    },
    {
      "cell_type": "code",
      "metadata": {
        "id": "8VWC_BlZ1ozD"
      },
      "source": [
        "base_imagen_ejemplo_3=sp.Matrix([\n",
        " [3, 0], \n",
        " [2, 1], \n",
        " [1, 2],\n",
        " [0, 3] \n",
        " ])\n"
      ],
      "execution_count": null,
      "outputs": []
    },
    {
      "cell_type": "code",
      "metadata": {
        "id": "Kk_ll4r71ozD"
      },
      "source": [
        "nulidad_ejemplo_3=0"
      ],
      "execution_count": null,
      "outputs": []
    },
    {
      "cell_type": "code",
      "metadata": {
        "id": "5zzhu36g1ozD"
      },
      "source": [
        "rango_ejemplo_3=2"
      ],
      "execution_count": null,
      "outputs": []
    },
    {
      "cell_type": "code",
      "metadata": {
        "id": "MmP4mH6y1ozD"
      },
      "source": [
        "inyectiva_ejemplo_3='Sí'"
      ],
      "execution_count": null,
      "outputs": []
    },
    {
      "cell_type": "code",
      "metadata": {
        "id": "LYVU6QhA1ozD"
      },
      "source": [
        "sobreyectiva_ejemplo_3='No'"
      ],
      "execution_count": null,
      "outputs": []
    },
    {
      "cell_type": "code",
      "metadata": {
        "id": "CmDB6Akt1ozD"
      },
      "source": [
        "isomorfismo_ejemplo_3='No'"
      ],
      "execution_count": null,
      "outputs": []
    },
    {
      "cell_type": "markdown",
      "metadata": {
        "id": "8zAOwE9W1ozD"
      },
      "source": [
        "# Ejemplo 4\n",
        "Sean $B_1=[1+x, 1-x]$ y $B_2=[1, 1+x]$ bases de $P_1$. Encuentre la matriz:\n",
        "* $A_2$ para pasar de $B_2$ a $E_{P1}$\n",
        "* $A'_2$ para pasar de $E_{P1}$ a $B_2$\n",
        "* $A_1$ para pasar de $B_1$ a $E_{P1}$\n",
        "* $A_5$ para pasar de $B_1$ a $B_2$\n",
        "\n",
        "## Recorderis\n",
        "Sea $V$ un espacio vectorial y sean $B_1$ y $B_2$ dos bases de $V$, con sus respectivos isomorfismos $S_{B1}:\\mathbb{R}^n \\rightarrow V$ y $S_{B2}:\\mathbb{R}^n \\rightarrow V$. \n",
        "\n",
        "La matriz de cambio de la base $B_1$ a la base $B_2$ está dada por\n",
        "$A=S^{*-1}_{B2}S^*_{B1}(I)$.\n",
        "\n",
        "De tal forma que si $v \\in V$ entonces  $A[v]_{B1}=[v]_{B2}$. Donde $[v]_B=S^{-1}_{B}(v)$ corresponde a las coordenadas de $v$ en la base $B$. "
      ]
    },
    {
      "cell_type": "code",
      "metadata": {
        "id": "lm9Sy2Tw1ozD",
        "outputId": "71aa26e7-4ffc-4822-bb0f-b165c0300aa1"
      },
      "source": [
        "grafo({\"V\":(1,0,\"V\"),\"V1\":(1,1,\"R^n\"),\"W1\":(2,1,\"R^n\")},[(\"S_{B1}\",\"V1\",\"V\"),(\"S_{B2}\",\"W1\",\"V\"),(\"A2\",\"V1\",\"W1\")]\n",
        "     ,[(1.2,0.5,\"=\")])"
      ],
      "execution_count": null,
      "outputs": [
        {
          "data": {
            "image/png": "[encoded data removed]",
            "text/plain": [
              "<Figure size 432x288 with 1 Axes>"
            ]
          },
          "metadata": {
            "needs_background": "light"
          },
          "output_type": "display_data"
        }
      ]
    },
    {
      "cell_type": "markdown",
      "metadata": {
        "id": "KiJw3qmv1ozD"
      },
      "source": [
        "## Solución\n",
        "Recordemos que la base estándar de $P_1$ es $E_{P1}=[1+0x,0+1x]$ y que el isomorfismo estándar es $S_{P1}\\left(\\begin{bmatrix}a_0\\\\a_1\\end{bmatrix}\\right)=a_0(1)+a_1(x)$\n",
        "\n",
        "La base $B_1=[1+x, 1-x]$ tiene asociado el isomorfismo $S_{B1}\\left(\\begin{bmatrix}a_0\\\\a_1\\end{bmatrix}\\right)=a_0(1+x)+a_1(1-x)$\n",
        "$$S_{B1}\\left(\\begin{bmatrix}a_0\\\\a_1\\end{bmatrix}\\right)=(a_0+a_1)+(a_0-a_1)x$$\n",
        "\n",
        "La base $B_2=[1, 1+x]$ tiene asociado el isomorfismo $S_{B2}\\left(\\begin{bmatrix}a_0\\\\a_1\\end{bmatrix}\\right)=a_0(1)+a_1(1+x)$\n",
        "$$S_{B2}\\left(\\begin{bmatrix}a_0\\\\a_1\\end{bmatrix}\\right)=(a_0+a_1)+(a_1)x$$\n",
        "\n"
      ]
    },
    {
      "cell_type": "code",
      "metadata": {
        "id": "E99tzlVW1ozE",
        "outputId": "bf512627-2a0a-4c58-ab3f-fe2a1e7d9f51"
      },
      "source": [
        "grafo({\"V\":(1,1,\"P1\"),\"V0\":(0,2,\"R^2\"),\"V1\":(1,2,\". R^2\"),\"W1\":(2,2,\"R^2\")},\n",
        "      [(\"S_{B1}\",\"V0\",\"V\"),(\"S_{P1}\",\"V1\",\"V\"),(\"S_{B2}\",\"W1\",\"V\"),(\"A2\",\"W1\",\"V1\"),(\"A1\",\"V0\",\"V1\")]\n",
        "     ,[(0.8,1.7,\"=\"),(1.2,1.7,\"=\")])"
      ],
      "execution_count": null,
      "outputs": [
        {
          "data": {
            "image/png": "[encoded data removed]",
            "text/plain": [
              "<Figure size 432x288 with 1 Axes>"
            ]
          },
          "metadata": {
            "needs_background": "light"
          },
          "output_type": "display_data"
        }
      ]
    },
    {
      "cell_type": "markdown",
      "metadata": {
        "id": "i73Glkhp1ozE"
      },
      "source": [
        "La matriz de $B_2$ a $E_{P1}$ es \n",
        "$$A_2=S^{*-1}_{P1}S^*_{B2}\\left(\\begin{bmatrix}1 & 0\\\\0 & 1\\end{bmatrix}\\right)=S^{*-1}_{P1}([1,1+x])=\\begin{bmatrix}1 & 1\\\\0 & 1\\end{bmatrix}$$\n",
        "\n",
        "La matriz de $E_{P1}$ a $B_{2}$ es la matriz inversa de la matriz de $B_2$ a $E_{P1}$ \n",
        "$$A_2^{-1}=\\begin{bmatrix}1 & 1\\\\0 & 1\\end{bmatrix}^{-1}=\\frac{1}{1-0}\\begin{bmatrix}1 & -1\\\\0 & 1\\end{bmatrix}=\\begin{bmatrix}1 & -1\\\\0 & 1\\end{bmatrix}$$\n",
        "\n",
        "\n",
        "La matriz de $B_1$ a $E_{P1}$ es \n",
        "$$A_1=S^{*-1}_{P1}S^*_{B1}\\left(\\begin{bmatrix}1 & 0\\\\0 & 1\\end{bmatrix}\\right)=S^{*-1}_{P1}([1+x,1-x])=\\begin{bmatrix}1 & 1\\\\1 & -1\\end{bmatrix}$$\n",
        "\n",
        "La matriz de $B_1$ a $B_2$ es la multiplicación de las matrices de $B_1$ a $E_{P1}$ y de $E_{P1}$ a $B_2$\n",
        "$$ A_5=A_2^{-1}A_1=\\begin{bmatrix}1 & -1\\\\0 & 1\\end{bmatrix}\\begin{bmatrix}1 & 1\\\\1 & -1\\end{bmatrix}=\\begin{bmatrix}0 & 2\\\\1 & -1\\end{bmatrix}$$"
      ]
    },
    {
      "cell_type": "code",
      "metadata": {
        "id": "F24IGzxe1ozE",
        "outputId": "ccbbd29f-19e3-4af0-bc46-824c6b80d6bc"
      },
      "source": [
        "grafo({\"V\":(1,1,\" V\"),\"V0\":(0,2,\"R^n\"),\"V1\":(1,2,\"R^n\"),\"W1\":(2,2,\"R^n\")},\n",
        "      [(\"S_{B1}\",\"V0\",\"V\"),(\"S_{P1}\",\"V1\",\"V\"),(\"S_{B2}\",\"W1\",\"V\"),(\"A_2\",\"W1\",\"V1\"),(\"A_1\",\"V0\",\"V1\")]\n",
        "     ,[(0.8,1.7,\"=\"),(1.2,1.7,\"=\")])"
      ],
      "execution_count": null,
      "outputs": [
        {
          "data": {
            "image/png": "[encoded data removed]",
            "text/plain": [
              "<Figure size 432x288 with 1 Axes>"
            ]
          },
          "metadata": {
            "needs_background": "light"
          },
          "output_type": "display_data"
        }
      ]
    },
    {
      "cell_type": "code",
      "metadata": {
        "id": "OB9rkFws1ozE"
      },
      "source": [
        "A2_ejemplo_4=sp.Matrix([\n",
        " [1, 1], \n",
        " [0, 1], \n",
        " ])"
      ],
      "execution_count": null,
      "outputs": []
    },
    {
      "cell_type": "code",
      "metadata": {
        "id": "YdPXl9yV1ozE"
      },
      "source": [
        "A2_prima_ejemplo_4=sp.Matrix([\n",
        " [1, -1], \n",
        " [0, 1 ], \n",
        " ])"
      ],
      "execution_count": null,
      "outputs": []
    },
    {
      "cell_type": "code",
      "metadata": {
        "id": "t8gSBfzy1ozE"
      },
      "source": [
        "A1_ejemplo_4=sp.Matrix([\n",
        " [1, 1], \n",
        " [1, -1], \n",
        " ])"
      ],
      "execution_count": null,
      "outputs": []
    },
    {
      "cell_type": "code",
      "metadata": {
        "id": "mvQRUpI81ozE"
      },
      "source": [
        "A5_ejemplo_4=sp.Matrix([\n",
        " [0, 2], \n",
        " [1, -1], \n",
        " ])"
      ],
      "execution_count": null,
      "outputs": []
    },
    {
      "cell_type": "markdown",
      "metadata": {
        "id": "Q7fsucA11ozF"
      },
      "source": [
        "# Ejemplo 5\n",
        "Para la transformación $T:P_1 \\rightarrow P_3$ dada por \n",
        "$$T(a_0 + a_1 x )= 3a_0 + (2a_0 + a_1)x + (a_0 + 2a_1)x^2 + 3a_1x^3 $$\n",
        "encuentre la matriz de la transformación $A4$ usando la base $B_1=[1+x, 1-x]$ para el dominio y la base $B_3=[1,1+x, x+x^2, x^2+x^3 ]$ para el codominio.  \n",
        "\n",
        "## Solución\n",
        "\n",
        "Recordemos que la base estándar de $P_1$ es $$E_{P1}=[1,x]$$ y que el isomorfismo estándar es $$S_{P1}\\left(\\begin{bmatrix}a_0\\\\a_1\\end{bmatrix}\\right)=a_0(1)+a_1(x)$$\n",
        "Además, la base estándar de $P_3$ es $$E_{P3}=[1,x,x^2,x^3]$$ y que el isomorfismo estándar es $$S_{P3}\\left(\\begin{bmatrix}a_0\\\\a_1\\\\a_2\\\\a_3\\end{bmatrix}\\right)=a_0(1)+a_1(x)+a_2(x^2)+a_3(x^3)$$\n",
        "La base $$B_1=[1+x, 1-x]$$ tiene asociado el isomorfismo $$S_{B1}\\left(\\begin{bmatrix}a_0\\\\a_1\\end{bmatrix}\\right)=a_0(1+x)+a_1(1-x)$$\n",
        "La base $$B_3=[1,1+x, x+x^2, x^2+x^3 ]$$ tiene asociado el isomorfismo $$S_{B3}\\left(\\begin{bmatrix}a_0\\\\a_1\\\\a_2\\\\a_3\\end{bmatrix}\\right)=a_0(1)+a_1(1+x)+a_2(x+x^2)+a_3(x^2+x^3)$$\n"
      ]
    },
    {
      "cell_type": "code",
      "metadata": {
        "id": "Xp4qrD5x1ozF",
        "outputId": "68e4f170-7659-48ec-cf4e-7c4a6f932d98"
      },
      "source": [
        "grafo({\"P1\":(1,1,\"P_1\"),\"P3\":(2,1,\"P_3\"),\"B1\":(0,2,\"R^2\"),\"R2\":(1,2,\"R^2\"),\"R4\":(2,2,\"R^4\"),\"B3\":(3,2,\"R^4\")},\n",
        "      [(\"T\",\"P1\",\"P3\"),(\"S_{B1}\",\"B1\",\"P1\"),(\"S_{P1}\",\"R2\",\"P1\"),(\"S_{P3}\",\"R4\",\"P3\"),(\"S_{B3}\",\"B3\",\"P3\"),(\"A_1\",\"B1\",\"R2\"),\n",
        "       (\"A\",\"R2\",\"R4\"),(\"A_3\",\"B3\",\"R4\")],\n",
        "      [(0.8,1.6,\"=\"),(1.5,1.6,\"=\"),(2.2,1.6,\"=\")])"
      ],
      "execution_count": null,
      "outputs": [
        {
          "data": {
            "image/png": "[encoded data removed]",
            "text/plain": [
              "<Figure size 432x288 with 1 Axes>"
            ]
          },
          "metadata": {
            "needs_background": "light"
          },
          "output_type": "display_data"
        }
      ]
    },
    {
      "cell_type": "markdown",
      "metadata": {
        "id": "g5hJnk-n1ozF"
      },
      "source": [
        "La matriz $A_1$ coincide con la del ejercicio 4."
      ]
    },
    {
      "cell_type": "code",
      "metadata": {
        "id": "MD_3vvlt1ozF",
        "outputId": "b1bfcb3b-f50f-4137-e005-6b687cbfea57"
      },
      "source": [
        "import sympy as sp\n",
        "A1=sp.Matrix([\n",
        "    [1, 1],\n",
        "    [1, -1]\n",
        "])\n",
        "A1"
      ],
      "execution_count": null,
      "outputs": [
        {
          "data": {
            "text/latex": [
              "$\\displaystyle \\left[\\begin{matrix}1 & 1\\\\1 & -1\\end{matrix}\\right]$"
            ],
            "text/plain": [
              "Matrix([\n",
              "[1,  1],\n",
              "[1, -1]])"
            ]
          },
          "execution_count": 45,
          "metadata": {},
          "output_type": "execute_result"
        }
      ]
    },
    {
      "cell_type": "markdown",
      "metadata": {
        "id": "ghUFTDh11ozF"
      },
      "source": [
        "La matriz $A$ coincide con la del ejercicio 2. "
      ]
    },
    {
      "cell_type": "code",
      "metadata": {
        "id": "NLZ0ixyI1ozF",
        "outputId": "fe5e1c60-2e43-4477-dac6-80bb9089d888"
      },
      "source": [
        "A=sp.Matrix([\n",
        " [3, 0], \n",
        " [2, 1], \n",
        " [1, 2],\n",
        " [0, 3] \n",
        "])\n",
        "A"
      ],
      "execution_count": null,
      "outputs": [
        {
          "data": {
            "text/latex": [
              "$\\displaystyle \\left[\\begin{matrix}3 & 0\\\\2 & 1\\\\1 & 2\\\\0 & 3\\end{matrix}\\right]$"
            ],
            "text/plain": [
              "Matrix([\n",
              "[3, 0],\n",
              "[2, 1],\n",
              "[1, 2],\n",
              "[0, 3]])"
            ]
          },
          "execution_count": 46,
          "metadata": {},
          "output_type": "execute_result"
        }
      ]
    },
    {
      "cell_type": "markdown",
      "metadata": {
        "id": "z3HY5mrI1ozF"
      },
      "source": [
        "Queda pendiente encontrar la matriz $A_3$.\n",
        "\n",
        "La matriz de $B_3$ a $E_{P3}$ es \n",
        "$$\\begin{align}\n",
        "A_3&=S^{*-1}_{E3}S^*_{B3}\\left(\\begin{bmatrix}1 & 0 & 0 & 0\\\\0 & 1 & 0 & 0\\\\0 & 0 & 1 & 0\\\\0 & 0 & 0 & 1\\end{bmatrix}\\right)\\\\\n",
        "&=S^{*-1}_{E1}([1,1+x, x+x^2, x^2+x^3])\\\\\n",
        "&=\\begin{bmatrix}1 & 1 &0 &0\\\\0 & 1 &1&0\\\\0&0&1&1\\\\0&0&0&1\\end{bmatrix}\\\\\n",
        "\\end{align}$$\n",
        "\n",
        "La matriz solicitada ($A4$) corresponde al producto\n",
        "$$A4=A_3^{-1}AA_1$$\n",
        "Por lo tanto, vamos a encontrar $A_3^{-1}$  "
      ]
    },
    {
      "cell_type": "code",
      "metadata": {
        "id": "y7K7r5TX1ozF",
        "outputId": "ca4b0ce7-3fa3-46ce-9fd5-38c3aa0b2286"
      },
      "source": [
        "A3=sp.Matrix([[1, 1, 0, 0],\n",
        "             [0, 1, 1, 0],\n",
        "             [0, 0, 1, 1],\n",
        "             [0, 0, 0, 1]])\n",
        "A3"
      ],
      "execution_count": null,
      "outputs": [
        {
          "data": {
            "text/latex": [
              "$\\displaystyle \\left[\\begin{matrix}1 & 1 & 0 & 0\\\\0 & 1 & 1 & 0\\\\0 & 0 & 1 & 1\\\\0 & 0 & 0 & 1\\end{matrix}\\right]$"
            ],
            "text/plain": [
              "Matrix([\n",
              "[1, 1, 0, 0],\n",
              "[0, 1, 1, 0],\n",
              "[0, 0, 1, 1],\n",
              "[0, 0, 0, 1]])"
            ]
          },
          "execution_count": 47,
          "metadata": {},
          "output_type": "execute_result"
        }
      ]
    },
    {
      "cell_type": "code",
      "metadata": {
        "id": "G4AvuGex1ozG",
        "outputId": "008f32fc-80ec-45b0-b363-37b93f1d2e38"
      },
      "source": [
        "M=A3.row_join(sp.eye(4))\n",
        "M"
      ],
      "execution_count": null,
      "outputs": [
        {
          "data": {
            "text/latex": [
              "$\\displaystyle \\left[\\begin{matrix}1 & 1 & 0 & 0 & 1 & 0 & 0 & 0\\\\0 & 1 & 1 & 0 & 0 & 1 & 0 & 0\\\\0 & 0 & 1 & 1 & 0 & 0 & 1 & 0\\\\0 & 0 & 0 & 1 & 0 & 0 & 0 & 1\\end{matrix}\\right]$"
            ],
            "text/plain": [
              "Matrix([\n",
              "[1, 1, 0, 0, 1, 0, 0, 0],\n",
              "[0, 1, 1, 0, 0, 1, 0, 0],\n",
              "[0, 0, 1, 1, 0, 0, 1, 0],\n",
              "[0, 0, 0, 1, 0, 0, 0, 1]])"
            ]
          },
          "execution_count": 48,
          "metadata": {},
          "output_type": "execute_result"
        }
      ]
    },
    {
      "cell_type": "code",
      "metadata": {
        "id": "W7Loixnx1ozG",
        "outputId": "190b9dff-73b3-43d0-af82-4871c5978b73"
      },
      "source": [
        "M[2,:] -= M[3,:]\n",
        "M"
      ],
      "execution_count": null,
      "outputs": [
        {
          "data": {
            "text/latex": [
              "$\\displaystyle \\left[\\begin{matrix}1 & 1 & 0 & 0 & 1 & 0 & 0 & 0\\\\0 & 1 & 1 & 0 & 0 & 1 & 0 & 0\\\\0 & 0 & 1 & 0 & 0 & 0 & 1 & -1\\\\0 & 0 & 0 & 1 & 0 & 0 & 0 & 1\\end{matrix}\\right]$"
            ],
            "text/plain": [
              "Matrix([\n",
              "[1, 1, 0, 0, 1, 0, 0,  0],\n",
              "[0, 1, 1, 0, 0, 1, 0,  0],\n",
              "[0, 0, 1, 0, 0, 0, 1, -1],\n",
              "[0, 0, 0, 1, 0, 0, 0,  1]])"
            ]
          },
          "execution_count": 49,
          "metadata": {},
          "output_type": "execute_result"
        }
      ]
    },
    {
      "cell_type": "code",
      "metadata": {
        "id": "uGQX-29F1ozG",
        "outputId": "f960c028-637b-4542-f580-27c692bf15bd"
      },
      "source": [
        "M[1,:] -= M[2,:]\n",
        "M"
      ],
      "execution_count": null,
      "outputs": [
        {
          "data": {
            "text/latex": [
              "$\\displaystyle \\left[\\begin{matrix}1 & 1 & 0 & 0 & 1 & 0 & 0 & 0\\\\0 & 1 & 0 & 0 & 0 & 1 & -1 & 1\\\\0 & 0 & 1 & 0 & 0 & 0 & 1 & -1\\\\0 & 0 & 0 & 1 & 0 & 0 & 0 & 1\\end{matrix}\\right]$"
            ],
            "text/plain": [
              "Matrix([\n",
              "[1, 1, 0, 0, 1, 0,  0,  0],\n",
              "[0, 1, 0, 0, 0, 1, -1,  1],\n",
              "[0, 0, 1, 0, 0, 0,  1, -1],\n",
              "[0, 0, 0, 1, 0, 0,  0,  1]])"
            ]
          },
          "execution_count": 50,
          "metadata": {},
          "output_type": "execute_result"
        }
      ]
    },
    {
      "cell_type": "code",
      "metadata": {
        "id": "qWGowAst1ozG",
        "outputId": "07c6b047-8dca-467d-9114-cfb1433c3b96"
      },
      "source": [
        "M[0,:] -= M[1,:]\n",
        "M"
      ],
      "execution_count": null,
      "outputs": [
        {
          "data": {
            "text/latex": [
              "$\\displaystyle \\left[\\begin{matrix}1 & 0 & 0 & 0 & 1 & -1 & 1 & -1\\\\0 & 1 & 0 & 0 & 0 & 1 & -1 & 1\\\\0 & 0 & 1 & 0 & 0 & 0 & 1 & -1\\\\0 & 0 & 0 & 1 & 0 & 0 & 0 & 1\\end{matrix}\\right]$"
            ],
            "text/plain": [
              "Matrix([\n",
              "[1, 0, 0, 0, 1, -1,  1, -1],\n",
              "[0, 1, 0, 0, 0,  1, -1,  1],\n",
              "[0, 0, 1, 0, 0,  0,  1, -1],\n",
              "[0, 0, 0, 1, 0,  0,  0,  1]])"
            ]
          },
          "execution_count": 51,
          "metadata": {},
          "output_type": "execute_result"
        }
      ]
    },
    {
      "cell_type": "code",
      "metadata": {
        "id": "eAj7rK891ozG",
        "outputId": "367e7c66-4ca1-4e07-8bc8-d827da1d0fe0"
      },
      "source": [
        "A3_inv=M[:,4:]\n",
        "A3_inv"
      ],
      "execution_count": null,
      "outputs": [
        {
          "data": {
            "text/latex": [
              "$\\displaystyle \\left[\\begin{matrix}1 & -1 & 1 & -1\\\\0 & 1 & -1 & 1\\\\0 & 0 & 1 & -1\\\\0 & 0 & 0 & 1\\end{matrix}\\right]$"
            ],
            "text/plain": [
              "Matrix([\n",
              "[1, -1,  1, -1],\n",
              "[0,  1, -1,  1],\n",
              "[0,  0,  1, -1],\n",
              "[0,  0,  0,  1]])"
            ]
          },
          "execution_count": 52,
          "metadata": {},
          "output_type": "execute_result"
        }
      ]
    },
    {
      "cell_type": "code",
      "metadata": {
        "id": "wMw7fhXW1ozG",
        "outputId": "204b5020-5c36-4140-83f2-1df8669f5021"
      },
      "source": [
        "A3_inv*A3"
      ],
      "execution_count": null,
      "outputs": [
        {
          "data": {
            "text/latex": [
              "$\\displaystyle \\left[\\begin{matrix}1 & 0 & 0 & 0\\\\0 & 1 & 0 & 0\\\\0 & 0 & 1 & 0\\\\0 & 0 & 0 & 1\\end{matrix}\\right]$"
            ],
            "text/plain": [
              "Matrix([\n",
              "[1, 0, 0, 0],\n",
              "[0, 1, 0, 0],\n",
              "[0, 0, 1, 0],\n",
              "[0, 0, 0, 1]])"
            ]
          },
          "execution_count": 53,
          "metadata": {},
          "output_type": "execute_result"
        }
      ]
    },
    {
      "cell_type": "markdown",
      "metadata": {
        "id": "-MoUM-ws1ozG"
      },
      "source": [
        "La matriz de la transformación en las bases solicitadas es"
      ]
    },
    {
      "cell_type": "code",
      "metadata": {
        "id": "1KltPMlW1ozH",
        "outputId": "364c8077-2bc3-40fc-8be8-cd520fd995e5"
      },
      "source": [
        "A4=A3_inv*A*A1\n",
        "A4"
      ],
      "execution_count": null,
      "outputs": [
        {
          "data": {
            "text/latex": [
              "$\\displaystyle \\left[\\begin{matrix}0 & 4\\\\3 & -1\\\\0 & 2\\\\3 & -3\\end{matrix}\\right]$"
            ],
            "text/plain": [
              "Matrix([\n",
              "[0,  4],\n",
              "[3, -1],\n",
              "[0,  2],\n",
              "[3, -3]])"
            ]
          },
          "execution_count": 54,
          "metadata": {},
          "output_type": "execute_result"
        }
      ]
    },
    {
      "cell_type": "markdown",
      "metadata": {
        "id": "XDEqK9yi1ozH"
      },
      "source": [
        "## Verificación\n",
        "Para verificar, vamos a mostrar que para cualquier $v=\\left(\\matrix{x_0\\\\x_1}\\right)$ se cumple que\n",
        "$T \\circ S_{B1}(v) = S_{B2} \\circ A4(v)$"
      ]
    },
    {
      "cell_type": "code",
      "metadata": {
        "id": "-4NhRXpv1ozH",
        "outputId": "17a263e0-b47a-4f2f-b5ed-c058a61f2c27"
      },
      "source": [
        "x,v0,v1=sp.symbols('x v_0 v_1')\n",
        "\n",
        "def sb1(v2):\n",
        "    return v2[0]*(1+x) + v2[1]*(1-x)\n",
        "\n",
        "def sb3(v4):\n",
        "    return v4[0]*1+v4[1]*(1+x)+v4[2]*(x+x**2)+v4[3]*(x**2+x**3) \n",
        "\n",
        "def T(p):\n",
        "    a_0=p.subs({x:0})\n",
        "    a_1=p.subs({x:1})-a_0\n",
        "    return 3*a_0 + (2*a_0 + a_1)*x + (a_0 + 2*a_1)*x**2 + 3*a_1*x**3\n",
        "\n",
        "v=sp.Matrix([v0,\n",
        "             v1])\n",
        "\n",
        "v"
      ],
      "execution_count": null,
      "outputs": [
        {
          "data": {
            "text/latex": [
              "$\\displaystyle \\left[\\begin{matrix}v_{0}\\\\v_{1}\\end{matrix}\\right]$"
            ],
            "text/plain": [
              "Matrix([\n",
              "[v_0],\n",
              "[v_1]])"
            ]
          },
          "execution_count": 55,
          "metadata": {},
          "output_type": "execute_result"
        }
      ]
    },
    {
      "cell_type": "code",
      "metadata": {
        "id": "_mWEzZUw1ozH",
        "outputId": "128b9b63-5939-40d7-a1f2-75c203eeb1fb"
      },
      "source": [
        "sb1(v)"
      ],
      "execution_count": null,
      "outputs": [
        {
          "data": {
            "text/latex": [
              "$\\displaystyle v_{0} \\left(x + 1\\right) + v_{1} \\left(1 - x\\right)$"
            ],
            "text/plain": [
              "v_0*(x + 1) + v_1*(1 - x)"
            ]
          },
          "execution_count": 56,
          "metadata": {},
          "output_type": "execute_result"
        }
      ]
    },
    {
      "cell_type": "code",
      "metadata": {
        "id": "qFciP70W1ozH",
        "outputId": "0193b421-aaa5-4323-f94c-81f096c765aa"
      },
      "source": [
        " T(sb1(v)).expand()"
      ],
      "execution_count": null,
      "outputs": [
        {
          "data": {
            "text/latex": [
              "$\\displaystyle 3 v_{0} x^{3} + 3 v_{0} x^{2} + 3 v_{0} x + 3 v_{0} - 3 v_{1} x^{3} - v_{1} x^{2} + v_{1} x + 3 v_{1}$"
            ],
            "text/plain": [
              "3*v_0*x**3 + 3*v_0*x**2 + 3*v_0*x + 3*v_0 - 3*v_1*x**3 - v_1*x**2 + v_1*x + 3*v_1"
            ]
          },
          "execution_count": 57,
          "metadata": {},
          "output_type": "execute_result"
        }
      ]
    },
    {
      "cell_type": "code",
      "metadata": {
        "id": "KN5cquvY1ozH",
        "outputId": "5fe578a5-7d99-45ac-c540-a98c48c2932e"
      },
      "source": [
        "A*v"
      ],
      "execution_count": null,
      "outputs": [
        {
          "data": {
            "text/latex": [
              "$\\displaystyle \\left[\\begin{matrix}3 v_{0}\\\\2 v_{0} + v_{1}\\\\v_{0} + 2 v_{1}\\\\3 v_{1}\\end{matrix}\\right]$"
            ],
            "text/plain": [
              "Matrix([\n",
              "[      3*v_0],\n",
              "[2*v_0 + v_1],\n",
              "[v_0 + 2*v_1],\n",
              "[      3*v_1]])"
            ]
          },
          "execution_count": 58,
          "metadata": {},
          "output_type": "execute_result"
        }
      ]
    },
    {
      "cell_type": "code",
      "metadata": {
        "id": "DF9Gcbqb1ozH",
        "outputId": "7cc1c5f5-3859-4da2-e0ef-e0c989f985bf"
      },
      "source": [
        "sb3(A4*v).expand()"
      ],
      "execution_count": null,
      "outputs": [
        {
          "data": {
            "text/latex": [
              "$\\displaystyle 3 v_{0} x^{3} + 3 v_{0} x^{2} + 3 v_{0} x + 3 v_{0} - 3 v_{1} x^{3} - v_{1} x^{2} + v_{1} x + 3 v_{1}$"
            ],
            "text/plain": [
              "3*v_0*x**3 + 3*v_0*x**2 + 3*v_0*x + 3*v_0 - 3*v_1*x**3 - v_1*x**2 + v_1*x + 3*v_1"
            ]
          },
          "execution_count": 59,
          "metadata": {},
          "output_type": "execute_result"
        }
      ]
    },
    {
      "cell_type": "code",
      "metadata": {
        "id": "xlfadIrs1ozH",
        "outputId": "05735ba5-d159-4937-c329-0961f00887af"
      },
      "source": [
        "sb3(A4*v).expand() == T(sb1(v)).expand()"
      ],
      "execution_count": null,
      "outputs": [
        {
          "data": {
            "text/plain": [
              "True"
            ]
          },
          "execution_count": 60,
          "metadata": {},
          "output_type": "execute_result"
        }
      ]
    },
    {
      "cell_type": "markdown",
      "metadata": {
        "id": "aBTqttsC1ozI"
      },
      "source": [
        "Lo cual prueba que sí son iguales ambos caminos."
      ]
    },
    {
      "cell_type": "code",
      "metadata": {
        "id": "wuhMQx2p1ozI",
        "outputId": "478e67d6-5628-4339-f50c-0a3783f969b9"
      },
      "source": [
        "A4_ejemplo_5=A4[:,:]\n",
        "A4_ejemplo_5"
      ],
      "execution_count": null,
      "outputs": [
        {
          "data": {
            "text/latex": [
              "$\\displaystyle \\left[\\begin{matrix}0 & 4\\\\3 & -1\\\\0 & 2\\\\3 & -3\\end{matrix}\\right]$"
            ],
            "text/plain": [
              "Matrix([\n",
              "[0,  4],\n",
              "[3, -1],\n",
              "[0,  2],\n",
              "[3, -3]])"
            ]
          },
          "execution_count": 83,
          "metadata": {},
          "output_type": "execute_result"
        }
      ]
    },
    {
      "cell_type": "code",
      "metadata": {
        "id": "hqCAN7jM1ozI"
      },
      "source": [
        "nombre=''"
      ],
      "execution_count": null,
      "outputs": []
    },
    {
      "cell_type": "code",
      "metadata": {
        "id": "RxCeg_8M1ozI"
      },
      "source": [
        "codigo=0"
      ],
      "execution_count": null,
      "outputs": []
    },
    {
      "cell_type": "code",
      "metadata": {
        "id": "JQHX_Vdf1ozI"
      },
      "source": [
        "# Recuerde que a es el último dígito de código\n",
        "# y que b es el penúltimo dígito\n"
      ],
      "execution_count": null,
      "outputs": []
    },
    {
      "cell_type": "markdown",
      "metadata": {
        "id": "Z1f-N75d1ozI"
      },
      "source": [
        "# Ejercicio 1 (lunes)\n",
        "Demuestre que $T \\left( \\begin{bmatrix} x \\\\ y  \\end{bmatrix} \\right) = \\begin{bmatrix} 3x - y \\\\ (a+5)x \\\\ (b+3)y  \\end{bmatrix} $ es una transformación lineal y encuentre la respectiva matriz."
      ]
    },
    {
      "cell_type": "code",
      "metadata": {
        "id": "5VbISHi-1ozI"
      },
      "source": [
        "matriz_ejercicio_1=sp.Matrix()"
      ],
      "execution_count": null,
      "outputs": []
    },
    {
      "cell_type": "markdown",
      "metadata": {
        "id": "zJztko-S1ozI"
      },
      "source": [
        "# Ejercicio 1.5 (martes)(Opcional, sube una nota de otros talleres)\n",
        "Determine si $T':P_1 \\rightarrow P_3$ dada por \n",
        "$$T'(c_0 + c_1 x )= (a+c_0) + (2c_0+b)x + (c_0 + 2c_1)x^2 + 3c_1x^3 $$\n",
        "es una transformación lineal."
      ]
    },
    {
      "cell_type": "code",
      "metadata": {
        "id": "38eUEEJC1ozI"
      },
      "source": [
        "respuesta_ejercicio_1_5='si/no es una transformación lineal'"
      ],
      "execution_count": null,
      "outputs": []
    },
    {
      "cell_type": "markdown",
      "metadata": {
        "id": "zgQInk9I1ozJ"
      },
      "source": [
        "# Ejercicio 2 (martes)\n",
        "Demuestre que $T:P_1 \\rightarrow P_3$ dada por \n",
        "$$T(c_0 + c_1 x )= ((a+1)c_0) + ((2b+3)c_0)x + (c_0 + 2c_1)x^2 + 3c_1x^3 $$\n",
        "es una transformación lineal y encuentre la matriz usando las respectivas bases estándar."
      ]
    },
    {
      "cell_type": "code",
      "metadata": {
        "id": "zERV_6iO1ozJ"
      },
      "source": [
        "matriz_ejercicio_2=sp.Matrix()"
      ],
      "execution_count": null,
      "outputs": []
    },
    {
      "cell_type": "markdown",
      "metadata": {
        "id": "bWxbYMxz1ozJ"
      },
      "source": [
        "# Ejercicio 3 (miércoles)\n",
        "Para la transformación del ejercicio 2, encuentre una base para el núcleo, una base para la imagen, la nulidad, el rango y diga si es inyectiva, sobreyectiva o es un isomorfismo."
      ]
    },
    {
      "cell_type": "code",
      "metadata": {
        "id": "N2pkGMA71ozJ"
      },
      "source": [
        "base_nucleo_ejercicio_3=sp.Matrix()"
      ],
      "execution_count": null,
      "outputs": []
    },
    {
      "cell_type": "code",
      "metadata": {
        "id": "j983Hvsc1ozJ"
      },
      "source": [
        "base_imagen_ejercicio_3=sp.Matrix()"
      ],
      "execution_count": null,
      "outputs": []
    },
    {
      "cell_type": "code",
      "metadata": {
        "id": "SVl5XuSL1ozJ"
      },
      "source": [
        "nulidad_ejercicio_3=0"
      ],
      "execution_count": null,
      "outputs": []
    },
    {
      "cell_type": "code",
      "metadata": {
        "id": "igsY6pVC1ozJ"
      },
      "source": [
        "rango_ejercicio_3=0"
      ],
      "execution_count": null,
      "outputs": []
    },
    {
      "cell_type": "code",
      "metadata": {
        "id": "NUdwte6Q1ozJ"
      },
      "source": [
        "inyectiva_ejercicio_3=''"
      ],
      "execution_count": null,
      "outputs": []
    },
    {
      "cell_type": "code",
      "metadata": {
        "id": "iNtnzrs01ozJ"
      },
      "source": [
        "sobreyectiva_ejercicio_3=''"
      ],
      "execution_count": null,
      "outputs": []
    },
    {
      "cell_type": "code",
      "metadata": {
        "id": "15x7Wvhm1ozJ"
      },
      "source": [
        "isomorfismo_ejercicio_3=''"
      ],
      "execution_count": null,
      "outputs": []
    },
    {
      "cell_type": "markdown",
      "metadata": {
        "id": "4MYyYoZH1ozK"
      },
      "source": [
        "# Ejercicio 4 (jueves)\n",
        "Sean $B_1=[3+a+x, 1-x]$ y $B_2=[1, 1+(b+2)x]$ bases de $P_1$. Encuentre la matriz:\n",
        "* $A_2$ para pasar de $B_2$ a $E_{P1}$\n",
        "* $A'_2$ para pasar de $E_{P1}$ a $B_2$\n",
        "* $A_1$ para pasar de $B_1$ a $E_{P1}$\n",
        "* $A_5$ para pasar de $B_1$ a $B_2$"
      ]
    },
    {
      "cell_type": "code",
      "metadata": {
        "id": "adpd76eE1ozK"
      },
      "source": [
        "A2_ejercicio_4=sp.Matrix()"
      ],
      "execution_count": null,
      "outputs": []
    },
    {
      "cell_type": "code",
      "metadata": {
        "id": "nVTB7xdQ1ozK"
      },
      "source": [
        "A2_prima_ejercicio_4=sp.Matrix()"
      ],
      "execution_count": null,
      "outputs": []
    },
    {
      "cell_type": "code",
      "metadata": {
        "id": "BIbORBWg1ozL"
      },
      "source": [
        "A1_ejercicio_4=sp.Matrix()"
      ],
      "execution_count": null,
      "outputs": []
    },
    {
      "cell_type": "code",
      "metadata": {
        "id": "CPupMJSD1ozL"
      },
      "source": [
        "A5_ejercicio_4=sp.Matrix()"
      ],
      "execution_count": null,
      "outputs": []
    },
    {
      "cell_type": "markdown",
      "metadata": {
        "id": "92u0MQ7h1ozL"
      },
      "source": [
        "# Ejercicio 5 (viernes)\n",
        "Para la transformación $T:P_1 \\rightarrow P_3$ dada por en el ejercicio 2\n",
        "encuentre la matriz de la transformación $A_4$ usando la base $B_1$ del ejercicio 4 para el dominio y la base $B_3=[4+a,1+x, x+x^2, 3+b+x^2+x^3 ]$ para el codominio.  \n"
      ]
    },
    {
      "cell_type": "code",
      "metadata": {
        "id": "aUfw6Td21ozL"
      },
      "source": [
        "A4_ejercicio_5=sp.Matrix()"
      ],
      "execution_count": null,
      "outputs": []
    }
  ]
}