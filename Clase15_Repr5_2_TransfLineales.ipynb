{
 "cells": [
  {
   "cell_type": "code",
   "execution_count": 2,
   "metadata": {},
   "outputs": [],
   "source": [
    "import matplotlib.pyplot as plt\n",
    "\n",
    "def grafo(nodos,arcos,etiquetas=[]):\n",
    "    fig, ax = plt.subplots()\n",
    "    for nodo in nodos:\n",
    "        nodo=nodos[nodo]\n",
    "        ax.scatter(nodo[0],-nodo[1],s=20,color='k')\n",
    "        ax.text(nodo[0],-nodo[1],'$'+nodo[2]+'$',fontsize=15) \n",
    "    ax.axis('off')\n",
    "    for nombre,nodo1,nodo2 in arcos:\n",
    "        nodo1=nodos[nodo1]\n",
    "        nodo2=nodos[nodo2]\n",
    "        ax.arrow(float(nodo1[0]),-float(nodo1[1]),-float(nodo1[0])+float(nodo2[0]),float(nodo1[1])-float(nodo2[1]),head_width=0.05,head_length=0.05, length_includes_head=True)\n",
    "        ax.text((nodo1[0]+nodo2[0])/2.0,-(nodo1[1]+nodo2[1])/2.0,'$'+nombre+'$',fontsize=18) \n",
    "    for x,y,texto in etiquetas:\n",
    "        ax.text(x,-y,'$'+texto+'$',fontsize=15) "
   ]
  },
  {
   "cell_type": "markdown",
   "metadata": {},
   "source": [
    "# Transformaciones lineales\n",
    "Sabemos que una transformación lineal entre espacios vectoriales $T:U \\rightarrow V$ cumple: \n",
    "* (AT) $T(u_1 + u_2)=T(u_1) + T(u_2)$\n",
    "* (MT) $T(c_1u_1)=c_1T(u_1)$\n",
    "\n",
    "para todo $u_1,u_2 \\in U$ y para todo $c_1, c_2 \\in \\mathbb{R}$\n",
    "\n",
    "(AT) y (MT) equivalen a la siguiente igualdad \n",
    "\n",
    "* $T(c_1u_1 + c_2u_2)=c_1T(u_1) + c_2T(u_2)$\n",
    "\n",
    "Utilizando inducción matemática se puede mostrar la equivalencia de (AT) y (MT) con la siguiente igualdad \n",
    "\n",
    "* $T(c_1u_1 + c_2u_2 + \\cdots + c_nu_n)=c_1T(u_1) + c_2T(u_2) + \\cdots + c_nT(u_n)$\n",
    "\n",
    "para todo $u_1,u_2, \\ldots , u_n \\in U$ y para todo $c_1, c_2, \\ldots, c_n \\in \\mathbb{R}$\n",
    "\n",
    "Esto permite concluir que la transformación de una combinación lineal de vectores es la misma combinación lineal de las transformaciones de los vectores.\n",
    "\n",
    "Si $B=[v_1, v_2, \\ldots, v_n]$ es una sucesión de vectores de $U$  entonces $T^*(B)$ va a denotar la sucesión  de vectores dada por:\n",
    "\n",
    " $T^*(B)=[T(v_1), T(v_2), \\ldots, T(v_n)]$\n",
    "\n",
    "De manera análoga se puede aplicar si $B$ es un conjunto de vectores de $U$. \n",
    "\n",
    "\n",
    "\n",
    "\n",
    "\n",
    "# Teorema\n",
    "$T:\\mathbb{R}^n \\rightarrow \\mathbb{R}^m$ es una transformación lineal **si y sólo si** para todo $v \\in \\mathbb{R}^n$ se cumple que $T(v)=Av$. Donde $A$ es la matriz de $m \\times n$  dada por \n",
    " $$A=T^*(I)= \\begin{bmatrix}\n",
    "  T \\left( \\begin{bmatrix} 1 \\\\ 0 \\\\ \\vdots \\\\ 0 \\end{bmatrix} \\right) & \n",
    "  T \\left( \\begin{bmatrix} 0 \\\\ 1 \\\\ \\vdots \\\\ 0 \\end{bmatrix} \\right) &\n",
    "  \\cdots &\n",
    "  T \\left( \\begin{bmatrix} 0 \\\\ 0 \\\\ \\vdots \\\\ 1 \\end{bmatrix} \\right) \n",
    " \\end{bmatrix} $$ \n",
    " \n",
    "\n",
    "# Ejemplos\n",
    "De las siguietes transformaciones de $\\mathbb{R}^n$ en  $\\mathbb{R}^m$ determine cuales son lineales y cuales no lo son. Para las transformaciones lineales encuentre la respectiva matriz de la transformación.\n",
    "* (a) $T_1 \\left( \\begin{bmatrix} x_0 \\\\ x_1  \\end{bmatrix} \\right)= \\left( \\begin{bmatrix} 2x_0+ 3x_1 \\\\ 5x_0- 4x_1 \\\\ 6x_0 +2x_1 \\end{bmatrix} \\right)$\n",
    "* (b) $T_2 \\left( \\begin{bmatrix} x_0 \\\\ x_1\\\\ x_2 \\end{bmatrix} \\right)= \\left( \\begin{bmatrix} 4x_0 - x_2 \\\\ 5x_1- 4  \\end{bmatrix} \\right)$\n",
    "* (c) $T_3 \\left( \\begin{bmatrix} x_0 \\\\ x_1\\end{bmatrix} \\right)= \\left( \\begin{bmatrix} x_0x_1 \\\\ x_0- x_1 \\end{bmatrix} \\right)$\n",
    "\n",
    "Solución:\n"
   ]
  },
  {
   "cell_type": "code",
   "execution_count": 3,
   "metadata": {},
   "outputs": [
    {
     "data": {
      "text/latex": [
       "$\\displaystyle \\left[\\begin{matrix}1 & 0\\\\0 & 1\\end{matrix}\\right]$"
      ],
      "text/plain": [
       "Matrix([\n",
       "[1, 0],\n",
       "[0, 1]])"
      ]
     },
     "execution_count": 3,
     "metadata": {},
     "output_type": "execute_result"
    }
   ],
   "source": [
    "import sympy as sp\n",
    "x0, x1, x2 = sp.symbols('x_0 x_1 x_2')\n",
    "u=sp.Matrix((x0,x1))  # un vector en $R^2$\n",
    "v=sp.Matrix((x0,x1,x2)) # un vector en $R^3$\n",
    "\n",
    "I2=sp.eye(2)\n",
    "I2"
   ]
  },
  {
   "cell_type": "code",
   "execution_count": 4,
   "metadata": {},
   "outputs": [
    {
     "data": {
      "text/latex": [
       "$\\displaystyle \\left[\\begin{matrix}1 & 0 & 0\\\\0 & 1 & 0\\\\0 & 0 & 1\\end{matrix}\\right]$"
      ],
      "text/plain": [
       "Matrix([\n",
       "[1, 0, 0],\n",
       "[0, 1, 0],\n",
       "[0, 0, 1]])"
      ]
     },
     "execution_count": 4,
     "metadata": {},
     "output_type": "execute_result"
    }
   ],
   "source": [
    "I3=sp.eye(3)\n",
    "I3"
   ]
  },
  {
   "cell_type": "code",
   "execution_count": 5,
   "metadata": {},
   "outputs": [
    {
     "data": {
      "text/latex": [
       "$\\displaystyle \\left[\\begin{matrix}2 & 3\\\\5 & -4\\\\6 & 2\\end{matrix}\\right]$"
      ],
      "text/plain": [
       "Matrix([\n",
       "[2,  3],\n",
       "[5, -4],\n",
       "[6,  2]])"
      ]
     },
     "execution_count": 5,
     "metadata": {},
     "output_type": "execute_result"
    }
   ],
   "source": [
    "# Ejemplo 1\n",
    "def T1(u):\n",
    "    (x0,x1) = u\n",
    "    return sp.Matrix((2*x0+ 3*x1, \n",
    "                      5*x0 - 4*x1, \n",
    "                      6*x0 +2*x1))\n",
    "\n",
    "A1=T1(I2[:,0]).row_join(T1(I2[:,1]))\n",
    "A1"
   ]
  },
  {
   "cell_type": "code",
   "execution_count": 6,
   "metadata": {},
   "outputs": [
    {
     "data": {
      "text/latex": [
       "$\\displaystyle \\left[\\begin{matrix}2 x_{0} + 3 x_{1}\\\\5 x_{0} - 4 x_{1}\\\\6 x_{0} + 2 x_{1}\\end{matrix}\\right]$"
      ],
      "text/plain": [
       "Matrix([\n",
       "[2*x_0 + 3*x_1],\n",
       "[5*x_0 - 4*x_1],\n",
       "[6*x_0 + 2*x_1]])"
      ]
     },
     "execution_count": 6,
     "metadata": {},
     "output_type": "execute_result"
    }
   ],
   "source": [
    "A1*u"
   ]
  },
  {
   "cell_type": "code",
   "execution_count": 7,
   "metadata": {},
   "outputs": [
    {
     "data": {
      "text/latex": [
       "$\\displaystyle \\left[\\begin{matrix}2 x_{0} + 3 x_{1}\\\\5 x_{0} - 4 x_{1}\\\\6 x_{0} + 2 x_{1}\\end{matrix}\\right]$"
      ],
      "text/plain": [
       "Matrix([\n",
       "[2*x_0 + 3*x_1],\n",
       "[5*x_0 - 4*x_1],\n",
       "[6*x_0 + 2*x_1]])"
      ]
     },
     "execution_count": 7,
     "metadata": {},
     "output_type": "execute_result"
    }
   ],
   "source": [
    "T1(u)"
   ]
  },
  {
   "cell_type": "code",
   "execution_count": 8,
   "metadata": {},
   "outputs": [
    {
     "data": {
      "text/plain": [
       "True"
      ]
     },
     "execution_count": 8,
     "metadata": {},
     "output_type": "execute_result"
    }
   ],
   "source": [
    "T1(u) == A1*u"
   ]
  },
  {
   "cell_type": "code",
   "execution_count": 9,
   "metadata": {},
   "outputs": [],
   "source": [
    "respuesta_ejemplo_a='Sí es una transformación lineal'"
   ]
  },
  {
   "cell_type": "code",
   "execution_count": 10,
   "metadata": {},
   "outputs": [
    {
     "data": {
      "text/latex": [
       "$\\displaystyle \\left[\\begin{matrix}4 & 0 & -1\\\\-4 & 1 & -4\\end{matrix}\\right]$"
      ],
      "text/plain": [
       "Matrix([\n",
       "[ 4, 0, -1],\n",
       "[-4, 1, -4]])"
      ]
     },
     "execution_count": 10,
     "metadata": {},
     "output_type": "execute_result"
    }
   ],
   "source": [
    "# Ejemplo 2\n",
    "def T2(v):\n",
    "    (x0,x1,x2) = v\n",
    "    return sp.Matrix(( 4*x0 - x2, \n",
    "                      5*x1- 4 ))\n",
    "\n",
    "A2=T2(I3[:,0]).row_join(T2(I3[:,1])).row_join(T2(I3[:,2]))\n",
    "A2"
   ]
  },
  {
   "cell_type": "code",
   "execution_count": 11,
   "metadata": {},
   "outputs": [
    {
     "data": {
      "text/latex": [
       "$\\displaystyle \\left[\\begin{matrix}4 x_{0} - x_{2}\\\\- 4 x_{0} + x_{1} - 4 x_{2}\\end{matrix}\\right]$"
      ],
      "text/plain": [
       "Matrix([\n",
       "[         4*x_0 - x_2],\n",
       "[-4*x_0 + x_1 - 4*x_2]])"
      ]
     },
     "execution_count": 11,
     "metadata": {},
     "output_type": "execute_result"
    }
   ],
   "source": [
    "A2*v"
   ]
  },
  {
   "cell_type": "code",
   "execution_count": 12,
   "metadata": {},
   "outputs": [
    {
     "data": {
      "text/latex": [
       "$\\displaystyle \\left[\\begin{matrix}4 x_{0} - x_{2}\\\\5 x_{1} - 4\\end{matrix}\\right]$"
      ],
      "text/plain": [
       "Matrix([\n",
       "[4*x_0 - x_2],\n",
       "[  5*x_1 - 4]])"
      ]
     },
     "execution_count": 12,
     "metadata": {},
     "output_type": "execute_result"
    }
   ],
   "source": [
    "T2(v)"
   ]
  },
  {
   "cell_type": "code",
   "execution_count": 13,
   "metadata": {},
   "outputs": [
    {
     "data": {
      "text/plain": [
       "False"
      ]
     },
     "execution_count": 13,
     "metadata": {},
     "output_type": "execute_result"
    }
   ],
   "source": [
    "T2(v) == A2*v"
   ]
  },
  {
   "cell_type": "code",
   "execution_count": 14,
   "metadata": {},
   "outputs": [],
   "source": [
    "respuesta_ejemplo_b='No es una transformación lineal'"
   ]
  },
  {
   "cell_type": "code",
   "execution_count": 15,
   "metadata": {},
   "outputs": [
    {
     "data": {
      "text/latex": [
       "$\\displaystyle \\left[\\begin{matrix}0 & 0\\\\1 & -1\\end{matrix}\\right]$"
      ],
      "text/plain": [
       "Matrix([\n",
       "[0,  0],\n",
       "[1, -1]])"
      ]
     },
     "execution_count": 15,
     "metadata": {},
     "output_type": "execute_result"
    }
   ],
   "source": [
    "# Ejemplo 3\n",
    "def T3(u):\n",
    "    (x0,x1) = u\n",
    "    return sp.Matrix((x0*x1, x0 - x1))\n",
    "\n",
    "A3=T3(I2[:,0]).row_join(T3(I2[:,1]))\n",
    "A3"
   ]
  },
  {
   "cell_type": "code",
   "execution_count": 16,
   "metadata": {},
   "outputs": [
    {
     "data": {
      "text/latex": [
       "$\\displaystyle \\left[\\begin{matrix}0\\\\x_{0} - x_{1}\\end{matrix}\\right]$"
      ],
      "text/plain": [
       "Matrix([\n",
       "[        0],\n",
       "[x_0 - x_1]])"
      ]
     },
     "execution_count": 16,
     "metadata": {},
     "output_type": "execute_result"
    }
   ],
   "source": [
    "A3*u"
   ]
  },
  {
   "cell_type": "code",
   "execution_count": 17,
   "metadata": {},
   "outputs": [
    {
     "data": {
      "text/latex": [
       "$\\displaystyle \\left[\\begin{matrix}x_{0} x_{1}\\\\x_{0} - x_{1}\\end{matrix}\\right]$"
      ],
      "text/plain": [
       "Matrix([\n",
       "[  x_0*x_1],\n",
       "[x_0 - x_1]])"
      ]
     },
     "execution_count": 17,
     "metadata": {},
     "output_type": "execute_result"
    }
   ],
   "source": [
    "T3(u)"
   ]
  },
  {
   "cell_type": "code",
   "execution_count": 18,
   "metadata": {},
   "outputs": [
    {
     "data": {
      "text/plain": [
       "False"
      ]
     },
     "execution_count": 18,
     "metadata": {},
     "output_type": "execute_result"
    }
   ],
   "source": [
    "T3(u) == A3*u"
   ]
  },
  {
   "cell_type": "code",
   "execution_count": 19,
   "metadata": {},
   "outputs": [],
   "source": [
    "respuesta_ejemplo_c='No es una transformación lineal'"
   ]
  },
  {
   "cell_type": "markdown",
   "metadata": {},
   "source": [
    "# Extrapolación de las definiciones de las trasformaciones matriciales  a las transformaciones lineales\n",
    "\n",
    "En la sección de espacios vectoriales vimos que el espacio vectorial de los polinomios de grado $n$ o menor tienen dimensión $n+1$ y que el espacio de las matrices de $m \\times n$ tienen dimensión $mn$. Sin embargo, el espacio vectorial de todos los polinomios no tenía dimensión finita, al igual que el espacio de las funciones de valor real.\n",
    "\n",
    "En esta sección nos centraremos en los espacios vectoriales de dimensión finita, en particular en los espacios vectoriales de los polinomios de grado $n$ o menor. \n",
    "\n",
    "Una matriz asocia una sucesión de vectores $A=[v_1, v_2, \\ldots, v_n]$ con una transformación $T_A$. Esta asociación no se pierde en las transformaciones lineales entre espacios vectoriales de dimensión finita y es una de las ideas fundamentales del álgebra lineal.\n",
    "\n",
    "## Teorema\n",
    "Sea $A=[v_1, v_2, \\ldots, v_n]$ una sucesión de vectores del espacio vectorial $V$ y sea $T_A: \\mathbb{R}^n \\rightarrow V$ una transformación dada por la combinación lineal de los vectores de $A$.\n",
    "\n",
    "$$T_A\\begin{pmatrix}x_1\\\\x_2\\\\\\vdots\\\\x_n\\end{pmatrix}=x_1v_1+x_2v_2+\\cdots+x_nv_n$$\n",
    "\n",
    "* $A$ es LI **si y sólo si** $T_A$ es inyectiva.\n",
    "* $\\text{Gen}(A)=V$  **si y sólo si** $T_A$ es sobreyectiva.\n",
    "* $A$ es una base de $V$ **si y sólo si** $T_A$ es un isomorfismo.\n",
    "\n",
    "Por lo tanto, la base estándar $B$ del espacio vectorial $V$ (de dimensión $n$) inducirá el isomorfismo $S_V: \\mathbb{R}^n \\rightarrow V$ llamado  **isomorfismo estándar del espacio $V$**.\n",
    "\n",
    "\n",
    "## Ejemplo\n",
    "\n",
    "Como la base estándar del espacio vectorial de los polinomios de grado $n$ o menor es $E_{Pn}=[1,x,x^2, \\ldots, x^n ]$ entonces el isomorfismo estándar  será una combinación lineal de los vectores de la base.\n",
    "$$S_{Pn}\\left( \\begin{bmatrix} a_0 \\\\ a_1 \\\\ \\vdots \\\\ a_n  \\end{bmatrix} \\right)=a_0(1) + a_1(x) + \\cdots + a_n(x^n) $$\n",
    "\n",
    "En particular, la base estándar de $P_3$ es $E_{P3}=[1,x,x^2,x^3]$ y su isomorfismo es \n",
    "$$S_{P3}\\left( \\begin{bmatrix} a_0 \\\\ a_1 \\\\ a_2 \\\\ a_3  \\end{bmatrix} \\right)=a_0(1) + a_1(x) +a_2(x^2) + a_3(x^3) $$\n",
    "\n",
    "\n",
    "\n",
    "## Coordenadas\n",
    "Si $B$ es una base de $V$ que induce el isomorfismo $S_B: \\mathbb{R}^n \\rightarrow V$ y $v \\in V$. Entonces al vector $\\vec{x} \\in \\mathbb{R}^n$ que cumple $$S_B(\\vec{x})=v$$ se conoce como las **coordenadas** de $v$ en la base $B$ y se denota\n",
    "\n",
    "$$[v]_B=\\vec{x}$$\n",
    "\n",
    "Debido a que $$S_{P3}\\begin{bmatrix} 3 \\\\ 5 \\\\ 8 \\\\ -2  \\end{bmatrix}=3 + 5x + 8x^2 - 2x^3$$ entonces \n",
    "\n",
    "\n",
    "$$[3 + 5x + 8x^2 - 2x^3]_{EP3}=\\begin{bmatrix} 3 \\\\ 5 \\\\ 8 \\\\ -2  \\end{bmatrix}$$\n",
    "\n",
    "## Núcleo e imagen\n",
    "\n",
    "Las definiciones de las transformaciones matriciales que se basan en combinaciones lineales pueden ser extrapoladas a las transformaciones lineales. En particular las definiciones de **Núcleo** e **Imagen**. La **Nulidad** y el **Rango** corresponden a las dimensiones de los subespacios del núcleo e imagen respectivamente.  Además, cumplen las mismas propiedades que se enuncian a continuación.\n",
    "\n",
    "\n",
    "## Teorema\n",
    "Sea $T: U \\rightarrow V$ una transformación lineal entre los espacios vectoriales $U$ y $V$.\n",
    "\n",
    "Las siguientes tres afirmaciones son equivalentes.\n",
    "* $T$ es inyectiva\n",
    "* $\\text{Nu}(T)=\\{\\vec{0}\\}$\n",
    "* $\\nu(T)=0$\n",
    "\n",
    "Estas otras tres afirmaciones son equivalentes.\n",
    "* $T$ es sobreyectiva\n",
    "* $\\text{Im}(T)=V$\n",
    "* $\\rho(T)=Dim(V)$\n"
   ]
  },
  {
   "cell_type": "markdown",
   "metadata": {},
   "source": [
    "# Propiedades de los isomorfismos\n",
    "Si además, la transformación lineal $T:U \\rightarrow V$ es biyectiva (es decir, es un isomorfismo) entonces hay una correspondencia de elemento a elemento. Por lo tanto, cualquier propiedad derivada de las combinaciones lineales que se cumpla en un conjunto tendrá su correspondiente en el otro conjunto, lo cual fundamente los siguientes dos teoremas."
   ]
  },
  {
   "cell_type": "markdown",
   "metadata": {},
   "source": [
    "## Teorema\n",
    "Sea el isomorfismos $S:U \\rightarrow V$ entre los espacios vectoriales $U$ y $V$, sea $A=[\\vec{u_1}, \\vec{u_2}, \\ldots, \\vec{u_n}]$ una sucesión de vectores de $U$, y sean $W$ y $W'$ un subespacio y un subconjunto de $U$. \n",
    "entonces:\n",
    " \n",
    "* $\\text{Gen}(A)=U$ **si y sólo si** $\\text{Gen}(S^*(A))=V$\n",
    "* $A$ es LI **si y sólo si** $S^*(A)$ es LI\n",
    "* $A$ es base de $U$ **si y sólo si** $S^*(A)$ es base de $V$\n",
    "* $\\text{Dim}(U)=\\text{Dim}(V)$\n",
    "* $W'$ es subespacio de $U$ **si y sólo si** $S^*(W')$ es subespacio de $V$\n",
    "* $\\text{Gen}(A)=W$ **si y sólo si** $\\text{Gen}(S^*(A))=S^*(W)$\n",
    "* $A$ es base de $W$ **si y sólo si** $S^*(A)$ es base de $S^*(W)$\n",
    "* $\\text{Dim}(W)=\\text{Dim}(S^*(W))$\n",
    "\n",
    "## Teorema \n",
    "Sean dos isomorfismos $S_1:A \\rightarrow B$ y $S_2:C \\rightarrow D$ en los espacios vectoriales $A, B, C, D$  "
   ]
  },
  {
   "cell_type": "code",
   "execution_count": 20,
   "metadata": {},
   "outputs": [
    {
     "data": {
      "image/png": "[encoded data removed]",
      "text/plain": [
       "<Figure size 432x288 with 1 Axes>"
      ]
     },
     "metadata": {
      "needs_background": "light"
     },
     "output_type": "display_data"
    }
   ],
   "source": [
    "grafo({\"V\":(1,1,\". B\"),\"W\":(2,1,\". D\"),\"V1\":(1,2,\"A\"),\"W1\":(2,2,\"C\")},[(\"S_1\",\"V1\",\"V\"),(\"S_2\",\"W1\",\"W\")]\n",
    "     )"
   ]
  },
  {
   "cell_type": "markdown",
   "metadata": {},
   "source": [
    "y sean las transformaciones $T_1:A \\rightarrow C$ y  $T_2:B \\rightarrow D$ tales que\n",
    "* $T_1 \\circ S_1 = S_2 \\circ T_2$\n",
    "\n",
    "(esto se indica con un '=' entre los dos caminos)."
   ]
  },
  {
   "cell_type": "code",
   "execution_count": 21,
   "metadata": {},
   "outputs": [
    {
     "data": {
      "image/png": "[encoded data removed]",
      "text/plain": [
       "<Figure size 432x288 with 1 Axes>"
      ]
     },
     "metadata": {
      "needs_background": "light"
     },
     "output_type": "display_data"
    }
   ],
   "source": [
    "grafo({\"V\":(1,1,\". B\"),\"W\":(2,1,\". D\"),\"V1\":(1,2,\"A\"),\"W1\":(2,2,\"C\")},[(\"T_1\",\"V\",\"W\"),(\"S_1\",\"V1\",\"V\"),(\"S_2\",\"W1\",\"W\"),(\"T_2\",\"V1\",\"W1\")]\n",
    "     ,[(1.5,1.5,\"=\")])"
   ]
  },
  {
   "cell_type": "markdown",
   "metadata": {},
   "source": [
    "entonces:\n",
    "* $T_1$ es una transformación lineal **si y sólo si** $T_2$ es una transformación lineal.\n",
    "* $T_1$ es una transformación inyectiva **si y sólo si** $T_2$ es una transformación inyectiva.\n",
    "* $T_1$ es una transformación sobreyectiva **si y sólo si** $T_2$ es una transformación sobreyectiva.\n",
    "* $T_1$ es un isomorfismo **si y sólo si** $T_2$ es un isomorfismo.\n",
    "* $\\text{Im}(T_1)=S_2^*(\\text{Im}(T_2))$\n",
    "* $\\text{Nu}(T_1)=S_1^*(\\text{Nu}(T_2))$\n",
    "* $\\rho(T_1)=\\rho(T_2)$\n",
    "* $\\nu(T_1)=\\nu(T_2)$\n",
    "\n"
   ]
  },
  {
   "cell_type": "markdown",
   "metadata": {},
   "source": [
    "# Ejemplo 1\n",
    "Demuestre que $T \\left( \\begin{bmatrix} x \\\\ y \\\\ z \\end{bmatrix} \\right) = \\begin{bmatrix} 3x - z \\\\ y  \\end{bmatrix} $ es una transformación lineal y encuentre la respectiva matriz.\n",
    "\n",
    "## Recorderis \n",
    "$T:\\mathbb{R}^n \\rightarrow \\mathbb{R}^m$ es una transformación lineal **si y sólo si** para todo $v \\in \\mathbb{R}^n$ se cumple que $T(v)=Av$. Donde $A$ es la matriz de $m \\times n$  dada por \n",
    " $$A=T^*(I)= \\begin{bmatrix}\n",
    "  T \\left( \\begin{bmatrix} 1 \\\\ 0 \\\\ \\vdots \\\\ 0 \\end{bmatrix} \\right) & \n",
    "  T \\left( \\begin{bmatrix} 0 \\\\ 1 \\\\ \\vdots \\\\ 0 \\end{bmatrix} \\right) &\n",
    "  \\cdots &\n",
    "  T \\left( \\begin{bmatrix} 0 \\\\ 0 \\\\ \\vdots \\\\ 1 \\end{bmatrix} \\right) \n",
    " \\end{bmatrix} $$ \n",
    "\n",
    "## Solución\n",
    "Primero encontraremos la matriz $A=T^*(I)$ y luego comprobaremos que $A\\begin{bmatrix} x \\\\ y \\\\ z \\end{bmatrix}=T \\left( \\begin{bmatrix} x \\\\ y \\\\ z \\end{bmatrix} \\right) = \\begin{bmatrix} 3x - z \\\\ y  \\end{bmatrix} $\n",
    "\n",
    "\\begin{align}\n",
    "A &=T^*\\left(\\begin{bmatrix} 1 & 0 & 0 \\\\ 0 & 1 & 0 \\\\ 0 & 0 & 1 \\end{bmatrix}\\right)\\\\\n",
    "  &=\\begin{bmatrix}\n",
    "  T \\left( \\begin{bmatrix} 1 \\\\ 0 \\\\ 0 \\end{bmatrix} \\right) & \n",
    "  T \\left( \\begin{bmatrix} 0 \\\\ 1 \\\\ 0 \\end{bmatrix} \\right) &\n",
    "  T \\left( \\begin{bmatrix} 0 \\\\ 0 \\\\ 1 \\end{bmatrix} \\right) \n",
    " \\end{bmatrix}\\\\\n",
    " &=\\begin{bmatrix}\n",
    " 3 & 0 & -1 \\\\ \n",
    " 0 & 1 &  0\n",
    " \\end{bmatrix}\n",
    "\\end{align}\n",
    "\n",
    "Ahora probamos que $A\\begin{bmatrix} x \\\\ y \\\\ z \\end{bmatrix}=T \\left( \\begin{bmatrix} x \\\\ y \\\\ z \\end{bmatrix} \\right) = \\begin{bmatrix} 3x - z \\\\ y  \\end{bmatrix} $\n",
    "\n",
    "$A\\begin{bmatrix} x \\\\ y \\\\ z \\end{bmatrix}=\\begin{bmatrix}\n",
    " 3 & 0 & -1 \\\\ \n",
    " 0 & 1 &  0\n",
    " \\end{bmatrix}\n",
    "\\begin{bmatrix} x \\\\ y \\\\ z \\end{bmatrix}\n",
    "=\\begin{bmatrix} 3x - z \\\\ y  \\end{bmatrix} $\n",
    "\n",
    "Lo cual prueba que $T$ si es lineal.\n",
    "\n",
    "\n"
   ]
  },
  {
   "cell_type": "code",
   "execution_count": 22,
   "metadata": {},
   "outputs": [],
   "source": [
    "respuesta_ejemplo_1='Sí es lineal'"
   ]
  },
  {
   "cell_type": "code",
   "execution_count": 23,
   "metadata": {},
   "outputs": [],
   "source": [
    "matriz_ejemplo_1=sp.Matrix([\n",
    " [3, 0, -1], \n",
    " [0, 1,  0]\n",
    "])\n"
   ]
  },
  {
   "cell_type": "markdown",
   "metadata": {},
   "source": [
    "# Ejemplo 2\n",
    "Demuestre que $T:P_1 \\rightarrow P_3$ dada por \n",
    "$$T(a_0 + a_1 x )= 3a_0 + (2a_0 + a_1)x + (a_0 + 2a_1)x^2 + 3a_1x^3 $$\n",
    "es una transformación lineal y encuentre la matriz usando las respectivas bases estándar.\n",
    "\n",
    "## Recorderis 1\n",
    "$B=\\begin{bmatrix} v_0 & v_1 & \\cdots & v_{n-1} \\end{bmatrix}$ es una base del espacio vectorial $V$ de dimensión $n$ **si y sólo si** la transformación asociada \n",
    "$S_B:\\mathbb{R}^n \\rightarrow V$ dada por \n",
    "$$S_B\\left( \\begin{bmatrix} a_0 \\\\ a_1 \\\\ \\vdots \\\\ a_{(n-1)} \\end{bmatrix} \\right)=a_0 v_0 +a_1 v_1 + \\cdots +a_{(n-1)} v_{(n-1)} $$\n",
    "es un isomorfismo.\n",
    "\n",
    "## Recorderis 2\n",
    "La base estándar de $P_1$ es $E_{P1}=[1,x]$ y su isomorfismo es \n",
    "$$S_{P1}\\left( \\begin{bmatrix} a_0 \\\\ a_1  \\end{bmatrix} \\right)=a_0(1) + a_1(x) $$\n",
    "\n",
    "La base estándar de $P_3$ es $E_{P3}=[1,x,x^2,x^3]$ y su isomorfismo es \n",
    "$$S_{P3}\\left( \\begin{bmatrix} a_0 \\\\ a_1 \\\\ a_2 \\\\ a_3  \\end{bmatrix} \\right)=a_0(1) + a_1(x) +a_2(x^2) + a_3(x^3) $$\n",
    "\n",
    "## Recorderis 3"
   ]
  },
  {
   "cell_type": "code",
   "execution_count": 24,
   "metadata": {},
   "outputs": [
    {
     "data": {
      "image/png": "[encoded data removed]",
      "text/plain": [
       "<Figure size 432x288 with 1 Axes>"
      ]
     },
     "metadata": {
      "needs_background": "light"
     },
     "output_type": "display_data"
    }
   ],
   "source": [
    "grafo({\"V\":(1,1,\"V\"),\"W\":(2,1,\"W\"),\"V1\":(1,2,\"R^n\"),\"W1\":(2,2,\"R^m\")},[(\"S_V\",\"V1\",\"V\"),(\"S_W\",\"W1\",\"W\")]\n",
    "     )"
   ]
  },
  {
   "cell_type": "markdown",
   "metadata": {},
   "source": [
    "Sean $V$ y $W$ espacios vectoriales, sean $n$ y $m$ sus respectivas dimensiones, sean $B_V$ y $B_W$ bases de cada espacio y sean $S_V:\\mathbb{R}^n \\rightarrow V$ y $S_W:\\mathbb{R}^m \\rightarrow W$ sus respectivos isomorfismos."
   ]
  },
  {
   "cell_type": "code",
   "execution_count": 25,
   "metadata": {},
   "outputs": [
    {
     "data": {
      "image/png": "[encoded data removed]",
      "text/plain": [
       "<Figure size 432x288 with 1 Axes>"
      ]
     },
     "metadata": {
      "needs_background": "light"
     },
     "output_type": "display_data"
    }
   ],
   "source": [
    "grafo({\"V\":(1,1,\". V\"),\"W\":(2,1,\". W\"),\"V1\":(1,2,\"R^n\"),\"W1\":(2,2,\"R^m\")},[(\"T\",\"V\",\"W\"),(\"S_V\",\"V1\",\"V\"),(\"S_W\",\"W1\",\"W\")]\n",
    "     )"
   ]
  },
  {
   "cell_type": "markdown",
   "metadata": {},
   "source": [
    "$T:V \\rightarrow W$ es una transformación lineal **si y sólo si** para todo $v \\in V$ se cumple que $S_W^{-1} \\circ T \\circ S_V(v)=Av$. Donde $A$ es la matriz de $m \\times n$  dada por \n",
    " $$A=S_W^{*-1} \\circ T^* \\circ S_V^*(I)$$"
   ]
  },
  {
   "cell_type": "code",
   "execution_count": 26,
   "metadata": {},
   "outputs": [
    {
     "data": {
      "image/png": "[encoded data removed]",
      "text/plain": [
       "<Figure size 432x288 with 1 Axes>"
      ]
     },
     "metadata": {
      "needs_background": "light"
     },
     "output_type": "display_data"
    }
   ],
   "source": [
    "grafo({\"V\":(1,1,\". V\"),\"W\":(2,1,\". W\"),\"V1\":(1,2,\"R^n\"),\"W1\":(2,2,\"R^m\")},[(\"T\",\"V\",\"W\"),(\"S_V\",\"V1\",\"V\"),(\"S_W\",\"W1\",\"W\"),(\"A\",\"V1\",\"W1\")]\n",
    "     ,[(1.5,1.5,\"=\")])"
   ]
  },
  {
   "cell_type": "markdown",
   "metadata": {},
   "source": [
    "## Solución\n",
    "Recordemos que \n",
    "$$T(a_0 + a_1 x )= 3a_0 + (2a_0 + a_1)x + (a_0 + 2a_1)x^2 + 3a_1x^3 $$\n",
    "\n",
    "Primero encontraremos la matriz $A=S_{P3}^{*-1} \\circ T^* \\circ S_{P1}^*(I)$ y luego comprobaremos que $A\\begin{bmatrix} a_0 \\\\ a_1  \\end{bmatrix}=S_{P3}^{-1} \\circ T \\circ S_{P1} \\left( \\begin{bmatrix} a_0 \\\\ a_1  \\end{bmatrix} \\right)  $"
   ]
  },
  {
   "cell_type": "code",
   "execution_count": 27,
   "metadata": {},
   "outputs": [
    {
     "data": {
      "image/png": "[encoded data removed]",
      "text/plain": [
       "<Figure size 432x288 with 1 Axes>"
      ]
     },
     "metadata": {
      "needs_background": "light"
     },
     "output_type": "display_data"
    }
   ],
   "source": [
    "grafo({\"V\":(1,1,\". P_1\"),\"W\":(2,1,\". P_3\"),\"V1\":(1,2,\"R^2\"),\"W1\":(2,2,\"R^4\")},\n",
    "      [(\"T\",\"V\",\"W\"),(\"S_{P1}\",\"V1\",\"V\"),(\"S_{P3}\",\"W1\",\"W\"),(\"A\",\"V1\",\"W1\")]\n",
    "     ,[(1.5,1.5,\"=\")])"
   ]
  },
  {
   "cell_type": "markdown",
   "metadata": {},
   "source": [
    "\\begin{align}\n",
    "A &=S_{P3}^{*-1} \\circ T^* \\circ S_{P1}^* \\left(\\begin{bmatrix} 1 & 0 \\\\ 0 & 1 \\end{bmatrix}\\right)\\\\\n",
    "  &=S_{P3}^{*-1} \\circ T^*\\left(\\begin{bmatrix}\n",
    "  S_{P1} \\left( \\begin{bmatrix} 1 \\\\ 0  \\end{bmatrix} \\right) & \n",
    "  S_{P1} \\left( \\begin{bmatrix} 0 \\\\ 1 \\end{bmatrix} \\right)  \n",
    " \\end{bmatrix}\\right)\\\\\n",
    "  &=S_{P3}^{*-1} \\circ T^*\\left([\n",
    "   1 + 0x,  \n",
    "   0 + 1x   \n",
    " ]\\right)\\\\\n",
    "  &=S_{P3}^{*-1}\\left([\n",
    "   T(1 + 0x),  \n",
    "   T(0 + 1x)   \n",
    " ]\\right)\\\\\n",
    "  &=S_{P3}^{*-1}\\left([\n",
    "   3 + 2x + 1x^2 + 0x^3,  \n",
    "   0 + 1x + 2x^2 + 3x^3   \n",
    " ]\\right)\\\\\n",
    "  &=[\n",
    "   S_{P3}^{-1}(3 + 2x + 1x^2 + 0x^3),  \n",
    "   S_{P3}^{-1}(0 + 1x + 2x^2 + 3x^3)   \n",
    " ]\\\\\n",
    " &=\\begin{bmatrix}\n",
    " 3 & 0 \\\\ \n",
    " 2 & 1 \\\\ \n",
    " 1 & 2 \\\\\n",
    " 0 & 3 \n",
    " \\end{bmatrix}\n",
    "\\end{align}\n",
    "\n",
    "Ahora probamos que $A\\begin{bmatrix} a_0 \\\\ a_1  \\end{bmatrix}=S_{P3}^{-1} \\circ T \\circ S_{P1} \\left( \\begin{bmatrix} a_0 \\\\ a_1  \\end{bmatrix} \\right)$\n",
    "\n",
    "\\begin{align}\n",
    "A\\begin{bmatrix} a_0 \\\\ a_1 \\end{bmatrix}\n",
    " &\\stackrel{?}{=}S_{P3}^{-1} \\circ T \\circ S_{P1} \\left(\\begin{bmatrix} a_0 \\\\ a_1 \\end{bmatrix}\\right)\\\\\n",
    "\\begin{bmatrix}\n",
    " 3 & 0 \\\\ \n",
    " 2 & 1 \\\\ \n",
    " 1 & 2 \\\\\n",
    " 0 & 3 \n",
    " \\end{bmatrix} \\begin{bmatrix} a_0 \\\\ a_1 \\end{bmatrix} \n",
    "  &\\stackrel{?}{=}S_{P3}^{-1} \\circ T\\left(\n",
    "   a_0 + a_1 x\n",
    " \\right)\\\\\n",
    "\\begin{bmatrix}\n",
    " 3a_0 \\\\ \n",
    " 2a_0 + a_1 \\\\ \n",
    " 1a_0 + 2a_1 \\\\\n",
    "        3a_1 \n",
    " \\end{bmatrix}  &=S_{P3}^{-1}\\left(\n",
    "   3a_0 + (2a_0 + a_1)x + (a_0 + 2a_1)x^2 + 3a_1x^3\\right)\\\\\n",
    "\\end{align}\n",
    "\n",
    "Lo cual prueba que $T$ es una transformación lineal."
   ]
  },
  {
   "cell_type": "code",
   "execution_count": 28,
   "metadata": {},
   "outputs": [],
   "source": [
    "respuesta_ejemplo_2='Sí es lineal'"
   ]
  },
  {
   "cell_type": "code",
   "execution_count": 29,
   "metadata": {},
   "outputs": [],
   "source": [
    "matriz_ejemplo_2=sp.Matrix([\n",
    " [3, 0], \n",
    " [2, 1], \n",
    " [1, 2],\n",
    " [0, 3] \n",
    " ])\n"
   ]
  },
  {
   "cell_type": "markdown",
   "metadata": {},
   "source": [
    "# Ejemplo 3\n",
    "Para la transformación de ejercicio 2 encuentre una base para el núcleo, una base para la imagen, la nulidad, el rango y diga si es inyectiva, sobreyectiva o es un isomorfismo.\n",
    "\n",
    "## Recorderis \n",
    "Usando la notación del Ejercicio 2.\n",
    "\n",
    "* $B_N$ es base del núcleo de $A$ **si y sólo si** $S_V^*(B_N)$ es base del núcleo de $V$ \n",
    "* $B_I$ es base de la imagen de $A$ **si y sólo si** $S_W^*(B_I)$ es base de la imagen de $W$ \n",
    "\n",
    "## Solución\n",
    "Primero encontraremos el núcleo de $A$, que es la solución del sistema homogéneo [A:0] \n",
    "\n",
    "$\\begin{bmatrix}\n",
    " 3 & 0 & : & 0\\\\ \n",
    " 2 & 1 & : & 0\\\\ \n",
    " 1 & 2 & : & 0\\\\\n",
    " 0 & 3 & : & 0\n",
    " \\end{bmatrix} \\sim\n",
    "\\begin{bmatrix}\n",
    " 3 & 0 & : & 0\\\\ \n",
    " 0 & 1 & : & 0\\\\ \n",
    " 0 & 2 & : & 0\\\\\n",
    " 0 & 3 & : & 0\n",
    " \\end{bmatrix} \\sim\n",
    "\\begin{bmatrix}\n",
    " 3 & 0 & : & 0\\\\ \n",
    " 0 & 1 & : & 0\\\\ \n",
    " 0 & 0 & : & 0\\\\\n",
    " 0 & 0 & : & 0\n",
    " \\end{bmatrix} $\n",
    "\n",
    "Cómo el sistema de ecuaciones no tiene variables libres entonces la solución del sistema homogéneo es el vector cero y su base es el conjunto vació. Por lo tanto, la base del núcleo de $A$ es el conjunto vació. Lo cual implica que la base del núcleo de $T$ es también el conjunto vacío.\n",
    "\n",
    "Como cada columna de $A$ tiene un l-pivote entonces las columnas de $A$ son la base de la imagen de $A$  \n",
    "Por lo tanto, la base de la imagen de $T$ es  \n",
    "\n",
    "$$ S^*_V\\left(\n",
    "\\begin{bmatrix}\n",
    " 3 & 0 \\\\ \n",
    " 2 & 1 \\\\ \n",
    " 1 & 2 \\\\\n",
    " 0 & 3\n",
    " \\end{bmatrix}\\right)=\n",
    "\\left[\n",
    "S_V\\left(\\begin{bmatrix}\n",
    " 3\\\\ \n",
    " 2\\\\ \n",
    " 1\\\\\n",
    " 0\n",
    " \\end{bmatrix} \n",
    " \\right),\n",
    " S_V\\left(\\begin{bmatrix}\n",
    " 0\\\\ \n",
    " 1\\\\ \n",
    " 2\\\\\n",
    " 3\n",
    " \\end{bmatrix} \n",
    " \\right) \\right]=\n",
    " [3+2x+x^2,x+2x^2+3x^3]\n",
    " $$\n",
    " \n",
    "\n",
    "\n",
    "\n"
   ]
  },
  {
   "cell_type": "code",
   "execution_count": 30,
   "metadata": {},
   "outputs": [],
   "source": [
    "base_nucleo_ejemplo_3=sp.Matrix()"
   ]
  },
  {
   "cell_type": "code",
   "execution_count": 31,
   "metadata": {},
   "outputs": [],
   "source": [
    "base_imagen_ejemplo_3=sp.Matrix([\n",
    " [3, 0], \n",
    " [2, 1], \n",
    " [1, 2],\n",
    " [0, 3] \n",
    " ])\n"
   ]
  },
  {
   "cell_type": "code",
   "execution_count": 32,
   "metadata": {},
   "outputs": [],
   "source": [
    "nulidad_ejemplo_3=0"
   ]
  },
  {
   "cell_type": "code",
   "execution_count": 33,
   "metadata": {},
   "outputs": [],
   "source": [
    "rango_ejemplo_3=2"
   ]
  },
  {
   "cell_type": "code",
   "execution_count": 34,
   "metadata": {},
   "outputs": [],
   "source": [
    "inyectiva_ejemplo_3='Sí'"
   ]
  },
  {
   "cell_type": "code",
   "execution_count": 35,
   "metadata": {},
   "outputs": [],
   "source": [
    "sobreyectiva_ejemplo_3='No'"
   ]
  },
  {
   "cell_type": "code",
   "execution_count": 36,
   "metadata": {},
   "outputs": [],
   "source": [
    "isomorfismo_ejemplo_3='No'"
   ]
  },
  {
   "cell_type": "markdown",
   "metadata": {},
   "source": [
    "# Ejemplo 4\n",
    "Sean $B_1=[1+x, 1-x]$ y $B_2=[1, 1+x]$ bases de $P_1$. Encuentre la matriz:\n",
    "* $A_2$ para pasar de $B_2$ a $E_{P1}$\n",
    "* $A'_2$ para pasar de $E_{P1}$ a $B_2$\n",
    "* $A_1$ para pasar de $B_1$ a $E_{P1}$\n",
    "* $A_5$ para pasar de $B_1$ a $B_2$\n",
    "\n",
    "## Recorderis\n",
    "Sea $V$ un espacio vectorial y sean $B_1$ y $B_2$ dos bases de $V$, con sus respectivos isomorfismos $S_{B1}:\\mathbb{R}^n \\rightarrow V$ y $S_{B2}:\\mathbb{R}^n \\rightarrow V$. \n",
    "\n",
    "La matriz de cambio de la base $B_1$ a la base $B_2$ está dada por\n",
    "$A=S^{*-1}_{B2}S^*_{B1}(I)$.\n",
    "\n",
    "De tal forma que si $v \\in V$ entonces  $A[v]_{B1}=[v]_{B2}$. Donde $[v]_B=S^{-1}_{B}(v)$ corresponde a las coordenadas de $v$ en la base $B$. "
   ]
  },
  {
   "cell_type": "code",
   "execution_count": 37,
   "metadata": {},
   "outputs": [
    {
     "data": {
      "image/png": "[encoded data removed]",
      "text/plain": [
       "<Figure size 432x288 with 1 Axes>"
      ]
     },
     "metadata": {
      "needs_background": "light"
     },
     "output_type": "display_data"
    }
   ],
   "source": [
    "grafo({\"V\":(1,0,\"V\"),\"V1\":(1,1,\"R^n\"),\"W1\":(2,1,\"R^n\")},[(\"S_{B1}\",\"V1\",\"V\"),(\"S_{B2}\",\"W1\",\"V\"),(\"A2\",\"V1\",\"W1\")]\n",
    "     ,[(1.2,0.5,\"=\")])"
   ]
  },
  {
   "cell_type": "markdown",
   "metadata": {},
   "source": [
    "## Solución\n",
    "Recordemos que la base estándar de $P_1$ es $E_{P1}=[1+0x,0+1x]$ y que el isomorfismo estándar es $S_{P1}\\left(\\begin{bmatrix}a_0\\\\a_1\\end{bmatrix}\\right)=a_0(1)+a_1(x)$\n",
    "\n",
    "La base $B_1=[1+x, 1-x]$ tiene asociado el isomorfismo $S_{B1}\\left(\\begin{bmatrix}a_0\\\\a_1\\end{bmatrix}\\right)=a_0(1+x)+a_1(1-x)$\n",
    "$$S_{B1}\\left(\\begin{bmatrix}a_0\\\\a_1\\end{bmatrix}\\right)=(a_0+a_1)+(a_0-a_1)x$$\n",
    "\n",
    "La base $B_2=[1, 1+x]$ tiene asociado el isomorfismo $S_{B2}\\left(\\begin{bmatrix}a_0\\\\a_1\\end{bmatrix}\\right)=a_0(1)+a_1(1+x)$\n",
    "$$S_{B2}\\left(\\begin{bmatrix}a_0\\\\a_1\\end{bmatrix}\\right)=(a_0+a_1)+(a_1)x$$\n",
    "\n"
   ]
  },
  {
   "cell_type": "code",
   "execution_count": 38,
   "metadata": {},
   "outputs": [
    {
     "data": {
      "image/png": "[encoded data removed]",
      "text/plain": [
       "<Figure size 432x288 with 1 Axes>"
      ]
     },
     "metadata": {
      "needs_background": "light"
     },
     "output_type": "display_data"
    }
   ],
   "source": [
    "grafo({\"V\":(1,1,\"P1\"),\"V0\":(0,2,\"R^2\"),\"V1\":(1,2,\". R^2\"),\"W1\":(2,2,\"R^2\")},\n",
    "      [(\"S_{B1}\",\"V0\",\"V\"),(\"S_{P1}\",\"V1\",\"V\"),(\"S_{B2}\",\"W1\",\"V\"),(\"A2\",\"W1\",\"V1\"),(\"A1\",\"V0\",\"V1\")]\n",
    "     ,[(0.8,1.7,\"=\"),(1.2,1.7,\"=\")])"
   ]
  },
  {
   "cell_type": "markdown",
   "metadata": {},
   "source": [
    "La matriz de $B_2$ a $E_{P1}$ es \n",
    "$$A_2=S^{*-1}_{P1}S^*_{B2}\\left(\\begin{bmatrix}1 & 0\\\\0 & 1\\end{bmatrix}\\right)=S^{*-1}_{P1}([1,1+x])=\\begin{bmatrix}1 & 1\\\\0 & 1\\end{bmatrix}$$\n",
    "\n",
    "La matriz de $E_{P1}$ a $B_{2}$ es la matriz inversa de la matriz de $B_2$ a $E_{P1}$ \n",
    "$$A_2^{-1}=\\begin{bmatrix}1 & 1\\\\0 & 1\\end{bmatrix}^{-1}=\\frac{1}{1-0}\\begin{bmatrix}1 & -1\\\\0 & 1\\end{bmatrix}=\\begin{bmatrix}1 & -1\\\\0 & 1\\end{bmatrix}$$\n",
    "\n",
    "\n",
    "La matriz de $B_1$ a $E_{P1}$ es \n",
    "$$A_1=S^{*-1}_{P1}S^*_{B1}\\left(\\begin{bmatrix}1 & 0\\\\0 & 1\\end{bmatrix}\\right)=S^{*-1}_{P1}([1+x,1-x])=\\begin{bmatrix}1 & 1\\\\1 & -1\\end{bmatrix}$$\n",
    "\n",
    "La matriz de $B_1$ a $B_2$ es la multiplicación de las matrices de $B_1$ a $E_{P1}$ y de $E_{P1}$ a $B_2$\n",
    "$$ A_5=A_2^{-1}A_1=\\begin{bmatrix}1 & -1\\\\0 & 1\\end{bmatrix}\\begin{bmatrix}1 & 1\\\\1 & -1\\end{bmatrix}=\\begin{bmatrix}0 & 2\\\\1 & -1\\end{bmatrix}$$"
   ]
  },
  {
   "cell_type": "code",
   "execution_count": 39,
   "metadata": {},
   "outputs": [
    {
     "data": {
      "image/png": "[encoded data removed]",
      "text/plain": [
       "<Figure size 432x288 with 1 Axes>"
      ]
     },
     "metadata": {
      "needs_background": "light"
     },
     "output_type": "display_data"
    }
   ],
   "source": [
    "grafo({\"V\":(1,1,\" V\"),\"V0\":(0,2,\"R^n\"),\"V1\":(1,2,\"R^n\"),\"W1\":(2,2,\"R^n\")},\n",
    "      [(\"S_{B1}\",\"V0\",\"V\"),(\"S_{P1}\",\"V1\",\"V\"),(\"S_{B2}\",\"W1\",\"V\"),(\"A_2\",\"W1\",\"V1\"),(\"A_1\",\"V0\",\"V1\")]\n",
    "     ,[(0.8,1.7,\"=\"),(1.2,1.7,\"=\")])"
   ]
  },
  {
   "cell_type": "code",
   "execution_count": 40,
   "metadata": {},
   "outputs": [],
   "source": [
    "A2_ejemplo_4=sp.Matrix([\n",
    " [1, 1], \n",
    " [0, 1], \n",
    " ])"
   ]
  },
  {
   "cell_type": "code",
   "execution_count": 41,
   "metadata": {},
   "outputs": [],
   "source": [
    "A2_prima_ejemplo_4=sp.Matrix([\n",
    " [1, -1], \n",
    " [0, 1 ], \n",
    " ])"
   ]
  },
  {
   "cell_type": "code",
   "execution_count": 42,
   "metadata": {},
   "outputs": [],
   "source": [
    "A1_ejemplo_4=sp.Matrix([\n",
    " [1, 1], \n",
    " [1, -1], \n",
    " ])"
   ]
  },
  {
   "cell_type": "code",
   "execution_count": 43,
   "metadata": {},
   "outputs": [],
   "source": [
    "A5_ejemplo_4=sp.Matrix([\n",
    " [0, 2], \n",
    " [1, -1], \n",
    " ])"
   ]
  },
  {
   "cell_type": "markdown",
   "metadata": {},
   "source": [
    "# Ejemplo 5\n",
    "Para la transformación $T:P_1 \\rightarrow P_3$ dada por \n",
    "$$T(a_0 + a_1 x )= 3a_0 + (2a_0 + a_1)x + (a_0 + 2a_1)x^2 + 3a_1x^3 $$\n",
    "encuentre la matriz de la transformación $A4$ usando la base $B_1=[1+x, 1-x]$ para el dominio y la base $B_3=[1,1+x, x+x^2, x^2+x^3 ]$ para el codominio.  \n",
    "\n",
    "## Solución\n",
    "\n",
    "Recordemos que la base estándar de $P_1$ es $$E_{P1}=[1,x]$$ y que el isomorfismo estándar es $$S_{P1}\\left(\\begin{bmatrix}a_0\\\\a_1\\end{bmatrix}\\right)=a_0(1)+a_1(x)$$\n",
    "Además, la base estándar de $P_3$ es $$E_{P3}=[1,x,x^2,x^3]$$ y que el isomorfismo estándar es $$S_{P3}\\left(\\begin{bmatrix}a_0\\\\a_1\\\\a_2\\\\a_3\\end{bmatrix}\\right)=a_0(1)+a_1(x)+a_2(x^2)+a_3(x^3)$$\n",
    "La base $$B_1=[1+x, 1-x]$$ tiene asociado el isomorfismo $$S_{B1}\\left(\\begin{bmatrix}a_0\\\\a_1\\end{bmatrix}\\right)=a_0(1+x)+a_1(1-x)$$\n",
    "La base $$B_3=[1,1+x, x+x^2, x^2+x^3 ]$$ tiene asociado el isomorfismo $$S_{B3}\\left(\\begin{bmatrix}a_0\\\\a_1\\\\a_2\\\\a_3\\end{bmatrix}\\right)=a_0(1)+a_1(1+x)+a_2(x+x^2)+a_3(x^2+x^3)$$\n"
   ]
  },
  {
   "cell_type": "code",
   "execution_count": 81,
   "metadata": {},
   "outputs": [
    {
     "data": {
      "image/png": "[encoded data removed]",
      "text/plain": [
       "<Figure size 432x288 with 1 Axes>"
      ]
     },
     "metadata": {
      "needs_background": "light"
     },
     "output_type": "display_data"
    }
   ],
   "source": [
    "grafo({\"P1\":(1,1,\"P_1\"),\"P3\":(2,1,\"P_3\"),\"B1\":(0,2,\"R^2\"),\"R2\":(1,2,\"R^2\"),\"R4\":(2,2,\"R^4\"),\"B3\":(3,2,\"R^4\")},\n",
    "      [(\"T\",\"P1\",\"P3\"),(\"S_{B1}\",\"B1\",\"P1\"),(\"S_{P1}\",\"R2\",\"P1\"),(\"S_{P3}\",\"R4\",\"P3\"),(\"S_{B3}\",\"B3\",\"P3\"),(\"A_1\",\"B1\",\"R2\"),\n",
    "       (\"A\",\"R2\",\"R4\"),(\"A_3\",\"B3\",\"R4\")],\n",
    "      [(0.8,1.6,\"=\"),(1.5,1.6,\"=\"),(2.2,1.6,\"=\")])"
   ]
  },
  {
   "cell_type": "markdown",
   "metadata": {},
   "source": [
    "La matriz $A_1$ coincide con la del ejercicio 4."
   ]
  },
  {
   "cell_type": "code",
   "execution_count": 45,
   "metadata": {},
   "outputs": [
    {
     "data": {
      "text/latex": [
       "$\\displaystyle \\left[\\begin{matrix}1 & 1\\\\1 & -1\\end{matrix}\\right]$"
      ],
      "text/plain": [
       "Matrix([\n",
       "[1,  1],\n",
       "[1, -1]])"
      ]
     },
     "execution_count": 45,
     "metadata": {},
     "output_type": "execute_result"
    }
   ],
   "source": [
    "import sympy as sp\n",
    "A1=sp.Matrix([\n",
    "    [1, 1],\n",
    "    [1, -1]\n",
    "])\n",
    "A1"
   ]
  },
  {
   "cell_type": "markdown",
   "metadata": {},
   "source": [
    "La matriz $A$ coincide con la del ejercicio 2. "
   ]
  },
  {
   "cell_type": "code",
   "execution_count": 46,
   "metadata": {},
   "outputs": [
    {
     "data": {
      "text/latex": [
       "$\\displaystyle \\left[\\begin{matrix}3 & 0\\\\2 & 1\\\\1 & 2\\\\0 & 3\\end{matrix}\\right]$"
      ],
      "text/plain": [
       "Matrix([\n",
       "[3, 0],\n",
       "[2, 1],\n",
       "[1, 2],\n",
       "[0, 3]])"
      ]
     },
     "execution_count": 46,
     "metadata": {},
     "output_type": "execute_result"
    }
   ],
   "source": [
    "A=sp.Matrix([\n",
    " [3, 0], \n",
    " [2, 1], \n",
    " [1, 2],\n",
    " [0, 3] \n",
    "])\n",
    "A"
   ]
  },
  {
   "cell_type": "markdown",
   "metadata": {},
   "source": [
    "Queda pendiente encontrar la matriz $A_3$.\n",
    "\n",
    "La matriz de $B_3$ a $E_{P3}$ es \n",
    "$$\\begin{align}\n",
    "A_3&=S^{*-1}_{E3}S^*_{B3}\\left(\\begin{bmatrix}1 & 0 & 0 & 0\\\\0 & 1 & 0 & 0\\\\0 & 0 & 1 & 0\\\\0 & 0 & 0 & 1\\end{bmatrix}\\right)\\\\\n",
    "&=S^{*-1}_{E1}([1,1+x, x+x^2, x^2+x^3])\\\\\n",
    "&=\\begin{bmatrix}1 & 1 &0 &0\\\\0 & 1 &1&0\\\\0&0&1&1\\\\0&0&0&1\\end{bmatrix}\\\\\n",
    "\\end{align}$$\n",
    "\n",
    "La matriz solicitada ($A4$) corresponde al producto\n",
    "$$A4=A_3^{-1}AA_1$$\n",
    "Por lo tanto, vamos a encontrar $A_3^{-1}$  "
   ]
  },
  {
   "cell_type": "code",
   "execution_count": 47,
   "metadata": {},
   "outputs": [
    {
     "data": {
      "text/latex": [
       "$\\displaystyle \\left[\\begin{matrix}1 & 1 & 0 & 0\\\\0 & 1 & 1 & 0\\\\0 & 0 & 1 & 1\\\\0 & 0 & 0 & 1\\end{matrix}\\right]$"
      ],
      "text/plain": [
       "Matrix([\n",
       "[1, 1, 0, 0],\n",
       "[0, 1, 1, 0],\n",
       "[0, 0, 1, 1],\n",
       "[0, 0, 0, 1]])"
      ]
     },
     "execution_count": 47,
     "metadata": {},
     "output_type": "execute_result"
    }
   ],
   "source": [
    "A3=sp.Matrix([[1, 1, 0, 0],\n",
    "             [0, 1, 1, 0],\n",
    "             [0, 0, 1, 1],\n",
    "             [0, 0, 0, 1]])\n",
    "A3"
   ]
  },
  {
   "cell_type": "code",
   "execution_count": 48,
   "metadata": {},
   "outputs": [
    {
     "data": {
      "text/latex": [
       "$\\displaystyle \\left[\\begin{matrix}1 & 1 & 0 & 0 & 1 & 0 & 0 & 0\\\\0 & 1 & 1 & 0 & 0 & 1 & 0 & 0\\\\0 & 0 & 1 & 1 & 0 & 0 & 1 & 0\\\\0 & 0 & 0 & 1 & 0 & 0 & 0 & 1\\end{matrix}\\right]$"
      ],
      "text/plain": [
       "Matrix([\n",
       "[1, 1, 0, 0, 1, 0, 0, 0],\n",
       "[0, 1, 1, 0, 0, 1, 0, 0],\n",
       "[0, 0, 1, 1, 0, 0, 1, 0],\n",
       "[0, 0, 0, 1, 0, 0, 0, 1]])"
      ]
     },
     "execution_count": 48,
     "metadata": {},
     "output_type": "execute_result"
    }
   ],
   "source": [
    "M=A3.row_join(sp.eye(4))\n",
    "M"
   ]
  },
  {
   "cell_type": "code",
   "execution_count": 49,
   "metadata": {},
   "outputs": [
    {
     "data": {
      "text/latex": [
       "$\\displaystyle \\left[\\begin{matrix}1 & 1 & 0 & 0 & 1 & 0 & 0 & 0\\\\0 & 1 & 1 & 0 & 0 & 1 & 0 & 0\\\\0 & 0 & 1 & 0 & 0 & 0 & 1 & -1\\\\0 & 0 & 0 & 1 & 0 & 0 & 0 & 1\\end{matrix}\\right]$"
      ],
      "text/plain": [
       "Matrix([\n",
       "[1, 1, 0, 0, 1, 0, 0,  0],\n",
       "[0, 1, 1, 0, 0, 1, 0,  0],\n",
       "[0, 0, 1, 0, 0, 0, 1, -1],\n",
       "[0, 0, 0, 1, 0, 0, 0,  1]])"
      ]
     },
     "execution_count": 49,
     "metadata": {},
     "output_type": "execute_result"
    }
   ],
   "source": [
    "M[2,:] -= M[3,:]\n",
    "M"
   ]
  },
  {
   "cell_type": "code",
   "execution_count": 50,
   "metadata": {},
   "outputs": [
    {
     "data": {
      "text/latex": [
       "$\\displaystyle \\left[\\begin{matrix}1 & 1 & 0 & 0 & 1 & 0 & 0 & 0\\\\0 & 1 & 0 & 0 & 0 & 1 & -1 & 1\\\\0 & 0 & 1 & 0 & 0 & 0 & 1 & -1\\\\0 & 0 & 0 & 1 & 0 & 0 & 0 & 1\\end{matrix}\\right]$"
      ],
      "text/plain": [
       "Matrix([\n",
       "[1, 1, 0, 0, 1, 0,  0,  0],\n",
       "[0, 1, 0, 0, 0, 1, -1,  1],\n",
       "[0, 0, 1, 0, 0, 0,  1, -1],\n",
       "[0, 0, 0, 1, 0, 0,  0,  1]])"
      ]
     },
     "execution_count": 50,
     "metadata": {},
     "output_type": "execute_result"
    }
   ],
   "source": [
    "M[1,:] -= M[2,:]\n",
    "M"
   ]
  },
  {
   "cell_type": "code",
   "execution_count": 51,
   "metadata": {},
   "outputs": [
    {
     "data": {
      "text/latex": [
       "$\\displaystyle \\left[\\begin{matrix}1 & 0 & 0 & 0 & 1 & -1 & 1 & -1\\\\0 & 1 & 0 & 0 & 0 & 1 & -1 & 1\\\\0 & 0 & 1 & 0 & 0 & 0 & 1 & -1\\\\0 & 0 & 0 & 1 & 0 & 0 & 0 & 1\\end{matrix}\\right]$"
      ],
      "text/plain": [
       "Matrix([\n",
       "[1, 0, 0, 0, 1, -1,  1, -1],\n",
       "[0, 1, 0, 0, 0,  1, -1,  1],\n",
       "[0, 0, 1, 0, 0,  0,  1, -1],\n",
       "[0, 0, 0, 1, 0,  0,  0,  1]])"
      ]
     },
     "execution_count": 51,
     "metadata": {},
     "output_type": "execute_result"
    }
   ],
   "source": [
    "M[0,:] -= M[1,:]\n",
    "M"
   ]
  },
  {
   "cell_type": "code",
   "execution_count": 52,
   "metadata": {},
   "outputs": [
    {
     "data": {
      "text/latex": [
       "$\\displaystyle \\left[\\begin{matrix}1 & -1 & 1 & -1\\\\0 & 1 & -1 & 1\\\\0 & 0 & 1 & -1\\\\0 & 0 & 0 & 1\\end{matrix}\\right]$"
      ],
      "text/plain": [
       "Matrix([\n",
       "[1, -1,  1, -1],\n",
       "[0,  1, -1,  1],\n",
       "[0,  0,  1, -1],\n",
       "[0,  0,  0,  1]])"
      ]
     },
     "execution_count": 52,
     "metadata": {},
     "output_type": "execute_result"
    }
   ],
   "source": [
    "A3_inv=M[:,4:]\n",
    "A3_inv"
   ]
  },
  {
   "cell_type": "code",
   "execution_count": 53,
   "metadata": {},
   "outputs": [
    {
     "data": {
      "text/latex": [
       "$\\displaystyle \\left[\\begin{matrix}1 & 0 & 0 & 0\\\\0 & 1 & 0 & 0\\\\0 & 0 & 1 & 0\\\\0 & 0 & 0 & 1\\end{matrix}\\right]$"
      ],
      "text/plain": [
       "Matrix([\n",
       "[1, 0, 0, 0],\n",
       "[0, 1, 0, 0],\n",
       "[0, 0, 1, 0],\n",
       "[0, 0, 0, 1]])"
      ]
     },
     "execution_count": 53,
     "metadata": {},
     "output_type": "execute_result"
    }
   ],
   "source": [
    "A3_inv*A3"
   ]
  },
  {
   "cell_type": "markdown",
   "metadata": {},
   "source": [
    "La matriz de la transformación en las bases solicitadas es"
   ]
  },
  {
   "cell_type": "code",
   "execution_count": 54,
   "metadata": {},
   "outputs": [
    {
     "data": {
      "text/latex": [
       "$\\displaystyle \\left[\\begin{matrix}0 & 4\\\\3 & -1\\\\0 & 2\\\\3 & -3\\end{matrix}\\right]$"
      ],
      "text/plain": [
       "Matrix([\n",
       "[0,  4],\n",
       "[3, -1],\n",
       "[0,  2],\n",
       "[3, -3]])"
      ]
     },
     "execution_count": 54,
     "metadata": {},
     "output_type": "execute_result"
    }
   ],
   "source": [
    "A4=A3_inv*A*A1\n",
    "A4"
   ]
  },
  {
   "cell_type": "markdown",
   "metadata": {},
   "source": [
    "## Verificación\n",
    "Para verificar, vamos a mostrar que para cualquier $v=\\left(\\matrix{x_0\\\\x_1}\\right)$ se cumple que\n",
    "$T \\circ S_{B1}(v) = S_{B2} \\circ A4(v)$"
   ]
  },
  {
   "cell_type": "code",
   "execution_count": 55,
   "metadata": {},
   "outputs": [
    {
     "data": {
      "text/latex": [
       "$\\displaystyle \\left[\\begin{matrix}v_{0}\\\\v_{1}\\end{matrix}\\right]$"
      ],
      "text/plain": [
       "Matrix([\n",
       "[v_0],\n",
       "[v_1]])"
      ]
     },
     "execution_count": 55,
     "metadata": {},
     "output_type": "execute_result"
    }
   ],
   "source": [
    "x,v0,v1=sp.symbols('x v_0 v_1')\n",
    "\n",
    "def sb1(v2):\n",
    "    return v2[0]*(1+x) + v2[1]*(1-x)\n",
    "\n",
    "def sb3(v4):\n",
    "    return v4[0]*1+v4[1]*(1+x)+v4[2]*(x+x**2)+v4[3]*(x**2+x**3) \n",
    "\n",
    "def T(p):\n",
    "    a_0=p.subs({x:0})\n",
    "    a_1=p.subs({x:1})-a_0\n",
    "    return 3*a_0 + (2*a_0 + a_1)*x + (a_0 + 2*a_1)*x**2 + 3*a_1*x**3\n",
    "\n",
    "v=sp.Matrix([v0,\n",
    "             v1])\n",
    "\n",
    "v"
   ]
  },
  {
   "cell_type": "code",
   "execution_count": 56,
   "metadata": {},
   "outputs": [
    {
     "data": {
      "text/latex": [
       "$\\displaystyle v_{0} \\left(x + 1\\right) + v_{1} \\left(1 - x\\right)$"
      ],
      "text/plain": [
       "v_0*(x + 1) + v_1*(1 - x)"
      ]
     },
     "execution_count": 56,
     "metadata": {},
     "output_type": "execute_result"
    }
   ],
   "source": [
    "sb1(v)"
   ]
  },
  {
   "cell_type": "code",
   "execution_count": 57,
   "metadata": {},
   "outputs": [
    {
     "data": {
      "text/latex": [
       "$\\displaystyle 3 v_{0} x^{3} + 3 v_{0} x^{2} + 3 v_{0} x + 3 v_{0} - 3 v_{1} x^{3} - v_{1} x^{2} + v_{1} x + 3 v_{1}$"
      ],
      "text/plain": [
       "3*v_0*x**3 + 3*v_0*x**2 + 3*v_0*x + 3*v_0 - 3*v_1*x**3 - v_1*x**2 + v_1*x + 3*v_1"
      ]
     },
     "execution_count": 57,
     "metadata": {},
     "output_type": "execute_result"
    }
   ],
   "source": [
    " T(sb1(v)).expand()"
   ]
  },
  {
   "cell_type": "code",
   "execution_count": 58,
   "metadata": {},
   "outputs": [
    {
     "data": {
      "text/latex": [
       "$\\displaystyle \\left[\\begin{matrix}3 v_{0}\\\\2 v_{0} + v_{1}\\\\v_{0} + 2 v_{1}\\\\3 v_{1}\\end{matrix}\\right]$"
      ],
      "text/plain": [
       "Matrix([\n",
       "[      3*v_0],\n",
       "[2*v_0 + v_1],\n",
       "[v_0 + 2*v_1],\n",
       "[      3*v_1]])"
      ]
     },
     "execution_count": 58,
     "metadata": {},
     "output_type": "execute_result"
    }
   ],
   "source": [
    "A*v"
   ]
  },
  {
   "cell_type": "code",
   "execution_count": 59,
   "metadata": {},
   "outputs": [
    {
     "data": {
      "text/latex": [
       "$\\displaystyle 3 v_{0} x^{3} + 3 v_{0} x^{2} + 3 v_{0} x + 3 v_{0} - 3 v_{1} x^{3} - v_{1} x^{2} + v_{1} x + 3 v_{1}$"
      ],
      "text/plain": [
       "3*v_0*x**3 + 3*v_0*x**2 + 3*v_0*x + 3*v_0 - 3*v_1*x**3 - v_1*x**2 + v_1*x + 3*v_1"
      ]
     },
     "execution_count": 59,
     "metadata": {},
     "output_type": "execute_result"
    }
   ],
   "source": [
    "sb3(A4*v).expand()"
   ]
  },
  {
   "cell_type": "code",
   "execution_count": 60,
   "metadata": {},
   "outputs": [
    {
     "data": {
      "text/plain": [
       "True"
      ]
     },
     "execution_count": 60,
     "metadata": {},
     "output_type": "execute_result"
    }
   ],
   "source": [
    "sb3(A4*v).expand() == T(sb1(v)).expand()"
   ]
  },
  {
   "cell_type": "markdown",
   "metadata": {},
   "source": [
    "Lo cual prueba que sí son iguales ambos caminos."
   ]
  },
  {
   "cell_type": "code",
   "execution_count": 83,
   "metadata": {},
   "outputs": [
    {
     "data": {
      "text/latex": [
       "$\\displaystyle \\left[\\begin{matrix}0 & 4\\\\3 & -1\\\\0 & 2\\\\3 & -3\\end{matrix}\\right]$"
      ],
      "text/plain": [
       "Matrix([\n",
       "[0,  4],\n",
       "[3, -1],\n",
       "[0,  2],\n",
       "[3, -3]])"
      ]
     },
     "execution_count": 83,
     "metadata": {},
     "output_type": "execute_result"
    }
   ],
   "source": [
    "A4_ejemplo_5=A4[:,:]\n",
    "A4_ejemplo_5"
   ]
  },
  {
   "cell_type": "code",
   "execution_count": 62,
   "metadata": {},
   "outputs": [],
   "source": [
    "nombre=''"
   ]
  },
  {
   "cell_type": "code",
   "execution_count": 63,
   "metadata": {},
   "outputs": [],
   "source": [
    "codigo=0"
   ]
  },
  {
   "cell_type": "code",
   "execution_count": 64,
   "metadata": {},
   "outputs": [],
   "source": [
    "# Recuerde que a es el último dígito de código\n",
    "# y que b es el penúltimo dígito\n"
   ]
  },
  {
   "cell_type": "markdown",
   "metadata": {},
   "source": [
    "# Ejercicio 1 (lunes)\n",
    "Demuestre que $T \\left( \\begin{bmatrix} x \\\\ y  \\end{bmatrix} \\right) = \\begin{bmatrix} 3x - y \\\\ (a+5)x \\\\ (b+3)y  \\end{bmatrix} $ es una transformación lineal y encuentre la respectiva matriz."
   ]
  },
  {
   "cell_type": "code",
   "execution_count": 65,
   "metadata": {},
   "outputs": [],
   "source": [
    "matriz_ejercicio_1=sp.Matrix()"
   ]
  },
  {
   "cell_type": "markdown",
   "metadata": {},
   "source": [
    "# Ejercicio 1.5 (martes)(Opcional, sube una nota de otros talleres)\n",
    "Determine si $T':P_1 \\rightarrow P_3$ dada por \n",
    "$$T'(c_0 + c_1 x )= (a+c_0) + (2c_0+b)x + (c_0 + 2c_1)x^2 + 3c_1x^3 $$\n",
    "es una transformación lineal."
   ]
  },
  {
   "cell_type": "code",
   "execution_count": 66,
   "metadata": {},
   "outputs": [],
   "source": [
    "respuesta_ejercicio_1_5='si/no es una transformación lineal'"
   ]
  },
  {
   "cell_type": "markdown",
   "metadata": {},
   "source": [
    "# Ejercicio 2 (martes)\n",
    "Demuestre que $T:P_1 \\rightarrow P_3$ dada por \n",
    "$$T(c_0 + c_1 x )= ((a+1)c_0) + ((2b+3)c_0)x + (c_0 + 2c_1)x^2 + 3c_1x^3 $$\n",
    "es una transformación lineal y encuentre la matriz usando las respectivas bases estándar."
   ]
  },
  {
   "cell_type": "code",
   "execution_count": 67,
   "metadata": {},
   "outputs": [],
   "source": [
    "matriz_ejercicio_2=sp.Matrix()"
   ]
  },
  {
   "cell_type": "markdown",
   "metadata": {},
   "source": [
    "# Ejercicio 3 (miércoles)\n",
    "Para la transformación del ejercicio 2, encuentre una base para el núcleo, una base para la imagen, la nulidad, el rango y diga si es inyectiva, sobreyectiva o es un isomorfismo."
   ]
  },
  {
   "cell_type": "code",
   "execution_count": 68,
   "metadata": {},
   "outputs": [],
   "source": [
    "base_nucleo_ejercicio_3=sp.Matrix()"
   ]
  },
  {
   "cell_type": "code",
   "execution_count": 69,
   "metadata": {},
   "outputs": [],
   "source": [
    "base_imagen_ejercicio_3=sp.Matrix()"
   ]
  },
  {
   "cell_type": "code",
   "execution_count": 70,
   "metadata": {},
   "outputs": [],
   "source": [
    "nulidad_ejercicio_3=0"
   ]
  },
  {
   "cell_type": "code",
   "execution_count": 71,
   "metadata": {},
   "outputs": [],
   "source": [
    "rango_ejercicio_3=0"
   ]
  },
  {
   "cell_type": "code",
   "execution_count": 72,
   "metadata": {},
   "outputs": [],
   "source": [
    "inyectiva_ejercicio_3=''"
   ]
  },
  {
   "cell_type": "code",
   "execution_count": 73,
   "metadata": {},
   "outputs": [],
   "source": [
    "sobreyectiva_ejercicio_3=''"
   ]
  },
  {
   "cell_type": "code",
   "execution_count": 74,
   "metadata": {},
   "outputs": [],
   "source": [
    "isomorfismo_ejercicio_3=''"
   ]
  },
  {
   "cell_type": "markdown",
   "metadata": {},
   "source": [
    "# Ejercicio 4 (jueves)\n",
    "Sean $B_1=[3+a+x, 1-x]$ y $B_2=[1, 1+(b+2)x]$ bases de $P_1$. Encuentre la matriz:\n",
    "* $A_2$ para pasar de $B_2$ a $E_{P1}$\n",
    "* $A'_2$ para pasar de $E_{P1}$ a $B_2$\n",
    "* $A_1$ para pasar de $B_1$ a $E_{P1}$\n",
    "* $A_5$ para pasar de $B_1$ a $B_2$"
   ]
  },
  {
   "cell_type": "code",
   "execution_count": 75,
   "metadata": {},
   "outputs": [],
   "source": [
    "A2_ejercicio_4=sp.Matrix()"
   ]
  },
  {
   "cell_type": "code",
   "execution_count": 76,
   "metadata": {},
   "outputs": [],
   "source": [
    "A2_prima_ejercicio_4=sp.Matrix()"
   ]
  },
  {
   "cell_type": "code",
   "execution_count": 77,
   "metadata": {},
   "outputs": [],
   "source": [
    "A1_ejercicio_4=sp.Matrix()"
   ]
  },
  {
   "cell_type": "code",
   "execution_count": 78,
   "metadata": {},
   "outputs": [],
   "source": [
    "A5_ejercicio_4=sp.Matrix()"
   ]
  },
  {
   "cell_type": "markdown",
   "metadata": {},
   "source": [
    "# Ejercicio 5 (viernes)\n",
    "Para la transformación $T:P_1 \\rightarrow P_3$ dada por en el ejercicio 2\n",
    "encuentre la matriz de la transformación $A_4$ usando la base $B_1$ del ejercicio 4 para el dominio y la base $B_3=[4+a,1+x, x+x^2, 3+b+x^2+x^3 ]$ para el codominio.  \n"
   ]
  },
  {
   "cell_type": "code",
   "execution_count": 79,
   "metadata": {},
   "outputs": [],
   "source": [
    "A4_ejercicio_5=sp.Matrix()"
   ]
  }
 ],
 "metadata": {
  "kernelspec": {
   "display_name": "Python 3",
   "language": "python",
   "name": "python3"
  },
  "language_info": {
   "codemirror_mode": {
    "name": "ipython",
    "version": 3
   },
   "file_extension": ".py",
   "mimetype": "text/x-python",
   "name": "python",
   "nbconvert_exporter": "python",
   "pygments_lexer": "ipython3",
   "version": "3.7.4"
  }
 },
 "nbformat": 4,
 "nbformat_minor": 2
}
