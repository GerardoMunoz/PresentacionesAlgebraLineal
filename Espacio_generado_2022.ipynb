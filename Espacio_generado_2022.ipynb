{
  "nbformat": 4,
  "nbformat_minor": 0,
  "metadata": {
    "colab": {
      "name": "Espacio_generado_2022 (15).ipynb",
      "provenance": [],
      "collapsed_sections": [],
      "include_colab_link": true
    },
    "kernelspec": {
      "name": "python3",
      "display_name": "Python 3"
    },
    "language_info": {
      "name": "python"
    }
  },
  "cells": [
    {
      "cell_type": "markdown",
      "metadata": {
        "id": "view-in-github",
        "colab_type": "text"
      },
      "source": [
        "<a href=\"https://colab.research.google.com/github/GerardoMunoz/PresentacionesAlgebraLineal/blob/main/Espacio_generado_2022.ipynb\" target=\"_parent\"><img src=\"https://colab.research.google.com/assets/colab-badge.svg\" alt=\"Open In Colab\"/></a>"
      ]
    },
    {
      "cell_type": "markdown",
      "source": [
        "$$a_{11}x +a_{12}y  = b_1\\\\\n",
        "a_{21}x +a_{22}y  = b_2\\\\\n",
        "a_{31}x +a_{32}y  = b_3$$\n",
        "\n",
        "\n",
        "Por ejemplo\n",
        "\n",
        "$$3x +1y = b_1\\\\\n",
        "-2x +3y  = b_2\\\\\n",
        "1x +4y  = b_3$$\n",
        "\n",
        "Para un parcial debo encontrar unos valores de $b_1$, $b_2$ y de $b_3$ que permiten un sistema de ecuaciones consistente.\n",
        "\n",
        "Para esto vamos a usar la notación vectorial\n",
        "\n",
        "$$x\\begin{pmatrix}3\\\\-2\\\\1\\end{pmatrix}+y\\begin{pmatrix}1\\\\3\\\\4\\end{pmatrix}=\\begin{pmatrix}b_1\\\\b_2\\\\b_3\\end{pmatrix}$$\n",
        "\n",
        "Lo cual nos permite ver con mayor facilidad que los valores del vector\n",
        " <!-- (de términos constantes (VTC))  -->\n",
        "$\\vec{b}=\\begin {pmatrix}b_1\\\\b_2\\\\b_3\\end{pmatrix}$ son todas las combinaciones (lineales) en las direcciones $\\vec{u}_1=\\begin{pmatrix}3\\\\-2\\\\1\\end{pmatrix}$, $\\vec{u}_2=\\begin{pmatrix}1\\\\3\\\\4\\end{pmatrix}$.\n",
        "\n",
        "\n",
        "\n",
        "Gráficamente, todos los posibles vectores de términos constantes , en este caso, forman un plano que pasa por el origen con las direcciones $\\vec{u}_1=\\begin{pmatrix}3\\\\-2\\\\1\\end{pmatrix}$, $\\vec{u}_2=\\begin{pmatrix}1\\\\3\\\\4\\end{pmatrix}$.\n",
        "\n",
        "$\\left\\{ x\\begin{pmatrix}3\\\\-2\\\\1\\end{pmatrix}+y\\begin{pmatrix}1\\\\3\\\\4\\end{pmatrix} \\mid (x,y) \\in \\mathbb{R^2} \\right\\}$\n",
        "\n",
        "Este es un ejemplo del subespacio generado por las direcciones ${\\vec{u}_1, \\vec{u}_2}$. A continuación, daremos la definición formal y otros ejemplos.\n",
        "\n",
        "Antes es conveniente recordar que, en este curso, una **dirección** es un vector diferente del vector cero"
      ],
      "metadata": {
        "id": "nCdJ5SZgsVJ1"
      }
    },
    {
      "cell_type": "code",
      "source": [
        ""
      ],
      "metadata": {
        "id": "6X27A8dI8ahh"
      },
      "execution_count": null,
      "outputs": []
    },
    {
      "cell_type": "markdown",
      "source": [
        "## Subespacio generado por las direcciones $\\vec{u}_1, \\vec{u}_2, \\cdots ,\\vec{u}_n $. \n",
        "\n",
        "El **subespacio generado por las direcciones** $\\vec{u}_1, \\vec{u}_2, \\cdots ,\\vec{u}_n $ es el conjunto de todas las combinaciones lineales de las direcciones $\\vec{u}_1, \\vec{u}_2, \\cdots ,\\vec{u}_n $\n",
        "\n",
        "$\\text{Ge}\\{\\vec{u}_1, \\vec{u}_2, \\cdots ,\\vec{u}_n \\}=\\{k_1 \\vec{u}_1 + k_2 \\vec{u}_2 + \\cdots  + k_n \\vec{u}_n \\mid (k_1, k_2, \\cdots ,k_n) \\in \\mathbb{R}^n \\}$"
      ],
      "metadata": {
        "id": "uXddEeuPxurR"
      }
    },
    {
      "cell_type": "markdown",
      "source": [
        "## Teorema \n",
        "Sea $V=\\text{Ge}\\{\\vec{u}_1, \\vec{u}_2, \\cdots ,\\vec{u}_n \\}$ y $c \\in \\mathbb{R}$\n",
        "\n",
        "Si $\\vec{v}_1, \\vec{v}_2 \\in V$\n",
        "\n",
        "Entonces:\n",
        "* $c\\vec{v}_1\\in V$\n",
        "* $\\vec{v}_1 + \\vec{v}_2 \\in V$\n",
        "\n",
        "### Prueba\n",
        "Ya que la suma de combinaciones (lineales) sigue siendo una combinación lineal. Lo mismo pasa para la multiplicación de escalar por vector.\n",
        "\n"
      ],
      "metadata": {
        "id": "Fj80ZEC-l4g-"
      }
    },
    {
      "cell_type": "markdown",
      "source": [
        "## Ejemplos de subespacios generados por una dirección.\n",
        "\n",
        "### Ejemplo en $\\mathbb{R}^2$\n",
        "\n",
        "El subespacio generado por la dirección $\\vec{u}=\\begin{pmatrix}1\\\\3\\end{pmatrix}$ es\n",
        "\n",
        "$\\text{Ge}\\{\\begin{pmatrix}1\\\\3\\end{pmatrix} \\}=\\{k \\begin{pmatrix}1\\\\3\\end{pmatrix}\\mid (k) \\in \\mathbb{R} \\}$ \n",
        "\n",
        "El cual corresponde a <u>la recta</u> <u>en ℝ²</u> <u>que pasa por el origen</u> y por  $\\vec{u}=\\begin{pmatrix}1\\\\3\\end{pmatrix}$.\n",
        "\n",
        "\n",
        "\n",
        "\n",
        " \n"
      ],
      "metadata": {
        "id": "2bpXhauH5aIz"
      }
    },
    {
      "cell_type": "markdown",
      "source": [
        "$\\begin{pmatrix}x\\\\y\\end{pmatrix}=k\\begin{pmatrix}1\\\\3\\end{pmatrix}$\n",
        "\n",
        "$x=1k$   $k=x$\n",
        "\n",
        "\n",
        "$y=3k$   $k=y/3$\n",
        "\n",
        "x=y/3\n",
        "\n",
        "y=3x + 0"
      ],
      "metadata": {
        "id": "NU0iFvj4kXX7"
      }
    },
    {
      "cell_type": "markdown",
      "source": [
        "### Ejemplo en $\\mathbb{R}^3$\n",
        "\n",
        "El subespacio generado por la dirección $\\vec{u}=\\begin{pmatrix}1\\\\3\\\\4\\end{pmatrix}$ es\n",
        "\n",
        "$\\text{Ge}\\{\\begin{pmatrix}1\\\\3\\\\4\\end{pmatrix} \\}=\\{k \\begin{pmatrix}1\\\\3\\\\4\\end{pmatrix}\\mid (k) \\in \\mathbb{R} \\}$ \n",
        "\n",
        "El cual corresponde a <u>la recta</u> <u>en ℝ³</u> <u>que pasa por el origen</u> y por $\\vec{u}=\\begin{pmatrix}1\\\\3\\\\4\\end{pmatrix}$\n",
        "\n",
        "\n",
        " \n"
      ],
      "metadata": {
        "id": "fkn3ul-m-tzf"
      }
    },
    {
      "cell_type": "markdown",
      "source": [
        "### Ejemplo en $\\mathbb{R}^4$\n",
        "\n",
        "El subespacio generado por la dirección $\\vec{u}=\\begin{pmatrix}1\\\\3\\\\4\\\\-2\\end{pmatrix}$ es\n",
        "\n",
        "$\\text{Ge}\\{\\begin{pmatrix}1\\\\3\\\\4\\\\-2\\end{pmatrix} \\}=\\{k \\begin{pmatrix}1\\\\3\\\\4\\\\-2\\end{pmatrix}\\mid (k) \\in \\mathbb{R} \\}$ \n",
        "\n",
        "El cual corresponde a <u>una recta</u> en $\\mathbb{R}^4$ <u>que pasa por el origen</u> y por $\\vec{u}=\\begin{pmatrix}1\\\\3\\\\4\\\\-2\\end{pmatrix}$ "
      ],
      "metadata": {
        "id": "JBwkNCUpAN_E"
      }
    },
    {
      "cell_type": "markdown",
      "source": [
        "## Ejemplos de subespacios generados por dos direcciones.\n",
        "\n",
        "### Ejemplo en $\\mathbb{R}^2$\n",
        "\n",
        "El subespacio generado por las direcciones $\\vec{u}_1=\\begin{pmatrix}1\\\\3\\end{pmatrix}$ y $\\vec{u}_2=\\begin{pmatrix}-1\\\\2\\end{pmatrix}$ es\n",
        "\n",
        "$\\text{Ge}\\{\\begin{pmatrix}1\\\\3\\end{pmatrix},\\begin{pmatrix}-1\\\\2\\end{pmatrix} \\}=\\{k_1 \\begin{pmatrix}1\\\\3\\end{pmatrix}+k_2 \\begin{pmatrix}-1\\\\2\\end{pmatrix}\\mid (k_1, k_2) \\in \\mathbb{R}^2 \\}$ \n",
        "\n",
        "El cual corresponde a <u>un plano</u> <u>en R²</u> <u>que pasa por el origen</u> y como $\\mathbb{R}^2$ es un plano entonces es todo $\\mathbb{R}^2$.\n",
        "\n",
        "\n",
        "\n",
        "\n",
        " \n"
      ],
      "metadata": {
        "id": "f5DSy-RbhK1S"
      }
    },
    {
      "cell_type": "markdown",
      "source": [
        "### Ejemplo en $\\mathbb{R}^3$\n",
        "\n",
        "El subespacio generado por las direcciones $\\vec{u}_1=\\begin{pmatrix}1\\\\3\\\\4\\end{pmatrix}$ y $\\vec{u}_2=\\begin{pmatrix}-1\\\\2\\\\4\\end{pmatrix}$es\n",
        "\n",
        "$\\text{Ge}\\{\\begin{pmatrix}1\\\\3\\\\4\\end{pmatrix}, \\begin{pmatrix}-1\\\\2\\\\4\\end{pmatrix} \\}=\\{k_1 \\begin{pmatrix}1\\\\3\\\\4\\end{pmatrix}+k_2 \\begin{pmatrix}-1\\\\2\\\\4\\end{pmatrix}\\mid (k_1, k_2) \\in \\mathbb{R}^2 \\}$ \n",
        "\n",
        "El cual corresponde a <u>el plano</u> <u>en R³</u> <u>que pasa por el origen</u> y por  $\\vec{u}_1=\\begin{pmatrix}1\\\\3\\\\4\\end{pmatrix}$ y $\\vec{u}_2=\\begin{pmatrix}-1\\\\2\\\\4\\end{pmatrix}$\n",
        "\n",
        "\n",
        " \n"
      ],
      "metadata": {
        "id": "3sFNDAkFhK1a"
      }
    },
    {
      "cell_type": "markdown",
      "source": [
        "\n",
        "### Ejemplo en $\\mathbb{R}^2$\n",
        "\n",
        "El subespacio generado por las direcciones $\\vec{u}_1=\\begin{pmatrix}1\\\\3\\end{pmatrix}$ y $\\vec{u}_2=\\begin{pmatrix}2\\\\6\\end{pmatrix}$ es\n",
        "\n",
        "$\\text{Ge}\\{\\begin{pmatrix}1\\\\3\\end{pmatrix},\\begin{pmatrix}2\\\\6\\end{pmatrix} \\}=\\{k_1 \\begin{pmatrix}1\\\\3\\end{pmatrix}+k_2 \\begin{pmatrix}2\\\\6\\end{pmatrix}\\mid (k_1, k_2) \\in \\mathbb{R}^2 \\}$ \n",
        "\n",
        "El cual corresponde a <u>la recta</u> <u>en R²</u> <u>que pasa por el origen</u> y por $\\vec{u}_1=\\begin{pmatrix}1\\\\3\\end{pmatrix}$.\n",
        "\n",
        "Debido a que $\\vec{u}_2=\\begin{pmatrix}2\\\\6\\end{pmatrix}$ es una combinación (lineal) de $\\vec{u}_1=\\begin{pmatrix}1\\\\3\\end{pmatrix}$ entonces se puede quitar y no se afecta el conjunto generado.\n",
        "\n",
        "\n",
        "\n",
        "\n",
        " \n"
      ],
      "metadata": {
        "id": "MCd11BsTo-lN"
      }
    },
    {
      "cell_type": "markdown",
      "source": [
        "### Ejemplo en $\\mathbb{R}^3$\n",
        "\n",
        "El subespacio generado por las direcciones $\\vec{u}_1=\\begin{pmatrix}1\\\\3\\\\4\\end{pmatrix}$ y $\\vec{u}_2=\\begin{pmatrix}2\\\\4\\\\6\\end{pmatrix}$es\n",
        "\n",
        "$\\text{Ge}\\{\\begin{pmatrix}1\\\\3\\\\4\\end{pmatrix},\\begin{pmatrix}2\\\\6\\\\8\\end{pmatrix} \\}=\\{k_1 \\begin{pmatrix}1\\\\3\\\\4\\end{pmatrix}+k_2 \\begin{pmatrix}2\\\\4\\\\6\\end{pmatrix}\\mid (k_1, k_2) \\in \\mathbb{R}^2 \\}$ \n",
        "\n",
        "El cual corresponde a <u>la recta</u> <u>en R³</u> <u>que pasa por el origen</u> y por  $\\vec{u}_1=\\begin{pmatrix}1\\\\3\\\\4\\end{pmatrix}$ \n",
        "\n",
        "Debido a que $\\vec{u}_2=\\begin{pmatrix}2\\\\6\\\\8\\end{pmatrix}$ es una combinación (lineal) de $\\vec{u}_1=\\begin{pmatrix}1\\\\3\\\\4\\end{pmatrix}$ entonces se puede quitar y no se afecta el conjunto generado.\n",
        "\n",
        "\n",
        "\n",
        " \n"
      ],
      "metadata": {
        "id": "hWPBjS_lo-lT"
      }
    },
    {
      "cell_type": "markdown",
      "source": [
        "## Ejemplos de subespacios generados por tres o más direcciones en $\\mathbb{R}^3$"
      ],
      "metadata": {
        "id": "8QIbggCslJN-"
      }
    },
    {
      "cell_type": "markdown",
      "source": [
        "### Ejemplo \n",
        "\n",
        "El subespacio generado por las direcciones $\\vec{u}_1=\\begin{pmatrix}1\\\\3\\\\4\\end{pmatrix}$,  $\\vec{u}_2=\\begin{pmatrix}2\\\\6\\\\8\\end{pmatrix}$  y $\\vec{u}_3=\\begin{pmatrix}-1\\\\-3\\\\-4\\end{pmatrix}$es\n",
        "\n",
        "$\\text{Ge}\\{\\begin{pmatrix}1\\\\3\\\\4\\end{pmatrix},\\begin{pmatrix}2\\\\6\\\\8\\end{pmatrix},\\begin{pmatrix}-1\\\\-3\\\\-4\\end{pmatrix} \\}=\\{k_1 \\begin{pmatrix}1\\\\3\\\\4\\end{pmatrix}+k_2 \\begin{pmatrix}2\\\\6\\\\8\\end{pmatrix} +k_3 \\begin{pmatrix}-1\\\\-3\\\\-4\\end{pmatrix} \\mid (k_1, k_2, k_3) \\in \\mathbb{R}^2 \\}$ \n",
        "\n",
        "El cual corresponde a <u>la recta</u> <u>en R³</u> <u>que pasa por el origen</u> y por  $\\vec{u}_1=\\begin{pmatrix}1\\\\3\\\\4\\end{pmatrix}$ \n",
        "\n",
        "Debido a que $\\vec{u}_2=\\begin{pmatrix}2\\\\6\\\\8\\end{pmatrix}$ y $\\vec{u}_2=\\begin{pmatrix}-1\\\\-3\\\\-4\\end{pmatrix}$ es una combinación (lineal) de $\\vec{u}_1=\\begin{pmatrix}1\\\\3\\\\4\\end{pmatrix}$ entonces se pueden quitar y no se afecta el conjunto generado.\n",
        "\n",
        "\n",
        "\n",
        "\n",
        "\n",
        " \n"
      ],
      "metadata": {
        "id": "dSUfI08alBEk"
      }
    },
    {
      "cell_type": "markdown",
      "source": [
        ""
      ],
      "metadata": {
        "id": "i95fgvWGlIL_"
      }
    },
    {
      "cell_type": "markdown",
      "source": [
        "### Ejemplo \n",
        "\n",
        "El subespacio generado por las direcciones $\\vec{u}_1=\\begin{pmatrix}1\\\\3\\\\4\\end{pmatrix}$,  $\\vec{u}_2=\\begin{pmatrix}-1\\\\2\\\\4\\end{pmatrix}$  y $\\vec{u}_3=\\begin{pmatrix}3\\\\4\\\\4\\end{pmatrix}$es\n",
        "\n",
        "$\\text{Ge}\\{\\begin{pmatrix}1\\\\3\\\\4\\end{pmatrix},\\begin{pmatrix}-1\\\\2\\\\4\\end{pmatrix},\\begin{pmatrix}3\\\\4\\\\4\\end{pmatrix} \\}=\\{k_1 \\begin{pmatrix}1\\\\3\\\\4\\end{pmatrix}+k_2 \\begin{pmatrix}-1\\\\2\\\\4\\end{pmatrix} +k_3 \\begin{pmatrix}3\\\\4\\\\4\\end{pmatrix} \\mid (k_1, k_2, k_3) \\in \\mathbb{R}^2 \\}$ \n",
        "\n",
        "El cual corresponde a <u>el plano</u> <u>en R³</u> <u>que pasa por el origen</u> y por  $\\vec{u}_1=\\begin{pmatrix}1\\\\3\\\\4\\end{pmatrix}$ y $\\vec{u}_2=\\begin{pmatrix}-1\\\\2\\\\4\\end{pmatrix}$\n",
        "\n",
        "En este caso no es fácil determinar que hay vectores que son combinación (lineal) de los otros, en estos casos podemos utilizar la Reducción de Gauss para saber cuáles vectores se pueden eliminar.   Para esto construimos una matriz (que no es extendida) con los vectores.\n",
        "\n",
        "$A=\\begin{bmatrix}1 & -1 & 3\\\\3 & 2 & 4\\\\4 & 4 & 4\\end{bmatrix}$\n",
        " \n"
      ],
      "metadata": {
        "id": "JlaQyWwrsov-"
      }
    },
    {
      "cell_type": "code",
      "source": [
        "import sympy as sp\n",
        "A=sp.Matrix([[1,-1,3],[3,2,4],[4,4,4]])\n",
        "A"
      ],
      "metadata": {
        "colab": {
          "base_uri": "https://localhost:8080/",
          "height": 78
        },
        "id": "IojqDB23lBEq",
        "outputId": "5c20ba3f-6670-4d88-8bc3-2c15fe104a82"
      },
      "execution_count": null,
      "outputs": [
        {
          "output_type": "execute_result",
          "data": {
            "text/plain": [
              "Matrix([\n",
              "[1, -1, 3],\n",
              "[3,  2, 4],\n",
              "[4,  4, 4]])"
            ],
            "text/latex": "$\\displaystyle \\left[\\begin{matrix}1 & -1 & 3\\\\3 & 2 & 4\\\\4 & 4 & 4\\end{matrix}\\right]$"
          },
          "metadata": {},
          "execution_count": 6
        }
      ]
    },
    {
      "cell_type": "code",
      "source": [
        "M=A[:,:]\n",
        "M"
      ],
      "metadata": {
        "id": "5y3VYDygxuLQ",
        "colab": {
          "base_uri": "https://localhost:8080/",
          "height": 78
        },
        "outputId": "3e6ec4c9-b5fb-4814-8719-d30d07073bec"
      },
      "execution_count": null,
      "outputs": [
        {
          "output_type": "execute_result",
          "data": {
            "text/plain": [
              "Matrix([\n",
              "[1, -1, 3],\n",
              "[3,  2, 4],\n",
              "[4,  4, 4]])"
            ],
            "text/latex": "$\\displaystyle \\left[\\begin{matrix}1 & -1 & 3\\\\3 & 2 & 4\\\\4 & 4 & 4\\end{matrix}\\right]$"
          },
          "metadata": {},
          "execution_count": 7
        }
      ]
    },
    {
      "cell_type": "code",
      "execution_count": null,
      "metadata": {
        "id": "hrx7j599sR_n",
        "colab": {
          "base_uri": "https://localhost:8080/",
          "height": 78
        },
        "outputId": "644bc9ce-476e-440f-ae0b-1ac1ae39522f"
      },
      "outputs": [
        {
          "output_type": "execute_result",
          "data": {
            "text/plain": [
              "Matrix([\n",
              "[1, -1,  3],\n",
              "[0,  5, -5],\n",
              "[0,  8, -8]])"
            ],
            "text/latex": "$\\displaystyle \\left[\\begin{matrix}1 & -1 & 3\\\\0 & 5 & -5\\\\0 & 8 & -8\\end{matrix}\\right]$"
          },
          "metadata": {},
          "execution_count": 8
        }
      ],
      "source": [
        "M[1,:] = M[1,:] - M[0,:]*3\n",
        "M[2,:] = M[2,:] - M[0,:]*4\n",
        "M"
      ]
    },
    {
      "cell_type": "code",
      "source": [
        "M[2,:] = M[2,:] - M[1,:]*8/5\n",
        "M"
      ],
      "metadata": {
        "colab": {
          "base_uri": "https://localhost:8080/",
          "height": 78
        },
        "id": "4jPbDy5bxnxb",
        "outputId": "4b5798a7-d664-4715-e494-4920e02266db"
      },
      "execution_count": null,
      "outputs": [
        {
          "output_type": "execute_result",
          "data": {
            "text/plain": [
              "Matrix([\n",
              "[1, -1,  3],\n",
              "[0,  5, -5],\n",
              "[0,  0,  0]])"
            ],
            "text/latex": "$\\displaystyle \\left[\\begin{matrix}1 & -1 & 3\\\\0 & 5 & -5\\\\0 & 0 & 0\\end{matrix}\\right]$"
          },
          "metadata": {},
          "execution_count": 9
        }
      ]
    },
    {
      "cell_type": "markdown",
      "source": [
        "5y=-5\n",
        "y=-1\n",
        "\n",
        "1x-1(-1)=3\n",
        "x=2"
      ],
      "metadata": {
        "id": "EXivcNlasW9o"
      }
    },
    {
      "cell_type": "code",
      "source": [
        "B=M[:,:]\n",
        "B"
      ],
      "metadata": {
        "colab": {
          "base_uri": "https://localhost:8080/",
          "height": 78
        },
        "id": "24-C-xmnx2zF",
        "outputId": "64073f40-aec2-4e7b-f283-22ffb265379f"
      },
      "execution_count": null,
      "outputs": [
        {
          "output_type": "execute_result",
          "data": {
            "text/plain": [
              "Matrix([\n",
              "[1, -1,  3],\n",
              "[0,  5, -5],\n",
              "[0,  0,  0]])"
            ],
            "text/latex": "$\\displaystyle \\left[\\begin{matrix}1 & -1 & 3\\\\0 & 5 & -5\\\\0 & 0 & 0\\end{matrix}\\right]$"
          },
          "metadata": {},
          "execution_count": 11
        }
      ]
    },
    {
      "cell_type": "markdown",
      "source": [
        "La matriz $B$ es una forma escalón de la matriz $A$. La matriz $B$ no tiene pivote en la tercera columna. Esto indica la tercera columna es combinación (lineal) de las de la izquierda, no solo en la matriz $B$ sino en todas las matrices equivalentes. Por lo tanto, se <u>puede eliminar la tercera columna de la matriz $A$</u>\n",
        "\n"
      ],
      "metadata": {
        "id": "s3VL1PYdxx5o"
      }
    },
    {
      "cell_type": "markdown",
      "source": [
        "## Teorema\n",
        "\n",
        "Si uno de los vectores $\\vec{u}_1, \\vec{u}_2, \\cdots ,\\vec{u}_n $ es combinación lineal de los otros entonces el subespacio generado permanece igual si se elimina ese vector.\n",
        "\n",
        "### Prueba\n",
        "Esta prueba requiere dos pasos:\n",
        "1. $\\text{Ge}\\{\\vec{u}_1, \\vec{u}_2, \\cdots ,\\vec{u}_{n-1},\\vec{u}_n \\}\\subseteq \\text{Ge}\\{\\vec{u}_1, \\vec{u}_2, \\cdots ,\\vec{u}_{n-1} \\}$\n",
        "1. $\\text{Ge}\\{\\vec{u}_1, \\vec{u}_2, \\cdots,\\vec{u}_{n-1} ,\\vec{u}_n \\}\\supseteq \\text{Ge}\\{\\vec{u}_1, \\vec{u}_2, \\cdots ,\\vec{u}_{n-1} \\}$\n",
        "\n",
        "El segundo caso es sencillo probar ya que el conjunto generador de la izquierda contiene todos los vectores del conjunto generador de la derecha.\n",
        "\n",
        "Para probar el primer caso, se remplaza el vector que es combinación lineal de los otros en cada uno de los vectores del conjunto de la izquierda, de esta forma se elimina ese vector.\n"
      ],
      "metadata": {
        "id": "any7HTML0Nf7"
      }
    },
    {
      "cell_type": "markdown",
      "source": [
        "Un conjunto de direcciones del que no es posible eliminar una dirección se dice que el **(linealmente) independiente**.\n",
        "\n",
        "El número de direcciones de un conjunto (linealmente) independiente se llama la **dimensión del espacio generado**\n",
        "\n",
        "La dimensión está relacionada con la geometría del espacio generado.\n",
        "\n",
        "| Dimensión | Espacio generado|\n",
        "|-----------|-----------------|\n",
        "|   0  | El origen  |\n",
        "|   1  | Una recta  |\n",
        "|   2  | Un plano  |\n",
        "|   3  | Un espacio en 3D  |\n",
        "|   4  | Un espacio en 4D  |\n",
        "|   $\\vdots$  | $\\vdots$  |\n",
        "\n",
        "Como los vectores que no se eliminan son los que tienen pivote en la matriz escalón, entonces la <u>dimensión del espacio generado por $\\vec{u}_1, \\vec{u}_2, \\cdots ,\\vec{u}_n$ es e número de pivotes de una matriz escalón equivalente a $\\begin{bmatrix}\\vec{u}_1 & \\vec{u}_2 & \\cdots & \\vec{u}_n\\end{bmatrix}$</u>"
      ],
      "metadata": {
        "id": "kt9pD5GV450P"
      }
    },
    {
      "cell_type": "markdown",
      "source": [
        "### Ejemplo \n",
        "\n",
        "El subespacio generado por las direcciones $\\vec{u}_1=\\begin{pmatrix}1\\\\3\\\\4\\end{pmatrix}$,  $\\vec{u}_2=\\begin{pmatrix}-1\\\\2\\\\4\\end{pmatrix}$  y $\\vec{u}_3=\\begin{pmatrix}3\\\\4\\\\-4\\end{pmatrix}$es\n"
      ],
      "metadata": {
        "id": "MykNm01DupUQ"
      }
    },
    {
      "cell_type": "code",
      "source": [
        "import sympy as sp\n",
        "A=sp.Matrix([[1,-1,3],[3,2,4],[4,4,-4]])\n",
        "A"
      ],
      "metadata": {
        "colab": {
          "base_uri": "https://localhost:8080/",
          "height": 78
        },
        "id": "xkxbb6_Vuw4g",
        "outputId": "4ff75b7c-af32-44ab-f95e-940a9ddd8872"
      },
      "execution_count": null,
      "outputs": [
        {
          "output_type": "execute_result",
          "data": {
            "text/plain": [
              "Matrix([\n",
              "[1, -1,  3],\n",
              "[3,  2,  4],\n",
              "[4,  4, -4]])"
            ],
            "text/latex": "$\\displaystyle \\left[\\begin{matrix}1 & -1 & 3\\\\3 & 2 & 4\\\\4 & 4 & -4\\end{matrix}\\right]$"
          },
          "metadata": {},
          "execution_count": 12
        }
      ]
    },
    {
      "cell_type": "code",
      "source": [
        "M=A[:,:]\n",
        "M"
      ],
      "metadata": {
        "colab": {
          "base_uri": "https://localhost:8080/",
          "height": 78
        },
        "id": "UaFpjT5zupHt",
        "outputId": "7bf30c4c-1477-467c-e56f-857bc58a9d88"
      },
      "execution_count": null,
      "outputs": [
        {
          "output_type": "execute_result",
          "data": {
            "text/plain": [
              "Matrix([\n",
              "[1, -1,  3],\n",
              "[3,  2,  4],\n",
              "[4,  4, -4]])"
            ],
            "text/latex": "$\\displaystyle \\left[\\begin{matrix}1 & -1 & 3\\\\3 & 2 & 4\\\\4 & 4 & -4\\end{matrix}\\right]$"
          },
          "metadata": {},
          "execution_count": 13
        }
      ]
    },
    {
      "cell_type": "code",
      "source": [
        "M[1,:] = M[1,:] - M[0,:]*3 \n",
        "M"
      ],
      "metadata": {
        "colab": {
          "base_uri": "https://localhost:8080/",
          "height": 78
        },
        "id": "qnIfLtgfue8Z",
        "outputId": "1490ca5a-0dd9-41e6-c587-c22e8ddae5f8"
      },
      "execution_count": null,
      "outputs": [
        {
          "output_type": "execute_result",
          "data": {
            "text/plain": [
              "Matrix([\n",
              "[1, -1,  3],\n",
              "[0,  5, -5],\n",
              "[4,  4, -4]])"
            ],
            "text/latex": "$\\displaystyle \\left[\\begin{matrix}1 & -1 & 3\\\\0 & 5 & -5\\\\4 & 4 & -4\\end{matrix}\\right]$"
          },
          "metadata": {},
          "execution_count": 14
        }
      ]
    },
    {
      "cell_type": "code",
      "source": [
        "M[2,:] = M[2,:] - M[0,:]*4 \n",
        "M"
      ],
      "metadata": {
        "colab": {
          "base_uri": "https://localhost:8080/",
          "height": 78
        },
        "id": "dgRb-2LXvevH",
        "outputId": "b1e80757-a0ad-4973-d44d-ea56045cb42f"
      },
      "execution_count": null,
      "outputs": [
        {
          "output_type": "execute_result",
          "data": {
            "text/plain": [
              "Matrix([\n",
              "[1, -1,   3],\n",
              "[0,  5,  -5],\n",
              "[0,  8, -16]])"
            ],
            "text/latex": "$\\displaystyle \\left[\\begin{matrix}1 & -1 & 3\\\\0 & 5 & -5\\\\0 & 8 & -16\\end{matrix}\\right]$"
          },
          "metadata": {},
          "execution_count": 15
        }
      ]
    },
    {
      "cell_type": "code",
      "source": [
        "M[2,:] = M[2,:] - M[1,:]*8/5\n",
        "M"
      ],
      "metadata": {
        "colab": {
          "base_uri": "https://localhost:8080/",
          "height": 78
        },
        "id": "Scj5tiwYvesJ",
        "outputId": "ae239f52-fc3d-4166-a114-c74b12f9e580"
      },
      "execution_count": null,
      "outputs": [
        {
          "output_type": "execute_result",
          "data": {
            "text/plain": [
              "Matrix([\n",
              "[1, -1,  3],\n",
              "[0,  5, -5],\n",
              "[0,  0, -8]])"
            ],
            "text/latex": "$\\displaystyle \\left[\\begin{matrix}1 & -1 & 3\\\\0 & 5 & -5\\\\0 & 0 & -8\\end{matrix}\\right]$"
          },
          "metadata": {},
          "execution_count": 16
        }
      ]
    },
    {
      "cell_type": "markdown",
      "source": [
        "El espacio generado es un espacio de 3D en $R^3$ \n",
        "Es decir de que genera todo $R^3$"
      ],
      "metadata": {
        "id": "API5KmqMv75p"
      }
    },
    {
      "cell_type": "markdown",
      "source": [
        "El subespacio generado por las direcciones $\\vec{u}_1=\\begin{pmatrix}1\\\\3\\\\4\\end{pmatrix}$,  $\\vec{u}_2=\\begin{pmatrix}2\\\\6\\\\8\\end{pmatrix}$  y $\\vec{u}_3=\\begin{pmatrix}-1\\\\-3\\\\-4\\end{pmatrix}$es"
      ],
      "metadata": {
        "id": "c_hSJMrmwPMg"
      }
    },
    {
      "cell_type": "code",
      "source": [
        "A=sp.Matrix([[1,2,-1],[3,6,-3],[4,8,-4]])\n",
        "A"
      ],
      "metadata": {
        "colab": {
          "base_uri": "https://localhost:8080/",
          "height": 78
        },
        "id": "LSpnvf17vepI",
        "outputId": "f8bd324f-7734-4992-8480-4bb888657ba5"
      },
      "execution_count": null,
      "outputs": [
        {
          "output_type": "execute_result",
          "data": {
            "text/plain": [
              "Matrix([\n",
              "[1, 2, -1],\n",
              "[3, 6, -3],\n",
              "[4, 8, -4]])"
            ],
            "text/latex": "$\\displaystyle \\left[\\begin{matrix}1 & 2 & -1\\\\3 & 6 & -3\\\\4 & 8 & -4\\end{matrix}\\right]$"
          },
          "metadata": {},
          "execution_count": 19
        }
      ]
    },
    {
      "cell_type": "code",
      "source": [
        "M=A[:,:]"
      ],
      "metadata": {
        "id": "Kb_-uOkhwm35"
      },
      "execution_count": null,
      "outputs": []
    },
    {
      "cell_type": "code",
      "source": [
        "M[1,:] = M[1,:] - M[0,:]*3 \n",
        "M[2,:] = M[2,:] - M[0,:]*4\n",
        "M"
      ],
      "metadata": {
        "colab": {
          "base_uri": "https://localhost:8080/",
          "height": 78
        },
        "id": "ArSz9vvUvemA",
        "outputId": "43f7d3c4-6800-4a7c-93b5-33aab8e96152"
      },
      "execution_count": null,
      "outputs": [
        {
          "output_type": "execute_result",
          "data": {
            "text/plain": [
              "Matrix([\n",
              "[1, 2, -1],\n",
              "[0, 0,  0],\n",
              "[0, 0,  0]])"
            ],
            "text/latex": "$\\displaystyle \\left[\\begin{matrix}1 & 2 & -1\\\\0 & 0 & 0\\\\0 & 0 & 0\\end{matrix}\\right]$"
          },
          "metadata": {},
          "execution_count": 21
        }
      ]
    }
  ]
}