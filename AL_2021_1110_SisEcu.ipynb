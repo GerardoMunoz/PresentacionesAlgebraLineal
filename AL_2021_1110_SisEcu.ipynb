{
  "nbformat": 4,
  "nbformat_minor": 0,
  "metadata": {
    "kernelspec": {
      "display_name": "Python 3",
      "language": "python",
      "name": "python3"
    },
    "language_info": {
      "codemirror_mode": {
        "name": "ipython",
        "version": 3
      },
      "file_extension": ".py",
      "mimetype": "text/x-python",
      "name": "python",
      "nbconvert_exporter": "python",
      "pygments_lexer": "ipython3",
      "version": "3.7.4"
    },
    "colab": {
      "name": "AL_2021_1110_SisEcu.ipynb",
      "provenance": [],
      "collapsed_sections": [],
      "include_colab_link": true
    }
  },
  "cells": [
    {
      "cell_type": "markdown",
      "metadata": {
        "id": "view-in-github",
        "colab_type": "text"
      },
      "source": [
        "<a href=\"https://colab.research.google.com/github/GerardoMunoz/PresentacionesAlgebraLineal/blob/main/AL_2021_1110_SisEcu.ipynb\" target=\"_parent\"><img src=\"https://colab.research.google.com/assets/colab-badge.svg\" alt=\"Open In Colab\"/></a>"
      ]
    },
    {
      "cell_type": "markdown",
      "metadata": {
        "id": "MdgJ4JkTq04M"
      },
      "source": [
        "# ¡Advertencia!             ¡Warning!           ¡警告する!\n",
        "\n",
        "Seguramente todos saben resolver sistemas de ecuaciones. Sin embargo, esta clase va más allá. Se dan una serie de **definiciones** y **procedimientos** que en este momento pueden parecer evidentes y sin importancia, pero son las bases de lo que sigue y cualquier pequeña equivocación en las bases hace que todo el edificio se caiga. \n",
        "\n",
        "Muchos de los estudiantes perdieron la materia el semestre pasado debió a que no sabían realizar el procedimiento tal como se presenta en esta clase. \n",
        "\n",
        "Por favor, ¡No subestime los contenidos de esta clase! **Esta clase va más allá que despejar un sistema de ecuaciones**"
      ]
    },
    {
      "cell_type": "markdown",
      "metadata": {
        "id": "XLn52VNiq04Q"
      },
      "source": [
        "# Sistema de ecuaciones lineales\n",
        "  \n",
        "$\\matrix{\n",
        "a_{11} x_1 + a_{12} x_2 + \\ldots + a_{1n} x_n &= b_1 \\\\\n",
        "a_{21} x_1 + a_{22} x_2 + \\ldots + a_{2n} x_n &= b_2 \\\\\n",
        "&\\vdots\\\\\n",
        "a_{m1} x_1 + a_{m2} x_2 + \\ldots + a_{mn} x_n &= b_m \\\\\n",
        "}$\n",
        "\n",
        "* hay $m$ ecuaciones \n",
        "* hay $n$ variables \n",
        "* los $a_{ij}$ se conocen **coeficiente**\n",
        "* los $x_i$ se conocen como **variables**\n",
        "* los $b_i$ se conocen como **términos constantes** (TC)\n",
        "\n",
        "# Variables delanteras\n",
        "Si en todas las ecuaciones, las variables tienen el mismo orden, de izquierda a derecha, es posible definir la **variable delantera** de cada ecuación como la variable más a la izquierda con coeficiente diferente de cero.  \n",
        "\n",
        "Por ejemplo, en el siguiente sistema de ecuaciones\n",
        "\n",
        "$\\matrix{\n",
        " &&&&-2x_3&&+&2x_5&&&=&2\\\\\n",
        " x_1&+&x_2&+&x_3&-&x_4&2x_5&-&x_6&=&1\\\\\n",
        " &&&&&&&-x_5&+&x_6&=&3\\\\\n",
        " }$\n",
        "\n",
        "Las variables delanteras son:\n",
        "* para la primera ecuación es $x_3$.\n",
        "* para la segunda ecuación es $x_1$.\n",
        "* para la tercera ecuación es $x_5$.\n",
        " \n",
        "\n",
        "\n",
        "<!-- # Sistema homogéneo (SH)\n",
        "En un **sistema homogéneo** los TC son ceros\n",
        "\n",
        "$\\matrix{\n",
        "a_{11} x_1 + a_{12} x_2 + \\ldots + a_{1n} x_n &= 0 \\\\\n",
        "a_{21} x_1 + a_{22} x_2 + \\ldots + a_{2n} x_n &= 0 \\\\\n",
        "&\\vdots\\\\\n",
        "a_{m1} x_1 + a_{m2} x_2 + \\ldots + a_{mn} x_n &= 0 \\\\\n",
        "}$-->\n",
        "\n",
        "\n",
        "#  Sistema escalón\n",
        "En un **sistema escalón** la variable delantera está a la derecha de la variable delantera de la ecuación superior. En estos sistemas de ecuaciones las variables que no son delanteras en ninguna ecuación se llaman **variables libres**.\n",
        "\n",
        "El siguiente sistema presentado en [Nakos, pg 6, ejem 8] \n",
        " \n",
        " $\\matrix{\n",
        " x_1&+&x_2&+&x_3&-&x_4&2x_5&-&x_6&=&1\\\\\n",
        " &&&&-2x_3&&+&2x_5&&&=&2\\\\\n",
        " &&&&&&&-x_5&+&x_6&=&3\\\\\n",
        " }$\n",
        " \n",
        "está en forma escalón,\n",
        "sus variables delanteras son $x_1, x_3, x_5$ y sus variables libres son $x_2, x_4, x_6$. \n",
        "\n",
        "Estos sistemas son fáciles de resolver. <!--utilizando **sustitución hacia atrás**.-->\n",
        "\n",
        "\n",
        "  \n",
        "\n"
      ]
    },
    {
      "cell_type": "markdown",
      "metadata": {
        "id": "FzSmErdaq04R"
      },
      "source": [
        "# Sustitución hacia atrás [Nakos, pg 6, ejem 8] \n",
        "## Algoritmo\n",
        "* En un sistema escalón:\n",
        "  * Se remplazan las variables libres por parámetros en todas las ecuaciones.\n",
        "  * Para cada renglón del sistema de ecuaciones, empezando desde la última ecuación hacia la primera ecuación:\n",
        "    * Se despeja la variable delantera y se remplaza en las demás ecuaciones.\n",
        "\n",
        "## Ejemplo 1\n",
        "* En un sistema escalón:\n",
        "\n",
        "$\\matrix{\n",
        " x_1&-&x_2&+&x_3&-&x_4&+&2x_5&-&x_6&=&1\\\\\n",
        " &&&&-2x_3&&&+&2x_5&&&=&2\\\\\n",
        " &&&&&&&&-x_5&+&x_6&=&3\\\\\n",
        " }$\n",
        "\n",
        "  * Se remplazan las variables libres por parámetros.\n",
        "\n",
        "$x_2=t_1, \\ \\ \\  x_4=t_2,  \\ \\ \\ x_6=t_3$\n",
        "\n",
        "  * Para la tercera ecuación, se despeja la variable delantera \n",
        "    \n",
        "$-x_5+t_3=3 \\ \\ \\ \\Rightarrow \\ \\ \\ -x_5=3-t_3 \\ \\ \\ \\Rightarrow \\ \\ \\ x_5=-3+t_3$\n",
        "\n",
        "  * Para la segunda ecuación se despeja la variable delantera \n",
        "    \n",
        "$-2x_3+2(-3+t_3)=2\\ \\ \\ \\  \\Rightarrow \\ \\ \\  -2x_3=2-2(-3+t_3) \\ \\ \\  \\Rightarrow \\ \\ \\  -2x_3=2+6-2t_3$\n",
        "\n",
        "$\\Rightarrow \\ \\ \\  -2x_3=8-2t_3 \\Rightarrow \\ \\ \\  x_3=-4+t_3$\n",
        "\n",
        "  * Para la primera ecuación, se despeja la variable delantera \n",
        "    \n",
        "$x_1-t_1+(-4+t_3)-t_2+2(-3+t_3)-t_3=1 \\ \\ \\  \\Rightarrow \\ \\ \\  x_1=1+t_1-(-4+t_3)+t_2-2(-3+t_3)+t_3$\n",
        "\n",
        "$\\Rightarrow \\ \\ \\  x_1=1+t_1+4-t_3+t_2+6-2t_3+t_3  \\ \\ \\  \\Rightarrow \\ \\ \\  x_1=11+t_1+t_2-2t_3$ \n",
        "\n",
        "\n"
      ]
    },
    {
      "cell_type": "markdown",
      "metadata": {
        "id": "ye2aeEj_q04S"
      },
      "source": [
        "# Notaciones vectoriales de la solución\n",
        "## Solución general\n",
        "\n",
        "En la **solución general**, el vector de variables se escribe como una suma de vectores, donde cada parámetro multiplica el respectivo vector de sus coeficientes. \n",
        "\n",
        "Para el anterior ejercicio la solución general es:\n",
        "\n",
        "$\n",
        "\\left( \\matrix{x_1\\\\x_2\\\\x_3\\\\x_4\\\\x_5\\\\x_6} \\right) \n",
        "= \\left( \\matrix{11\\\\0\\\\-4\\\\0\\\\-3\\\\0} \\right) \n",
        "+ t_1\\left( \\matrix{1\\\\1\\\\0\\\\0\\\\0\\\\0} \\right) \n",
        "+ t_2\\left( \\matrix{1\\\\0\\\\0\\\\1\\\\0\\\\0} \\right) \n",
        "+ t_3\\left( \\matrix{-2\\\\0\\\\1\\\\0\\\\1\\\\1} \\right) \n",
        "$\n",
        "\n",
        "\n",
        "## Soluciones particulares\n",
        "\n",
        "Una **solución particular** del sistema de ecuaciones es un número real por cada variable, tal que satisface todas las ecuaciones. A partir de la solución general se puede obtener una solución particular cada vez que se remplazan los parámetros por cualquier número real. En particular si todos los parámetros son cero se obtiene la **solución particular trivial**. En el ejemplo anterior se obtiene lo siguiente\n",
        "\n",
        "\n",
        "$\n",
        "\\left( \\matrix{x_1\\\\x_2\\\\x_3\\\\x_4\\\\x_5\\\\x_6} \\right) \n",
        "= \\left( \\matrix{11\\\\0\\\\-4\\\\0\\\\-3\\\\0} \\right) \n",
        "+ 0\\left( \\matrix{1\\\\1\\\\0\\\\0\\\\0\\\\0} \\right) \n",
        "+ 0\\left( \\matrix{1\\\\0\\\\0\\\\1\\\\0\\\\0} \\right) \n",
        "+ 0\\left( \\matrix{-2\\\\0\\\\1\\\\0\\\\1\\\\1} \\right) \n",
        "= \\left( \\matrix{11\\\\0\\\\-4\\\\0\\\\-3\\\\0} \\right) $\n",
        "\n",
        "Otras soluciones particulares interesantes se obtienen cuando un sólo parámetro vale 1 mientras los otros valen cero, a las cuales yo llamaré **soluciones particulares básicas**.\n",
        "\n",
        "$\n",
        "\\left( \\matrix{x_1\\\\x_2\\\\x_3\\\\x_4\\\\x_5\\\\x_6} \\right) \n",
        "= \\left( \\matrix{11\\\\0\\\\-4\\\\0\\\\-3\\\\0} \\right) \n",
        "+ 1\\left( \\matrix{1\\\\1\\\\0\\\\0\\\\0\\\\0} \\right) \n",
        "+ 0\\left( \\matrix{1\\\\0\\\\0\\\\1\\\\0\\\\0} \\right) \n",
        "+ 0\\left( \\matrix{-2\\\\0\\\\1\\\\0\\\\1\\\\1} \\right) \n",
        "= \\left( \\matrix{12\\\\1\\\\-4\\\\0\\\\-3\\\\0} \\right) $\n",
        "\n",
        "$\n",
        "\\left( \\matrix{x_1\\\\x_2\\\\x_3\\\\x_4\\\\x_5\\\\x_6} \\right) \n",
        "= \\left( \\matrix{11\\\\0\\\\-4\\\\0\\\\-3\\\\0} \\right) \n",
        "+ 0\\left( \\matrix{1\\\\1\\\\0\\\\0\\\\0\\\\0} \\right) \n",
        "+ 1\\left( \\matrix{1\\\\0\\\\0\\\\1\\\\0\\\\0} \\right) \n",
        "+ 0\\left( \\matrix{-2\\\\0\\\\1\\\\0\\\\1\\\\1} \\right) \n",
        "= \\left( \\matrix{12\\\\0\\\\-4\\\\1\\\\-3\\\\0} \\right) $\n",
        "\n",
        "$\n",
        "\\left( \\matrix{x_1\\\\x_2\\\\x_3\\\\x_4\\\\x_5\\\\x_6} \\right) \n",
        "= \\left( \\matrix{11\\\\0\\\\-4\\\\0\\\\-3\\\\0} \\right) \n",
        "+ 0\\left( \\matrix{1\\\\1\\\\0\\\\0\\\\0\\\\0} \\right) \n",
        "+ 0\\left( \\matrix{1\\\\0\\\\0\\\\1\\\\0\\\\0} \\right) \n",
        "+ 1\\left( \\matrix{-2\\\\0\\\\1\\\\0\\\\1\\\\1} \\right) \n",
        "= \\left( \\matrix{9\\\\0\\\\-3\\\\0\\\\-2\\\\1} \\right) $\n",
        "\n",
        "\n",
        "## Conjunto solución\n",
        "El **conjunto solución** es el conjunto de todas las posibles soluciones particulares, se puede escribir especificando los posibles valores de los parámetros de la solución general. \n",
        "\n",
        "$\n",
        "\\left\\{ \n",
        "\\left( \\matrix{11\\\\0\\\\-4\\\\0\\\\-3\\\\0} \\right) \n",
        "+ t_1\\left( \\matrix{1\\\\1\\\\0\\\\0\\\\0\\\\0} \\right) \n",
        "+ t_2\\left( \\matrix{1\\\\0\\\\0\\\\1\\\\0\\\\0} \\right) \n",
        "+ t_3\\left( \\matrix{-2\\\\0\\\\1\\\\0\\\\1\\\\1} \\right)\n",
        "\\mid t_1,t_2,t_3 \\in \\mathbb{R}\n",
        "\\right\\} \n",
        "$\n",
        "\n",
        "Es de resaltar que cada tripla de parámetros diferentes genera soluciones particulares diferentes y como los parámetros son números reales entonces este sistema escalón tiene **infinitas soluciones**."
      ]
    },
    {
      "cell_type": "markdown",
      "metadata": {
        "id": "wpWhqPgzq04T"
      },
      "source": [
        "## Comprobación\n",
        "Para la comprobar que la solución general es correcta, es suficiente probar con las soluciones particulares antes descritas. Para nuestro ejemplo, se van a reemplazar las 6 variables para comprobar las 3 ecuaciones con cada una de las 4 soluciones particulares obtenidas. Esto se realizará en Python.  \n",
        "\n",
        "En Python el símbolo `==` devuelve `True` si son iguales y `False` si no.\n",
        "\n",
        "Primera solución particular. \n",
        "\n",
        "\n",
        "$\n",
        "\\left( \\matrix{x_1\\\\x_2\\\\x_3\\\\x_4\\\\x_5\\\\x_6} \\right) \n",
        "= \\left( \\matrix{11\\\\0\\\\-4\\\\0\\\\-3\\\\0} \\right) $\n",
        "\n",
        "\n"
      ]
    },
    {
      "cell_type": "code",
      "metadata": {
        "id": "LOMiJFlxq04T",
        "outputId": "4b3815a4-5182-47e1-8ef0-3b3df96cdc60"
      },
      "source": [
        "(x_1, x_2, x_3, x_4, x_5, x_6)=(11, 0, -4, 0, -3, 0,)\n",
        "(x_1, x_2, x_3, x_4, x_5, x_6)"
      ],
      "execution_count": null,
      "outputs": [
        {
          "data": {
            "text/plain": [
              "(11, 0, -4, 0, -3, 0)"
            ]
          },
          "execution_count": 49,
          "metadata": {},
          "output_type": "execute_result"
        }
      ]
    },
    {
      "cell_type": "code",
      "metadata": {
        "id": "17UAQrc2q04V",
        "outputId": "bd9011af-dc3c-4e62-a18d-c8df158369bc"
      },
      "source": [
        "x_1 - x_2 +  x_3 - x_4 + 2*x_5 - x_6 == 1"
      ],
      "execution_count": null,
      "outputs": [
        {
          "data": {
            "text/plain": [
              "True"
            ]
          },
          "execution_count": 50,
          "metadata": {},
          "output_type": "execute_result"
        }
      ]
    },
    {
      "cell_type": "code",
      "metadata": {
        "id": "2CchH-oCq04V",
        "outputId": "9bd6f13d-1b54-4246-f4a7-305560915bad"
      },
      "source": [
        "-2*x_3 + 2*x_5 == 2"
      ],
      "execution_count": null,
      "outputs": [
        {
          "data": {
            "text/plain": [
              "True"
            ]
          },
          "execution_count": 51,
          "metadata": {},
          "output_type": "execute_result"
        }
      ]
    },
    {
      "cell_type": "code",
      "metadata": {
        "id": "hG0xGJwiq04W",
        "outputId": "b3331da4-846c-4382-ee37-82eedef9e2e2"
      },
      "source": [
        "-x_5 + x_6 == 3"
      ],
      "execution_count": null,
      "outputs": [
        {
          "data": {
            "text/plain": [
              "True"
            ]
          },
          "execution_count": 52,
          "metadata": {},
          "output_type": "execute_result"
        }
      ]
    },
    {
      "cell_type": "markdown",
      "metadata": {
        "id": "6P7TfSC9q04W"
      },
      "source": [
        "Como vemos la primera solución particular cumple con las tres ecuaciones.\n",
        "\n",
        "Ahora vemos si la segunda solución particular también cumple.\n",
        "\n",
        "$\n",
        "\\left( \\matrix{x_1\\\\x_2\\\\x_3\\\\x_4\\\\x_5\\\\x_6} \\right) \n",
        "= \\left( \\matrix{12\\\\1\\\\-4\\\\0\\\\-3\\\\0} \\right) $\n"
      ]
    },
    {
      "cell_type": "code",
      "metadata": {
        "id": "hEa3nzYiq04W",
        "outputId": "eca2fcd9-8fda-4745-d835-0e4675104918"
      },
      "source": [
        "(x_1, x_2, x_3, x_4, x_5, x_6)=(12, 1, -4, 0, -3, 0,)\n",
        "(x_1, x_2, x_3, x_4, x_5, x_6)"
      ],
      "execution_count": null,
      "outputs": [
        {
          "data": {
            "text/plain": [
              "(12, 1, -4, 0, -3, 0)"
            ]
          },
          "execution_count": 53,
          "metadata": {},
          "output_type": "execute_result"
        }
      ]
    },
    {
      "cell_type": "code",
      "metadata": {
        "id": "SPdmC3Njq04X",
        "outputId": "465ed779-bde9-4e44-e90d-213b668ccf3f"
      },
      "source": [
        "x_1 - x_2 +  x_3 - x_4 + 2*x_5 - x_6 == 1"
      ],
      "execution_count": null,
      "outputs": [
        {
          "data": {
            "text/plain": [
              "True"
            ]
          },
          "execution_count": 54,
          "metadata": {},
          "output_type": "execute_result"
        }
      ]
    },
    {
      "cell_type": "code",
      "metadata": {
        "id": "c2hjOSonq04X",
        "outputId": "a646758c-5683-4aec-dbbf-0e3cb4274077"
      },
      "source": [
        "-2*x_3 + 2*x_5 == 2"
      ],
      "execution_count": null,
      "outputs": [
        {
          "data": {
            "text/plain": [
              "True"
            ]
          },
          "execution_count": 55,
          "metadata": {},
          "output_type": "execute_result"
        }
      ]
    },
    {
      "cell_type": "code",
      "metadata": {
        "id": "TL8mGoZKq04X",
        "outputId": "f61ab196-1549-4ac7-fe7b-e8835f23fefa"
      },
      "source": [
        "-x_5 + x_6 == 3"
      ],
      "execution_count": null,
      "outputs": [
        {
          "data": {
            "text/plain": [
              "True"
            ]
          },
          "execution_count": 56,
          "metadata": {},
          "output_type": "execute_result"
        }
      ]
    },
    {
      "cell_type": "markdown",
      "metadata": {
        "id": "fs8osYcbq04X"
      },
      "source": [
        "Esta también cumplió, ahora seguimos con la tercera solución particular\n",
        "\n",
        "$\n",
        "\\left( \\matrix{x_1\\\\x_2\\\\x_3\\\\x_4\\\\x_5\\\\x_6} \\right) \n",
        "= \\left( \\matrix{12\\\\0\\\\-4\\\\1\\\\-3\\\\0} \\right) $\n",
        "\n"
      ]
    },
    {
      "cell_type": "code",
      "metadata": {
        "id": "r-mAz-chq04Y",
        "outputId": "86a3cf75-f6e3-4e15-cc73-cd387909bdd5"
      },
      "source": [
        "(x_1, x_2, x_3, x_4, x_5, x_6)=(12, 0, -4, 1, -3, 0,)\n",
        "(x_1, x_2, x_3, x_4, x_5, x_6)"
      ],
      "execution_count": null,
      "outputs": [
        {
          "data": {
            "text/plain": [
              "(12, 0, -4, 1, -3, 0)"
            ]
          },
          "execution_count": 57,
          "metadata": {},
          "output_type": "execute_result"
        }
      ]
    },
    {
      "cell_type": "code",
      "metadata": {
        "id": "sFCSV_X5q04Y",
        "outputId": "3c6d826a-2dec-4a83-b965-feec65599339"
      },
      "source": [
        "x_1 - x_2 +  x_3 - x_4 + 2*x_5 - x_6 == 1"
      ],
      "execution_count": null,
      "outputs": [
        {
          "data": {
            "text/plain": [
              "True"
            ]
          },
          "execution_count": 58,
          "metadata": {},
          "output_type": "execute_result"
        }
      ]
    },
    {
      "cell_type": "code",
      "metadata": {
        "id": "sVmmw2Y5q04Y",
        "outputId": "156d5cce-b3cb-4273-f6e1-dd82d2975bfa"
      },
      "source": [
        "-2*x_3 + 2*x_5 == 2"
      ],
      "execution_count": null,
      "outputs": [
        {
          "data": {
            "text/plain": [
              "True"
            ]
          },
          "execution_count": 59,
          "metadata": {},
          "output_type": "execute_result"
        }
      ]
    },
    {
      "cell_type": "code",
      "metadata": {
        "id": "grqmz12hq04Y",
        "outputId": "52f58be7-a4b4-485e-9fe5-457d326ce14e"
      },
      "source": [
        "-x_5 + x_6 == 3"
      ],
      "execution_count": null,
      "outputs": [
        {
          "data": {
            "text/plain": [
              "True"
            ]
          },
          "execution_count": 60,
          "metadata": {},
          "output_type": "execute_result"
        }
      ]
    },
    {
      "cell_type": "markdown",
      "metadata": {
        "id": "Ss7QVP_Pq04Z"
      },
      "source": [
        "Ya sólo falta probar la última solución particular con las tres ecuaciones.\n",
        "\n",
        "$\n",
        "\\left( \\matrix{x_1\\\\x_2\\\\x_3\\\\x_4\\\\x_5\\\\x_6} \\right) \n",
        "= \\left( \\matrix{9\\\\0\\\\-3\\\\0\\\\-2\\\\1} \\right) $"
      ]
    },
    {
      "cell_type": "code",
      "metadata": {
        "id": "_lE-cS8Uq04Z",
        "outputId": "7e3b67b6-baf9-41f6-e3e0-9aacca3c4290"
      },
      "source": [
        "(x_1, x_2, x_3, x_4, x_5, x_6)=(9, 0, -3, 0, -2, 1,)\n",
        "(x_1, x_2, x_3, x_4, x_5, x_6)"
      ],
      "execution_count": null,
      "outputs": [
        {
          "data": {
            "text/plain": [
              "(9, 0, -3, 0, -2, 1)"
            ]
          },
          "execution_count": 61,
          "metadata": {},
          "output_type": "execute_result"
        }
      ]
    },
    {
      "cell_type": "code",
      "metadata": {
        "id": "cSsLSENVq04Z",
        "outputId": "c5061361-369e-4efc-e755-59e28de9ce88"
      },
      "source": [
        "x_1 - x_2 +  x_3 - x_4 + 2*x_5 - x_6 == 1"
      ],
      "execution_count": null,
      "outputs": [
        {
          "data": {
            "text/plain": [
              "True"
            ]
          },
          "execution_count": 62,
          "metadata": {},
          "output_type": "execute_result"
        }
      ]
    },
    {
      "cell_type": "code",
      "metadata": {
        "id": "5FJA6gqUq04Z",
        "outputId": "0f4ffbd5-c557-494b-8984-9142692c52c9"
      },
      "source": [
        "-2*x_3 + 2*x_5 == 2"
      ],
      "execution_count": null,
      "outputs": [
        {
          "data": {
            "text/plain": [
              "True"
            ]
          },
          "execution_count": 63,
          "metadata": {},
          "output_type": "execute_result"
        }
      ]
    },
    {
      "cell_type": "code",
      "metadata": {
        "id": "tGz8cFYoq04Z",
        "outputId": "4ccfa12f-5a8e-4638-db30-b04247143c95"
      },
      "source": [
        "-x_5 + x_6 == 3"
      ],
      "execution_count": null,
      "outputs": [
        {
          "data": {
            "text/plain": [
              "True"
            ]
          },
          "execution_count": 64,
          "metadata": {},
          "output_type": "execute_result"
        }
      ]
    },
    {
      "cell_type": "markdown",
      "metadata": {
        "id": "xO6FRc-Pq04a"
      },
      "source": [
        "La anterior prueba permite concluir que la solución general es correcta. Más adelante en el curso estudiaremos porque con probar sólo 4 casos podemos concluir para las infinitas soluciones que genera la solución general. Además, veremos cómo se pueden realizar todas las comprobaciones con una sola multiplicación matricial.\n",
        "\n",
        "\n",
        "## Respuesta del ejemplo\n",
        "Con el fin de calificar este taller, se solicitará colocar la solución particular trivial y las básicas en una tupla de la siguiente forma"
      ]
    },
    {
      "cell_type": "code",
      "metadata": {
        "id": "Qq9MYsTzq04a"
      },
      "source": [
        "respuesta_ejemplo_1=(\n",
        "    (11, 0, -4, 0, -3, 0,),\n",
        "    (12, 1, -4, 0, -3, 0,),\n",
        "    (12, 0, -4, 1, -3, 0,),\n",
        "    (9, 0, -3, 0, -2, 1,),\n",
        ")"
      ],
      "execution_count": null,
      "outputs": []
    },
    {
      "cell_type": "markdown",
      "metadata": {
        "id": "z7CxqGPHq04a"
      },
      "source": [
        " \n",
        "\n",
        "# Sistemas escalón Consistentes e Inconsistentes\n",
        "\n",
        "Un sistema de ecuaciones **inconsistente** si no tiene ninguna solución. Es decir, si el conjunto solución es vació.\n",
        "\n",
        "## Teorema\n",
        "\n",
        "<u>Un sistema de ecuaciones escalón es inconsistente **si y solo si** alguna de las ecuaciones es de la forma $0x_1 + 0x_2 + \\cdots + 0x_n = b$ con $b \\neq 0$.</u> \n",
        "\n",
        "### Explicación\n",
        "Para demostrar una afirmación **A si y sólo si B** hay que hacer dos demostraciones: **Si A entonces B** y **Si B entonces A**. Algunas veces hay una que es muy sencilla de demostrar. \n",
        "\n",
        "En este caso es más sencillo demostrar que:  <u> **Si** alguna de las ecuaciones es de la forma $0x_1 + 0x_2 + \\cdots + 0x_n = b$ con $b \\neq 0$ **entonces** el sistema de ecuaciones escalón es inconsistente</u> \n",
        "\n",
        "* ya que la ecuación $0x_1 + 0x_2 + \\cdots + 0x_n = b$ con $b \\neq 0$ no tiene solución, \n",
        "\n",
        "* lo cual precisamente corresponde a la definición de inconsistente.\n",
        "\n",
        "Para demostrar la otra afirmación vamos a usar el contra reciproco, es decir que en vez de probar que **Si A entonces B** vamos a probar **Si no B entonces no A**. De pronto el siguiente ejemplo permite entender mejor el contrarrecíproco."
      ]
    },
    {
      "cell_type": "code",
      "metadata": {
        "id": "GQEaSGbOq04a",
        "outputId": "8e3a2f6d-1775-45c1-ed2f-3c4ccd5ebc9a"
      },
      "source": [
        "# Omitir este código\n",
        "# Este código dibuja dos conjuntos anidados\n",
        "import matplotlib.pyplot as plt\n",
        "fig, ax = plt.subplots()\n",
        "ax.add_artist( plt.Circle((0.5, 0.5), 0.4, fill=False, color='k'))\n",
        "ax.add_artist(plt.Circle((0.5, 0.5), 0.2, fill=False, color='k'))\n",
        "ax.add_artist(plt.Circle((0.5, 0.5), 1, fill=False, color='w'))\n",
        "ax.add_artist(plt.Circle((0.5, 0.5), 0.01,  color='k'))\n",
        "ax.add_artist(plt.Circle((0.95, 0.5), 0.01,  color='k'))\n",
        "ax.text(0.8, 0.5, r'$C$',{'fontsize': 18})\n",
        "ax.text(0.6, 0.5, r'$D$',{'fontsize': 18})\n",
        "ax.text(0.51, 0.5, r'$x$',{'fontsize': 18})\n",
        "ax.text(0.96, 0.5, r\"$x'$\",{'fontsize': 18})\n",
        "ax.axis('off')\n",
        "plt.show()"
      ],
      "execution_count": null,
      "outputs": [
        {
          "data": {
            "image/png": "[encoded data removed]",
            "text/plain": [
              "<Figure size 432x288 with 1 Axes>"
            ]
          },
          "metadata": {
            "needs_background": "light"
          },
          "output_type": "display_data"
        }
      ]
    },
    {
      "cell_type": "markdown",
      "metadata": {
        "id": "AdkkgoGUq04b"
      },
      "source": [
        "Para la afirmación \n",
        "\n",
        "Si $x \\in D$ entonces $x \\in C$\n",
        "\n",
        "su contrarrecíproco es   \n",
        "\n",
        "Si $x' \\notin C$ entonces $x' \\notin D$ \n",
        "\n",
        "En nuestro caso el contrarrecíproco queda así. <u> **Si** ninguna de las ecuaciones es de la forma $0x_1 + 0x_2 + \\cdots + 0x_n = b$ con $b \\neq 0$ **entonces** el sistema de ecuaciones escalón es consistente.</u>\n",
        "\n",
        "* **Si** ninguna de las ecuaciones es de la forma $0x_1 + 0x_2 + \\cdots + 0x_n = b$ con $b \\neq 0$.\n",
        "* Se puede aplicar la sustitución hacia atrás y llegar a la solución general.\n",
        "* Con la solución general se obtiene al menos una solución particular.\n",
        "* Si el conjunto solución no es vacío entonces el sistema escalón es consistente.\n",
        "\n",
        "Este teorema es un caso particular del que se presenta en [Nakos, Teorema 1.2, pg 23]"
      ]
    },
    {
      "cell_type": "markdown",
      "metadata": {
        "id": "oVhx3fnQq04b"
      },
      "source": [
        "## Ejemplo 2\n",
        "\n",
        "$\\matrix{\n",
        " x_1&-&x_2&+&x_3&-&x_4&+&2x_5&-&x_6&=&1\\\\\n",
        " &&&&-2x_3&&&+&2x_5&&&=&2\\\\\n",
        " &&&&&&&&-x_5&+&x_6&=&3\\\\\n",
        " 0x_1&+&0x_2&+&0x_3&+&0x_4&+&0x_5 &+&0x_6&=&4\\\\\n",
        " }$\n"
      ]
    },
    {
      "cell_type": "code",
      "metadata": {
        "id": "mbDGz2yjq04b"
      },
      "source": [
        "respuesta_ejemplo_2=() # Como el sistema es inconsistente la tupa está vacía"
      ],
      "execution_count": null,
      "outputs": []
    },
    {
      "cell_type": "markdown",
      "metadata": {
        "id": "hyxTzAkVq04b"
      },
      "source": [
        "# Solución única e infinitas soluciones\n",
        "\n",
        "## Ejemplo 3\n",
        "Comenzaremos esta sección con encontrar la solución general del siguiente sistema escalón.\n",
        "\n",
        "$\\matrix{\n",
        " 2x&-&2y&=&-2\\\\\n",
        " &&y&=&2\\\\\n",
        "}$\n",
        "\n",
        "Como no tiene variables libres, entonces no tiene parámetros. Entonces procedemos a despejar cada una de las ecuaciones. La última ecuación ya está despejada.\n",
        "\n",
        "$y=2$\n",
        "\n",
        "La primera ecuación queda de la siguiente forma.\n",
        "\n",
        "$2x - 2(2) = -2  \\ \\ \\ \\Rightarrow \\ \\ \\ 2x = -2 + 2(2) \\ \\ \\ \\Rightarrow \\ \\ \\ 2x = 2 \\ \\ \\ \\Rightarrow \\ \\ \\ x = 1$\n",
        "\n",
        "Por la tanto la solución general es\n",
        "$\n",
        "\\left( \\matrix{x\\\\y} \\right) \n",
        "= \\left( \\matrix{1\\\\2} \\right) \n",
        "$.\n",
        "Que es igual a la solución particular. El conjunto solución es $\n",
        "\\left\\{ \\left( \\matrix{1\\\\2} \\right)\\right\\} \n",
        "$.\n",
        "\n",
        "## Respuesta del ejemplo\n"
      ]
    },
    {
      "cell_type": "code",
      "metadata": {
        "id": "znKATpSjq04b"
      },
      "source": [
        "respuesta_ejemplo_3=(\n",
        "(1,2)\n",
        ")"
      ],
      "execution_count": null,
      "outputs": []
    },
    {
      "cell_type": "markdown",
      "metadata": {
        "id": "rABYgQf-q04b"
      },
      "source": [
        "\n",
        "\n",
        "De este ejercicio podemos ver que cuando no hay variables libres, no hay parámetros, no hay infinitas soluciones. Es decir, que estos sistemas tienen **solución única**.\n",
        "\n",
        "Lo anterior se puede resumir en el siguiente esquema.\n",
        "\n",
        "$\\text{Sistema escalón } \\left\\{\\matrix{\n",
        "\\text{Alguna $0x_1 + 0x_2 + \\cdots + 0x_n = b$ con $b \\neq 0$} & \\text{Inconsistente} \\ \\ \\ \\ \\ \\ \\ \\ \\ \\ \\ \\ \\ \\ \\ \\ \\ \\ \\ \\ \\ \\ \\ \\ \\ \\ \\ \\ \\ \\ \\ \\ \\ \\ \\ \\ \\ \\ \\ \\ \\ \\  \\text{Ninguna solución} \\\\\n",
        "\\text{Ninguna $0x_1 + 0x_2 + \\cdots + 0x_n = b$ con $b \\neq 0$} & \\text{Consistente} \n",
        "\\left\\{\\matrix{\\text{No hay variables libres} &  \\text{Única solución}\\\\\n",
        "\\text{Sí hay variables libres} &  \\text{Infinitas soluciones}}\\right.\n",
        "}\\right.$\n",
        "\n",
        "<!--$\\text{sistema ecalón } \\matrix{\n",
        "\\text{alguna $0x_1 + 0x_2 + \\cdots + 0x_n = b$ con $b \\neq 0$} & \\text{Inconsistente} & & \\text{Solución vacía} \\\\\n",
        "                                                &       &\\text{No hay variables libres}& \\text{Solución única}\\\\\n",
        "\\text{ninguna $0x_1 + 0x_2 + \\cdots + 0x_n = b$ con $b \\neq 0$} & \\text{Consistente} \\\\\n",
        "                                                &       &\\text{Sí hay variables libres}& \\text{Soluciones infinitas}\\\\\n",
        "}$-->"
      ]
    }
  ]
}