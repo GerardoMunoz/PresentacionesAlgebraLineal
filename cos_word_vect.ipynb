{
  "nbformat": 4,
  "nbformat_minor": 0,
  "metadata": {
    "orig_nbformat": 4,
    "language_info": {
      "name": "python",
      "version": "3.9.5",
      "mimetype": "text/x-python",
      "codemirror_mode": {
        "name": "ipython",
        "version": 3
      },
      "pygments_lexer": "ipython3",
      "nbconvert_exporter": "python",
      "file_extension": ".py"
    },
    "kernelspec": {
      "name": "python3",
      "display_name": "Python 3.9.5 64-bit"
    },
    "interpreter": {
      "hash": "92d6b3a05e9e8c68507114c49cf9da635036ff8ac36025d12f74e72be0cae55d"
    },
    "colab": {
      "name": "PS_angulo_word_vect.ipynb",
      "provenance": [],
      "include_colab_link": true
    }
  },
  "cells": [
    {
      "cell_type": "markdown",
      "metadata": {
        "id": "view-in-github",
        "colab_type": "text"
      },
      "source": [
        "<a href=\"https://colab.research.google.com/github/GerardoMunoz/PresentacionesAlgebraLineal/blob/main/cos_word_vect.ipynb\" target=\"_parent\"><img src=\"https://colab.research.google.com/assets/colab-badge.svg\" alt=\"Open In Colab\"/></a>"
      ]
    },
    {
      "cell_type": "markdown",
      "metadata": {
        "id": "I7OOHXdCFaBQ"
      },
      "source": [
        "En la página https://matematicaj.blogspot.com/2020/03/Test-de-analogias-verbales-resuelto-con-claves-y-respuestas-pre-universidad-pdf.html se presentan algunas analogías de palabras. En el primer caso se pregunta soldado es a ejército como:\n",
        "1. Ratón a gato,\n",
        "2. Llave a llavero,\n",
        "3. Paradoja a contradicción,\n",
        "4. Pulga a perro,\n",
        "5. Tornillo a máquina.\n",
        "\n",
        "Usaremos el álgebra lineal para resolver el problema. Algoritmos (como bolsa de palabras, Word2vec, Gensim, GloVe) aplicado a un conjunto de documentos (corpus), [incrustan las palabras](https://unipython.com/como-desarrollar-embeddings-incrustaciones-de-palabras-con-gensim/) <!--(https://es.wikipedia.org/wiki/Word_embedding)--> en $\\mathbb{R}^n$.  \n",
        "\n",
        "Algunas de estas incrustaciones tienen propiedades semánticas, es decir que algunas operaciones vectoriales son congruentes con el significado de las palabras. Como en el famoso ejemplo  Rey - Hombre + Mujer -> Reina. \n",
        "\n",
        "Para este ejercicio vamos a utilizar la librería `spacy` con una base de datos de noticias (news) pequeña (sm) en español (es) llamada `es_core_news_sm`. \n",
        "\n",
        "* Lo primero es obtener el vector $\\vec{u}_0$  para la palabra soldado y el vector $\\vec{v}_0$ para la palabra ejército. Los vectores no están ni en $\\mathbb{R}^2$ ni en $\\mathbb{R}^3$ sino en $\\mathbb{R}^{96}$\n",
        "\n",
        "* Luego se obtiene el vector  $\\vec{w}_0 =  \\vec{u}_0 - \\vec{v}_0$ que va desde soldado hasta ejército.\n",
        "\n",
        "* De manera similar se obtiene el vector para la primera repuesta. Es decir, el vector $\\vec{w}_1$ que va de raton a gato.  Finalmente se calcula el coseno del ángulo $\\cos(\\alpha_1)$ entre el vector  $\\vec{w}_0$ y $\\vec{w}_1$.\n",
        "\n",
        "* Se repite lo mismo para cada par de palabras, obteniendo los vectores $\\vec{w}_2$, $\\vec{w}_3$, $\\vec{w}_4$, $\\vec{w}_5$. Posteriormente los cosenos  $\\cos(\\alpha_2)$, $\\cos(\\alpha_3)$, $\\cos(\\alpha_4)$, $\\cos(\\alpha_5)$, entre los vectores  $\\vec{w}_0$ y el respectivo $\\vec{w}_i$.\n",
        "\n",
        "*  Finalmente se selecciona la respuesta con el mayor coseno del ángulo."
      ]
    },
    {
      "cell_type": "markdown",
      "metadata": {
        "id": "slf1VcqWFaBU"
      },
      "source": [
        "Lo primero es descargar la librería en español \"es_core_news_sm\". Esto sólo hay que realizarlo una vez se inicia. \n",
        "\n"
      ]
    },
    {
      "cell_type": "code",
      "metadata": {
        "colab": {
          "base_uri": "https://localhost:8080/"
        },
        "id": "LhnJFQhFFaBV",
        "outputId": "78cd5483-9c02-4190-d7dc-19782f7a5baf"
      },
      "source": [
        "!python -m spacy download es_core_news_sm\n",
        "# !python -m spacy download es_core_news_sm"
      ],
      "execution_count": 30,
      "outputs": [
        {
          "output_type": "stream",
          "name": "stdout",
          "text": [
            "2022-09-08 09:45:27.181137: E tensorflow/stream_executor/cuda/cuda_driver.cc:271] failed call to cuInit: CUDA_ERROR_NO_DEVICE: no CUDA-capable device is detected\n",
            "Looking in indexes: https://pypi.org/simple, https://us-python.pkg.dev/colab-wheels/public/simple/\n",
            "Collecting es-core-news-sm==3.4.0\n",
            "  Downloading https://github.com/explosion/spacy-models/releases/download/es_core_news_sm-3.4.0/es_core_news_sm-3.4.0-py3-none-any.whl (12.9 MB)\n",
            "\u001b[K     |████████████████████████████████| 12.9 MB 5.1 MB/s \n",
            "\u001b[?25hRequirement already satisfied: spacy<3.5.0,>=3.4.0 in /usr/local/lib/python3.7/dist-packages (from es-core-news-sm==3.4.0) (3.4.1)\n",
            "Requirement already satisfied: pydantic!=1.8,!=1.8.1,<1.10.0,>=1.7.4 in /usr/local/lib/python3.7/dist-packages (from spacy<3.5.0,>=3.4.0->es-core-news-sm==3.4.0) (1.9.2)\n",
            "Requirement already satisfied: typer<0.5.0,>=0.3.0 in /usr/local/lib/python3.7/dist-packages (from spacy<3.5.0,>=3.4.0->es-core-news-sm==3.4.0) (0.4.2)\n",
            "Requirement already satisfied: wasabi<1.1.0,>=0.9.1 in /usr/local/lib/python3.7/dist-packages (from spacy<3.5.0,>=3.4.0->es-core-news-sm==3.4.0) (0.10.1)\n",
            "Requirement already satisfied: setuptools in /usr/local/lib/python3.7/dist-packages (from spacy<3.5.0,>=3.4.0->es-core-news-sm==3.4.0) (57.4.0)\n",
            "Requirement already satisfied: requests<3.0.0,>=2.13.0 in /usr/local/lib/python3.7/dist-packages (from spacy<3.5.0,>=3.4.0->es-core-news-sm==3.4.0) (2.23.0)\n",
            "Requirement already satisfied: thinc<8.2.0,>=8.1.0 in /usr/local/lib/python3.7/dist-packages (from spacy<3.5.0,>=3.4.0->es-core-news-sm==3.4.0) (8.1.0)\n",
            "Requirement already satisfied: spacy-legacy<3.1.0,>=3.0.9 in /usr/local/lib/python3.7/dist-packages (from spacy<3.5.0,>=3.4.0->es-core-news-sm==3.4.0) (3.0.10)\n",
            "Requirement already satisfied: catalogue<2.1.0,>=2.0.6 in /usr/local/lib/python3.7/dist-packages (from spacy<3.5.0,>=3.4.0->es-core-news-sm==3.4.0) (2.0.8)\n",
            "Requirement already satisfied: tqdm<5.0.0,>=4.38.0 in /usr/local/lib/python3.7/dist-packages (from spacy<3.5.0,>=3.4.0->es-core-news-sm==3.4.0) (4.64.0)\n",
            "Requirement already satisfied: packaging>=20.0 in /usr/local/lib/python3.7/dist-packages (from spacy<3.5.0,>=3.4.0->es-core-news-sm==3.4.0) (21.3)\n",
            "Requirement already satisfied: typing-extensions<4.2.0,>=3.7.4 in /usr/local/lib/python3.7/dist-packages (from spacy<3.5.0,>=3.4.0->es-core-news-sm==3.4.0) (4.1.1)\n",
            "Requirement already satisfied: murmurhash<1.1.0,>=0.28.0 in /usr/local/lib/python3.7/dist-packages (from spacy<3.5.0,>=3.4.0->es-core-news-sm==3.4.0) (1.0.8)\n",
            "Requirement already satisfied: srsly<3.0.0,>=2.4.3 in /usr/local/lib/python3.7/dist-packages (from spacy<3.5.0,>=3.4.0->es-core-news-sm==3.4.0) (2.4.4)\n",
            "Requirement already satisfied: langcodes<4.0.0,>=3.2.0 in /usr/local/lib/python3.7/dist-packages (from spacy<3.5.0,>=3.4.0->es-core-news-sm==3.4.0) (3.3.0)\n",
            "Requirement already satisfied: spacy-loggers<2.0.0,>=1.0.0 in /usr/local/lib/python3.7/dist-packages (from spacy<3.5.0,>=3.4.0->es-core-news-sm==3.4.0) (1.0.3)\n",
            "Requirement already satisfied: jinja2 in /usr/local/lib/python3.7/dist-packages (from spacy<3.5.0,>=3.4.0->es-core-news-sm==3.4.0) (2.11.3)\n",
            "Requirement already satisfied: cymem<2.1.0,>=2.0.2 in /usr/local/lib/python3.7/dist-packages (from spacy<3.5.0,>=3.4.0->es-core-news-sm==3.4.0) (2.0.6)\n",
            "Requirement already satisfied: pathy>=0.3.5 in /usr/local/lib/python3.7/dist-packages (from spacy<3.5.0,>=3.4.0->es-core-news-sm==3.4.0) (0.6.2)\n",
            "Requirement already satisfied: numpy>=1.15.0 in /usr/local/lib/python3.7/dist-packages (from spacy<3.5.0,>=3.4.0->es-core-news-sm==3.4.0) (1.21.6)\n",
            "Requirement already satisfied: preshed<3.1.0,>=3.0.2 in /usr/local/lib/python3.7/dist-packages (from spacy<3.5.0,>=3.4.0->es-core-news-sm==3.4.0) (3.0.7)\n",
            "Requirement already satisfied: zipp>=0.5 in /usr/local/lib/python3.7/dist-packages (from catalogue<2.1.0,>=2.0.6->spacy<3.5.0,>=3.4.0->es-core-news-sm==3.4.0) (3.8.1)\n",
            "Requirement already satisfied: pyparsing!=3.0.5,>=2.0.2 in /usr/local/lib/python3.7/dist-packages (from packaging>=20.0->spacy<3.5.0,>=3.4.0->es-core-news-sm==3.4.0) (3.0.9)\n",
            "Requirement already satisfied: smart-open<6.0.0,>=5.2.1 in /usr/local/lib/python3.7/dist-packages (from pathy>=0.3.5->spacy<3.5.0,>=3.4.0->es-core-news-sm==3.4.0) (5.2.1)\n",
            "Requirement already satisfied: certifi>=2017.4.17 in /usr/local/lib/python3.7/dist-packages (from requests<3.0.0,>=2.13.0->spacy<3.5.0,>=3.4.0->es-core-news-sm==3.4.0) (2022.6.15)\n",
            "Requirement already satisfied: urllib3!=1.25.0,!=1.25.1,<1.26,>=1.21.1 in /usr/local/lib/python3.7/dist-packages (from requests<3.0.0,>=2.13.0->spacy<3.5.0,>=3.4.0->es-core-news-sm==3.4.0) (1.24.3)\n",
            "Requirement already satisfied: chardet<4,>=3.0.2 in /usr/local/lib/python3.7/dist-packages (from requests<3.0.0,>=2.13.0->spacy<3.5.0,>=3.4.0->es-core-news-sm==3.4.0) (3.0.4)\n",
            "Requirement already satisfied: idna<3,>=2.5 in /usr/local/lib/python3.7/dist-packages (from requests<3.0.0,>=2.13.0->spacy<3.5.0,>=3.4.0->es-core-news-sm==3.4.0) (2.10)\n",
            "Requirement already satisfied: blis<0.8.0,>=0.7.8 in /usr/local/lib/python3.7/dist-packages (from thinc<8.2.0,>=8.1.0->spacy<3.5.0,>=3.4.0->es-core-news-sm==3.4.0) (0.7.8)\n",
            "Requirement already satisfied: click<9.0.0,>=7.1.1 in /usr/local/lib/python3.7/dist-packages (from typer<0.5.0,>=0.3.0->spacy<3.5.0,>=3.4.0->es-core-news-sm==3.4.0) (7.1.2)\n",
            "Requirement already satisfied: MarkupSafe>=0.23 in /usr/local/lib/python3.7/dist-packages (from jinja2->spacy<3.5.0,>=3.4.0->es-core-news-sm==3.4.0) (2.0.1)\n",
            "\u001b[38;5;2m✔ Download and installation successful\u001b[0m\n",
            "You can now load the package via spacy.load('es_core_news_sm')\n"
          ]
        }
      ]
    },
    {
      "cell_type": "markdown",
      "metadata": {
        "id": "s5b6EyMRFaBW"
      },
      "source": [
        "En Colab puede 'Reinicar el entorno de ejecución' despues de descargar la librería \n",
        "\n",
        "Lo primero es llamar la libreria spacy. "
      ]
    },
    {
      "cell_type": "code",
      "metadata": {
        "id": "oYjFDV10FaBX"
      },
      "source": [
        "import spacy"
      ],
      "execution_count": 31,
      "outputs": []
    },
    {
      "cell_type": "markdown",
      "metadata": {
        "id": "hSmcOKzOFaBY"
      },
      "source": [
        "Luego sigue cargar los datos del español que se descargaron previamente. En caso de no haber reiniciado el entorno de ejecución puede que se presente un error."
      ]
    },
    {
      "cell_type": "code",
      "metadata": {
        "id": "UpN0ji33FaBY"
      },
      "source": [
        "spacy_es = spacy.load(\"es_core_news_sm\")"
      ],
      "execution_count": 32,
      "outputs": []
    },
    {
      "cell_type": "markdown",
      "metadata": {
        "id": "jGP100vnFaBa"
      },
      "source": [
        "Ahora si comenzamos a obtener los vectores de cada palabra. Es importante que la palabra se escriba con tilde si las tiene. "
      ]
    },
    {
      "cell_type": "code",
      "metadata": {
        "colab": {
          "base_uri": "https://localhost:8080/"
        },
        "id": "T0tMDSbsFaBb",
        "outputId": "4c451747-d2cb-4765-dd2d-e89670974a38"
      },
      "source": [
        "soldado=spacy_es(\"soldado\").vector\n",
        "soldado"
      ],
      "execution_count": 33,
      "outputs": [
        {
          "output_type": "execute_result",
          "data": {
            "text/plain": [
              "array([-0.7155695 ,  1.3869509 , -1.8909149 ,  2.1056552 ,  1.5098524 ,\n",
              "       -0.11164878, -2.0840092 ,  1.2565432 ,  3.1206698 , -1.3746428 ,\n",
              "       -0.957276  , -0.9998431 ,  2.8895476 , -2.466204  , -2.0664263 ,\n",
              "       -0.5012297 ,  2.025004  ,  1.6525549 ,  1.4513029 ,  2.5428417 ,\n",
              "       -0.16929209, -0.43065274,  1.2244691 , -1.0512264 , -3.7376509 ,\n",
              "        0.27136993, -2.4219816 , -0.14947842, -1.1031051 , -1.5842819 ,\n",
              "        1.1171935 ,  0.12434453,  0.21441936, -0.4076234 , -0.40748632,\n",
              "        4.508094  , -2.810264  ,  1.1510806 ,  0.37764937,  1.0818181 ,\n",
              "        3.8766077 ,  2.246487  ,  0.7366568 , -0.09284037,  2.5397549 ,\n",
              "        1.1426295 ,  1.4252193 ,  0.39980197,  1.9001868 , -2.280634  ,\n",
              "       -2.3254886 , -0.06699443, -2.9225051 , -0.7963351 , -0.4020986 ,\n",
              "        0.49715233,  1.2857593 , -0.32094732,  1.4612042 ,  3.0397143 ,\n",
              "       -1.4021791 , -0.07928163,  0.22956175, -2.4282696 , -2.0647438 ,\n",
              "        1.1913693 ,  0.86693513, -1.5781258 , -1.1418155 , -1.0556058 ,\n",
              "        0.919029  ,  1.1791685 , -0.69402707,  2.0555408 , -2.23313   ,\n",
              "       -0.20041126, -0.6354697 , -0.20310792,  0.02358244,  0.37281537,\n",
              "       -3.6087427 ,  1.5432682 ,  2.0437937 ,  1.8865937 ,  1.7141321 ,\n",
              "       -2.00523   , -1.7380896 , -1.2440417 , -1.3759903 ,  1.8555144 ,\n",
              "       -0.477037  , -1.5409464 , -0.9147961 , -2.712998  , -1.5572466 ,\n",
              "       -0.52798724], dtype=float32)"
            ]
          },
          "metadata": {},
          "execution_count": 33
        }
      ]
    },
    {
      "cell_type": "markdown",
      "metadata": {
        "id": "dpIKGBrfFaBd"
      },
      "source": [
        "Observe que cada palabra es un vector de 96 elementos"
      ]
    },
    {
      "cell_type": "code",
      "metadata": {
        "colab": {
          "base_uri": "https://localhost:8080/"
        },
        "id": "Afwi9UR7FaBd",
        "outputId": "56bfe2fa-e836-4ba2-f0c6-8fb9c71ce1d3"
      },
      "source": [
        "len(soldado)"
      ],
      "execution_count": 34,
      "outputs": [
        {
          "output_type": "execute_result",
          "data": {
            "text/plain": [
              "96"
            ]
          },
          "metadata": {},
          "execution_count": 34
        }
      ]
    },
    {
      "cell_type": "code",
      "metadata": {
        "colab": {
          "base_uri": "https://localhost:8080/"
        },
        "id": "FV_aJS6ZFaBe",
        "outputId": "06f1cda9-9f3f-47ad-f3f9-bc054b9ef8d5"
      },
      "source": [
        "ejercito=spacy_es(\"ejército\").vector\n",
        "ejercito"
      ],
      "execution_count": 35,
      "outputs": [
        {
          "output_type": "execute_result",
          "data": {
            "text/plain": [
              "array([ 1.3402033 ,  0.6466939 , -0.3120802 ,  2.0070653 , -1.4393866 ,\n",
              "       -2.6502616 , -0.5631783 , -0.00893059,  4.530635  ,  0.6331577 ,\n",
              "       -1.0969263 , -0.04058801,  0.03386638, -2.6523893 ,  4.486824  ,\n",
              "       -0.28968263, -0.14905018, -0.79997635, -0.8146738 , -0.70976806,\n",
              "       -0.23961245,  1.4245209 , -1.0063804 ,  2.9148288 , -2.3527927 ,\n",
              "       -0.77206147, -3.5309649 ,  1.211537  ,  1.322429  , -0.28472412,\n",
              "        1.2074524 ,  0.45431542, -1.756801  , -1.0503345 ,  0.46573648,\n",
              "        2.1758225 ,  0.6006074 ,  0.52682555,  1.8131579 ,  0.9927753 ,\n",
              "       -1.3028895 ,  1.156214  ,  3.0240312 , -0.84150076,  3.5365415 ,\n",
              "        0.97008353, -1.0977478 , -1.0917639 ,  0.8708924 , -3.3688734 ,\n",
              "       -0.07567406, -1.5869489 , -3.3947382 ,  3.8012545 , -1.4858091 ,\n",
              "       -0.09389277, -1.8408613 , -0.30343014,  1.5598805 ,  1.162394  ,\n",
              "       -0.7776882 ,  3.4819794 ,  3.0110652 , -0.12613082, -2.8761837 ,\n",
              "       -0.8286469 , -1.0731697 , -3.5762599 , -0.21072918, -0.6180538 ,\n",
              "       -0.32428694,  1.6235086 ,  2.4733343 ,  1.0122522 , -2.3636644 ,\n",
              "        0.8611795 , -0.6467799 , -0.5006331 , -0.8433405 , -0.20443118,\n",
              "        0.24105263, -0.9692954 , -1.0480349 , -0.54970604, -1.9516039 ,\n",
              "        2.3523633 , -1.1092045 ,  0.3655566 , -3.4857957 ,  1.4933128 ,\n",
              "        0.17396605, -0.05449563,  0.2086035 , -2.4030132 ,  0.42760402,\n",
              "        1.718883  ], dtype=float32)"
            ]
          },
          "metadata": {},
          "execution_count": 35
        }
      ]
    },
    {
      "cell_type": "code",
      "metadata": {
        "colab": {
          "base_uri": "https://localhost:8080/"
        },
        "id": "ojTPOpmgFaBe",
        "outputId": "78d8c677-bdc5-4ca6-82c8-6280e3d397a4"
      },
      "source": [
        "soldado_ejercito = soldado - ejercito\n",
        "soldado_ejercito"
      ],
      "execution_count": 36,
      "outputs": [
        {
          "output_type": "execute_result",
          "data": {
            "text/plain": [
              "array([-2.0557728 ,  0.74025697, -1.5788348 ,  0.0985899 ,  2.949239  ,\n",
              "        2.5386128 , -1.5208309 ,  1.2654737 , -1.409965  , -2.0078006 ,\n",
              "        0.13965034, -0.9592551 ,  2.8556812 ,  0.18618536, -6.5532503 ,\n",
              "       -0.21154708,  2.1740541 ,  2.4525313 ,  2.2659767 ,  3.2526097 ,\n",
              "        0.07032035, -1.8551736 ,  2.2308495 , -3.9660552 , -1.3848581 ,\n",
              "        1.0434314 ,  1.1089833 , -1.3610154 , -2.425534  , -1.2995578 ,\n",
              "       -0.09025896, -0.3299709 ,  1.9712204 ,  0.64271104, -0.8732228 ,\n",
              "        2.3322713 , -3.4108715 ,  0.62425506, -1.4355085 ,  0.08904278,\n",
              "        5.1794972 ,  1.0902729 , -2.2873745 ,  0.7486604 , -0.9967866 ,\n",
              "        0.17254597,  2.522967  ,  1.4915658 ,  1.0292944 ,  1.0882394 ,\n",
              "       -2.2498145 ,  1.5199544 ,  0.47223306, -4.5975895 ,  1.0837104 ,\n",
              "        0.5910451 ,  3.1266208 , -0.01751718, -0.09867632,  1.8773203 ,\n",
              "       -0.6244909 , -3.561261  , -2.7815034 , -2.3021388 ,  0.81144   ,\n",
              "        2.0200162 ,  1.9401048 ,  1.998134  , -0.93108636, -0.43755198,\n",
              "        1.2433159 , -0.4443401 , -3.1673613 ,  1.0432886 ,  0.13053441,\n",
              "       -1.0615907 ,  0.01131022,  0.2975252 ,  0.866923  ,  0.57724655,\n",
              "       -3.8497953 ,  2.5125637 ,  3.0918286 ,  2.4362998 ,  3.665736  ,\n",
              "       -4.3575935 , -0.62888503, -1.6095983 ,  2.1098056 ,  0.36220157,\n",
              "       -0.65100306, -1.4864507 , -1.1233996 , -0.30998468, -1.9848506 ,\n",
              "       -2.2468703 ], dtype=float32)"
            ]
          },
          "metadata": {},
          "execution_count": 36
        }
      ]
    },
    {
      "cell_type": "code",
      "metadata": {
        "colab": {
          "base_uri": "https://localhost:8080/"
        },
        "id": "LALnfwDQFaBf",
        "outputId": "422046c0-072e-457c-9268-c4bd42d0e38e"
      },
      "source": [
        "raton = spacy_es(\"ratón\").vector\n",
        "gato = spacy_es(\"gato\").vector\n",
        "raton_gato = raton - gato\n",
        "raton_gato"
      ],
      "execution_count": 37,
      "outputs": [
        {
          "output_type": "execute_result",
          "data": {
            "text/plain": [
              "array([-0.80736995,  3.203731  ,  3.2945247 , -3.0995286 , -1.7742535 ,\n",
              "       -2.6116729 ,  0.37929228,  1.1788265 ,  0.18508577,  0.42931688,\n",
              "        0.5551119 ,  0.86605304,  0.27436614, -2.0092566 ,  0.45674708,\n",
              "        1.3831381 , -0.45560932, -2.485649  ,  1.9864221 ,  2.8597052 ,\n",
              "        2.970308  ,  0.17539611, -1.4346998 , -0.15388632,  1.8848097 ,\n",
              "        0.31161022,  2.6513128 , -3.3837824 ,  3.9159436 ,  0.89486897,\n",
              "        2.0937598 , -3.795614  , -3.3221571 ,  0.19060636,  1.7730912 ,\n",
              "        0.56679285, -1.9354303 , -0.7166382 ,  1.1220381 ,  1.6204984 ,\n",
              "        1.1352187 ,  0.31081188, -2.1341548 , -0.24558914, -0.80052733,\n",
              "        0.8841469 , -1.3709617 ,  0.08220857,  1.1576394 ,  3.3177917 ,\n",
              "        2.5158405 ,  0.5931077 ,  3.0666013 ,  1.3191019 , -2.0501442 ,\n",
              "        5.4901457 , -1.2465388 ,  3.583285  ,  2.0075166 ,  2.8052423 ,\n",
              "       -0.9255254 ,  0.10486704,  0.05997324,  0.28149176,  0.95316863,\n",
              "       -0.44401443, -0.58193856, -1.6338973 , -0.31109917, -4.862235  ,\n",
              "       -3.6808352 , -3.5524085 ,  2.7689466 ,  0.79476094, -0.06619704,\n",
              "        1.0904748 ,  0.21677744, -2.0926044 , -0.66090906, -0.25648075,\n",
              "       -3.8929336 , -2.1117861 ,  3.160883  ,  1.8389821 , -1.2486    ,\n",
              "       -3.1156836 , -1.0021856 , -4.1453304 , -6.21211   ,  1.5471181 ,\n",
              "       -0.09249261, -0.35768253, -2.2616382 ,  0.04205406,  2.197807  ,\n",
              "       -2.36978   ], dtype=float32)"
            ]
          },
          "metadata": {},
          "execution_count": 37
        }
      ]
    },
    {
      "cell_type": "code",
      "metadata": {
        "id": "zxfVxz0ZFaBf"
      },
      "source": [
        "import numpy as np\n",
        "# Los vectores obtenidos son arreglos de numpy\n",
        "# El producto punto entre dos vectores se puede realizar con el método `dot`\n",
        "# La norma de un vector se realiza con la función `np.linalg.norm`"
      ],
      "execution_count": 38,
      "outputs": []
    },
    {
      "cell_type": "code",
      "metadata": {
        "colab": {
          "base_uri": "https://localhost:8080/"
        },
        "id": "_Aez972IFaBg",
        "outputId": "7fa9bcd8-2447-4a80-b4ab-fca4ef9bd87a"
      },
      "source": [
        "cos_preg_rta1 = soldado_ejercito.dot(raton_gato) / (np.linalg.norm(soldado_ejercito) * np.linalg.norm(raton_gato))\n",
        "cos_preg_rta1"
      ],
      "execution_count": 39,
      "outputs": [
        {
          "output_type": "execute_result",
          "data": {
            "text/plain": [
              "0.005233307"
            ]
          },
          "metadata": {},
          "execution_count": 39
        }
      ]
    },
    {
      "cell_type": "code",
      "metadata": {
        "colab": {
          "base_uri": "https://localhost:8080/"
        },
        "id": "BmkzJeMwFaBg",
        "outputId": "f8b97284-732a-4ca7-ee69-ca265cb3b13e"
      },
      "source": [
        "llave = spacy_es(\"llave\").vector\n",
        "llavero = spacy_es(\"llavero\").vector\n",
        "llave_llavero = llave - llavero\n",
        "\n",
        "cos_preg_rta2 = soldado_ejercito.dot(llave_llavero) / (np.linalg.norm(soldado_ejercito) * np.linalg.norm(llave_llavero))\n",
        "cos_preg_rta2"
      ],
      "execution_count": 40,
      "outputs": [
        {
          "output_type": "execute_result",
          "data": {
            "text/plain": [
              "0.08419277"
            ]
          },
          "metadata": {},
          "execution_count": 40
        }
      ]
    },
    {
      "cell_type": "code",
      "metadata": {
        "colab": {
          "base_uri": "https://localhost:8080/"
        },
        "id": "qzzGwpakFaBg",
        "outputId": "686d4c10-f54b-40f0-fe77-b59cfe82a7ec"
      },
      "source": [
        "paradoja = spacy_es(\"paradoja\").vector\n",
        "contradiccion = spacy_es(\"contradicción\").vector\n",
        "paradoja_contradiccion = paradoja - contradiccion\n",
        "\n",
        "cos_preg_rta3 = soldado_ejercito.dot(paradoja_contradiccion) / (np.linalg.norm(soldado_ejercito) * np.linalg.norm(paradoja_contradiccion))\n",
        "cos_preg_rta3"
      ],
      "execution_count": 41,
      "outputs": [
        {
          "output_type": "execute_result",
          "data": {
            "text/plain": [
              "-0.17580466"
            ]
          },
          "metadata": {},
          "execution_count": 41
        }
      ]
    },
    {
      "cell_type": "code",
      "metadata": {
        "colab": {
          "base_uri": "https://localhost:8080/"
        },
        "id": "n2Q1PuStFaBh",
        "outputId": "b6a4ac38-384e-4b9b-eb07-5d020b9ffdfd"
      },
      "source": [
        "pulga = spacy_es(\"pulga\").vector\n",
        "perro = spacy_es(\"perro\").vector\n",
        "pulga_perro = pulga - perro\n",
        "\n",
        "cos_preg_rta4 = soldado_ejercito.dot(pulga_perro) / (np.linalg.norm(soldado_ejercito) * np.linalg.norm(pulga_perro))\n",
        "cos_preg_rta4"
      ],
      "execution_count": 42,
      "outputs": [
        {
          "output_type": "execute_result",
          "data": {
            "text/plain": [
              "-0.23316221"
            ]
          },
          "metadata": {},
          "execution_count": 42
        }
      ]
    },
    {
      "cell_type": "code",
      "metadata": {
        "colab": {
          "base_uri": "https://localhost:8080/"
        },
        "id": "12kEveaPFaBi",
        "outputId": "3eb64a9e-3fa0-4fe2-86de-d2047a4799bb"
      },
      "source": [
        "tornillo = spacy_es(\"tornillo\").vector\n",
        "maquina = spacy_es(\"máquina\").vector\n",
        "tornillo_maquina = tornillo - maquina\n",
        "\n",
        "cos_preg_rta5 = soldado_ejercito.dot(tornillo_maquina) / (np.linalg.norm(soldado_ejercito) * np.linalg.norm(tornillo_maquina))\n",
        "cos_preg_rta5"
      ],
      "execution_count": 43,
      "outputs": [
        {
          "output_type": "execute_result",
          "data": {
            "text/plain": [
              "0.19560717"
            ]
          },
          "metadata": {},
          "execution_count": 43
        }
      ]
    },
    {
      "cell_type": "markdown",
      "metadata": {
        "id": "-P1NR_XsFaBi"
      },
      "source": [
        "\n",
        "\n",
        "La mejor respuesta es la que el valor absoluto del coseno del ángulo sea mayor. \n"
      ]
    },
    {
      "cell_type": "code",
      "metadata": {
        "id": "QiTnj9WaFaBj"
      },
      "source": [],
      "execution_count": 43,
      "outputs": []
    }
  ]
}