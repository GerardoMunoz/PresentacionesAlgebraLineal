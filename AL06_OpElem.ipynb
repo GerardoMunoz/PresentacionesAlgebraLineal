{
  "nbformat": 4,
  "nbformat_minor": 0,
  "metadata": {
    "colab": {
      "name": "Clase05_Repr2_MatrizExt_2020_mayo_6.ipynb",
      "provenance": [],
      "include_colab_link": true
    },
    "kernelspec": {
      "display_name": "Python 3",
      "language": "python",
      "name": "python3"
    },
    "language_info": {
      "codemirror_mode": {
        "name": "ipython",
        "version": 3
      },
      "file_extension": ".py",
      "mimetype": "text/x-python",
      "name": "python",
      "nbconvert_exporter": "python",
      "pygments_lexer": "ipython3",
      "version": "3.9.2"
    }
  },
  "cells": [
    {
      "cell_type": "markdown",
      "metadata": {
        "id": "view-in-github",
        "colab_type": "text"
      },
      "source": [
        "<a href=\"https://colab.research.google.com/github/GerardoMunoz/PresentacionesAlgebraLineal/blob/main/AL06_OpElem.ipynb\" target=\"_parent\"><img src=\"https://colab.research.google.com/assets/colab-badge.svg\" alt=\"Open In Colab\"/></a>"
      ]
    },
    {
      "cell_type": "markdown",
      "metadata": {
        "id": "qEPYsXIbBss4"
      },
      "source": [
        "Lo invito a ver est cuaderno desde Colab o descarguelo a su computador. "
      ]
    },
    {
      "cell_type": "markdown",
      "metadata": {
        "id": "2auLNz_sFRLH"
      },
      "source": [
        "\n",
        "\n",
        "# Matriz Extendida\n",
        "<!--## Aplicaciones\n",
        "## Equivalencia con sistema de ecuacioes\n",
        "## E1 a E4\n",
        "## Operaciones elementales\n",
        "## Algoritmo de Gauss-->\n",
        "\n"
      ]
    },
    {
      "cell_type": "markdown",
      "metadata": {
        "id": "VWLOFt_DFRLX"
      },
      "source": [
        "# Notación\n",
        "Así como durante el <u>primer</u> año de vida tenemos <u>cero</u> años. También en Python y otros lenguajes de programación, el primer renglón de las matrices es el renglon cero. \n",
        "\n",
        "$$\\begin{matrix}\\text{renglón 0}\\\\\\text{renglón 1}\\\\\\text{renglón 2}\\end{matrix}\\begin{bmatrix}a&b&c&:&x\\\\d&e&f&:&y\\\\g&h&i&:&z\\end{bmatrix}$$\n",
        "\n",
        "\n",
        "Sin embargo, en otros lenguajes como Matlab, llaman el <u>primer</u> renglón, el renglón <u>uno</u>. Esto último coincide con la notación de la mayoria de libros de álgebra lineal.\n",
        "\n",
        "$$\\begin{matrix}\\text{renglón 1}\\\\\\text{renglón 2}\\\\\\text{renglón 3}\\end{matrix}\\begin{bmatrix}a&b&c&:&x\\\\d&e&f&:&y\\\\g&h&i&:&z\\end{bmatrix}$$\n",
        "\n",
        "En este curso usaremos ambas notaciones. Es por eso que si ha duda si el primer renglon es el renglón cero o el renglón uno, lo invito a que pregunte para evitar confusiones.\n",
        "En particular para la clase de HOY, como usaremos Python, llamaremos el <u>primer</u> renglón el renglón <u>cero</u>.\n",
        "\n",
        "$$\\begin{matrix}\\text{renglón 0}\\\\\\text{renglón 1}\\\\\\text{renglón 2}\\end{matrix}\\begin{bmatrix}a&b&c&:&x\\\\d&e&f&:&y\\\\g&h&i&:&z\\end{bmatrix}$$\n",
        "\n",
        "\n",
        "\n",
        "\n",
        "\n",
        "# Operaciones elementales\n",
        "[Nakos, Sec. 1.1]\n",
        "\n",
        "En esta clase veremos como encontrar la solución de sistemas de ecuaciones que no cumplen con E1, E2, E3 o E4.\n",
        "\n",
        "Para esto definiremos las siguientes  __operaciones elementales__  entre los renglones de una matriz extendida, las cuales permiten modificar la matriz para que cumplan las propiedades E1, E2, E3 y E4. Pero lo más importante es que <u> no alteran la solución</u> del sistema de ecuaciones.\n",
        "\n",
        "* **Intercambio de renglones**. $r_i \\leftrightarrow r_j$\n",
        "\n",
        "$$\\begin{bmatrix}a&b&c&:&x\\\\d&e&f&:&y\\\\g&h&i&:&z\\end{bmatrix}r_0 \\leftrightarrow r_1\\begin{bmatrix}d&e&f&:&y\\\\a&b&c&:&x\\\\g&h&i&:&z\\end{bmatrix}$$\n",
        "\n",
        "El intercambio de renglones no afecta la solución del sistema de ecuaciones ya que el orden de la ecuaciones no altera la solución. \n",
        "\n",
        "* **Multiplica un renglones por un escalar** (diferente de cero). $kr_i \\rightarrow r_i$ \n",
        "$$\\begin{bmatrix}a&b&c&:&x\\\\d&e&f&:&y\\\\g&h&i&:&z\\end{bmatrix}  3r_2 \\rightarrow r_2 \\begin{bmatrix}a&b&c&:&x\\\\d&e&f&:&y\\\\3g&3h&3i&:&3z\\end{bmatrix}$$\n",
        "\n",
        "Al multiplicar un renglón por una constante no se altera la solución ya que la respectiva ecuación se multiplica a ambos lados por la misma constante.\n",
        "\n",
        "* **Suma un múltiplo (no nulo) de un renglón a otro**. $kr_j + 1r_i \\rightarrow r_i$ \n",
        "\n",
        "Observe que el renglón de destino ($r_i$) es multiplicado por 1, mientras que el otro renglón ($r_j$) sí es multiplicado por $k$.\n",
        "\n",
        "$$\\begin{bmatrix}a&b&c&:&x\\\\d&e&f&:&y\\\\g&h&i&:&z\\end{bmatrix} 3r_2 + r_1  \\rightarrow r_1$$ $$\\begin{bmatrix}a&b&c&:&x\\\\3g+d&3h+e&3i+f&:&3z+y\\\\g&h&i&:&z\\end{bmatrix}$$\n",
        "\n",
        "En las siguientes páginas el profesor Von Schmohawk visualiza esta operación en  $\\mathbb{R}^2$ y en $\\mathbb{R}^3$. \n",
        "\n",
        "* https://www.youtube.com/watch?v=fGq07lDUb9k&list=PL20023FA07684B937&index=38\n",
        "* https://www.youtube.com/watch?v=cB2t5VIVHZI&list=PL20023FA07684B937&index=48\n",
        "\n",
        "Más adelante, en nuestro curso, veremos el tema de la visualización. \n",
        "\n",
        "# Una operación no tan elementental\n",
        "\n",
        "La operación $k_jr_j + k_ir_i \\rightarrow r_i$ corresponde a realizar:\n",
        "* primero  $k_ir_i \\rightarrow r_i$, \n",
        "* luego $k_jr_j + r_i \\rightarrow r_i$. \n",
        "\n",
        "$$\\begin{bmatrix}a&b&c&:&x\\\\d&e&f&:&y\\\\g&h&i&:&z\\end{bmatrix} 3r_2 + 4r_1  \\rightarrow r_1$$ $$\\begin{bmatrix}a&b&c&:&x\\\\3g+4d&3h+4e&3i+4f&:&3z+4y\\\\g&h&i&:&z\\end{bmatrix}$$\n",
        "\n",
        "# Equivalencia de matrices\n",
        "Dos matrices se dice que son __equivalentes__ si es posible pasar de una a la otra por medio de operaciones elementales y se denota $A \\sim B$.  \n",
        "\n"
      ]
    },
    {
      "cell_type": "markdown",
      "metadata": {
        "id": "k1jYuSTKFRLN"
      },
      "source": [
        "## Uso de Python para hacer operaciones matriciales \n",
        "Antes de entrar en matieria es conveniente saber que en Python el símbolo numeral `#` es usado para escribir comentrios. \n",
        "\n",
        "\n",
        "\n"
      ]
    },
    {
      "cell_type": "code",
      "metadata": {
        "id": "gPUjlaWKpejB",
        "outputId": "10c3e903-88a2-4721-fbcd-64e071c31f40",
        "colab": {
          "base_uri": "https://localhost:8080/"
        }
      },
      "source": [
        "# Esto es un cometario de Python y por lo tanto no se ejecuta\n",
        "a=5\n",
        "\n",
        "a"
      ],
      "execution_count": 1,
      "outputs": [
        {
          "output_type": "execute_result",
          "data": {
            "text/plain": [
              "5"
            ]
          },
          "metadata": {
            "tags": []
          },
          "execution_count": 1
        }
      ]
    },
    {
      "cell_type": "markdown",
      "metadata": {
        "id": "RTZq5a6QpfHK"
      },
      "source": [
        "A continuación usaremos la librería `sympy` de Python que permite realizar operaciones matriciales."
      ]
    },
    {
      "cell_type": "code",
      "metadata": {
        "id": "C4acJORQFRLO",
        "outputId": "d5343aae-5ba4-4157-8f56-d00517423e96",
        "colab": {
          "base_uri": "https://localhost:8080/",
          "height": 99
        }
      },
      "source": [
        "import sympy as sp # Se llama la librería `sympy` con el alias `sp`.\n",
        "\n",
        "# se define en la matriz `A`\n",
        "\n",
        "A = sp.Matrix([\n",
        "    [0, 3, -6, ],\n",
        "    [3, 3, -10],\n",
        "    [4, -9, 34],\n",
        "    [2, -6, 20]\n",
        "])\n",
        "\n",
        "A"
      ],
      "execution_count": 2,
      "outputs": [
        {
          "output_type": "execute_result",
          "data": {
            "text/latex": "$\\displaystyle \\left[\\begin{matrix}0 & 3 & -6\\\\3 & 3 & -10\\\\4 & -9 & 34\\\\2 & -6 & 20\\end{matrix}\\right]$",
            "text/plain": [
              "Matrix([\n",
              "[0,  3,  -6],\n",
              "[3,  3, -10],\n",
              "[4, -9,  34],\n",
              "[2, -6,  20]])"
            ]
          },
          "metadata": {
            "tags": []
          },
          "execution_count": 2
        }
      ]
    },
    {
      "cell_type": "code",
      "metadata": {
        "id": "CmRbT8OHFRLQ",
        "outputId": "b5de7d91-0246-4c26-9c69-8aaa16bf6d63",
        "colab": {
          "base_uri": "https://localhost:8080/",
          "height": 37
        }
      },
      "source": [
        "# Obtener un elemento de la matriz\n",
        "# Renglón 0 y columna 0\n",
        "# Recuerde que comienza desde cero\n",
        "\n",
        "A[0,0]"
      ],
      "execution_count": 3,
      "outputs": [
        {
          "output_type": "execute_result",
          "data": {
            "text/latex": "$\\displaystyle 0$",
            "text/plain": [
              "0"
            ]
          },
          "metadata": {
            "tags": []
          },
          "execution_count": 3
        }
      ]
    },
    {
      "cell_type": "code",
      "metadata": {
        "id": "M11B2HfeFRLQ",
        "outputId": "6c6e1a23-c346-4b25-d7c8-cd251e46adc2",
        "colab": {
          "base_uri": "https://localhost:8080/",
          "height": 37
        }
      },
      "source": [
        "# Obtener un elemento de la matriz\n",
        "# Renglón 1 y columna 2\n",
        "# Recuerde que comienza desde cero\n",
        "\n",
        "A[1,2]"
      ],
      "execution_count": 4,
      "outputs": [
        {
          "output_type": "execute_result",
          "data": {
            "text/latex": "$\\displaystyle -10$",
            "text/plain": [
              "-10"
            ]
          },
          "metadata": {
            "tags": []
          },
          "execution_count": 4
        }
      ]
    },
    {
      "cell_type": "code",
      "metadata": {
        "id": "wRjiCFgJFRLQ",
        "outputId": "b52b252e-bc63-4e1c-b35f-9b3557cc6a28",
        "colab": {
          "base_uri": "https://localhost:8080/",
          "height": 99
        }
      },
      "source": [
        "# Obtener la columna 2 de la matriz\n",
        "\n",
        "A[:,2]"
      ],
      "execution_count": 5,
      "outputs": [
        {
          "output_type": "execute_result",
          "data": {
            "text/latex": "$\\displaystyle \\left[\\begin{matrix}-6\\\\-10\\\\34\\\\20\\end{matrix}\\right]$",
            "text/plain": [
              "Matrix([\n",
              "[ -6],\n",
              "[-10],\n",
              "[ 34],\n",
              "[ 20]])"
            ]
          },
          "metadata": {
            "tags": []
          },
          "execution_count": 5
        }
      ]
    },
    {
      "cell_type": "code",
      "metadata": {
        "id": "TE3DRHfYFRLR",
        "outputId": "817b8fc8-3ea5-4581-f0bf-89b7164dc1be",
        "colab": {
          "base_uri": "https://localhost:8080/",
          "height": 38
        }
      },
      "source": [
        "# Obtener el renglón 1 de la matriz\n",
        "\n",
        "A[1,:]"
      ],
      "execution_count": 6,
      "outputs": [
        {
          "output_type": "execute_result",
          "data": {
            "text/latex": "$\\displaystyle \\left[\\begin{matrix}3 & 3 & -10\\end{matrix}\\right]$",
            "text/plain": [
              "Matrix([[3, 3, -10]])"
            ]
          },
          "metadata": {
            "tags": []
          },
          "execution_count": 6
        }
      ]
    },
    {
      "cell_type": "code",
      "metadata": {
        "id": "oMak7SaSFRLR",
        "outputId": "9e233265-2a42-4ff0-9e19-14ee2e22704b",
        "colab": {
          "base_uri": "https://localhost:8080/",
          "height": 58
        }
      },
      "source": [
        "# Obtener los renglones 0 y 2\n",
        "\n",
        "A[[0,2],:]"
      ],
      "execution_count": 7,
      "outputs": [
        {
          "output_type": "execute_result",
          "data": {
            "text/latex": "$\\displaystyle \\left[\\begin{matrix}0 & 3 & -6\\\\4 & -9 & 34\\end{matrix}\\right]$",
            "text/plain": [
              "Matrix([\n",
              "[0,  3, -6],\n",
              "[4, -9, 34]])"
            ]
          },
          "metadata": {
            "tags": []
          },
          "execution_count": 7
        }
      ]
    },
    {
      "cell_type": "code",
      "metadata": {
        "id": "IU8gTJmtFRLS",
        "outputId": "e210ba7d-5878-48cd-b31a-1052883ba7ad",
        "colab": {
          "base_uri": "https://localhost:8080/",
          "height": 58
        }
      },
      "source": [
        "# Obtener primero el renglón 2 y después el renglón 0\n",
        "\n",
        "A[[2,0],:]"
      ],
      "execution_count": 8,
      "outputs": [
        {
          "output_type": "execute_result",
          "data": {
            "text/latex": "$\\displaystyle \\left[\\begin{matrix}4 & -9 & 34\\\\0 & 3 & -6\\end{matrix}\\right]$",
            "text/plain": [
              "Matrix([\n",
              "[4, -9, 34],\n",
              "[0,  3, -6]])"
            ]
          },
          "metadata": {
            "tags": []
          },
          "execution_count": 8
        }
      ]
    },
    {
      "cell_type": "code",
      "metadata": {
        "id": "fhipsw3aFRLY",
        "outputId": "6dd5a239-5e77-41e0-df7c-f7e129dd6a97",
        "colab": {
          "base_uri": "https://localhost:8080/",
          "height": 99
        }
      },
      "source": [
        "# Copia la matriz en otra variable. \n",
        "# Evita que las dos variables apunten a la misma matriz.\n",
        "\n",
        "M = A[:,:]\n",
        "\n",
        "M"
      ],
      "execution_count": 9,
      "outputs": [
        {
          "output_type": "execute_result",
          "data": {
            "text/latex": "$\\displaystyle \\left[\\begin{matrix}0 & 3 & -6\\\\3 & 3 & -10\\\\4 & -9 & 34\\\\2 & -6 & 20\\end{matrix}\\right]$",
            "text/plain": [
              "Matrix([\n",
              "[0,  3,  -6],\n",
              "[3,  3, -10],\n",
              "[4, -9,  34],\n",
              "[2, -6,  20]])"
            ]
          },
          "metadata": {
            "tags": []
          },
          "execution_count": 9
        }
      ]
    },
    {
      "cell_type": "code",
      "metadata": {
        "id": "KkAX-ostFRLZ",
        "outputId": "3c0980ff-588c-468d-bdc0-3ba0bdbf336e",
        "colab": {
          "base_uri": "https://localhost:8080/",
          "height": 99
        }
      },
      "source": [
        "# Intercambiar el renglón 0 con el renglón 3, \n",
        "# R0 <-> R3\n",
        "\n",
        "M.row_swap(0,3)\n",
        "M"
      ],
      "execution_count": 10,
      "outputs": [
        {
          "output_type": "execute_result",
          "data": {
            "text/latex": "$\\displaystyle \\left[\\begin{matrix}2 & -6 & 20\\\\3 & 3 & -10\\\\4 & -9 & 34\\\\0 & 3 & -6\\end{matrix}\\right]$",
            "text/plain": [
              "Matrix([\n",
              "[2, -6,  20],\n",
              "[3,  3, -10],\n",
              "[4, -9,  34],\n",
              "[0,  3,  -6]])"
            ]
          },
          "metadata": {
            "tags": []
          },
          "execution_count": 10
        }
      ]
    },
    {
      "cell_type": "code",
      "metadata": {
        "id": "IyD65bnfFRLZ",
        "outputId": "51152ab5-6c92-4683-e681-48fc8a2c0c79",
        "colab": {
          "base_uri": "https://localhost:8080/",
          "height": 99
        }
      },
      "source": [
        "# Resta 2 veces el renglón 0 al renglón 2, \n",
        "# -2R0 + R2 -> R2\n",
        "\n",
        "M[2,:] -= M[0,:]*2    #  M[2,:] = M[2,:] - M[0,:]*2\n",
        "M"
      ],
      "execution_count": 11,
      "outputs": [
        {
          "output_type": "execute_result",
          "data": {
            "text/latex": "$\\displaystyle \\left[\\begin{matrix}2 & -6 & 20\\\\3 & 3 & -10\\\\0 & 3 & -6\\\\0 & 3 & -6\\end{matrix}\\right]$",
            "text/plain": [
              "Matrix([\n",
              "[2, -6,  20],\n",
              "[3,  3, -10],\n",
              "[0,  3,  -6],\n",
              "[0,  3,  -6]])"
            ]
          },
          "metadata": {
            "tags": []
          },
          "execution_count": 11
        }
      ]
    },
    {
      "cell_type": "code",
      "metadata": {
        "id": "2WqjH_jvrozs"
      },
      "source": [
        "# En algunos casos la operación que no es elemental es muy útil\n",
        "# Resta 3 veces el renglón 0 a 2 veces renglón 1, \n",
        "# -3R0 + 2R1 -> R1\n",
        "\n",
        "M[1,:] = M[1,:]*2 - M[0,:]*3   #Esta operación no se puede contraer\n",
        "M"
      ],
      "execution_count": null,
      "outputs": []
    },
    {
      "cell_type": "code",
      "metadata": {
        "id": "43iQusdYFRLZ",
        "outputId": "38259a8e-774d-49b4-9204-51d5ec65f08f",
        "colab": {
          "base_uri": "https://localhost:8080/",
          "height": 214
        }
      },
      "source": [
        "# Multiplicar el renglón 0  por un 1/2, \n",
        "# (1/2)R0 -> R0\n",
        "\n",
        "B[0,:] *= 1/2   #  B[0,:] = B[0,:]*1/2\n",
        "B"
      ],
      "execution_count": 12,
      "outputs": [
        {
          "output_type": "error",
          "ename": "NameError",
          "evalue": "ignored",
          "traceback": [
            "\u001b[0;31m---------------------------------------------------------------------------\u001b[0m",
            "\u001b[0;31mNameError\u001b[0m                                 Traceback (most recent call last)",
            "\u001b[0;32m<ipython-input-12-582f2c514092>\u001b[0m in \u001b[0;36m<module>\u001b[0;34m()\u001b[0m\n\u001b[1;32m      2\u001b[0m \u001b[0;31m# (1/2)R0 -> R0\u001b[0m\u001b[0;34m\u001b[0m\u001b[0;34m\u001b[0m\u001b[0;34m\u001b[0m\u001b[0m\n\u001b[1;32m      3\u001b[0m \u001b[0;34m\u001b[0m\u001b[0m\n\u001b[0;32m----> 4\u001b[0;31m \u001b[0mB\u001b[0m\u001b[0;34m[\u001b[0m\u001b[0;36m0\u001b[0m\u001b[0;34m,\u001b[0m\u001b[0;34m:\u001b[0m\u001b[0;34m]\u001b[0m \u001b[0;34m*=\u001b[0m \u001b[0;36m1\u001b[0m\u001b[0;34m/\u001b[0m\u001b[0;36m2\u001b[0m   \u001b[0;31m#  B[0,:] = B[0,:]*1/2\u001b[0m\u001b[0;34m\u001b[0m\u001b[0;34m\u001b[0m\u001b[0m\n\u001b[0m\u001b[1;32m      5\u001b[0m \u001b[0mB\u001b[0m\u001b[0;34m\u001b[0m\u001b[0;34m\u001b[0m\u001b[0m\n",
            "\u001b[0;31mNameError\u001b[0m: name 'B' is not defined"
          ]
        }
      ]
    },
    {
      "cell_type": "markdown",
      "metadata": {
        "id": "_GL_OAw4FRLa"
      },
      "source": [
        "# Operaciones no idempotentes y las celdas de Jupyter\n",
        "Una operación es **idempotente** si da lo mismo realizarla una vez o más de una vez. Por ejemplo, el valor absoluto es una operación idempotente. Pero el cambio de signo no es una operación idempotente.\n",
        "\n",
        "Las operaciones entre renglones usualmente no son operaciones idempotentes, entonces si usted ejecuta la celda de Jupyter dos veces, realizará dos veces la operación elemental y eso puede ser un inconveniente. \n",
        "\n",
        "Para solucionar ese problema es mejor que <u>**ejecute todas las celdas**</u>, para eso le recomiendo usar la opción que hay en el menú de ejecutar todo.  \n",
        "\n",
        "# Si debe cambiar una operación elemental, antes de ejecutarla debe ejecutar TODAS las celdas ANTERIORES.  \n",
        "\n",
        "Quiero recordar que las variables en Jupyter se actualizan en el orden en que se ejecutan las celdas. Si usted ejecuta las celdas en desorden las variables pueden tener valores inesperados. Es por esto mi insistencia en el uso de la opción del menú que <u>ejecuta todas las celdas</u>."
      ]
    },
    {
      "cell_type": "markdown",
      "metadata": {
        "id": "kBa6oyX1FRLa"
      },
      "source": [
        "# Eliminación de Gauss\n",
        "[Nakos, Sec. 1.2]\n",
        "\n",
        "\n",
        "Una matriz se puede transformar a la forma escalón mediante los siguientes cuatro pasos. El último paso la convierte a la forma escalón reducida.\n",
        "1. Vaya a la columna extrema izquierda que no sea de ceros.\n",
        "2. Si el primer renglón tiene un cero en la columna del paso (1), intercámbielo con uno que tenga un elemento no cero en la misma columna.\n",
        "3. Obtenga ceros debajo del elemento delantero, sumando múltiplos adecuados del renglón superior a los renglones debajo de él.\n",
        "4. Cubra el renglón superior y repita el mismo proceso comenzando por el paso (1) aplicado a la sub-matriz restante. Repita este proceso con el resto de los renglones.\n",
        "5. Comenzando con el último renglón no cero, avance hacia arriba: para cada renglón obtenga un 1 delantero e introduzca ceros arriba de él, sumando múltiplos adecuados a los renglones correspondientes. "
      ]
    },
    {
      "cell_type": "markdown",
      "metadata": {
        "id": "YA70LJGGFRLa"
      },
      "source": [
        "## Ejemplo\n",
        "\n",
        "Utilizando el algoritmo de Gauss, encuentre la solución general del siguiente sistema de ecuaciones. En la variable `respuesta_ejemplo` asigne una tupla con la tupla de la solución particular trivial y las tuplas de las soluciones particulares básicas, si existen, cómo se realizó en el taller de sistemas de ecuaciones escalón.\n",
        "\n",
        "$\\matrix{\n",
        "0a + 3b - 6c - 4d - 3e = -5\\\\\n",
        "-1a + 3b - 10c - 4d - 4e = -2\\\\\n",
        "4a - 9b + 34c + 0d + 1e = -21\\\\\n",
        "2a - 6b + 20c + 2d + 8e = -8}$\n",
        "\n",
        "## Solución\n",
        "\n"
      ]
    },
    {
      "cell_type": "code",
      "metadata": {
        "id": "sAWTySKSFRLb"
      },
      "source": [
        "C=np.matrix([\n",
        "    [0,  3,  -6, -4, -3, -5 ],\n",
        "    [-1, 3, -10, -4, -4, -2 ],\n",
        "    [4, -9,  34,  0,  1, -21],\n",
        "    [2, -6,  20,  2,  8, -8 ]\n",
        "])\n",
        "C"
      ],
      "execution_count": null,
      "outputs": []
    },
    {
      "cell_type": "markdown",
      "metadata": {
        "id": "qVFozCDIFRLb"
      },
      "source": [
        "Como el elemento `C[0,0]` es un 0, y bajo él hay elementos diferentes de cero es necesario cambiar el renglón 0 por otro renglón. Se escogió el renglón 1 ya que bajo el cero hay un -1, el cual divide al 4 a al 2 que también están bajo el 0.  "
      ]
    },
    {
      "cell_type": "code",
      "metadata": {
        "id": "dqGONOZZFRLb"
      },
      "source": [
        "#R1<->R0\n",
        "C[[0,1],:]=C[[1,0],:]\n",
        "C"
      ],
      "execution_count": null,
      "outputs": []
    },
    {
      "cell_type": "markdown",
      "metadata": {
        "id": "D5_F31C0FRLb"
      },
      "source": [
        "Ahora hay que eliminar los elementos diferentes de cero que están bajo el -1. Primero se elimina el 4. Sumando al renglón 2, 4 veces el renglón 0.  "
      ]
    },
    {
      "cell_type": "code",
      "metadata": {
        "id": "FuAS9my4FRLc"
      },
      "source": [
        "# 4R0 + R2 -> R2\n",
        "C[2,:] += 4*C[0,:]      # C[2,:] = C[2,:] + 4*C[0,:]\n",
        "C"
      ],
      "execution_count": null,
      "outputs": []
    },
    {
      "cell_type": "markdown",
      "metadata": {
        "id": "cJXP_soeFRLc"
      },
      "source": [
        "Ahora hay que eliminar el 2 que está bajo el -1. Sumando al renglón 3, 2 veces el renglón 0.  "
      ]
    },
    {
      "cell_type": "code",
      "metadata": {
        "id": "dkTOZe__FRLc"
      },
      "source": [
        "# 2R0 + R3 -> R3\n",
        "C[3,:] += 2*C[0,:]\n",
        "C"
      ],
      "execution_count": null,
      "outputs": []
    },
    {
      "cell_type": "markdown",
      "metadata": {
        "id": "kj8aSzChFRLc"
      },
      "source": [
        "El -1 va a ser el pivote de la columna 0 y del renglón 0. \n",
        "\n",
        "Ahora pasamos a la segunda columna e ignoramos el renglón 0. Con `C[1,1]`, que es un 3, se elimina el contenido de `C[2,1]`, que es otro 3. Para hacer esto, basta con restarle el renglón 1 al renglón 2. "
      ]
    },
    {
      "cell_type": "code",
      "metadata": {
        "id": "EUFcHUXFFRLc"
      },
      "source": [
        "# -R1 + R2 -> R2\n",
        "C[2,:] += -C[1,:]\n",
        "C"
      ],
      "execution_count": null,
      "outputs": []
    },
    {
      "cell_type": "markdown",
      "metadata": {
        "id": "tCaSCqtxFRLd"
      },
      "source": [
        "El 3 de `C[1,1]` va a ser el pivote de la columna 1 y del renglón 1. \n",
        "\n",
        "Ahora ignoramos el renglón 0 y el renglón 1. Al pasar a la columna 2, la que tiene en los renglones ignorados -10 y -6, vemos que en los otros renglones sólo tiene ceros, por lo tanto esta columna no tendrá pivote. \n",
        "\n",
        "La columna 2 no va a tener pivote."
      ]
    },
    {
      "cell_type": "code",
      "metadata": {
        "id": "b4xxA3o1FRLd"
      },
      "source": [
        "C"
      ],
      "execution_count": null,
      "outputs": []
    },
    {
      "cell_type": "markdown",
      "metadata": {
        "id": "kqmV6HsWFRLd"
      },
      "source": [
        "Al ver la columna 3, en los dos últimos renglones hay un -12 y un -6. Con el -12 hay que eliminar el -6. Una forma es sumar el renglón 2  a menos dos veces el renglón 3. Esta no es una operación elemental ya que el renglón de destino se multiplica por -2. Pero es equivalente a dos operaciones elementales, como se explicó anteriormente."
      ]
    },
    {
      "cell_type": "code",
      "metadata": {
        "id": "n2j908xkFRLe"
      },
      "source": [
        "# R2 - 2R3 -> R3\n",
        "C[3,:] = C[2,:] + (-2)*C[3,:] \n",
        "C"
      ],
      "execution_count": null,
      "outputs": []
    },
    {
      "cell_type": "markdown",
      "metadata": {
        "id": "m5iVqiF_FRLe"
      },
      "source": [
        "Con esto hemos obtenido una <u>matriz escalón</u>. Con lo cual se pueden ubicar los pivotes en `C[0,0]`, `C[1,1]`, `C[2,3]` y en `C[3,4]`.\n",
        "\n",
        "Ahora se puede continuar con el proceso hasta obtener una matriz reducida."
      ]
    },
    {
      "cell_type": "code",
      "metadata": {
        "id": "MWmAiz3mFRLe"
      },
      "source": [
        "# -(1/12)R3 -> R3\n",
        "\n",
        "C[3,:] *= -1/12\n",
        "C"
      ],
      "execution_count": null,
      "outputs": []
    },
    {
      "cell_type": "code",
      "metadata": {
        "id": "STnWcbIuFRLe"
      },
      "source": [
        "C[2,:] += 12*C[3] # 12 R3 + R2 -> R2\n",
        "C[1,:] += 3*C[3]  # 3  R3 + R1 -> R1\n",
        "C[0,:] += 4*C[3]  # 4  R3 + R0 -> R0\n",
        "C"
      ],
      "execution_count": null,
      "outputs": []
    },
    {
      "cell_type": "code",
      "metadata": {
        "id": "-6wiz6erFRLf"
      },
      "source": [
        "# -(1/12)R2 -> R2\n",
        "\n",
        "C[2,:] *= -1/12  \n",
        "C"
      ],
      "execution_count": null,
      "outputs": []
    },
    {
      "cell_type": "code",
      "metadata": {
        "id": "aFYBVz9zFRLf"
      },
      "source": [
        "C[1,:] += 4*C[2] # 4 R2 + R1 -> R1\n",
        "C[0,:] += 4*C[2] # 4 R2 + R0 -> R0\n",
        "C"
      ],
      "execution_count": null,
      "outputs": []
    },
    {
      "cell_type": "code",
      "metadata": {
        "id": "0Kt2Y9DeFRLf"
      },
      "source": [
        "# (1/3)R1 -> R1\n",
        "\n",
        "C[1,:] *= 1/3\n",
        "C"
      ],
      "execution_count": null,
      "outputs": []
    },
    {
      "cell_type": "code",
      "metadata": {
        "id": "n6kqOobUFRLf"
      },
      "source": [
        "# R0 - 3R1 -> R1\n",
        "\n",
        "C[0,:] += -3*C[1]\n",
        "C"
      ],
      "execution_count": null,
      "outputs": []
    },
    {
      "cell_type": "code",
      "metadata": {
        "id": "bjZQU9JbFRLg",
        "scrolled": true
      },
      "source": [
        "# -R0 -> R0\n",
        "\n",
        "C[0,:] *= -1\n",
        "C"
      ],
      "execution_count": null,
      "outputs": []
    },
    {
      "cell_type": "markdown",
      "metadata": {
        "id": "PWzesY7EFRLg"
      },
      "source": [
        "La anterior matriz ya se encuentra reducida. El sistema de ecuaciones que le corresponde es el siguiente.\n",
        "\n",
        "$\\matrix{\n",
        "1a + 0b + 4c + 0d + 0e =-3\\\\\n",
        "0a + 1b - 2c + 0d + 0e = 1\\\\\n",
        "0a + 0b + 0c + 1d + 0e = 2\\\\\n",
        "0a + 0b + 0c + 0d + 1e = 0}$\n",
        "\n"
      ]
    },
    {
      "cell_type": "markdown",
      "metadata": {
        "id": "OD75VBR2FRLg"
      },
      "source": [
        "La única variable libre es $c=t$.\n",
        "\n",
        "Ahora despejamos las variables delanteras de abajo hacia arriba:\n",
        "\n",
        "$\\matrix{\n",
        "e=0\\\\\n",
        "d=2\\\\\n",
        "b=1+2t\\\\\n",
        "a=-3-4t}$\n",
        "\n",
        "Por lo tanto la solución general es\n",
        "\n",
        "$\\left( \\matrix{a \\\\ b \\\\ c \\\\ d \\\\ e} \\right)\n",
        "=\\left( \\matrix{-3 \\\\1  \\\\0  \\\\2  \\\\0   } \\right)\n",
        "+t\\left( \\matrix{-4 \\\\2  \\\\1  \\\\0  \\\\ 0  } \\right)\n",
        "$\n",
        "\n",
        "La solución particular trivial es\n",
        "$\\left( \\matrix{-3 \\\\1  \\\\0  \\\\2  \\\\0   } \\right)\n",
        "+0\\left( \\matrix{-4 \\\\2  \\\\1  \\\\0  \\\\ 0  } \\right)\n",
        "=\\left( \\matrix{-3 \\\\1  \\\\0  \\\\2  \\\\0   } \\right)\n",
        "$\n",
        "\n",
        "Como sólo hay un parámetro entonces sólo hay una solución particular básica \n",
        "$\\left( \\matrix{-3 \\\\1  \\\\0  \\\\2  \\\\0   } \\right)\n",
        "+1\\left( \\matrix{-4 \\\\2  \\\\1  \\\\0  \\\\ 0  } \\right)\n",
        "=\\left( \\matrix{-7 \\\\3  \\\\1  \\\\2  \\\\0   } \\right)\n",
        "$\n",
        "\n",
        "A continuación verificamos que ambas soluciones particulares cumplan con las 4 ecuaciones. Comenzamos probando la solución particular trivial."
      ]
    },
    {
      "cell_type": "code",
      "metadata": {
        "id": "P-iWMvgVFRLg"
      },
      "source": [
        "(a, b, c, d, e)=(-3, 1, 0, 2, 0)\n",
        "(a, b, c, d, e)"
      ],
      "execution_count": null,
      "outputs": []
    },
    {
      "cell_type": "code",
      "metadata": {
        "id": "B-3JF9kbFRLh"
      },
      "source": [
        "0*a + 3*b - 6*c - 4*d - 3*e ==-5\n"
      ],
      "execution_count": null,
      "outputs": []
    },
    {
      "cell_type": "code",
      "metadata": {
        "id": "-8Aa85iPFRLh"
      },
      "source": [
        "-1*a + 3*b -10*c - 4*d - 4*e == -2 "
      ],
      "execution_count": null,
      "outputs": []
    },
    {
      "cell_type": "code",
      "metadata": {
        "id": "udyMyXwUFRLh"
      },
      "source": [
        "4*a - 9*b + 34*c + 0*d + 1*e == -21\n"
      ],
      "execution_count": null,
      "outputs": []
    },
    {
      "cell_type": "code",
      "metadata": {
        "id": "C3m0o0jAFRLh"
      },
      "source": [
        "2*a - 6*b + 20*c + 2*d + 8*e == -8 "
      ],
      "execution_count": null,
      "outputs": []
    },
    {
      "cell_type": "markdown",
      "metadata": {
        "id": "iY3GI7LEFRLi"
      },
      "source": [
        "Ahora verificamos la solución particular básica"
      ]
    },
    {
      "cell_type": "code",
      "metadata": {
        "id": "36p0IMrMFRLi"
      },
      "source": [
        "(a, b, c, d, e)=(-7, 3, 1, 2, 0 )\n",
        "(a, b, c, d, e)"
      ],
      "execution_count": null,
      "outputs": []
    },
    {
      "cell_type": "code",
      "metadata": {
        "id": "FAjBPxZ5FRLi"
      },
      "source": [
        "0*a + 3*b - 6*c - 4*d - 3*e ==-5\n"
      ],
      "execution_count": null,
      "outputs": []
    },
    {
      "cell_type": "code",
      "metadata": {
        "id": "mjxyVXJ3FRLj"
      },
      "source": [
        "-1*a + 3*b -10*c - 4*d - 4*e == -2 "
      ],
      "execution_count": null,
      "outputs": []
    },
    {
      "cell_type": "code",
      "metadata": {
        "id": "S-yr3Ti6FRLj"
      },
      "source": [
        "4*a - 9*b + 34*c + 0*d + 1*e == -21\n"
      ],
      "execution_count": null,
      "outputs": []
    },
    {
      "cell_type": "code",
      "metadata": {
        "id": "6gwvZcK6FRLj"
      },
      "source": [
        "2*a - 6*b + 20*c + 2*d + 8*e == -8 "
      ],
      "execution_count": null,
      "outputs": []
    },
    {
      "cell_type": "markdown",
      "metadata": {
        "id": "1_FkXcLgFRLj"
      },
      "source": [
        "Luego de verificar los resultados escribimos la respuesta del ejercicio."
      ]
    },
    {
      "cell_type": "code",
      "metadata": {
        "id": "wOFEzn0gFRLk"
      },
      "source": [
        "respuesta_ejemplo=(\n",
        "    (-3, 1, 0, 2, 0),    \n",
        "    (-7, 3, 1, 2, 0)\n",
        ")\n",
        "\n",
        "respuesta_ejemplo"
      ],
      "execution_count": null,
      "outputs": []
    },
    {
      "cell_type": "markdown",
      "metadata": {
        "id": "90s5FDEsFRLk"
      },
      "source": [
        "Recuerde que\n",
        "# Si debe cambiar una operación elemental, antes de ejecutarla debe <u>ejecutar TODAS las celdas ANTERIORES</u>."
      ]
    },
    {
      "cell_type": "code",
      "metadata": {
        "id": "t06HbkASFRLk"
      },
      "source": [
        "nombre= '  escriba aquí su nombre   '\n",
        "código=0    # reemplazar el cero por su cógdio"
      ],
      "execution_count": null,
      "outputs": []
    },
    {
      "cell_type": "markdown",
      "metadata": {
        "id": "CgVyAAn4FRLk"
      },
      "source": [
        "## Ejercicio\n",
        "\n",
        "Utilizando el algoritmo de Gauss, encuentre:\n",
        "* la solución general del siguiente sistema de ecuaciones. \n",
        "* En la variable `respuesta_ejercicio` asigne una tupla con la tupla de la solución particular trivial y las tuplas de las soluciones particulares básicas, si existen, como se realizó en el taller de sistemas de ecuaciones escalón.\n",
        "\n",
        "$\\matrix{\n",
        "-2x_1 + ax_2 - bx_3 - (a+1)x_4 - (b-1)x_5 = -5\\\\\n",
        "0x_1 + 0x_2 - 10x_3 - 4x_4 - 4x_5 = -2\\\\\n",
        "6x_1 - 9x_2 + 34x_3 + 0x_4 + 1x_5 = -21}$\n",
        "\n",
        "Recuerde que $a$ es el último dígito de su código y que $b$ es el penúltimo dígito de su código."
      ]
    },
    {
      "cell_type": "code",
      "metadata": {
        "id": "KHTy3pnfFRLk"
      },
      "source": [
        "respuesta_ejercicio=(\n",
        ")"
      ],
      "execution_count": null,
      "outputs": []
    }
  ]
}