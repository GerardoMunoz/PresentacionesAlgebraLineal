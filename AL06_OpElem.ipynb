{
  "nbformat": 4,
  "nbformat_minor": 0,
  "metadata": {
    "colab": {
      "name": "Clase05_Repr2_MatrizExt_2020_mayo_6.ipynb",
      "provenance": [],
      "include_colab_link": true
    },
    "kernelspec": {
      "display_name": "Python 3",
      "language": "python",
      "name": "python3"
    },
    "language_info": {
      "codemirror_mode": {
        "name": "ipython",
        "version": 3
      },
      "file_extension": ".py",
      "mimetype": "text/x-python",
      "name": "python",
      "nbconvert_exporter": "python",
      "pygments_lexer": "ipython3",
      "version": "3.9.2"
    }
  },
  "cells": [
    {
      "cell_type": "markdown",
      "metadata": {
        "id": "view-in-github",
        "colab_type": "text"
      },
      "source": [
        "<a href=\"https://colab.research.google.com/github/GerardoMunoz/PresentacionesAlgebraLineal/blob/main/AL06_OpElem.ipynb\" target=\"_parent\"><img src=\"https://colab.research.google.com/assets/colab-badge.svg\" alt=\"Open In Colab\"/></a>"
      ]
    },
    {
      "cell_type": "markdown",
      "metadata": {
        "id": "qEPYsXIbBss4"
      },
      "source": [
        "Lo invito a ver est cuaderno desde Colab o descarguelo a su computador. "
      ]
    },
    {
      "cell_type": "markdown",
      "metadata": {
        "id": "VWLOFt_DFRLX"
      },
      "source": [
        "# Notación\n",
        "Así como durante el <u>primer</u> año de vida tenemos <u>cero</u> años. También en Python y otros lenguajes de programación, el primer renglón de las matrices es el renglón cero. \n",
        "\n",
        "$$\\begin{matrix}\\text{renglón 0}\\\\\\text{renglón 1}\\\\\\text{renglón 2}\\end{matrix}\\begin{bmatrix}a&b&c&:&x\\\\d&e&f&:&y\\\\g&h&i&:&z\\end{bmatrix}$$\n",
        "\n",
        "\n",
        "Sin embargo, en otros lenguajes como Matlab, llaman el <u>primer</u> renglón, el renglón <u>uno</u>. Esto último coincide con la notación de la mayoría de los libros de álgebra lineal.\n",
        "\n",
        "$$\\begin{matrix}\\text{renglón 1}\\\\\\text{renglón 2}\\\\\\text{renglón 3}\\end{matrix}\\begin{bmatrix}a&b&c&:&x\\\\d&e&f&:&y\\\\g&h&i&:&z\\end{bmatrix}$$\n",
        "\n",
        "En este curso usaremos ambas notaciones. Si hay duda en que, si el primer renglón es el renglón cero o el renglón uno, lo invito a que pregunte para evitar confusiones.\n",
        "En particular para la clase de HOY, como usaremos Python, llamaremos el <u>primer</u> renglón el renglón <u>cero</u>.\n",
        "\n",
        "$$\\begin{matrix}\\text{renglón 0}\\\\\\text{renglón 1}\\\\\\text{renglón 2}\\end{matrix}\\begin{bmatrix}a&b&c&:&x\\\\d&e&f&:&y\\\\g&h&i&:&z\\end{bmatrix}$$\n",
        "\n",
        "\n",
        "\n",
        "\n",
        "\n",
        "# Operaciones elementales\n",
        "[Nakos, Sec. 1.1]\n",
        "\n",
        "En esta clase veremos cómo encontrar la solución de sistemas de ecuaciones que no cumplen con E1, E2, E3 o E4.\n",
        "\n",
        "Para esto definiremos las siguientes  __operaciones elementales__  entre los renglones de una matriz extendida, las cuales permiten modificar la matriz para que cumplan las propiedades E1, E2, E3 y E4. Pero lo más importante es que <u> no alteran la solución</u> del sistema de ecuaciones.\n",
        "\n",
        "* **Intercambio de renglones**. $r_i \\leftrightarrow r_j$\n",
        "\n",
        "$$\\begin{bmatrix}a&b&c&:&x\\\\d&e&f&:&y\\\\g&h&i&:&z\\end{bmatrix}r_0 \\leftrightarrow r_1\\begin{bmatrix}d&e&f&:&y\\\\a&b&c&:&x\\\\g&h&i&:&z\\end{bmatrix}$$\n",
        "\n",
        "El intercambio de renglones no afecta la solución del sistema de ecuaciones ya que el orden de las ecuaciones no altera la solución. \n",
        "\n",
        "* **Multiplica un renglón por un escalar** (diferente de cero). $kr_i \\rightarrow r_i$ \n",
        "$$\\begin{bmatrix}a&b&c&:&x\\\\d&e&f&:&y\\\\g&h&i&:&z\\end{bmatrix}  3r_2 \\rightarrow r_2 \\begin{bmatrix}a&b&c&:&x\\\\d&e&f&:&y\\\\3g&3h&3i&:&3z\\end{bmatrix}$$\n",
        "\n",
        "Al multiplicar un renglón por una constante no se altera la solución ya que la respectiva ecuación se multiplica a ambos lados por la misma constante.\n",
        "\n",
        "* **Suma un múltiplo (no nulo) de un renglón a otro**. $kr_j + 1r_i \\rightarrow r_i$ \n",
        "\n",
        "Observe que el renglón de destino ($r_i$) es multiplicado por 1, mientras que el otro renglón ($r_j$) sí es multiplicado por $k$.\n",
        "\n",
        "$$\\begin{bmatrix}a&b&c&:&x\\\\d&e&f&:&y\\\\g&h&i&:&z\\end{bmatrix} 3r_2 + r_1  \\rightarrow r_1$$ $$\\begin{bmatrix}a&b&c&:&x\\\\3g+d&3h+e&3i+f&:&3z+y\\\\g&h&i&:&z\\end{bmatrix}$$\n",
        "\n",
        "En las siguientes páginas el profesor Von Schmohawk visualiza esta operación en  $\\mathbb{R}^2$ y en $\\mathbb{R}^3$. \n",
        "\n",
        "* https://www.youtube.com/watch?v=fGq07lDUb9k&list=PL20023FA07684B937&index=38\n",
        "* https://www.youtube.com/watch?v=cB2t5VIVHZI&list=PL20023FA07684B937&index=48\n",
        "\n",
        "Más adelante, en nuestro curso, veremos el tema de la visualización. \n",
        "\n",
        "# Una operación no tan elemental\n",
        "\n",
        "La operación $k_jr_j + k_ir_i \\rightarrow r_i$ corresponde a realizar:\n",
        "* primero  $k_ir_i \\rightarrow r_i$, \n",
        "* luego $k_jr_j + r_i \\rightarrow r_i$. \n",
        "\n",
        "$$\\begin{bmatrix}a&b&c&:&x\\\\d&e&f&:&y\\\\g&h&i&:&z\\end{bmatrix} 3r_2 + 4r_1  \\rightarrow r_1$$ $$\\begin{bmatrix}a&b&c&:&x\\\\3g+4d&3h+4e&3i+4f&:&3z+4y\\\\g&h&i&:&z\\end{bmatrix}$$\n",
        "\n",
        "# Equivalencia de matrices\n",
        "Dos matrices se dice que son __equivalentes__ si es posible pasar de una a la otra por medio de operaciones elementales y se denota $A \\sim B$.  \n",
        "\n"
      ]
    },
    {
      "cell_type": "markdown",
      "metadata": {
        "id": "k1jYuSTKFRLN"
      },
      "source": [
        "## Uso de Python para hacer operaciones matriciales \n",
        "Antes de entrar en materia es conveniente saber que en Python el símbolo numeral `#` es usado para escribir comentarios. \n",
        "\n",
        "\n",
        "\n"
      ]
    },
    {
      "cell_type": "code",
      "metadata": {
        "colab": {
          "base_uri": "https://localhost:8080/"
        },
        "id": "gPUjlaWKpejB",
        "outputId": "f0e2f5bb-9669-4644-f1e5-8000329cf8fe"
      },
      "source": [
        "# Esto es un cometario de Python y por lo tanto no se ejecuta\n",
        "a=5\n",
        "\n",
        "a"
      ],
      "execution_count": 42,
      "outputs": [
        {
          "output_type": "execute_result",
          "data": {
            "text/plain": [
              "5"
            ]
          },
          "metadata": {
            "tags": []
          },
          "execution_count": 42
        }
      ]
    },
    {
      "cell_type": "markdown",
      "metadata": {
        "id": "RTZq5a6QpfHK"
      },
      "source": [
        "A continuación, usaremos la librería `sympy` de Python, que permite realizar operaciones matriciales."
      ]
    },
    {
      "cell_type": "code",
      "metadata": {
        "id": "C4acJORQFRLO",
        "colab": {
          "base_uri": "https://localhost:8080/",
          "height": 98
        },
        "outputId": "6bc65867-5f28-4323-9f98-ce6e8d7e812d"
      },
      "source": [
        "import sympy as sp # Se llama la librería `sympy` con el alias `sp`.\n",
        "\n",
        "# se define en la matriz `A`\n",
        "\n",
        "A = sp.Matrix([\n",
        "    [0, 3, -6, ],\n",
        "    [3, 3, -10],\n",
        "    [4, -9, 34],\n",
        "    [2, -5, 20]\n",
        "])\n",
        "\n",
        "A"
      ],
      "execution_count": 43,
      "outputs": [
        {
          "output_type": "execute_result",
          "data": {
            "text/latex": "$\\displaystyle \\left[\\begin{matrix}0 & 3 & -6\\\\3 & 3 & -10\\\\4 & -9 & 34\\\\2 & -5 & 20\\end{matrix}\\right]$",
            "text/plain": [
              "Matrix([\n",
              "[0,  3,  -6],\n",
              "[3,  3, -10],\n",
              "[4, -9,  34],\n",
              "[2, -5,  20]])"
            ]
          },
          "metadata": {
            "tags": []
          },
          "execution_count": 43
        }
      ]
    },
    {
      "cell_type": "code",
      "metadata": {
        "id": "CmRbT8OHFRLQ",
        "colab": {
          "base_uri": "https://localhost:8080/",
          "height": 37
        },
        "outputId": "4422372c-0550-4007-92b4-c5a1e9751d13"
      },
      "source": [
        "# Obtener un elemento de la matriz\n",
        "# Renglón 0 y columna 0\n",
        "# Recuerde que comienza desde cero\n",
        "\n",
        "A[0,0]"
      ],
      "execution_count": 44,
      "outputs": [
        {
          "output_type": "execute_result",
          "data": {
            "text/latex": "$\\displaystyle 0$",
            "text/plain": [
              "0"
            ]
          },
          "metadata": {
            "tags": []
          },
          "execution_count": 44
        }
      ]
    },
    {
      "cell_type": "code",
      "metadata": {
        "id": "M11B2HfeFRLQ",
        "colab": {
          "base_uri": "https://localhost:8080/",
          "height": 37
        },
        "outputId": "7d958f71-4e1b-492c-df26-721f7618fd1c"
      },
      "source": [
        "# Obtener un elemento de la matriz\n",
        "# Renglón 1 y columna 2\n",
        "# Recuerde que comienza desde cero\n",
        "\n",
        "A[1,2]"
      ],
      "execution_count": 45,
      "outputs": [
        {
          "output_type": "execute_result",
          "data": {
            "text/latex": "$\\displaystyle -10$",
            "text/plain": [
              "-10"
            ]
          },
          "metadata": {
            "tags": []
          },
          "execution_count": 45
        }
      ]
    },
    {
      "cell_type": "code",
      "metadata": {
        "id": "wRjiCFgJFRLQ",
        "colab": {
          "base_uri": "https://localhost:8080/",
          "height": 98
        },
        "outputId": "7432ead8-ba87-4542-c15b-41769f9bc9ee"
      },
      "source": [
        "# Obtener la columna 2 de la matriz\n",
        "\n",
        "A[:,2]"
      ],
      "execution_count": 46,
      "outputs": [
        {
          "output_type": "execute_result",
          "data": {
            "text/latex": "$\\displaystyle \\left[\\begin{matrix}-6\\\\-10\\\\34\\\\20\\end{matrix}\\right]$",
            "text/plain": [
              "Matrix([\n",
              "[ -6],\n",
              "[-10],\n",
              "[ 34],\n",
              "[ 20]])"
            ]
          },
          "metadata": {
            "tags": []
          },
          "execution_count": 46
        }
      ]
    },
    {
      "cell_type": "code",
      "metadata": {
        "id": "TE3DRHfYFRLR",
        "colab": {
          "base_uri": "https://localhost:8080/",
          "height": 38
        },
        "outputId": "84aa7ede-5066-4f6f-9770-4001e0ba913b"
      },
      "source": [
        "# Obtener el renglón 1 de la matriz\n",
        "\n",
        "A[1,:]"
      ],
      "execution_count": 47,
      "outputs": [
        {
          "output_type": "execute_result",
          "data": {
            "text/latex": "$\\displaystyle \\left[\\begin{matrix}3 & 3 & -10\\end{matrix}\\right]$",
            "text/plain": [
              "Matrix([[3, 3, -10]])"
            ]
          },
          "metadata": {
            "tags": []
          },
          "execution_count": 47
        }
      ]
    },
    {
      "cell_type": "code",
      "metadata": {
        "id": "oMak7SaSFRLR",
        "colab": {
          "base_uri": "https://localhost:8080/",
          "height": 58
        },
        "outputId": "80af9285-c60a-45ed-a63b-c8a5accbfdc1"
      },
      "source": [
        "# Obtener los renglones 0 y 2\n",
        "\n",
        "A[[0,2],:]"
      ],
      "execution_count": 48,
      "outputs": [
        {
          "output_type": "execute_result",
          "data": {
            "text/latex": "$\\displaystyle \\left[\\begin{matrix}0 & 3 & -6\\\\4 & -9 & 34\\end{matrix}\\right]$",
            "text/plain": [
              "Matrix([\n",
              "[0,  3, -6],\n",
              "[4, -9, 34]])"
            ]
          },
          "metadata": {
            "tags": []
          },
          "execution_count": 48
        }
      ]
    },
    {
      "cell_type": "code",
      "metadata": {
        "id": "IU8gTJmtFRLS",
        "colab": {
          "base_uri": "https://localhost:8080/",
          "height": 58
        },
        "outputId": "34ce0395-32cd-43a1-efb7-d13ff723ca56"
      },
      "source": [
        "# Obtener primero el renglón 2 y después el renglón 0\n",
        "\n",
        "A[[2,0],:]"
      ],
      "execution_count": 49,
      "outputs": [
        {
          "output_type": "execute_result",
          "data": {
            "text/latex": "$\\displaystyle \\left[\\begin{matrix}4 & -9 & 34\\\\0 & 3 & -6\\end{matrix}\\right]$",
            "text/plain": [
              "Matrix([\n",
              "[4, -9, 34],\n",
              "[0,  3, -6]])"
            ]
          },
          "metadata": {
            "tags": []
          },
          "execution_count": 49
        }
      ]
    },
    {
      "cell_type": "code",
      "metadata": {
        "id": "fhipsw3aFRLY",
        "colab": {
          "base_uri": "https://localhost:8080/",
          "height": 98
        },
        "outputId": "4f98697e-de62-4cc1-dedb-49e417a6a501"
      },
      "source": [
        "# Copia la matriz en otra variable. \n",
        "# Evita que las dos variables apunten a la misma matriz.\n",
        "\n",
        "M = A[:,:]\n",
        "\n",
        "M"
      ],
      "execution_count": 50,
      "outputs": [
        {
          "output_type": "execute_result",
          "data": {
            "text/latex": "$\\displaystyle \\left[\\begin{matrix}0 & 3 & -6\\\\3 & 3 & -10\\\\4 & -9 & 34\\\\2 & -5 & 20\\end{matrix}\\right]$",
            "text/plain": [
              "Matrix([\n",
              "[0,  3,  -6],\n",
              "[3,  3, -10],\n",
              "[4, -9,  34],\n",
              "[2, -5,  20]])"
            ]
          },
          "metadata": {
            "tags": []
          },
          "execution_count": 50
        }
      ]
    },
    {
      "cell_type": "code",
      "metadata": {
        "id": "KkAX-ostFRLZ",
        "colab": {
          "base_uri": "https://localhost:8080/",
          "height": 98
        },
        "outputId": "85e47ea3-13f8-4983-86c8-a827f03a5d05"
      },
      "source": [
        "# Intercambiar el renglón 0 con el renglón 3, \n",
        "# R0 <-> R3\n",
        "\n",
        "M.row_swap(0,3)\n",
        "M"
      ],
      "execution_count": 51,
      "outputs": [
        {
          "output_type": "execute_result",
          "data": {
            "text/latex": "$\\displaystyle \\left[\\begin{matrix}2 & -5 & 20\\\\3 & 3 & -10\\\\4 & -9 & 34\\\\0 & 3 & -6\\end{matrix}\\right]$",
            "text/plain": [
              "Matrix([\n",
              "[2, -5,  20],\n",
              "[3,  3, -10],\n",
              "[4, -9,  34],\n",
              "[0,  3,  -6]])"
            ]
          },
          "metadata": {
            "tags": []
          },
          "execution_count": 51
        }
      ]
    },
    {
      "cell_type": "code",
      "metadata": {
        "id": "IyD65bnfFRLZ",
        "colab": {
          "base_uri": "https://localhost:8080/",
          "height": 98
        },
        "outputId": "00bc0e25-9538-4adf-a96f-dd9a71bfb217"
      },
      "source": [
        "# Resta 2 veces el renglón 0 al renglón 2, \n",
        "# -2R0 + R2 -> R2\n",
        "\n",
        "M[2,:] -= M[0,:]*2    #  M[2,:] = M[2,:] - M[0,:]*2\n",
        "M"
      ],
      "execution_count": 52,
      "outputs": [
        {
          "output_type": "execute_result",
          "data": {
            "text/latex": "$\\displaystyle \\left[\\begin{matrix}2 & -5 & 20\\\\3 & 3 & -10\\\\0 & 1 & -6\\\\0 & 3 & -6\\end{matrix}\\right]$",
            "text/plain": [
              "Matrix([\n",
              "[2, -5,  20],\n",
              "[3,  3, -10],\n",
              "[0,  1,  -6],\n",
              "[0,  3,  -6]])"
            ]
          },
          "metadata": {
            "tags": []
          },
          "execution_count": 52
        }
      ]
    },
    {
      "cell_type": "code",
      "metadata": {
        "colab": {
          "base_uri": "https://localhost:8080/",
          "height": 98
        },
        "id": "2WqjH_jvrozs",
        "outputId": "c823465d-7e79-444b-adb5-0e6fda9f782e"
      },
      "source": [
        "# La operación que no es tan elemental, \n",
        "#     es muy útil para evitar fraccionarios\n",
        "\n",
        "# Resta 3 veces el renglón 0 a 2 veces renglón 1, \n",
        "# -3R0 + 2R1 -> R1\n",
        "\n",
        "M[1,:] = M[1,:]*2 - M[0,:]*3   #Esta operación no se puede contraer\n",
        "M"
      ],
      "execution_count": 53,
      "outputs": [
        {
          "output_type": "execute_result",
          "data": {
            "text/latex": "$\\displaystyle \\left[\\begin{matrix}2 & -5 & 20\\\\0 & 21 & -80\\\\0 & 1 & -6\\\\0 & 3 & -6\\end{matrix}\\right]$",
            "text/plain": [
              "Matrix([\n",
              "[2, -5,  20],\n",
              "[0, 21, -80],\n",
              "[0,  1,  -6],\n",
              "[0,  3,  -6]])"
            ]
          },
          "metadata": {
            "tags": []
          },
          "execution_count": 53
        }
      ]
    },
    {
      "cell_type": "code",
      "metadata": {
        "id": "43iQusdYFRLZ",
        "colab": {
          "base_uri": "https://localhost:8080/",
          "height": 98
        },
        "outputId": "7b62e6e3-9d51-4135-c955-f03f0a067de9"
      },
      "source": [
        "# Multiplicar el renglón 0  por un 1/2, \n",
        "# (1/2)R0 -> R0\n",
        "\n",
        "M[0,:] = M[0,:]*1/2    #Si se contrae cambia las fracciones por decimales\n",
        "M"
      ],
      "execution_count": 54,
      "outputs": [
        {
          "output_type": "execute_result",
          "data": {
            "text/latex": "$\\displaystyle \\left[\\begin{matrix}1 & - \\frac{5}{2} & 10\\\\0 & 21 & -80\\\\0 & 1 & -6\\\\0 & 3 & -6\\end{matrix}\\right]$",
            "text/plain": [
              "Matrix([\n",
              "[1, -5/2,  10],\n",
              "[0,   21, -80],\n",
              "[0,    1,  -6],\n",
              "[0,    3,  -6]])"
            ]
          },
          "metadata": {
            "tags": []
          },
          "execution_count": 54
        }
      ]
    },
    {
      "cell_type": "markdown",
      "metadata": {
        "id": "_GL_OAw4FRLa"
      },
      "source": [
        "# Operaciones no idempotentes y las celdas de Jupyter\n",
        "Una operación es **idempotente** si da lo mismo realizarla una vez o más de una vez. Por ejemplo: \n",
        "* multiplicar por cero es una operación idempotente. $0 \\cdot x=0\\cdot0 \\cdot x$. Si ejecuta una celda idempotente varias veces seguidas no cambia el resultado. \n",
        "* elevar al cuadrado no es una operación idempotente. $x^2 \\neq (x^2)^2$. Si ejecuta varas veces seguidas una celda no idempotente cambia el resultado.\n",
        "\n",
        "Las operaciones entre renglones usualmente <u>no</u> son operaciones idempotentes, entonces si usted ejecuta la celda de Jupyter dos veces, realizará dos veces la operación elemental y cambia el valor esperado. \n",
        "\n",
        "Para solucionar ese problema es mejor que <u>**ejecute todas las celdas**</u>, para eso le recomiendo usar la opción que hay en el menú de Jupyter.  \n",
        "\n",
        "Cuando corrija una operación elemental, debe volver a ejecutar TODAS las celdas ANTERIORES.  \n",
        "------------------------\n",
        "\n",
        "Quiero recordar que las variables en Jupyter se actualizan en el orden en que se ejecutan las celdas. Si usted ejecuta las celdas en desorden las variables pueden tener valores inesperados. Es por esto mi insistencia en el uso de la opción del menú que <u>ejecuta todas las celdas</u>."
      ]
    },
    {
      "cell_type": "markdown",
      "metadata": {
        "id": "kBa6oyX1FRLa"
      },
      "source": [
        "# Eliminación de Gauss\n",
        "[Nakos, Sec. 1.2]\n",
        "\n",
        "\n",
        "Una matriz se puede transformar a la forma escalón mediante los siguientes cuatro pasos. El último paso la convierte a la forma escalón reducida.\n",
        "1. Vaya a la columna extrema izquierda que no sea de ceros.\n",
        "2. Si el primer renglón tiene un cero en la columna del paso (1), intercámbielo con uno que tenga un elemento no cero en la misma columna.\n",
        "3. Obtenga ceros debajo del elemento delantero, sumando múltiplos adecuados del renglón superior a los renglones debajo de él.\n",
        "4. Cubra el renglón superior y repita el mismo proceso comenzando por el paso (1) aplicado a la sub-matriz restante. Repita este proceso con el resto de los renglones.\n",
        "5. Comenzando con el último renglón no cero, avance hacia arriba: para cada renglón obtenga un 1 delantero e introduzca ceros arriba de él, sumando múltiplos adecuados a los renglones correspondientes. "
      ]
    },
    {
      "cell_type": "markdown",
      "metadata": {
        "id": "YA70LJGGFRLa"
      },
      "source": [
        "## Ejemplo\n",
        "\n",
        "Utilizando el algoritmo de Gauss, encuentre la solución general del siguiente sistema de ecuaciones. \n",
        "\n",
        "$\\matrix{\n",
        "0a + 3b - 6c - 4d - 3e = -5\\\\\n",
        "-1a + 3b - 10c - 4d - 4e = -2\\\\\n",
        "4a - 9b + 34c + 0d + 1e = -21\\\\\n",
        "2a - 6b + 20c + 2d + 8e = -8}$\n",
        "\n",
        "## Solución\n",
        "\n"
      ]
    },
    {
      "cell_type": "code",
      "metadata": {
        "colab": {
          "base_uri": "https://localhost:8080/",
          "height": 98
        },
        "id": "MzvEB4HFv4wA",
        "outputId": "1b9f4854-3d56-49a4-cd63-61995ee2f27d"
      },
      "source": [
        "import sympy as sp\n",
        "B=sp.Matrix([\n",
        "    [0,  3,  -6, -4, -3, -5 ],\n",
        "    [-1, 3, -10, -4, -4, -2 ],\n",
        "    [4, -9,  34,  0,  1, -21],\n",
        "    [2, -6,  20,  2,  8, -8 ]\n",
        "])\n",
        "B"
      ],
      "execution_count": 55,
      "outputs": [
        {
          "output_type": "execute_result",
          "data": {
            "text/latex": "$\\displaystyle \\left[\\begin{matrix}0 & 3 & -6 & -4 & -3 & -5\\\\-1 & 3 & -10 & -4 & -4 & -2\\\\4 & -9 & 34 & 0 & 1 & -21\\\\2 & -6 & 20 & 2 & 8 & -8\\end{matrix}\\right]$",
            "text/plain": [
              "Matrix([\n",
              "[ 0,  3,  -6, -4, -3,  -5],\n",
              "[-1,  3, -10, -4, -4,  -2],\n",
              "[ 4, -9,  34,  0,  1, -21],\n",
              "[ 2, -6,  20,  2,  8,  -8]])"
            ]
          },
          "metadata": {
            "tags": []
          },
          "execution_count": 55
        }
      ]
    },
    {
      "cell_type": "code",
      "metadata": {
        "id": "jFT_8SM9tNlu",
        "outputId": "af8d0031-56a5-4506-d547-90f22fe0af34",
        "colab": {
          "base_uri": "https://localhost:8080/",
          "height": 98
        }
      },
      "source": [
        "M=B[:,:]\n",
        "M"
      ],
      "execution_count": 56,
      "outputs": [
        {
          "output_type": "execute_result",
          "data": {
            "text/latex": "$\\displaystyle \\left[\\begin{matrix}0 & 3 & -6 & -4 & -3 & -5\\\\-1 & 3 & -10 & -4 & -4 & -2\\\\4 & -9 & 34 & 0 & 1 & -21\\\\2 & -6 & 20 & 2 & 8 & -8\\end{matrix}\\right]$",
            "text/plain": [
              "Matrix([\n",
              "[ 0,  3,  -6, -4, -3,  -5],\n",
              "[-1,  3, -10, -4, -4,  -2],\n",
              "[ 4, -9,  34,  0,  1, -21],\n",
              "[ 2, -6,  20,  2,  8,  -8]])"
            ]
          },
          "metadata": {
            "tags": []
          },
          "execution_count": 56
        }
      ]
    },
    {
      "cell_type": "markdown",
      "metadata": {
        "id": "qVFozCDIFRLb"
      },
      "source": [
        "Como el elemento `M[0,0]` es un 0, y bajo él hay elementos diferentes de cero es necesario cambiar el renglón 0 por otro renglón. Se escogió el renglón 1 ya que bajo el cero hay un -1, el cual divide al 4 a al 2 que también están bajo el 0.  "
      ]
    },
    {
      "cell_type": "code",
      "metadata": {
        "id": "dqGONOZZFRLb",
        "colab": {
          "base_uri": "https://localhost:8080/",
          "height": 98
        },
        "outputId": "f9320546-49ad-4d3f-8b3c-0c75a416e47c"
      },
      "source": [
        "#R1<->R0\n",
        "M.row_swap(0,1)\n",
        "M"
      ],
      "execution_count": 57,
      "outputs": [
        {
          "output_type": "execute_result",
          "data": {
            "text/latex": "$\\displaystyle \\left[\\begin{matrix}-1 & 3 & -10 & -4 & -4 & -2\\\\0 & 3 & -6 & -4 & -3 & -5\\\\4 & -9 & 34 & 0 & 1 & -21\\\\2 & -6 & 20 & 2 & 8 & -8\\end{matrix}\\right]$",
            "text/plain": [
              "Matrix([\n",
              "[-1,  3, -10, -4, -4,  -2],\n",
              "[ 0,  3,  -6, -4, -3,  -5],\n",
              "[ 4, -9,  34,  0,  1, -21],\n",
              "[ 2, -6,  20,  2,  8,  -8]])"
            ]
          },
          "metadata": {
            "tags": []
          },
          "execution_count": 57
        }
      ]
    },
    {
      "cell_type": "markdown",
      "metadata": {
        "id": "D5_F31C0FRLb"
      },
      "source": [
        "Ahora hay que eliminar los elementos diferentes de cero que están bajo el -1. Primero se elimina el 4. Sumando al renglón 2, 4 veces el renglón 0.  "
      ]
    },
    {
      "cell_type": "code",
      "metadata": {
        "id": "FuAS9my4FRLc",
        "colab": {
          "base_uri": "https://localhost:8080/",
          "height": 98
        },
        "outputId": "c4571e62-e07f-490a-ae1a-c9f90a043f48"
      },
      "source": [
        "# 4R0 + R2 -> R2\n",
        "M[2,:] += 4*M[0,:]      # M[2,:] = M[2,:] + 4*M[0,:]\n",
        "M"
      ],
      "execution_count": 58,
      "outputs": [
        {
          "output_type": "execute_result",
          "data": {
            "text/latex": "$\\displaystyle \\left[\\begin{matrix}-1 & 3 & -10 & -4 & -4 & -2\\\\0 & 3 & -6 & -4 & -3 & -5\\\\0 & 3 & -6 & -16 & -15 & -29\\\\2 & -6 & 20 & 2 & 8 & -8\\end{matrix}\\right]$",
            "text/plain": [
              "Matrix([\n",
              "[-1,  3, -10,  -4,  -4,  -2],\n",
              "[ 0,  3,  -6,  -4,  -3,  -5],\n",
              "[ 0,  3,  -6, -16, -15, -29],\n",
              "[ 2, -6,  20,   2,   8,  -8]])"
            ]
          },
          "metadata": {
            "tags": []
          },
          "execution_count": 58
        }
      ]
    },
    {
      "cell_type": "markdown",
      "metadata": {
        "id": "cJXP_soeFRLc"
      },
      "source": [
        "Ahora hay que eliminar el 2 que está bajo el -1. Sumando al renglón 3, 2 veces el renglón 0.  "
      ]
    },
    {
      "cell_type": "code",
      "metadata": {
        "id": "dkTOZe__FRLc",
        "colab": {
          "base_uri": "https://localhost:8080/",
          "height": 98
        },
        "outputId": "fba399bd-32e6-49af-965c-ce02a1e7782e"
      },
      "source": [
        "# 2R0 + R3 -> R3\n",
        "M[3,:] += 2*M[0,:]\n",
        "M"
      ],
      "execution_count": 59,
      "outputs": [
        {
          "output_type": "execute_result",
          "data": {
            "text/latex": "$\\displaystyle \\left[\\begin{matrix}-1 & 3 & -10 & -4 & -4 & -2\\\\0 & 3 & -6 & -4 & -3 & -5\\\\0 & 3 & -6 & -16 & -15 & -29\\\\0 & 0 & 0 & -6 & 0 & -12\\end{matrix}\\right]$",
            "text/plain": [
              "Matrix([\n",
              "[-1, 3, -10,  -4,  -4,  -2],\n",
              "[ 0, 3,  -6,  -4,  -3,  -5],\n",
              "[ 0, 3,  -6, -16, -15, -29],\n",
              "[ 0, 0,   0,  -6,   0, -12]])"
            ]
          },
          "metadata": {
            "tags": []
          },
          "execution_count": 59
        }
      ]
    },
    {
      "cell_type": "markdown",
      "metadata": {
        "id": "kj8aSzChFRLc"
      },
      "source": [
        "El -1 va a ser el pivote de la columna 0 y del renglón 0. \n",
        "\n",
        "Ahora pasamos a la segunda columna e ignoramos el renglón 0. Con `M[1,1]`, que es un 3, se elimina el contenido de `M[2,1]`, que es otro 3. Para hacer esto, basta con restarle el renglón 1 al renglón 2. "
      ]
    },
    {
      "cell_type": "code",
      "metadata": {
        "id": "EUFcHUXFFRLc",
        "colab": {
          "base_uri": "https://localhost:8080/",
          "height": 98
        },
        "outputId": "a175c738-5e60-4ef2-b2ae-57e3d26f8a90"
      },
      "source": [
        "# -R1 + R2 -> R2\n",
        "M[2,:] += -M[1,:]\n",
        "M"
      ],
      "execution_count": 60,
      "outputs": [
        {
          "output_type": "execute_result",
          "data": {
            "text/latex": "$\\displaystyle \\left[\\begin{matrix}-1 & 3 & -10 & -4 & -4 & -2\\\\0 & 3 & -6 & -4 & -3 & -5\\\\0 & 0 & 0 & -12 & -12 & -24\\\\0 & 0 & 0 & -6 & 0 & -12\\end{matrix}\\right]$",
            "text/plain": [
              "Matrix([\n",
              "[-1, 3, -10,  -4,  -4,  -2],\n",
              "[ 0, 3,  -6,  -4,  -3,  -5],\n",
              "[ 0, 0,   0, -12, -12, -24],\n",
              "[ 0, 0,   0,  -6,   0, -12]])"
            ]
          },
          "metadata": {
            "tags": []
          },
          "execution_count": 60
        }
      ]
    },
    {
      "cell_type": "markdown",
      "metadata": {
        "id": "tCaSCqtxFRLd"
      },
      "source": [
        "El 3 de `M[1,1]` va a ser el pivote de la columna 1 y del renglón 1. \n",
        "\n",
        "Ahora ignoramos el renglón 0 y el renglón 1. Al pasar a la columna 2, la que tiene en los renglones ignorados -10 y -6, vemos que en los otros renglones sólo tiene ceros, por lo tanto esta columna no tendrá pivote. \n",
        "\n",
        "La columna 2 no va a tener pivote."
      ]
    },
    {
      "cell_type": "code",
      "metadata": {
        "id": "b4xxA3o1FRLd",
        "colab": {
          "base_uri": "https://localhost:8080/",
          "height": 98
        },
        "outputId": "bf265de4-d19f-404a-8dbe-ec4e37fadee8"
      },
      "source": [
        "M"
      ],
      "execution_count": 61,
      "outputs": [
        {
          "output_type": "execute_result",
          "data": {
            "text/latex": "$\\displaystyle \\left[\\begin{matrix}-1 & 3 & -10 & -4 & -4 & -2\\\\0 & 3 & -6 & -4 & -3 & -5\\\\0 & 0 & 0 & -12 & -12 & -24\\\\0 & 0 & 0 & -6 & 0 & -12\\end{matrix}\\right]$",
            "text/plain": [
              "Matrix([\n",
              "[-1, 3, -10,  -4,  -4,  -2],\n",
              "[ 0, 3,  -6,  -4,  -3,  -5],\n",
              "[ 0, 0,   0, -12, -12, -24],\n",
              "[ 0, 0,   0,  -6,   0, -12]])"
            ]
          },
          "metadata": {
            "tags": []
          },
          "execution_count": 61
        }
      ]
    },
    {
      "cell_type": "markdown",
      "metadata": {
        "id": "kqmV6HsWFRLd"
      },
      "source": [
        "Al ver la columna 3, en los dos últimos renglones hay un -12 y un -6. Con el -12 hay que eliminar el -6. Una forma es sumar el renglón 2  a menos dos veces el renglón 3. Esta no es una operación elemental ya que el renglón de destino se multiplica por -2. Pero es equivalente a dos operaciones elementales, como se explicó anteriormente."
      ]
    },
    {
      "cell_type": "code",
      "metadata": {
        "id": "n2j908xkFRLe",
        "colab": {
          "base_uri": "https://localhost:8080/",
          "height": 98
        },
        "outputId": "481e7f7d-1ebd-4972-c5d8-4a2dc9fc8e02"
      },
      "source": [
        "# R2 - 2R3 -> R3\n",
        "M[3,:] = M[2,:] + (-2)*M[3,:] \n",
        "M"
      ],
      "execution_count": 62,
      "outputs": [
        {
          "output_type": "execute_result",
          "data": {
            "text/latex": "$\\displaystyle \\left[\\begin{matrix}-1 & 3 & -10 & -4 & -4 & -2\\\\0 & 3 & -6 & -4 & -3 & -5\\\\0 & 0 & 0 & -12 & -12 & -24\\\\0 & 0 & 0 & 0 & -12 & 0\\end{matrix}\\right]$",
            "text/plain": [
              "Matrix([\n",
              "[-1, 3, -10,  -4,  -4,  -2],\n",
              "[ 0, 3,  -6,  -4,  -3,  -5],\n",
              "[ 0, 0,   0, -12, -12, -24],\n",
              "[ 0, 0,   0,   0, -12,   0]])"
            ]
          },
          "metadata": {
            "tags": []
          },
          "execution_count": 62
        }
      ]
    },
    {
      "cell_type": "markdown",
      "metadata": {
        "id": "m5iVqiF_FRLe"
      },
      "source": [
        "Con esto hemos obtenido una <u>matriz escalón</u>. Con lo cual se pueden ubicar los pivotes en `M[0,0]`, `M[1,1]`, `M[2,3]` y en `M[3,4]`.\n",
        "\n",
        "Ahora se puede continuar con el proceso hasta obtener una matriz reducida."
      ]
    },
    {
      "cell_type": "code",
      "metadata": {
        "id": "MWmAiz3mFRLe",
        "colab": {
          "base_uri": "https://localhost:8080/",
          "height": 98
        },
        "outputId": "ca069e64-79cd-467d-b248-a938d74af199"
      },
      "source": [
        "# -(1/12)R3 -> R3\n",
        "\n",
        "M[3,:] = M[3,:]*-1/12\n",
        "M"
      ],
      "execution_count": 63,
      "outputs": [
        {
          "output_type": "execute_result",
          "data": {
            "text/latex": "$\\displaystyle \\left[\\begin{matrix}-1 & 3 & -10 & -4 & -4 & -2\\\\0 & 3 & -6 & -4 & -3 & -5\\\\0 & 0 & 0 & -12 & -12 & -24\\\\0 & 0 & 0 & 0 & 1 & 0\\end{matrix}\\right]$",
            "text/plain": [
              "Matrix([\n",
              "[-1, 3, -10,  -4,  -4,  -2],\n",
              "[ 0, 3,  -6,  -4,  -3,  -5],\n",
              "[ 0, 0,   0, -12, -12, -24],\n",
              "[ 0, 0,   0,   0,   1,   0]])"
            ]
          },
          "metadata": {
            "tags": []
          },
          "execution_count": 63
        }
      ]
    },
    {
      "cell_type": "code",
      "metadata": {
        "id": "STnWcbIuFRLe",
        "colab": {
          "base_uri": "https://localhost:8080/",
          "height": 98
        },
        "outputId": "0974dcfc-ec16-4439-aa28-70a32133e9ae"
      },
      "source": [
        "M[2,:] += 12*M[3,:] # 12 R3 + R2 -> R2\n",
        "M[1,:] += 3*M[3,:]  # 3  R3 + R1 -> R1\n",
        "M[0,:] += 4*M[3,:]  # 4  R3 + R0 -> R0\n",
        "M"
      ],
      "execution_count": 64,
      "outputs": [
        {
          "output_type": "execute_result",
          "data": {
            "text/latex": "$\\displaystyle \\left[\\begin{matrix}-1 & 3 & -10 & -4 & 0 & -2\\\\0 & 3 & -6 & -4 & 0 & -5\\\\0 & 0 & 0 & -12 & 0 & -24\\\\0 & 0 & 0 & 0 & 1 & 0\\end{matrix}\\right]$",
            "text/plain": [
              "Matrix([\n",
              "[-1, 3, -10,  -4, 0,  -2],\n",
              "[ 0, 3,  -6,  -4, 0,  -5],\n",
              "[ 0, 0,   0, -12, 0, -24],\n",
              "[ 0, 0,   0,   0, 1,   0]])"
            ]
          },
          "metadata": {
            "tags": []
          },
          "execution_count": 64
        }
      ]
    },
    {
      "cell_type": "code",
      "metadata": {
        "id": "-6wiz6erFRLf",
        "colab": {
          "base_uri": "https://localhost:8080/",
          "height": 99
        },
        "outputId": "59bbe60b-01c7-4fcf-d470-2c06a9bdc33e"
      },
      "source": [
        "# -(1/12)R2 -> R2\n",
        "\n",
        "M[2,:] = M[2,:]*-1/12  \n",
        "M"
      ],
      "execution_count": 65,
      "outputs": [
        {
          "output_type": "execute_result",
          "data": {
            "text/latex": "$\\displaystyle \\left[\\begin{matrix}-1 & 3 & -10 & -4 & 0 & -2\\\\0 & 3 & -6 & -4 & 0 & -5\\\\0 & 0 & 0 & 1 & 0 & 2\\\\0 & 0 & 0 & 0 & 1 & 0\\end{matrix}\\right]$",
            "text/plain": [
              "Matrix([\n",
              "[-1, 3, -10, -4, 0, -2],\n",
              "[ 0, 3,  -6, -4, 0, -5],\n",
              "[ 0, 0,   0,  1, 0,  2],\n",
              "[ 0, 0,   0,  0, 1,  0]])"
            ]
          },
          "metadata": {
            "tags": []
          },
          "execution_count": 65
        }
      ]
    },
    {
      "cell_type": "code",
      "metadata": {
        "id": "aFYBVz9zFRLf",
        "colab": {
          "base_uri": "https://localhost:8080/",
          "height": 99
        },
        "outputId": "6becb39a-45ad-4d6f-c8bd-13b113c1971e"
      },
      "source": [
        "M[1,:] += 4*M[2,:] # 4 R2 + R1 -> R1\n",
        "M[0,:] += 4*M[2,:] # 4 R2 + R0 -> R0\n",
        "M"
      ],
      "execution_count": 67,
      "outputs": [
        {
          "output_type": "execute_result",
          "data": {
            "text/latex": "$\\displaystyle \\left[\\begin{matrix}-1 & 3 & -10 & 0 & 0 & 6\\\\0 & 3 & -6 & 0 & 0 & 3\\\\0 & 0 & 0 & 1 & 0 & 2\\\\0 & 0 & 0 & 0 & 1 & 0\\end{matrix}\\right]$",
            "text/plain": [
              "Matrix([\n",
              "[-1, 3, -10, 0, 0, 6],\n",
              "[ 0, 3,  -6, 0, 0, 3],\n",
              "[ 0, 0,   0, 1, 0, 2],\n",
              "[ 0, 0,   0, 0, 1, 0]])"
            ]
          },
          "metadata": {
            "tags": []
          },
          "execution_count": 67
        }
      ]
    },
    {
      "cell_type": "code",
      "metadata": {
        "id": "0Kt2Y9DeFRLf",
        "colab": {
          "base_uri": "https://localhost:8080/",
          "height": 99
        },
        "outputId": "9c329da6-206e-4321-9f5d-760fba8ed321"
      },
      "source": [
        "# (1/3)R1 -> R1\n",
        "\n",
        "M[1,:] = M[1,:] *1/3\n",
        "M"
      ],
      "execution_count": 68,
      "outputs": [
        {
          "output_type": "execute_result",
          "data": {
            "text/latex": "$\\displaystyle \\left[\\begin{matrix}-1 & 3 & -10 & 0 & 0 & 6\\\\0 & 1 & -2 & 0 & 0 & 1\\\\0 & 0 & 0 & 1 & 0 & 2\\\\0 & 0 & 0 & 0 & 1 & 0\\end{matrix}\\right]$",
            "text/plain": [
              "Matrix([\n",
              "[-1, 3, -10, 0, 0, 6],\n",
              "[ 0, 1,  -2, 0, 0, 1],\n",
              "[ 0, 0,   0, 1, 0, 2],\n",
              "[ 0, 0,   0, 0, 1, 0]])"
            ]
          },
          "metadata": {
            "tags": []
          },
          "execution_count": 68
        }
      ]
    },
    {
      "cell_type": "code",
      "metadata": {
        "id": "n6kqOobUFRLf",
        "colab": {
          "base_uri": "https://localhost:8080/",
          "height": 99
        },
        "outputId": "c1fadded-9a32-4ab1-da99-456aa1c09a8a"
      },
      "source": [
        "# R0 - 3R1 -> R1\n",
        "\n",
        "M[0,:] += -3*M[1,:]\n",
        "M"
      ],
      "execution_count": 69,
      "outputs": [
        {
          "output_type": "execute_result",
          "data": {
            "text/latex": "$\\displaystyle \\left[\\begin{matrix}-1 & 0 & -4 & 0 & 0 & 3\\\\0 & 1 & -2 & 0 & 0 & 1\\\\0 & 0 & 0 & 1 & 0 & 2\\\\0 & 0 & 0 & 0 & 1 & 0\\end{matrix}\\right]$",
            "text/plain": [
              "Matrix([\n",
              "[-1, 0, -4, 0, 0, 3],\n",
              "[ 0, 1, -2, 0, 0, 1],\n",
              "[ 0, 0,  0, 1, 0, 2],\n",
              "[ 0, 0,  0, 0, 1, 0]])"
            ]
          },
          "metadata": {
            "tags": []
          },
          "execution_count": 69
        }
      ]
    },
    {
      "cell_type": "code",
      "metadata": {
        "id": "bjZQU9JbFRLg",
        "scrolled": true,
        "colab": {
          "base_uri": "https://localhost:8080/",
          "height": 99
        },
        "outputId": "00af1168-133f-40d3-eda3-8e28d46732a0"
      },
      "source": [
        "# -R0 -> R0\n",
        "\n",
        "M[0,:] *= -1\n",
        "M"
      ],
      "execution_count": 70,
      "outputs": [
        {
          "output_type": "execute_result",
          "data": {
            "text/latex": "$\\displaystyle \\left[\\begin{matrix}1 & 0 & 4 & 0 & 0 & -3\\\\0 & 1 & -2 & 0 & 0 & 1\\\\0 & 0 & 0 & 1 & 0 & 2\\\\0 & 0 & 0 & 0 & 1 & 0\\end{matrix}\\right]$",
            "text/plain": [
              "Matrix([\n",
              "[1, 0,  4, 0, 0, -3],\n",
              "[0, 1, -2, 0, 0,  1],\n",
              "[0, 0,  0, 1, 0,  2],\n",
              "[0, 0,  0, 0, 1,  0]])"
            ]
          },
          "metadata": {
            "tags": []
          },
          "execution_count": 70
        }
      ]
    },
    {
      "cell_type": "markdown",
      "metadata": {
        "id": "PWzesY7EFRLg"
      },
      "source": [
        "La anterior matriz ya se encuentra reducida. El sistema de ecuaciones que le corresponde es el siguiente.\n",
        "\n",
        "$\\matrix{\n",
        "1a + 0b + 4c + 0d + 0e =-3\\\\\n",
        "0a + 1b - 2c + 0d + 0e = 1\\\\\n",
        "0a + 0b + 0c + 1d + 0e = 2\\\\\n",
        "0a + 0b + 0c + 0d + 1e = 0}$\n",
        "\n"
      ]
    },
    {
      "cell_type": "markdown",
      "metadata": {
        "id": "OD75VBR2FRLg"
      },
      "source": [
        "La única variable libre es $c=t$.\n",
        "\n",
        "Ahora despejamos las variables delanteras de abajo hacia arriba:\n",
        "\n",
        "$\\matrix{\n",
        "e=0\\\\\n",
        "d=2\\\\\n",
        "b=1+2t\\\\\n",
        "a=-3-4t}$\n",
        "\n",
        "Por lo tanto la solución general es\n",
        "\n",
        "$\\left( \\matrix{a \\\\ b \\\\ c \\\\ d \\\\ e} \\right)\n",
        "=\\left( \\matrix{-3 \\\\1  \\\\0  \\\\2  \\\\0   } \\right)\n",
        "+t\\left( \\matrix{-4 \\\\2  \\\\1  \\\\0  \\\\ 0  } \\right)\n",
        "$\n",
        "\n",
        "La solución particular trivial es\n",
        "$\\left( \\matrix{-3 \\\\1  \\\\0  \\\\2  \\\\0   } \\right)\n",
        "+0\\left( \\matrix{-4 \\\\2  \\\\1  \\\\0  \\\\ 0  } \\right)\n",
        "=\\left( \\matrix{-3 \\\\1  \\\\0  \\\\2  \\\\0   } \\right)\n",
        "$\n",
        "\n",
        "Como sólo hay un parámetro entonces sólo hay una solución particular básica \n",
        "$\\left( \\matrix{-3 \\\\1  \\\\0  \\\\2  \\\\0   } \\right)\n",
        "+1\\left( \\matrix{-4 \\\\2  \\\\1  \\\\0  \\\\ 0  } \\right)\n",
        "=\\left( \\matrix{-7 \\\\3  \\\\1  \\\\2  \\\\0   } \\right)\n",
        "$\n",
        "\n",
        "A continuación verificamos que ambas soluciones particulares cumplan con las 4 ecuaciones. Comenzamos probando la solución particular trivial."
      ]
    },
    {
      "cell_type": "code",
      "metadata": {
        "id": "P-iWMvgVFRLg"
      },
      "source": [
        "(a, b, c, d, e)=(-3, 1, 0, 2, 0)\n",
        "(a, b, c, d, e)"
      ],
      "execution_count": null,
      "outputs": []
    },
    {
      "cell_type": "code",
      "metadata": {
        "id": "B-3JF9kbFRLh"
      },
      "source": [
        "0*a + 3*b - 6*c - 4*d - 3*e ==-5\n"
      ],
      "execution_count": null,
      "outputs": []
    },
    {
      "cell_type": "code",
      "metadata": {
        "id": "-8Aa85iPFRLh"
      },
      "source": [
        "-1*a + 3*b -10*c - 4*d - 4*e == -2 "
      ],
      "execution_count": null,
      "outputs": []
    },
    {
      "cell_type": "code",
      "metadata": {
        "id": "udyMyXwUFRLh"
      },
      "source": [
        "4*a - 9*b + 34*c + 0*d + 1*e == -21\n"
      ],
      "execution_count": null,
      "outputs": []
    },
    {
      "cell_type": "code",
      "metadata": {
        "id": "C3m0o0jAFRLh"
      },
      "source": [
        "2*a - 6*b + 20*c + 2*d + 8*e == -8 "
      ],
      "execution_count": null,
      "outputs": []
    },
    {
      "cell_type": "markdown",
      "metadata": {
        "id": "iY3GI7LEFRLi"
      },
      "source": [
        "Ahora verificamos la solución particular básica"
      ]
    },
    {
      "cell_type": "code",
      "metadata": {
        "id": "36p0IMrMFRLi"
      },
      "source": [
        "(a, b, c, d, e)=(-7, 3, 1, 2, 0 )\n",
        "(a, b, c, d, e)"
      ],
      "execution_count": null,
      "outputs": []
    },
    {
      "cell_type": "code",
      "metadata": {
        "id": "FAjBPxZ5FRLi"
      },
      "source": [
        "0*a + 3*b - 6*c - 4*d - 3*e ==-5\n"
      ],
      "execution_count": null,
      "outputs": []
    },
    {
      "cell_type": "code",
      "metadata": {
        "id": "mjxyVXJ3FRLj"
      },
      "source": [
        "-1*a + 3*b -10*c - 4*d - 4*e == -2 "
      ],
      "execution_count": null,
      "outputs": []
    },
    {
      "cell_type": "code",
      "metadata": {
        "id": "S-yr3Ti6FRLj"
      },
      "source": [
        "4*a - 9*b + 34*c + 0*d + 1*e == -21\n"
      ],
      "execution_count": null,
      "outputs": []
    },
    {
      "cell_type": "code",
      "metadata": {
        "id": "6gwvZcK6FRLj"
      },
      "source": [
        "2*a - 6*b + 20*c + 2*d + 8*e == -8 "
      ],
      "execution_count": null,
      "outputs": []
    },
    {
      "cell_type": "markdown",
      "metadata": {
        "id": "90s5FDEsFRLk"
      },
      "source": [
        "Recuerde que\n",
        "# Si debe cambiar una operación elemental, antes de ejecutarla debe <u>ejecutar TODAS las celdas ANTERIORES</u>."
      ]
    }
  ]
}