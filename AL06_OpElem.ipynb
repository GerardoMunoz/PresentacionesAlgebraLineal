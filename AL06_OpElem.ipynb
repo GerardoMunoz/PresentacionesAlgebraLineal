{
  "nbformat": 4,
  "nbformat_minor": 0,
  "metadata": {
    "colab": {
      "name": "Clase05_Repr2_MatrizExt_2020_mayo_6.ipynb",
      "provenance": [],
      "include_colab_link": true
    },
    "kernelspec": {
      "display_name": "Python 3",
      "language": "python",
      "name": "python3"
    },
    "language_info": {
      "codemirror_mode": {
        "name": "ipython",
        "version": 3
      },
      "file_extension": ".py",
      "mimetype": "text/x-python",
      "name": "python",
      "nbconvert_exporter": "python",
      "pygments_lexer": "ipython3",
      "version": "3.9.2"
    }
  },
  "cells": [
    {
      "cell_type": "markdown",
      "metadata": {
        "id": "view-in-github",
        "colab_type": "text"
      },
      "source": [
        "<a href=\"https://colab.research.google.com/github/GerardoMunoz/PresentacionesAlgebraLineal/blob/main/AL06_OpElem.ipynb\" target=\"_parent\"><img src=\"https://colab.research.google.com/assets/colab-badge.svg\" alt=\"Open In Colab\"/></a>"
      ]
    },
    {
      "cell_type": "markdown",
      "metadata": {
        "id": "2auLNz_sFRLH"
      },
      "source": [
        "\n",
        "\n",
        "# Matriz Extendida\n",
        "<!--## Aplicaciones\n",
        "## Equivalencia con sistema de ecuacioes\n",
        "## E1 a E4\n",
        "## Operaciones elementales\n",
        "## Algoritmo de Gauss-->\n",
        "\n"
      ]
    },
    {
      "cell_type": "markdown",
      "metadata": {
        "id": "VWLOFt_DFRLX"
      },
      "source": [
        "# Notación\n",
        "Así como durante el <u>primer</u> año de vida tenemos <u>cero</u> años, también en las matrices el primer renglon es el renglon cero, bueno al menos en Python y otros lenguajes de programación. \n",
        "\n",
        "$$\\begin{matrix}\\text{renglón 0}\\\\\\text{renglón 1}\\\\\\text{renglón 2}\\end{matrix}\\begin{bmatrix}a&b&c&:&x\\\\d&e&f&:&y\\\\g&h&i&:&z\\end{bmatrix}$$\n",
        "\n",
        "\n",
        "Sin embargo, algunos lenguajes como Matlab llaman el <u>primer</u> renglón, el renglón <u>uno</u>. Esto último coincide con la notación de la mayoria de libros de álgebra lineal.\n",
        "\n",
        "$$\\begin{matrix}\\text{renglón 1}\\\\\\text{renglón 2}\\\\\\text{renglón 3}\\end{matrix}\\begin{bmatrix}a&b&c&:&x\\\\d&e&f&:&y\\\\g&h&i&:&z\\end{bmatrix}$$\n",
        "\n",
        "\n",
        "\n",
        "En este curso usaremos ambas notaciones. Es por eso que si ha duda si el primer renglon es el renglón cero o el renglón uno lo invito a que pregunte para evitar confusiones.\n",
        "En particular para la clase de HOY, como usaremos Python, llamaremos el <u>primer</u> renglón el renglón <u>cero</u>.\n",
        "\n",
        "$$\\begin{matrix}\\text{renglón 0}\\\\\\text{renglón 1}\\\\\\text{renglón 2}\\end{matrix}\\begin{bmatrix}a&b&c&:&x\\\\d&e&f&:&y\\\\g&h&i&:&z\\end{bmatrix}$$\n",
        "\n",
        "\n",
        "\n",
        "\n",
        "\n",
        "# Operaciones elementales\n",
        "[Nakos, Sec. 1.1]\n",
        "\n",
        "Ahora veremos como resolver sistemas de ecuaciones que no cumplen con E1, E2, E3 o E4.\n",
        "\n",
        "Para esto definiremos las siguientes  __operaciones elementales__  entre los renglones de una matriz extendida, que permiten modificar la matriz para que cumplan las propiedades E1, E2, E3 y E4. Pero lo más importante es que <u> no alteran la solución</u> del sistema de ecuaciones.\n",
        "\n",
        "* **Intercambio de renglones**. $r_i \\leftrightarrow r_j$\n",
        "\n",
        "$$\\begin{bmatrix}a&b&c&:&x\\\\d&e&f&:&y\\\\g&h&i&:&z\\end{bmatrix}r_0 \\leftrightarrow r_1\\begin{bmatrix}d&e&f&:&y\\\\a&b&c&:&x\\\\g&h&i&:&z\\end{bmatrix}$$\n",
        "\n",
        "El intercambio de renglones no afecta la solución del sistema de ecuaciones ya que el orden de la ecuaciones no altera la solución. \n",
        "\n",
        "* **Multiplica un renglones por un escalar** (diferente de cero). $kr_i \\rightarrow r_i$ \n",
        "$$\\begin{bmatrix}a&b&c&:&x\\\\d&e&f&:&y\\\\g&h&i&:&z\\end{bmatrix} 3r_2 \\rightarrow r_2\\begin{bmatrix}a&b&c&:&x\\\\d&e&f&:&y\\\\3g&3h&3i&:&3z\\end{bmatrix}$$\n",
        "\n",
        "Al multiplicar un renglón por una constante no se altera la solución ya que la respectiva ecuación se multiplica a ambos lados por la misma constante.\n",
        "\n",
        "* **Suma un múltiplo (no nulo) de un renglón a otro**. $kr_j + 1r_i \\rightarrow r_i$ \n",
        "\n",
        "Observe que el renglón de destino ($r_i$) es multiplicado por 1, mientras que el otro renglón ($r_j$) sí es multiplicado por $k$.\n",
        "\n",
        "$$\\begin{bmatrix}a&b&c&:&x\\\\d&e&f&:&y\\\\g&h&i&:&z\\end{bmatrix} 3r_2 + r_1  \\rightarrow r_1\\begin{bmatrix}a&b&c&:&x\\\\3g+d&3h+e&3i+f&:&3z+y\\\\g&h&i&:&z\\end{bmatrix}$$\n",
        "\n",
        "En las siguientes páginas el profesor Von Schmohawk visualiza esta operación en  $\\mathbb{R}^2$ y en $\\mathbb{R}^3$. En este curso más adelante veremos el tema de la visualización. \n",
        "\n",
        "* https://www.youtube.com/watch?v=fGq07lDUb9k&list=PL20023FA07684B937&index=38\n",
        "* https://www.youtube.com/watch?v=cB2t5VIVHZI&list=PL20023FA07684B937&index=48\n",
        "\n",
        "# Una operación no tan elementental\n",
        "\n",
        "La operación $k_jr_j + k_ir_i \\rightarrow r_i$ corresponde a realizar:\n",
        "* primero  $k_ir_i \\rightarrow r_i$, \n",
        "* luego $k_jr_j + r_i \\rightarrow r_i$. \n",
        "\n",
        "$$\\begin{bmatrix}a&b&c&:&x\\\\d&e&f&:&y\\\\g&h&i&:&z\\end{bmatrix} 3r_2 + 4r_1  \\rightarrow r_1\\begin{bmatrix}a&b&c&:&x\\\\3g+4d&3h+4e&3i+4f&:&3z+4y\\\\g&h&i&:&z\\end{bmatrix}$$\n",
        "\n",
        "# Equivalencia de matrices\n",
        "Dos matrices se dice que son __equivalentes__ si es posible pasar de una a la otra por medio de operaciones elementales y se denota $A \\sim B$.  \n",
        "\n"
      ]
    },
    {
      "cell_type": "markdown",
      "metadata": {
        "id": "k1jYuSTKFRLN"
      },
      "source": [
        "## Uso de herramientas computacionales \n",
        "\n",
        "A continuación usaremos la librería `sympy` de Python que permite realizar operaciones matriciales."
      ]
    },
    {
      "cell_type": "code",
      "metadata": {
        "id": "C4acJORQFRLO",
        "outputId": "a286f4c4-a157-4583-f458-bdfbc545f8c9"
      },
      "source": [
        "import sympy as sp # Se llama la librería `sympy` con el alias `sp`.\n",
        "\n",
        "# se define en la matriz `A`\n",
        "\n",
        "A=np.matrix([ \n",
        "    [11, 2,  3],\n",
        "    [4,  15, 6],\n",
        "    [7,  8,  19]\n",
        "])\n",
        "A"
      ],
      "execution_count": null,
      "outputs": [
        {
          "output_type": "execute_result",
          "data": {
            "text/plain": [
              "matrix([[11,  2,  3],\n",
              "        [ 4, 15,  6],\n",
              "        [ 7,  8, 19]])"
            ]
          },
          "metadata": {
            "tags": []
          },
          "execution_count": 160
        }
      ]
    },
    {
      "cell_type": "code",
      "metadata": {
        "id": "CmRbT8OHFRLQ",
        "outputId": "bfc28f0d-d71c-4b95-9ee1-027caaf501a0"
      },
      "source": [
        "# Obtener un elemento de la matriz\n",
        "# Renglón 0 y columna 0\n",
        "# Recuerde que comienza desde cero\n",
        "\n",
        "A[0,0]"
      ],
      "execution_count": null,
      "outputs": [
        {
          "output_type": "execute_result",
          "data": {
            "text/plain": [
              "11"
            ]
          },
          "metadata": {
            "tags": []
          },
          "execution_count": 121
        }
      ]
    },
    {
      "cell_type": "code",
      "metadata": {
        "id": "M11B2HfeFRLQ",
        "outputId": "03637cdc-52fd-4fd1-fb68-b8d1d40494a9"
      },
      "source": [
        "# Obtener un elemento de la matriz\n",
        "# Renglón 1 y columna 2\n",
        "# Recuerde que comienza desde cero\n",
        "\n",
        "A[1,2]"
      ],
      "execution_count": null,
      "outputs": [
        {
          "output_type": "execute_result",
          "data": {
            "text/plain": [
              "6"
            ]
          },
          "metadata": {
            "tags": []
          },
          "execution_count": 122
        }
      ]
    },
    {
      "cell_type": "code",
      "metadata": {
        "id": "wRjiCFgJFRLQ",
        "outputId": "48216335-3207-4a10-ce57-47c9ebfbf2b2"
      },
      "source": [
        "# Obtener la columna 2 de la matriz\n",
        "\n",
        "A[:,2]"
      ],
      "execution_count": null,
      "outputs": [
        {
          "output_type": "execute_result",
          "data": {
            "text/plain": [
              "matrix([[ 3],\n",
              "        [ 6],\n",
              "        [19]])"
            ]
          },
          "metadata": {
            "tags": []
          },
          "execution_count": 123
        }
      ]
    },
    {
      "cell_type": "code",
      "metadata": {
        "id": "TE3DRHfYFRLR",
        "outputId": "88ab0278-d782-4eec-de98-5d37dc68697b"
      },
      "source": [
        "# Obtener el renglón 1 de la matriz\n",
        "\n",
        "A[1,:]"
      ],
      "execution_count": null,
      "outputs": [
        {
          "output_type": "execute_result",
          "data": {
            "text/plain": [
              "matrix([[ 4, 15,  6]])"
            ]
          },
          "metadata": {
            "tags": []
          },
          "execution_count": 124
        }
      ]
    },
    {
      "cell_type": "code",
      "metadata": {
        "id": "oMak7SaSFRLR",
        "outputId": "25937cff-696c-4bb9-84ee-8eb32418603a"
      },
      "source": [
        "# Obtener los renglones 0 y 2\n",
        "\n",
        "A[[0,2],:]"
      ],
      "execution_count": null,
      "outputs": [
        {
          "output_type": "execute_result",
          "data": {
            "text/plain": [
              "matrix([[11,  2,  3],\n",
              "        [ 7,  8, 19]])"
            ]
          },
          "metadata": {
            "tags": []
          },
          "execution_count": 125
        }
      ]
    },
    {
      "cell_type": "code",
      "metadata": {
        "id": "IU8gTJmtFRLS",
        "outputId": "c9883982-13b6-440a-8844-3fc7a9b90955"
      },
      "source": [
        "# Obtener primero el renglón 2 y después el renglón 0\n",
        "\n",
        "A[[2,0],:]"
      ],
      "execution_count": null,
      "outputs": [
        {
          "output_type": "execute_result",
          "data": {
            "text/plain": [
              "matrix([[ 7,  8, 19],\n",
              "        [11,  2,  3]])"
            ]
          },
          "metadata": {
            "tags": []
          },
          "execution_count": 126
        }
      ]
    },
    {
      "cell_type": "code",
      "metadata": {
        "id": "fhipsw3aFRLY",
        "outputId": "c9d7d121-061e-4523-9014-16fc87636a97"
      },
      "source": [
        "B = np.matrix([\n",
        "    [0, 3, -6, ],\n",
        "    [-1, 3, -10],\n",
        "    [4, -9, 34],\n",
        "    [2, -6, 20]\n",
        "])\n",
        "\n",
        "B"
      ],
      "execution_count": null,
      "outputs": [
        {
          "output_type": "execute_result",
          "data": {
            "text/plain": [
              "matrix([[  0,   3,  -6],\n",
              "        [ -1,   3, -10],\n",
              "        [  4,  -9,  34],\n",
              "        [  2,  -6,  20]])"
            ]
          },
          "metadata": {
            "tags": []
          },
          "execution_count": 127
        }
      ]
    },
    {
      "cell_type": "code",
      "metadata": {
        "id": "KkAX-ostFRLZ",
        "outputId": "9173a86c-d55a-44d4-aee7-4e464c050700"
      },
      "source": [
        "# Intercambiar el renglón 0 con el renglón 3, \n",
        "# R0 <-> R3\n",
        "\n",
        "B[[0,3],:] = B[[3,0],:]\n",
        "B"
      ],
      "execution_count": null,
      "outputs": [
        {
          "output_type": "execute_result",
          "data": {
            "text/plain": [
              "matrix([[  2,  -6,  20],\n",
              "        [ -1,   3, -10],\n",
              "        [  4,  -9,  34],\n",
              "        [  0,   3,  -6]])"
            ]
          },
          "metadata": {
            "tags": []
          },
          "execution_count": 128
        }
      ]
    },
    {
      "cell_type": "code",
      "metadata": {
        "id": "43iQusdYFRLZ",
        "outputId": "316b4930-b873-4482-d96f-68ae650fcf0e"
      },
      "source": [
        "# Multiplicar el renglón 0  por un 1/2, \n",
        "# (1/2)R0 -> R0\n",
        "\n",
        "B[0,:] *= 1/2   #  B[0,:] = B[0,:]*1/2\n",
        "B"
      ],
      "execution_count": null,
      "outputs": [
        {
          "output_type": "execute_result",
          "data": {
            "text/plain": [
              "matrix([[  1,  -3,  10],\n",
              "        [ -1,   3, -10],\n",
              "        [  4,  -9,  34],\n",
              "        [  0,   3,  -6]])"
            ]
          },
          "metadata": {
            "tags": []
          },
          "execution_count": 129
        }
      ]
    },
    {
      "cell_type": "code",
      "metadata": {
        "id": "IyD65bnfFRLZ",
        "outputId": "c6bdcf39-8432-49b9-8d38-f35ee80f534b"
      },
      "source": [
        "# Suma (-4) veces el renglón 0 al renglón 2, \n",
        "# -4R0 + R2 -> R2\n",
        "\n",
        "B[2,:] += -4*B[0,:]  #  B[2,:] = B[2,:] + (-4)*B[0,:]\n",
        "B"
      ],
      "execution_count": null,
      "outputs": [
        {
          "output_type": "execute_result",
          "data": {
            "text/plain": [
              "matrix([[  1,  -3,  10],\n",
              "        [ -1,   3, -10],\n",
              "        [  0,   3,  -6],\n",
              "        [  0,   3,  -6]])"
            ]
          },
          "metadata": {
            "tags": []
          },
          "execution_count": 130
        }
      ]
    },
    {
      "cell_type": "markdown",
      "metadata": {
        "id": "_GL_OAw4FRLa"
      },
      "source": [
        "# Operaciones no idempotentes y las celdas de Jupyter\n",
        "Una operación es **idempotente** si da lo mismo realizarla una vez o más de una vez. Por ejemplo, el valor absoluto es una operación idempotente. Pero el cambio de signo no es una operación idempotente.\n",
        "\n",
        "Las operaciones entre renglones usualmente no son operaciones idempotentes, entonces si usted ejecuta la celda de Jupyter dos veces, realizará dos veces la operación elemental y eso puede ser un inconveniente. \n",
        "\n",
        "Para solucionar ese problema es mejor que <u>**ejecute todas las celdas**</u>, para eso le recomiendo usar la opción que hay en el menú de ejecutar todo.  \n",
        "\n",
        "# Si debe cambiar una operación elemental, antes de ejecutarla debe ejecutar TODAS las celdas ANTERIORES.  \n",
        "\n",
        "Quiero recordar que las variables en Jupyter se actualizan en el orden en que se ejecutan las celdas. Si usted ejecuta las celdas en desorden las variables pueden tener valores inesperados. Es por esto mi insistencia en el uso de la opción del menú que <u>ejecuta todas las celdas</u>."
      ]
    },
    {
      "cell_type": "markdown",
      "metadata": {
        "id": "kBa6oyX1FRLa"
      },
      "source": [
        "# Eliminación de Gauss\n",
        "[Nakos, Sec. 1.2]\n",
        "\n",
        "\n",
        "Una matriz se puede transformar a la forma escalón mediante los siguientes cuatro pasos. El último paso la convierte a la forma escalón reducida.\n",
        "1. Vaya a la columna extrema izquierda que no sea de ceros.\n",
        "2. Si el primer renglón tiene un cero en la columna del paso (1), intercámbielo con uno que tenga un elemento no cero en la misma columna.\n",
        "3. Obtenga ceros debajo del elemento delantero, sumando múltiplos adecuados del renglón superior a los renglones debajo de él.\n",
        "4. Cubra el renglón superior y repita el mismo proceso comenzando por el paso (1) aplicado a la sub-matriz restante. Repita este proceso con el resto de los renglones.\n",
        "5. Comenzando con el último renglón no cero, avance hacia arriba: para cada renglón obtenga un 1 delantero e introduzca ceros arriba de él, sumando múltiplos adecuados a los renglones correspondientes. "
      ]
    },
    {
      "cell_type": "markdown",
      "metadata": {
        "id": "YA70LJGGFRLa"
      },
      "source": [
        "## Ejemplo\n",
        "\n",
        "Utilizando el algoritmo de Gauss, encuentre la solución general del siguiente sistema de ecuaciones. En la variable `respuesta_ejemplo` asigne una tupla con la tupla de la solución particular trivial y las tuplas de las soluciones particulares básicas, si existen, cómo se realizó en el taller de sistemas de ecuaciones escalón.\n",
        "\n",
        "$\\matrix{\n",
        "0a + 3b - 6c - 4d - 3e = -5\\\\\n",
        "-1a + 3b - 10c - 4d - 4e = -2\\\\\n",
        "4a - 9b + 34c + 0d + 1e = -21\\\\\n",
        "2a - 6b + 20c + 2d + 8e = -8}$\n",
        "\n",
        "## Solución\n",
        "\n"
      ]
    },
    {
      "cell_type": "code",
      "metadata": {
        "id": "sAWTySKSFRLb",
        "outputId": "fef04dc9-5089-4e96-e70d-86f88f1e0427"
      },
      "source": [
        "C=np.matrix([\n",
        "    [0,  3,  -6, -4, -3, -5 ],\n",
        "    [-1, 3, -10, -4, -4, -2 ],\n",
        "    [4, -9,  34,  0,  1, -21],\n",
        "    [2, -6,  20,  2,  8, -8 ]\n",
        "])\n",
        "C"
      ],
      "execution_count": null,
      "outputs": [
        {
          "output_type": "execute_result",
          "data": {
            "text/plain": [
              "matrix([[  0,   3,  -6,  -4,  -3,  -5],\n",
              "        [ -1,   3, -10,  -4,  -4,  -2],\n",
              "        [  4,  -9,  34,   0,   1, -21],\n",
              "        [  2,  -6,  20,   2,   8,  -8]])"
            ]
          },
          "metadata": {
            "tags": []
          },
          "execution_count": 131
        }
      ]
    },
    {
      "cell_type": "markdown",
      "metadata": {
        "id": "qVFozCDIFRLb"
      },
      "source": [
        "Como el elemento `C[0,0]` es un 0, y bajo él hay elementos diferentes de cero es necesario cambiar el renglón 0 por otro renglón. Se escogió el renglón 1 ya que bajo el cero hay un -1, el cual divide al 4 a al 2 que también están bajo el 0.  "
      ]
    },
    {
      "cell_type": "code",
      "metadata": {
        "id": "dqGONOZZFRLb",
        "outputId": "a2ca76a8-d1de-4198-f3ac-1f140a2bc59c"
      },
      "source": [
        "#R1<->R0\n",
        "C[[0,1],:]=C[[1,0],:]\n",
        "C"
      ],
      "execution_count": null,
      "outputs": [
        {
          "output_type": "execute_result",
          "data": {
            "text/plain": [
              "matrix([[ -1,   3, -10,  -4,  -4,  -2],\n",
              "        [  0,   3,  -6,  -4,  -3,  -5],\n",
              "        [  4,  -9,  34,   0,   1, -21],\n",
              "        [  2,  -6,  20,   2,   8,  -8]])"
            ]
          },
          "metadata": {
            "tags": []
          },
          "execution_count": 132
        }
      ]
    },
    {
      "cell_type": "markdown",
      "metadata": {
        "id": "D5_F31C0FRLb"
      },
      "source": [
        "Ahora hay que eliminar los elementos diferentes de cero que están bajo el -1. Primero se elimina el 4. Sumando al renglón 2, 4 veces el renglón 0.  "
      ]
    },
    {
      "cell_type": "code",
      "metadata": {
        "id": "FuAS9my4FRLc",
        "outputId": "1c5094bb-f028-4c2f-804b-c63bd84aa49c"
      },
      "source": [
        "# 4R0 + R2 -> R2\n",
        "C[2,:] += 4*C[0,:]      # C[2,:] = C[2,:] + 4*C[0,:]\n",
        "C"
      ],
      "execution_count": null,
      "outputs": [
        {
          "output_type": "execute_result",
          "data": {
            "text/plain": [
              "matrix([[ -1,   3, -10,  -4,  -4,  -2],\n",
              "        [  0,   3,  -6,  -4,  -3,  -5],\n",
              "        [  0,   3,  -6, -16, -15, -29],\n",
              "        [  2,  -6,  20,   2,   8,  -8]])"
            ]
          },
          "metadata": {
            "tags": []
          },
          "execution_count": 133
        }
      ]
    },
    {
      "cell_type": "markdown",
      "metadata": {
        "id": "cJXP_soeFRLc"
      },
      "source": [
        "Ahora hay que eliminar el 2 que está bajo el -1. Sumando al renglón 3, 2 veces el renglón 0.  "
      ]
    },
    {
      "cell_type": "code",
      "metadata": {
        "id": "dkTOZe__FRLc",
        "outputId": "348e55c8-ff8a-4280-9da8-2ee5bad0de51"
      },
      "source": [
        "# 2R0 + R3 -> R3\n",
        "C[3,:] += 2*C[0,:]\n",
        "C"
      ],
      "execution_count": null,
      "outputs": [
        {
          "output_type": "execute_result",
          "data": {
            "text/plain": [
              "matrix([[ -1,   3, -10,  -4,  -4,  -2],\n",
              "        [  0,   3,  -6,  -4,  -3,  -5],\n",
              "        [  0,   3,  -6, -16, -15, -29],\n",
              "        [  0,   0,   0,  -6,   0, -12]])"
            ]
          },
          "metadata": {
            "tags": []
          },
          "execution_count": 134
        }
      ]
    },
    {
      "cell_type": "markdown",
      "metadata": {
        "id": "kj8aSzChFRLc"
      },
      "source": [
        "El -1 va a ser el pivote de la columna 0 y del renglón 0. \n",
        "\n",
        "Ahora pasamos a la segunda columna e ignoramos el renglón 0. Con `C[1,1]`, que es un 3, se elimina el contenido de `C[2,1]`, que es otro 3. Para hacer esto, basta con restarle el renglón 1 al renglón 2. "
      ]
    },
    {
      "cell_type": "code",
      "metadata": {
        "id": "EUFcHUXFFRLc",
        "outputId": "eaf45876-191d-4e2e-8d71-759bebb484b0"
      },
      "source": [
        "# -R1 + R2 -> R2\n",
        "C[2,:] += -C[1,:]\n",
        "C"
      ],
      "execution_count": null,
      "outputs": [
        {
          "output_type": "execute_result",
          "data": {
            "text/plain": [
              "matrix([[ -1,   3, -10,  -4,  -4,  -2],\n",
              "        [  0,   3,  -6,  -4,  -3,  -5],\n",
              "        [  0,   0,   0, -12, -12, -24],\n",
              "        [  0,   0,   0,  -6,   0, -12]])"
            ]
          },
          "metadata": {
            "tags": []
          },
          "execution_count": 135
        }
      ]
    },
    {
      "cell_type": "markdown",
      "metadata": {
        "id": "tCaSCqtxFRLd"
      },
      "source": [
        "El 3 de `C[1,1]` va a ser el pivote de la columna 1 y del renglón 1. \n",
        "\n",
        "Ahora ignoramos el renglón 0 y el renglón 1. Al pasar a la columna 2, la que tiene en los renglones ignorados -10 y -6, vemos que en los otros renglones sólo tiene ceros, por lo tanto esta columna no tendrá pivote. \n",
        "\n",
        "La columna 2 no va a tener pivote."
      ]
    },
    {
      "cell_type": "code",
      "metadata": {
        "id": "b4xxA3o1FRLd",
        "outputId": "cfda362f-5521-409d-9601-f90d7c62c500"
      },
      "source": [
        "C"
      ],
      "execution_count": null,
      "outputs": [
        {
          "output_type": "execute_result",
          "data": {
            "text/plain": [
              "matrix([[ -1,   3, -10,  -4,  -4,  -2],\n",
              "        [  0,   3,  -6,  -4,  -3,  -5],\n",
              "        [  0,   0,   0, -12, -12, -24],\n",
              "        [  0,   0,   0,  -6,   0, -12]])"
            ]
          },
          "metadata": {
            "tags": []
          },
          "execution_count": 136
        }
      ]
    },
    {
      "cell_type": "markdown",
      "metadata": {
        "id": "kqmV6HsWFRLd"
      },
      "source": [
        "Al ver la columna 3, en los dos últimos renglones hay un -12 y un -6. Con el -12 hay que eliminar el -6. Una forma es sumar el renglón 2  a menos dos veces el renglón 3. Esta no es una operación elemental ya que el renglón de destino se multiplica por -2. Pero es equivalente a dos operaciones elementales, como se explicó anteriormente."
      ]
    },
    {
      "cell_type": "code",
      "metadata": {
        "id": "n2j908xkFRLe",
        "outputId": "c6ec2bd9-4913-4ede-dce7-c3f15c26750b"
      },
      "source": [
        "# R2 - 2R3 -> R3\n",
        "C[3,:] = C[2,:] + (-2)*C[3,:] \n",
        "C"
      ],
      "execution_count": null,
      "outputs": [
        {
          "output_type": "execute_result",
          "data": {
            "text/plain": [
              "matrix([[ -1,   3, -10,  -4,  -4,  -2],\n",
              "        [  0,   3,  -6,  -4,  -3,  -5],\n",
              "        [  0,   0,   0, -12, -12, -24],\n",
              "        [  0,   0,   0,   0, -12,   0]])"
            ]
          },
          "metadata": {
            "tags": []
          },
          "execution_count": 137
        }
      ]
    },
    {
      "cell_type": "markdown",
      "metadata": {
        "id": "m5iVqiF_FRLe"
      },
      "source": [
        "Con esto hemos obtenido una <u>matriz escalón</u>. Con lo cual se pueden ubicar los pivotes en `C[0,0]`, `C[1,1]`, `C[2,3]` y en `C[3,4]`.\n",
        "\n",
        "Ahora se puede continuar con el proceso hasta obtener una matriz reducida."
      ]
    },
    {
      "cell_type": "code",
      "metadata": {
        "id": "MWmAiz3mFRLe",
        "outputId": "d53bf9c2-e313-41c5-db3a-2c6e15c51c13"
      },
      "source": [
        "# -(1/12)R3 -> R3\n",
        "\n",
        "C[3,:] *= -1/12\n",
        "C"
      ],
      "execution_count": null,
      "outputs": [
        {
          "output_type": "execute_result",
          "data": {
            "text/plain": [
              "matrix([[ -1,   3, -10,  -4,  -4,  -2],\n",
              "        [  0,   3,  -6,  -4,  -3,  -5],\n",
              "        [  0,   0,   0, -12, -12, -24],\n",
              "        [  0,   0,   0,   0,   1,   0]])"
            ]
          },
          "metadata": {
            "tags": []
          },
          "execution_count": 138
        }
      ]
    },
    {
      "cell_type": "code",
      "metadata": {
        "id": "STnWcbIuFRLe",
        "outputId": "9c8c702c-898a-4bc3-cea7-adba9ed2cd16"
      },
      "source": [
        "C[2,:] += 12*C[3] # 12 R3 + R2 -> R2\n",
        "C[1,:] += 3*C[3]  # 3  R3 + R1 -> R1\n",
        "C[0,:] += 4*C[3]  # 4  R3 + R0 -> R0\n",
        "C"
      ],
      "execution_count": null,
      "outputs": [
        {
          "output_type": "execute_result",
          "data": {
            "text/plain": [
              "matrix([[ -1,   3, -10,  -4,   0,  -2],\n",
              "        [  0,   3,  -6,  -4,   0,  -5],\n",
              "        [  0,   0,   0, -12,   0, -24],\n",
              "        [  0,   0,   0,   0,   1,   0]])"
            ]
          },
          "metadata": {
            "tags": []
          },
          "execution_count": 139
        }
      ]
    },
    {
      "cell_type": "code",
      "metadata": {
        "id": "-6wiz6erFRLf",
        "outputId": "61128d3c-e9df-429a-cf44-65624c46139e"
      },
      "source": [
        "# -(1/12)R2 -> R2\n",
        "\n",
        "C[2,:] *= -1/12  \n",
        "C"
      ],
      "execution_count": null,
      "outputs": [
        {
          "output_type": "execute_result",
          "data": {
            "text/plain": [
              "matrix([[ -1,   3, -10,  -4,   0,  -2],\n",
              "        [  0,   3,  -6,  -4,   0,  -5],\n",
              "        [  0,   0,   0,   1,   0,   2],\n",
              "        [  0,   0,   0,   0,   1,   0]])"
            ]
          },
          "metadata": {
            "tags": []
          },
          "execution_count": 140
        }
      ]
    },
    {
      "cell_type": "code",
      "metadata": {
        "id": "aFYBVz9zFRLf",
        "outputId": "60db78bc-0afd-45cd-feb5-a817e51c6b45"
      },
      "source": [
        "C[1,:] += 4*C[2] # 4 R2 + R1 -> R1\n",
        "C[0,:] += 4*C[2] # 4 R2 + R0 -> R0\n",
        "C"
      ],
      "execution_count": null,
      "outputs": [
        {
          "output_type": "execute_result",
          "data": {
            "text/plain": [
              "matrix([[ -1,   3, -10,   0,   0,   6],\n",
              "        [  0,   3,  -6,   0,   0,   3],\n",
              "        [  0,   0,   0,   1,   0,   2],\n",
              "        [  0,   0,   0,   0,   1,   0]])"
            ]
          },
          "metadata": {
            "tags": []
          },
          "execution_count": 141
        }
      ]
    },
    {
      "cell_type": "code",
      "metadata": {
        "id": "0Kt2Y9DeFRLf",
        "outputId": "e0ccc7c2-6293-485c-85a8-e09c65c84a94"
      },
      "source": [
        "# (1/3)R1 -> R1\n",
        "\n",
        "C[1,:] *= 1/3\n",
        "C"
      ],
      "execution_count": null,
      "outputs": [
        {
          "output_type": "execute_result",
          "data": {
            "text/plain": [
              "matrix([[ -1,   3, -10,   0,   0,   6],\n",
              "        [  0,   1,  -2,   0,   0,   1],\n",
              "        [  0,   0,   0,   1,   0,   2],\n",
              "        [  0,   0,   0,   0,   1,   0]])"
            ]
          },
          "metadata": {
            "tags": []
          },
          "execution_count": 142
        }
      ]
    },
    {
      "cell_type": "code",
      "metadata": {
        "id": "n6kqOobUFRLf",
        "outputId": "d7af72d6-f844-41db-bf34-9aa1f82db7c5"
      },
      "source": [
        "# R0 - 3R1 -> R1\n",
        "\n",
        "C[0,:] += -3*C[1]\n",
        "C"
      ],
      "execution_count": null,
      "outputs": [
        {
          "output_type": "execute_result",
          "data": {
            "text/plain": [
              "matrix([[-1,  0, -4,  0,  0,  3],\n",
              "        [ 0,  1, -2,  0,  0,  1],\n",
              "        [ 0,  0,  0,  1,  0,  2],\n",
              "        [ 0,  0,  0,  0,  1,  0]])"
            ]
          },
          "metadata": {
            "tags": []
          },
          "execution_count": 143
        }
      ]
    },
    {
      "cell_type": "code",
      "metadata": {
        "id": "bjZQU9JbFRLg",
        "scrolled": true,
        "outputId": "869a7671-fa5b-4a62-c9a4-33e5ef515a70"
      },
      "source": [
        "# -R0 -> R0\n",
        "\n",
        "C[0,:] *= -1\n",
        "C"
      ],
      "execution_count": null,
      "outputs": [
        {
          "output_type": "execute_result",
          "data": {
            "text/plain": [
              "matrix([[ 1,  0,  4,  0,  0, -3],\n",
              "        [ 0,  1, -2,  0,  0,  1],\n",
              "        [ 0,  0,  0,  1,  0,  2],\n",
              "        [ 0,  0,  0,  0,  1,  0]])"
            ]
          },
          "metadata": {
            "tags": []
          },
          "execution_count": 144
        }
      ]
    },
    {
      "cell_type": "markdown",
      "metadata": {
        "id": "PWzesY7EFRLg"
      },
      "source": [
        "La anterior matriz ya se encuentra reducida. El sistema de ecuaciones que le corresponde es el siguiente.\n",
        "\n",
        "$\\matrix{\n",
        "1a + 0b + 4c + 0d + 0e =-3\\\\\n",
        "0a + 1b - 2c + 0d + 0e = 1\\\\\n",
        "0a + 0b + 0c + 1d + 0e = 2\\\\\n",
        "0a + 0b + 0c + 0d + 1e = 0}$\n",
        "\n"
      ]
    },
    {
      "cell_type": "markdown",
      "metadata": {
        "id": "OD75VBR2FRLg"
      },
      "source": [
        "La única variable libre es $c=t$.\n",
        "\n",
        "Ahora despejamos las variables delanteras de abajo hacia arriba:\n",
        "\n",
        "$\\matrix{\n",
        "e=0\\\\\n",
        "d=2\\\\\n",
        "b=1+2t\\\\\n",
        "a=-3-4t}$\n",
        "\n",
        "Por lo tanto la solución general es\n",
        "\n",
        "$\\left( \\matrix{a \\\\ b \\\\ c \\\\ d \\\\ e} \\right)\n",
        "=\\left( \\matrix{-3 \\\\1  \\\\0  \\\\2  \\\\0   } \\right)\n",
        "+t\\left( \\matrix{-4 \\\\2  \\\\1  \\\\0  \\\\ 0  } \\right)\n",
        "$\n",
        "\n",
        "La solución particular trivial es\n",
        "$\\left( \\matrix{-3 \\\\1  \\\\0  \\\\2  \\\\0   } \\right)\n",
        "+0\\left( \\matrix{-4 \\\\2  \\\\1  \\\\0  \\\\ 0  } \\right)\n",
        "=\\left( \\matrix{-3 \\\\1  \\\\0  \\\\2  \\\\0   } \\right)\n",
        "$\n",
        "\n",
        "Como sólo hay un parámetro entonces sólo hay una solución particular básica \n",
        "$\\left( \\matrix{-3 \\\\1  \\\\0  \\\\2  \\\\0   } \\right)\n",
        "+1\\left( \\matrix{-4 \\\\2  \\\\1  \\\\0  \\\\ 0  } \\right)\n",
        "=\\left( \\matrix{-7 \\\\3  \\\\1  \\\\2  \\\\0   } \\right)\n",
        "$\n",
        "\n",
        "A continuación verificamos que ambas soluciones particulares cumplan con las 4 ecuaciones. Comenzamos probando la solución particular trivial."
      ]
    },
    {
      "cell_type": "code",
      "metadata": {
        "id": "P-iWMvgVFRLg",
        "outputId": "fc89b323-aaea-4be1-e951-be3dd827b139"
      },
      "source": [
        "(a, b, c, d, e)=(-3, 1, 0, 2, 0)\n",
        "(a, b, c, d, e)"
      ],
      "execution_count": null,
      "outputs": [
        {
          "output_type": "execute_result",
          "data": {
            "text/plain": [
              "(-3, 1, 0, 2, 0)"
            ]
          },
          "metadata": {
            "tags": []
          },
          "execution_count": 145
        }
      ]
    },
    {
      "cell_type": "code",
      "metadata": {
        "id": "B-3JF9kbFRLh",
        "outputId": "91256e80-b4d5-43b3-c04e-469c897aa31b"
      },
      "source": [
        "0*a + 3*b - 6*c - 4*d - 3*e ==-5\n"
      ],
      "execution_count": null,
      "outputs": [
        {
          "output_type": "execute_result",
          "data": {
            "text/plain": [
              "True"
            ]
          },
          "metadata": {
            "tags": []
          },
          "execution_count": 146
        }
      ]
    },
    {
      "cell_type": "code",
      "metadata": {
        "id": "-8Aa85iPFRLh",
        "outputId": "829ba15e-e869-440e-d012-ca075e437c53"
      },
      "source": [
        "-1*a + 3*b -10*c - 4*d - 4*e == -2 "
      ],
      "execution_count": null,
      "outputs": [
        {
          "output_type": "execute_result",
          "data": {
            "text/plain": [
              "True"
            ]
          },
          "metadata": {
            "tags": []
          },
          "execution_count": 147
        }
      ]
    },
    {
      "cell_type": "code",
      "metadata": {
        "id": "udyMyXwUFRLh",
        "outputId": "7348022d-79cf-40de-ccd3-506711628617"
      },
      "source": [
        "4*a - 9*b + 34*c + 0*d + 1*e == -21\n"
      ],
      "execution_count": null,
      "outputs": [
        {
          "output_type": "execute_result",
          "data": {
            "text/plain": [
              "True"
            ]
          },
          "metadata": {
            "tags": []
          },
          "execution_count": 148
        }
      ]
    },
    {
      "cell_type": "code",
      "metadata": {
        "id": "C3m0o0jAFRLh",
        "outputId": "edc341fb-59e4-48d0-c0eb-44606c1fc9ea"
      },
      "source": [
        "2*a - 6*b + 20*c + 2*d + 8*e == -8 "
      ],
      "execution_count": null,
      "outputs": [
        {
          "output_type": "execute_result",
          "data": {
            "text/plain": [
              "True"
            ]
          },
          "metadata": {
            "tags": []
          },
          "execution_count": 149
        }
      ]
    },
    {
      "cell_type": "markdown",
      "metadata": {
        "id": "iY3GI7LEFRLi"
      },
      "source": [
        "Ahora verificamos la solución particular básica"
      ]
    },
    {
      "cell_type": "code",
      "metadata": {
        "id": "36p0IMrMFRLi",
        "outputId": "9eb7056b-14b4-4da7-c2c1-25a944a01e3d"
      },
      "source": [
        "(a, b, c, d, e)=(-7, 3, 1, 2, 0 )\n",
        "(a, b, c, d, e)"
      ],
      "execution_count": null,
      "outputs": [
        {
          "output_type": "execute_result",
          "data": {
            "text/plain": [
              "(-7, 3, 1, 2, 0)"
            ]
          },
          "metadata": {
            "tags": []
          },
          "execution_count": 150
        }
      ]
    },
    {
      "cell_type": "code",
      "metadata": {
        "id": "FAjBPxZ5FRLi",
        "outputId": "887213f9-bbe6-4d0b-9854-d5e541397c0d"
      },
      "source": [
        "0*a + 3*b - 6*c - 4*d - 3*e ==-5\n"
      ],
      "execution_count": null,
      "outputs": [
        {
          "output_type": "execute_result",
          "data": {
            "text/plain": [
              "True"
            ]
          },
          "metadata": {
            "tags": []
          },
          "execution_count": 151
        }
      ]
    },
    {
      "cell_type": "code",
      "metadata": {
        "id": "mjxyVXJ3FRLj",
        "outputId": "318ba2b5-5ab9-4bd7-e11b-da6c7fbd9f9e"
      },
      "source": [
        "-1*a + 3*b -10*c - 4*d - 4*e == -2 "
      ],
      "execution_count": null,
      "outputs": [
        {
          "output_type": "execute_result",
          "data": {
            "text/plain": [
              "True"
            ]
          },
          "metadata": {
            "tags": []
          },
          "execution_count": 152
        }
      ]
    },
    {
      "cell_type": "code",
      "metadata": {
        "id": "S-yr3Ti6FRLj",
        "outputId": "efd37a94-b618-43c7-de25-066c514d3965"
      },
      "source": [
        "4*a - 9*b + 34*c + 0*d + 1*e == -21\n"
      ],
      "execution_count": null,
      "outputs": [
        {
          "output_type": "execute_result",
          "data": {
            "text/plain": [
              "True"
            ]
          },
          "metadata": {
            "tags": []
          },
          "execution_count": 153
        }
      ]
    },
    {
      "cell_type": "code",
      "metadata": {
        "id": "6gwvZcK6FRLj",
        "outputId": "f7666f0e-3562-4bdc-f4ad-8fc3b0bd91dd"
      },
      "source": [
        "2*a - 6*b + 20*c + 2*d + 8*e == -8 "
      ],
      "execution_count": null,
      "outputs": [
        {
          "output_type": "execute_result",
          "data": {
            "text/plain": [
              "True"
            ]
          },
          "metadata": {
            "tags": []
          },
          "execution_count": 154
        }
      ]
    },
    {
      "cell_type": "markdown",
      "metadata": {
        "id": "1_FkXcLgFRLj"
      },
      "source": [
        "Luego de verificar los resultados escribimos la respuesta del ejercicio."
      ]
    },
    {
      "cell_type": "code",
      "metadata": {
        "id": "wOFEzn0gFRLk",
        "outputId": "f91112d7-4b22-477a-bf23-42dc92bd6f45"
      },
      "source": [
        "respuesta_ejemplo=(\n",
        "    (-3, 1, 0, 2, 0),    \n",
        "    (-7, 3, 1, 2, 0)\n",
        ")\n",
        "\n",
        "respuesta_ejemplo"
      ],
      "execution_count": null,
      "outputs": [
        {
          "output_type": "execute_result",
          "data": {
            "text/plain": [
              "((-3, 1, 0, 2, 0), (-7, 3, 1, 2, 0))"
            ]
          },
          "metadata": {
            "tags": []
          },
          "execution_count": 155
        }
      ]
    },
    {
      "cell_type": "markdown",
      "metadata": {
        "id": "90s5FDEsFRLk"
      },
      "source": [
        "Recuerde que\n",
        "# Si debe cambiar una operación elemental, antes de ejecutarla debe <u>ejecutar TODAS las celdas ANTERIORES</u>."
      ]
    },
    {
      "cell_type": "code",
      "metadata": {
        "id": "t06HbkASFRLk"
      },
      "source": [
        "nombre= '  escriba aquí su nombre   '\n",
        "código=0    # reemplazar el cero por su cógdio"
      ],
      "execution_count": null,
      "outputs": []
    },
    {
      "cell_type": "markdown",
      "metadata": {
        "id": "CgVyAAn4FRLk"
      },
      "source": [
        "## Ejercicio\n",
        "\n",
        "Utilizando el algoritmo de Gauss, encuentre:\n",
        "* la solución general del siguiente sistema de ecuaciones. \n",
        "* En la variable `respuesta_ejercicio` asigne una tupla con la tupla de la solución particular trivial y las tuplas de las soluciones particulares básicas, si existen, como se realizó en el taller de sistemas de ecuaciones escalón.\n",
        "\n",
        "$\\matrix{\n",
        "-2x_1 + ax_2 - bx_3 - (a+1)x_4 - (b-1)x_5 = -5\\\\\n",
        "0x_1 + 0x_2 - 10x_3 - 4x_4 - 4x_5 = -2\\\\\n",
        "6x_1 - 9x_2 + 34x_3 + 0x_4 + 1x_5 = -21}$\n",
        "\n",
        "Recuerde que $a$ es el último dígito de su código y que $b$ es el penúltimo dígito de su código."
      ]
    },
    {
      "cell_type": "code",
      "metadata": {
        "id": "KHTy3pnfFRLk"
      },
      "source": [
        "respuesta_ejercicio=(\n",
        ")"
      ],
      "execution_count": null,
      "outputs": []
    }
  ]
}