{
  "nbformat": 4,
  "nbformat_minor": 0,
  "metadata": {
    "colab": {
      "name": "Clase05_Repr2_MatrizExt_2020_mayo_6.ipynb",
      "provenance": [],
      "include_colab_link": true
    },
    "kernelspec": {
      "display_name": "Python 3",
      "language": "python",
      "name": "python3"
    },
    "language_info": {
      "codemirror_mode": {
        "name": "ipython",
        "version": 3
      },
      "file_extension": ".py",
      "mimetype": "text/x-python",
      "name": "python",
      "nbconvert_exporter": "python",
      "pygments_lexer": "ipython3",
      "version": "3.9.2"
    }
  },
  "cells": [
    {
      "cell_type": "markdown",
      "metadata": {
        "id": "view-in-github",
        "colab_type": "text"
      },
      "source": [
        "<a href=\"https://colab.research.google.com/github/GerardoMunoz/PresentacionesAlgebraLineal/blob/main/AL06_OpElem.ipynb\" target=\"_parent\"><img src=\"https://colab.research.google.com/assets/colab-badge.svg\" alt=\"Open In Colab\"/></a>"
      ]
    },
    {
      "cell_type": "markdown",
      "metadata": {
        "id": "qEPYsXIbBss4"
      },
      "source": [
        "Lo invito a ver est cuaderno desde Colab o descarguelo a su computador. "
      ]
    },
    {
      "cell_type": "markdown",
      "metadata": {
        "id": "VWLOFt_DFRLX"
      },
      "source": [
        "# Notación\n",
        "Así como durante el <u>primer</u> año de vida tenemos <u>cero</u> años. También en Python y otros lenguajes de programación, el primer renglón de las matrices es el renglón cero. \n",
        "\n",
        "$$\\begin{matrix}\\text{renglón 0}\\\\\\text{renglón 1}\\\\\\text{renglón 2}\\end{matrix}\\begin{bmatrix}a&b&c&:&x\\\\d&e&f&:&y\\\\g&h&i&:&z\\end{bmatrix}$$\n",
        "\n",
        "\n",
        "Sin embargo, en otros lenguajes como Matlab, llaman el <u>primer</u> renglón, el renglón <u>uno</u>. Esto último coincide con la notación de la mayoría de los libros de álgebra lineal.\n",
        "\n",
        "$$\\begin{matrix}\\text{renglón 1}\\\\\\text{renglón 2}\\\\\\text{renglón 3}\\end{matrix}\\begin{bmatrix}a&b&c&:&x\\\\d&e&f&:&y\\\\g&h&i&:&z\\end{bmatrix}$$\n",
        "\n",
        "En este curso usaremos ambas notaciones. Si hay duda en que, si el primer renglón es el renglón cero o el renglón uno, lo invito a que pregunte para evitar confusiones.\n",
        "En particular para la clase de HOY, como usaremos Python, llamaremos el <u>primer</u> renglón el renglón <u>cero</u>.\n",
        "\n",
        "$$\\begin{matrix}\\text{renglón 0}\\\\\\text{renglón 1}\\\\\\text{renglón 2}\\end{matrix}\\begin{bmatrix}a&b&c&:&x\\\\d&e&f&:&y\\\\g&h&i&:&z\\end{bmatrix}$$\n",
        "\n",
        "\n",
        "\n",
        "\n",
        "\n",
        "# Operaciones elementales\n",
        "[Nakos, Sec. 1.1]\n",
        "\n",
        "En esta clase veremos cómo encontrar la solución de sistemas de ecuaciones que no cumplen con E1, E2, E3 o E4.\n",
        "\n",
        "Para esto definiremos las siguientes  __operaciones elementales__  entre los renglones de una matriz extendida, las cuales permiten modificar la matriz para que cumplan las propiedades E1, E2, E3 y E4. Pero lo más importante es que <u> no alteran la solución</u> del sistema de ecuaciones.\n",
        "\n",
        "* **Intercambio de renglones**. $r_i \\leftrightarrow r_j$\n",
        "\n",
        "$$\\begin{bmatrix}a&b&c&:&x\\\\d&e&f&:&y\\\\g&h&i&:&z\\end{bmatrix}r_0 \\leftrightarrow r_1\\begin{bmatrix}d&e&f&:&y\\\\a&b&c&:&x\\\\g&h&i&:&z\\end{bmatrix}$$\n",
        "\n",
        "El intercambio de renglones no afecta la solución del sistema de ecuaciones ya que el orden de las ecuaciones no altera la solución. \n",
        "\n",
        "* **Multiplica un renglón por un escalar** (diferente de cero). $kr_i \\rightarrow r_i$ \n",
        "$$\\begin{bmatrix}a&b&c&:&x\\\\d&e&f&:&y\\\\g&h&i&:&z\\end{bmatrix}  3r_2 \\rightarrow r_2 \\begin{bmatrix}a&b&c&:&x\\\\d&e&f&:&y\\\\3g&3h&3i&:&3z\\end{bmatrix}$$\n",
        "\n",
        "Al multiplicar un renglón por una constante no se altera la solución ya que la respectiva ecuación se multiplica a ambos lados por la misma constante.\n",
        "\n",
        "* **Suma un múltiplo (no nulo) de un renglón a otro**. $kr_j + 1r_i \\rightarrow r_i$ \n",
        "\n",
        "Observe que el renglón de destino ($r_i$) es multiplicado por 1, mientras que el otro renglón ($r_j$) sí es multiplicado por $k$.\n",
        "\n",
        "$$\\begin{bmatrix}a&b&c&:&x\\\\d&e&f&:&y\\\\g&h&i&:&z\\end{bmatrix} 3r_2 + r_1  \\rightarrow r_1$$ $$\\begin{bmatrix}a&b&c&:&x\\\\3g+d&3h+e&3i+f&:&3z+y\\\\g&h&i&:&z\\end{bmatrix}$$\n",
        "\n",
        "En las siguientes páginas el profesor Von Schmohawk visualiza esta operación en  $\\mathbb{R}^2$ y en $\\mathbb{R}^3$. \n",
        "\n",
        "* https://www.youtube.com/watch?v=fGq07lDUb9k&list=PL20023FA07684B937&index=38\n",
        "* https://www.youtube.com/watch?v=cB2t5VIVHZI&list=PL20023FA07684B937&index=48\n",
        "\n",
        "Más adelante, en nuestro curso, veremos el tema de la visualización. \n",
        "\n",
        "# Una operación no tan elemental\n",
        "\n",
        "La operación $k_jr_j + k_ir_i \\rightarrow r_i$ corresponde a realizar:\n",
        "* primero  $k_ir_i \\rightarrow r_i$, \n",
        "* luego $k_jr_j + r_i \\rightarrow r_i$. \n",
        "\n",
        "$$\\begin{bmatrix}a&b&c&:&x\\\\d&e&f&:&y\\\\g&h&i&:&z\\end{bmatrix} 3r_2 + 4r_1  \\rightarrow r_1$$ $$\\begin{bmatrix}a&b&c&:&x\\\\3g+4d&3h+4e&3i+4f&:&3z+4y\\\\g&h&i&:&z\\end{bmatrix}$$\n",
        "\n",
        "# Equivalencia de matrices\n",
        "Dos matrices se dice que son __equivalentes__ si es posible pasar de una a la otra por medio de operaciones elementales y se denota $A \\sim B$.  \n",
        "\n"
      ]
    },
    {
      "cell_type": "markdown",
      "metadata": {
        "id": "k1jYuSTKFRLN"
      },
      "source": [
        "## Uso de Python para hacer operaciones matriciales \n",
        "Antes de entrar en materia es conveniente saber que en Python el símbolo numeral `#` es usado para escribir comentarios. \n",
        "\n",
        "\n",
        "\n"
      ]
    },
    {
      "cell_type": "code",
      "metadata": {
        "colab": {
          "base_uri": "https://localhost:8080/"
        },
        "id": "gPUjlaWKpejB",
        "outputId": "1c624719-146a-420b-d154-29eb7eb876c6"
      },
      "source": [
        "# Esto es un cometario de Python y por lo tanto no se ejecuta\n",
        "a=5\n",
        "\n",
        "a"
      ],
      "execution_count": 154,
      "outputs": [
        {
          "output_type": "execute_result",
          "data": {
            "text/plain": [
              "5"
            ]
          },
          "metadata": {
            "tags": []
          },
          "execution_count": 154
        }
      ]
    },
    {
      "cell_type": "markdown",
      "metadata": {
        "id": "RTZq5a6QpfHK"
      },
      "source": [
        "A continuación, usaremos la librería `sympy` de Python, que permite realizar operaciones matriciales."
      ]
    },
    {
      "cell_type": "code",
      "metadata": {
        "id": "C4acJORQFRLO",
        "colab": {
          "base_uri": "https://localhost:8080/",
          "height": 99
        },
        "outputId": "4ddde5f0-8ddd-49be-9325-c6cb733d2cab"
      },
      "source": [
        "import sympy as sp # Se llama la librería `sympy` con el alias `sp`.\n",
        "\n",
        "# se define en la matriz `A`\n",
        "\n",
        "A = sp.Matrix([\n",
        "    [0, 3, -6, ],\n",
        "    [3, 3, -10],\n",
        "    [4, -9, 34],\n",
        "    [2, -5, 20]\n",
        "])\n",
        "\n",
        "A"
      ],
      "execution_count": 155,
      "outputs": [
        {
          "output_type": "execute_result",
          "data": {
            "text/latex": "$\\displaystyle \\left[\\begin{matrix}0 & 3 & -6\\\\3 & 3 & -10\\\\4 & -9 & 34\\\\2 & -5 & 20\\end{matrix}\\right]$",
            "text/plain": [
              "Matrix([\n",
              "[0,  3,  -6],\n",
              "[3,  3, -10],\n",
              "[4, -9,  34],\n",
              "[2, -5,  20]])"
            ]
          },
          "metadata": {
            "tags": []
          },
          "execution_count": 155
        }
      ]
    },
    {
      "cell_type": "code",
      "metadata": {
        "id": "CmRbT8OHFRLQ",
        "colab": {
          "base_uri": "https://localhost:8080/",
          "height": 37
        },
        "outputId": "302a93ce-9908-484b-90b0-2a349e153485"
      },
      "source": [
        "# Obtener un elemento de la matriz\n",
        "# Renglón 0 y columna 0\n",
        "# Recuerde que comienza desde cero\n",
        "\n",
        "A[0,0]"
      ],
      "execution_count": 156,
      "outputs": [
        {
          "output_type": "execute_result",
          "data": {
            "text/latex": "$\\displaystyle 0$",
            "text/plain": [
              "0"
            ]
          },
          "metadata": {
            "tags": []
          },
          "execution_count": 156
        }
      ]
    },
    {
      "cell_type": "code",
      "metadata": {
        "id": "M11B2HfeFRLQ",
        "colab": {
          "base_uri": "https://localhost:8080/",
          "height": 37
        },
        "outputId": "c37b4ba1-cbc5-4e01-bb34-82e1d0c9814c"
      },
      "source": [
        "# Obtener un elemento de la matriz\n",
        "# Renglón 1 y columna 2\n",
        "# Recuerde que comienza desde cero\n",
        "\n",
        "A[1,2]"
      ],
      "execution_count": 157,
      "outputs": [
        {
          "output_type": "execute_result",
          "data": {
            "text/latex": "$\\displaystyle -10$",
            "text/plain": [
              "-10"
            ]
          },
          "metadata": {
            "tags": []
          },
          "execution_count": 157
        }
      ]
    },
    {
      "cell_type": "code",
      "metadata": {
        "id": "wRjiCFgJFRLQ",
        "colab": {
          "base_uri": "https://localhost:8080/",
          "height": 99
        },
        "outputId": "2abe3b0d-d804-4f23-d911-9db8c9cd7cca"
      },
      "source": [
        "# Obtener la columna 2 de la matriz\n",
        "\n",
        "A[:,2]"
      ],
      "execution_count": 158,
      "outputs": [
        {
          "output_type": "execute_result",
          "data": {
            "text/latex": "$\\displaystyle \\left[\\begin{matrix}-6\\\\-10\\\\34\\\\20\\end{matrix}\\right]$",
            "text/plain": [
              "Matrix([\n",
              "[ -6],\n",
              "[-10],\n",
              "[ 34],\n",
              "[ 20]])"
            ]
          },
          "metadata": {
            "tags": []
          },
          "execution_count": 158
        }
      ]
    },
    {
      "cell_type": "code",
      "metadata": {
        "id": "TE3DRHfYFRLR",
        "colab": {
          "base_uri": "https://localhost:8080/",
          "height": 38
        },
        "outputId": "abe1892b-4893-4416-9812-694abbd705f3"
      },
      "source": [
        "# Obtener el renglón 1 de la matriz\n",
        "\n",
        "A[1,:]"
      ],
      "execution_count": 159,
      "outputs": [
        {
          "output_type": "execute_result",
          "data": {
            "text/latex": "$\\displaystyle \\left[\\begin{matrix}3 & 3 & -10\\end{matrix}\\right]$",
            "text/plain": [
              "Matrix([[3, 3, -10]])"
            ]
          },
          "metadata": {
            "tags": []
          },
          "execution_count": 159
        }
      ]
    },
    {
      "cell_type": "code",
      "metadata": {
        "id": "oMak7SaSFRLR",
        "colab": {
          "base_uri": "https://localhost:8080/",
          "height": 58
        },
        "outputId": "77118475-4fa2-4fa1-e7a5-a179cb3c27f3"
      },
      "source": [
        "# Obtener los renglones 0 y 2\n",
        "\n",
        "A[[0,2],:]"
      ],
      "execution_count": 160,
      "outputs": [
        {
          "output_type": "execute_result",
          "data": {
            "text/latex": "$\\displaystyle \\left[\\begin{matrix}0 & 3 & -6\\\\4 & -9 & 34\\end{matrix}\\right]$",
            "text/plain": [
              "Matrix([\n",
              "[0,  3, -6],\n",
              "[4, -9, 34]])"
            ]
          },
          "metadata": {
            "tags": []
          },
          "execution_count": 160
        }
      ]
    },
    {
      "cell_type": "code",
      "metadata": {
        "id": "IU8gTJmtFRLS",
        "colab": {
          "base_uri": "https://localhost:8080/",
          "height": 58
        },
        "outputId": "b5314bf0-e595-4c07-bf99-76ad2356efb6"
      },
      "source": [
        "# Obtener primero el renglón 2 y después el renglón 0\n",
        "\n",
        "A[[2,0],:]"
      ],
      "execution_count": 161,
      "outputs": [
        {
          "output_type": "execute_result",
          "data": {
            "text/latex": "$\\displaystyle \\left[\\begin{matrix}4 & -9 & 34\\\\0 & 3 & -6\\end{matrix}\\right]$",
            "text/plain": [
              "Matrix([\n",
              "[4, -9, 34],\n",
              "[0,  3, -6]])"
            ]
          },
          "metadata": {
            "tags": []
          },
          "execution_count": 161
        }
      ]
    },
    {
      "cell_type": "code",
      "metadata": {
        "id": "fhipsw3aFRLY",
        "colab": {
          "base_uri": "https://localhost:8080/",
          "height": 99
        },
        "outputId": "9157f54e-55bb-490c-eba9-0558746675ed"
      },
      "source": [
        "# Copia la matriz en otra variable. \n",
        "# Evita que las dos variables apunten a la misma matriz.\n",
        "\n",
        "M = A[:,:]\n",
        "\n",
        "M"
      ],
      "execution_count": 162,
      "outputs": [
        {
          "output_type": "execute_result",
          "data": {
            "text/latex": "$\\displaystyle \\left[\\begin{matrix}0 & 3 & -6\\\\3 & 3 & -10\\\\4 & -9 & 34\\\\2 & -5 & 20\\end{matrix}\\right]$",
            "text/plain": [
              "Matrix([\n",
              "[0,  3,  -6],\n",
              "[3,  3, -10],\n",
              "[4, -9,  34],\n",
              "[2, -5,  20]])"
            ]
          },
          "metadata": {
            "tags": []
          },
          "execution_count": 162
        }
      ]
    },
    {
      "cell_type": "code",
      "metadata": {
        "id": "KkAX-ostFRLZ",
        "colab": {
          "base_uri": "https://localhost:8080/",
          "height": 99
        },
        "outputId": "893966e5-bb6a-414b-f9e0-48df01d47c32"
      },
      "source": [
        "# Intercambiar el renglón 0 con el renglón 3, \n",
        "# R0 <-> R3\n",
        "\n",
        "M.row_swap(0,3)\n",
        "M"
      ],
      "execution_count": 163,
      "outputs": [
        {
          "output_type": "execute_result",
          "data": {
            "text/latex": "$\\displaystyle \\left[\\begin{matrix}2 & -5 & 20\\\\3 & 3 & -10\\\\4 & -9 & 34\\\\0 & 3 & -6\\end{matrix}\\right]$",
            "text/plain": [
              "Matrix([\n",
              "[2, -5,  20],\n",
              "[3,  3, -10],\n",
              "[4, -9,  34],\n",
              "[0,  3,  -6]])"
            ]
          },
          "metadata": {
            "tags": []
          },
          "execution_count": 163
        }
      ]
    },
    {
      "cell_type": "code",
      "metadata": {
        "id": "xC7VHbq97GB3",
        "outputId": "86febc14-a1aa-4e2c-ee22-2862b577d1fa",
        "colab": {
          "base_uri": "https://localhost:8080/",
          "height": 99
        }
      },
      "source": [
        "A"
      ],
      "execution_count": 164,
      "outputs": [
        {
          "output_type": "execute_result",
          "data": {
            "text/latex": "$\\displaystyle \\left[\\begin{matrix}0 & 3 & -6\\\\3 & 3 & -10\\\\4 & -9 & 34\\\\2 & -5 & 20\\end{matrix}\\right]$",
            "text/plain": [
              "Matrix([\n",
              "[0,  3,  -6],\n",
              "[3,  3, -10],\n",
              "[4, -9,  34],\n",
              "[2, -5,  20]])"
            ]
          },
          "metadata": {
            "tags": []
          },
          "execution_count": 164
        }
      ]
    },
    {
      "cell_type": "code",
      "metadata": {
        "id": "fpyX9FLt7OEm",
        "outputId": "eb50d63d-189b-4113-f531-8ec3f663a8bf",
        "colab": {
          "base_uri": "https://localhost:8080/",
          "height": 99
        }
      },
      "source": [
        "N=A[:,:]\n",
        "\n",
        "N"
      ],
      "execution_count": 165,
      "outputs": [
        {
          "output_type": "execute_result",
          "data": {
            "text/latex": "$\\displaystyle \\left[\\begin{matrix}0 & 3 & -6\\\\3 & 3 & -10\\\\4 & -9 & 34\\\\2 & -5 & 20\\end{matrix}\\right]$",
            "text/plain": [
              "Matrix([\n",
              "[0,  3,  -6],\n",
              "[3,  3, -10],\n",
              "[4, -9,  34],\n",
              "[2, -5,  20]])"
            ]
          },
          "metadata": {
            "tags": []
          },
          "execution_count": 165
        }
      ]
    },
    {
      "cell_type": "code",
      "metadata": {
        "id": "cy3QhPoB7N0y",
        "outputId": "2ca5e767-7194-4177-c041-b13b8cc85985",
        "colab": {
          "base_uri": "https://localhost:8080/",
          "height": 99
        }
      },
      "source": [
        "N.row_swap(0,3)\n",
        "\n",
        "N"
      ],
      "execution_count": 166,
      "outputs": [
        {
          "output_type": "execute_result",
          "data": {
            "text/latex": "$\\displaystyle \\left[\\begin{matrix}2 & -5 & 20\\\\3 & 3 & -10\\\\4 & -9 & 34\\\\0 & 3 & -6\\end{matrix}\\right]$",
            "text/plain": [
              "Matrix([\n",
              "[2, -5,  20],\n",
              "[3,  3, -10],\n",
              "[4, -9,  34],\n",
              "[0,  3,  -6]])"
            ]
          },
          "metadata": {
            "tags": []
          },
          "execution_count": 166
        }
      ]
    },
    {
      "cell_type": "code",
      "metadata": {
        "id": "jxRyxm3b7NoM",
        "outputId": "96695822-326b-4c56-9508-a2b3a6bb814b",
        "colab": {
          "base_uri": "https://localhost:8080/",
          "height": 38
        }
      },
      "source": [
        "N[0,:]*2"
      ],
      "execution_count": 167,
      "outputs": [
        {
          "output_type": "execute_result",
          "data": {
            "text/latex": "$\\displaystyle \\left[\\begin{matrix}4 & -10 & 40\\end{matrix}\\right]$",
            "text/plain": [
              "Matrix([[4, -10, 40]])"
            ]
          },
          "metadata": {
            "tags": []
          },
          "execution_count": 167
        }
      ]
    },
    {
      "cell_type": "code",
      "metadata": {
        "id": "_80bPMsH7NfE",
        "outputId": "8297229c-dfe8-4848-d440-08b3198f5818",
        "colab": {
          "base_uri": "https://localhost:8080/",
          "height": 38
        }
      },
      "source": [
        "N[2,:]"
      ],
      "execution_count": 168,
      "outputs": [
        {
          "output_type": "execute_result",
          "data": {
            "text/latex": "$\\displaystyle \\left[\\begin{matrix}4 & -9 & 34\\end{matrix}\\right]$",
            "text/plain": [
              "Matrix([[4, -9, 34]])"
            ]
          },
          "metadata": {
            "tags": []
          },
          "execution_count": 168
        }
      ]
    },
    {
      "cell_type": "code",
      "metadata": {
        "id": "MfcT3AVe7NYR",
        "outputId": "1bdfe74c-59a6-484f-b6d2-9d497b92d330",
        "colab": {
          "base_uri": "https://localhost:8080/",
          "height": 38
        }
      },
      "source": [
        "N[2,:] - N[0,:]*2"
      ],
      "execution_count": 169,
      "outputs": [
        {
          "output_type": "execute_result",
          "data": {
            "text/latex": "$\\displaystyle \\left[\\begin{matrix}0 & 1 & -6\\end{matrix}\\right]$",
            "text/plain": [
              "Matrix([[0, 1, -6]])"
            ]
          },
          "metadata": {
            "tags": []
          },
          "execution_count": 169
        }
      ]
    },
    {
      "cell_type": "code",
      "metadata": {
        "id": "Ya2mKw2E7NIV",
        "outputId": "518506e1-db49-48a8-9ba2-fb7d03505a4c",
        "colab": {
          "base_uri": "https://localhost:8080/",
          "height": 99
        }
      },
      "source": [
        "N[2,:]=N[2,:] - N[0,:]*2\n",
        "\n",
        "N"
      ],
      "execution_count": 170,
      "outputs": [
        {
          "output_type": "execute_result",
          "data": {
            "text/latex": "$\\displaystyle \\left[\\begin{matrix}2 & -5 & 20\\\\3 & 3 & -10\\\\0 & 1 & -6\\\\0 & 3 & -6\\end{matrix}\\right]$",
            "text/plain": [
              "Matrix([\n",
              "[2, -5,  20],\n",
              "[3,  3, -10],\n",
              "[0,  1,  -6],\n",
              "[0,  3,  -6]])"
            ]
          },
          "metadata": {
            "tags": []
          },
          "execution_count": 170
        }
      ]
    },
    {
      "cell_type": "code",
      "metadata": {
        "id": "IyD65bnfFRLZ",
        "colab": {
          "base_uri": "https://localhost:8080/",
          "height": 99
        },
        "outputId": "ccf84671-118c-4211-a179-e4211afcb291"
      },
      "source": [
        "# Resta 2 veces el renglón 0 al renglón 2, \n",
        "# -2R0 + R2 -> R2\n",
        "\n",
        "M[2,:] -= M[0,:]*2    #  M[2,:] = M[2,:] - M[0,:]*2\n",
        "M"
      ],
      "execution_count": 171,
      "outputs": [
        {
          "output_type": "execute_result",
          "data": {
            "text/latex": "$\\displaystyle \\left[\\begin{matrix}2 & -5 & 20\\\\3 & 3 & -10\\\\0 & 1 & -6\\\\0 & 3 & -6\\end{matrix}\\right]$",
            "text/plain": [
              "Matrix([\n",
              "[2, -5,  20],\n",
              "[3,  3, -10],\n",
              "[0,  1,  -6],\n",
              "[0,  3,  -6]])"
            ]
          },
          "metadata": {
            "tags": []
          },
          "execution_count": 171
        }
      ]
    },
    {
      "cell_type": "code",
      "metadata": {
        "id": "Pba3nceS9FAP",
        "outputId": "a4e7fb3b-77d8-4e00-ad74-198352c906c0",
        "colab": {
          "base_uri": "https://localhost:8080/",
          "height": 99
        }
      },
      "source": [
        "N"
      ],
      "execution_count": 172,
      "outputs": [
        {
          "output_type": "execute_result",
          "data": {
            "text/latex": "$\\displaystyle \\left[\\begin{matrix}2 & -5 & 20\\\\3 & 3 & -10\\\\0 & 1 & -6\\\\0 & 3 & -6\\end{matrix}\\right]$",
            "text/plain": [
              "Matrix([\n",
              "[2, -5,  20],\n",
              "[3,  3, -10],\n",
              "[0,  1,  -6],\n",
              "[0,  3,  -6]])"
            ]
          },
          "metadata": {
            "tags": []
          },
          "execution_count": 172
        }
      ]
    },
    {
      "cell_type": "code",
      "metadata": {
        "id": "5CDEyqqr9JqK",
        "outputId": "d54182ac-59fe-4cfc-a540-5a861ca4d85a",
        "colab": {
          "base_uri": "https://localhost:8080/",
          "height": 38
        }
      },
      "source": [
        "N[0,:]"
      ],
      "execution_count": 173,
      "outputs": [
        {
          "output_type": "execute_result",
          "data": {
            "text/latex": "$\\displaystyle \\left[\\begin{matrix}2 & -5 & 20\\end{matrix}\\right]$",
            "text/plain": [
              "Matrix([[2, -5, 20]])"
            ]
          },
          "metadata": {
            "tags": []
          },
          "execution_count": 173
        }
      ]
    },
    {
      "cell_type": "code",
      "metadata": {
        "id": "HhhOPN3C9Jxf",
        "outputId": "8a6e955b-9d1c-4633-a577-facbc9483d06",
        "colab": {
          "base_uri": "https://localhost:8080/",
          "height": 38
        }
      },
      "source": [
        "3*N[0,:]"
      ],
      "execution_count": 174,
      "outputs": [
        {
          "output_type": "execute_result",
          "data": {
            "text/latex": "$\\displaystyle \\left[\\begin{matrix}6 & -15 & 60\\end{matrix}\\right]$",
            "text/plain": [
              "Matrix([[6, -15, 60]])"
            ]
          },
          "metadata": {
            "tags": []
          },
          "execution_count": 174
        }
      ]
    },
    {
      "cell_type": "code",
      "metadata": {
        "id": "SwUqgvnD9J48",
        "outputId": "fb243fde-a355-4084-a01e-8877be7bb7bf",
        "colab": {
          "base_uri": "https://localhost:8080/",
          "height": 38
        }
      },
      "source": [
        "N[1,:]"
      ],
      "execution_count": 175,
      "outputs": [
        {
          "output_type": "execute_result",
          "data": {
            "text/latex": "$\\displaystyle \\left[\\begin{matrix}3 & 3 & -10\\end{matrix}\\right]$",
            "text/plain": [
              "Matrix([[3, 3, -10]])"
            ]
          },
          "metadata": {
            "tags": []
          },
          "execution_count": 175
        }
      ]
    },
    {
      "cell_type": "code",
      "metadata": {
        "id": "As42VmXe9KAB",
        "outputId": "43989e15-fe32-492f-9ad2-9f28fa9ce847",
        "colab": {
          "base_uri": "https://localhost:8080/",
          "height": 38
        }
      },
      "source": [
        "N[1,:]*2"
      ],
      "execution_count": 176,
      "outputs": [
        {
          "output_type": "execute_result",
          "data": {
            "text/latex": "$\\displaystyle \\left[\\begin{matrix}6 & 6 & -20\\end{matrix}\\right]$",
            "text/plain": [
              "Matrix([[6, 6, -20]])"
            ]
          },
          "metadata": {
            "tags": []
          },
          "execution_count": 176
        }
      ]
    },
    {
      "cell_type": "code",
      "metadata": {
        "id": "5dMd1KCM9KFo",
        "outputId": "8cc51f53-8fc3-4788-d698-78a45f232053",
        "colab": {
          "base_uri": "https://localhost:8080/",
          "height": 38
        }
      },
      "source": [
        "N[1,:]*2 - 3*N[0,:]"
      ],
      "execution_count": 177,
      "outputs": [
        {
          "output_type": "execute_result",
          "data": {
            "text/latex": "$\\displaystyle \\left[\\begin{matrix}0 & 21 & -80\\end{matrix}\\right]$",
            "text/plain": [
              "Matrix([[0, 21, -80]])"
            ]
          },
          "metadata": {
            "tags": []
          },
          "execution_count": 177
        }
      ]
    },
    {
      "cell_type": "code",
      "metadata": {
        "id": "Wtv5vzFa9KLC",
        "outputId": "31a43bb6-8c30-4d71-e275-dfcde561288f",
        "colab": {
          "base_uri": "https://localhost:8080/",
          "height": 38
        }
      },
      "source": [
        "3*N[0,:] - N[1,:]*2"
      ],
      "execution_count": 178,
      "outputs": [
        {
          "output_type": "execute_result",
          "data": {
            "text/latex": "$\\displaystyle \\left[\\begin{matrix}0 & -21 & 80\\end{matrix}\\right]$",
            "text/plain": [
              "Matrix([[0, -21, 80]])"
            ]
          },
          "metadata": {
            "tags": []
          },
          "execution_count": 178
        }
      ]
    },
    {
      "cell_type": "code",
      "metadata": {
        "id": "xJD0RAw0-ijx",
        "outputId": "dec24186-decb-433f-f720-a66d666f282f",
        "colab": {
          "base_uri": "https://localhost:8080/",
          "height": 99
        }
      },
      "source": [
        "N[1,:] = N[1,:]*2 + (-3)*N[0,:]\n",
        "\n",
        "N"
      ],
      "execution_count": 179,
      "outputs": [
        {
          "output_type": "execute_result",
          "data": {
            "text/latex": "$\\displaystyle \\left[\\begin{matrix}2 & -5 & 20\\\\0 & 21 & -80\\\\0 & 1 & -6\\\\0 & 3 & -6\\end{matrix}\\right]$",
            "text/plain": [
              "Matrix([\n",
              "[2, -5,  20],\n",
              "[0, 21, -80],\n",
              "[0,  1,  -6],\n",
              "[0,  3,  -6]])"
            ]
          },
          "metadata": {
            "tags": []
          },
          "execution_count": 179
        }
      ]
    },
    {
      "cell_type": "code",
      "metadata": {
        "colab": {
          "base_uri": "https://localhost:8080/",
          "height": 99
        },
        "id": "2WqjH_jvrozs",
        "outputId": "74585f2c-3bb7-41d4-9297-3115275230b9"
      },
      "source": [
        "# La operación que no es tan elemental, \n",
        "#     es muy útil para evitar fraccionarios\n",
        "\n",
        "# Resta 3 veces el renglón 0 a 2 veces renglón 1, \n",
        "# -3R0 + 2R1 -> R1\n",
        "\n",
        "M[1,:] = M[1,:]*2 - M[0,:]*3   #Esta operación no se puede contraer\n",
        "M"
      ],
      "execution_count": 180,
      "outputs": [
        {
          "output_type": "execute_result",
          "data": {
            "text/latex": "$\\displaystyle \\left[\\begin{matrix}2 & -5 & 20\\\\0 & 21 & -80\\\\0 & 1 & -6\\\\0 & 3 & -6\\end{matrix}\\right]$",
            "text/plain": [
              "Matrix([\n",
              "[2, -5,  20],\n",
              "[0, 21, -80],\n",
              "[0,  1,  -6],\n",
              "[0,  3,  -6]])"
            ]
          },
          "metadata": {
            "tags": []
          },
          "execution_count": 180
        }
      ]
    },
    {
      "cell_type": "code",
      "metadata": {
        "id": "43iQusdYFRLZ",
        "colab": {
          "base_uri": "https://localhost:8080/",
          "height": 99
        },
        "outputId": "da8596a9-f5ab-4b7b-f65e-769e930aca4e"
      },
      "source": [
        "# Multiplicar el renglón 0  por un 1/2, \n",
        "# (1/2)R0 -> R0\n",
        "\n",
        "M[0,:] = 1/2 *M[0,:]   #Si se contrae cambia las fracciones por decimales\n",
        "M"
      ],
      "execution_count": 181,
      "outputs": [
        {
          "output_type": "execute_result",
          "data": {
            "text/latex": "$\\displaystyle \\left[\\begin{matrix}1.0 & -2.5 & 10.0\\\\0 & 21 & -80\\\\0 & 1 & -6\\\\0 & 3 & -6\\end{matrix}\\right]$",
            "text/plain": [
              "Matrix([\n",
              "[1.0, -2.5, 10.0],\n",
              "[  0,   21,  -80],\n",
              "[  0,    1,   -6],\n",
              "[  0,    3,   -6]])"
            ]
          },
          "metadata": {
            "tags": []
          },
          "execution_count": 181
        }
      ]
    },
    {
      "cell_type": "markdown",
      "metadata": {
        "id": "_GL_OAw4FRLa"
      },
      "source": [
        "# Operaciones no idempotentes y las celdas de Jupyter\n",
        "Una operación es **idempotente** si da lo mismo realizarla una vez o más de una vez. Por ejemplo: \n",
        "* multiplicar por cero es una operación idempotente. $0 \\cdot x=0\\cdot0 \\cdot x$. Si ejecuta una celda idempotente varias veces seguidas no cambia el resultado. \n",
        "* elevar al cuadrado no es una operación idempotente. $x^2 \\neq (x^2)^2$. Si ejecuta varas veces seguidas una celda no idempotente cambia el resultado.\n",
        "\n",
        "Las operaciones entre renglones usualmente <u>no</u> son operaciones idempotentes, entonces si usted ejecuta la celda de Jupyter dos veces, realizará dos veces la operación elemental y cambia el valor esperado. \n",
        "\n",
        "Para solucionar ese problema es mejor que <u>**ejecute todas las celdas**</u>, para eso le recomiendo usar la opción que hay en el menú de Jupyter.  \n",
        "\n",
        "Cuando corrija una operación elemental, debe volver a ejecutar TODAS las celdas ANTERIORES.  \n",
        "------------------------\n",
        "\n",
        "Quiero recordar que las variables en Jupyter se actualizan en el orden en que se ejecutan las celdas. Si usted ejecuta las celdas en desorden las variables pueden tener valores inesperados. Es por esto mi insistencia en el uso de la opción del menú que <u>ejecuta todas las celdas</u>."
      ]
    },
    {
      "cell_type": "markdown",
      "metadata": {
        "id": "kBa6oyX1FRLa"
      },
      "source": [
        "# Eliminación de Gauss\n",
        "[Nakos, Sec. 1.2]\n",
        "\n",
        "\n",
        "Una matriz se puede transformar a la forma escalón mediante los siguientes cuatro pasos. El último paso la convierte a la forma escalón reducida.\n",
        "1. Vaya a la columna extrema izquierda que no sea de ceros.\n",
        "2. Si el primer renglón tiene un cero en la columna del paso (1), intercámbielo con uno que tenga un elemento no cero en la misma columna.\n",
        "3. Obtenga ceros debajo del elemento delantero, sumando múltiplos adecuados del renglón superior a los renglones debajo de él.\n",
        "4. Cubra el renglón superior y repita el mismo proceso comenzando por el paso (1) aplicado a la sub-matriz restante. Repita este proceso con el resto de los renglones.\n",
        "5. Comenzando con el último renglón no cero, avance hacia arriba: para cada renglón obtenga un 1 delantero e introduzca ceros arriba de él, sumando múltiplos adecuados a los renglones correspondientes. "
      ]
    },
    {
      "cell_type": "markdown",
      "metadata": {
        "id": "YA70LJGGFRLa"
      },
      "source": [
        "## Ejemplo\n",
        "\n",
        "Utilizando el algoritmo de Gauss, encuentre la solución general del siguiente sistema de ecuaciones. \n",
        "\n",
        "$\\matrix{\n",
        "0a + 3b - 6c - 4d - 3e = -5\\\\\n",
        "-1a + 3b - 10c - 4d - 4e = -2\\\\\n",
        "4a - 9b + 34c + 0d + 1e = -21\\\\\n",
        "2a - 6b + 20c + 2d + 8e = -8}$\n",
        "\n",
        "## Solución\n",
        "\n"
      ]
    },
    {
      "cell_type": "code",
      "metadata": {
        "colab": {
          "base_uri": "https://localhost:8080/",
          "height": 99
        },
        "id": "MzvEB4HFv4wA",
        "outputId": "c5035016-9350-4a8e-f302-413e2541cdf5"
      },
      "source": [
        "import sympy as sp\n",
        "B=sp.Matrix([\n",
        "    [0,  3,  -6, -4, -3, -5 ],\n",
        "    [-1, 3, -10, -4, -4, -2 ],\n",
        "    [4, -9,  34,  0,  1, -21],\n",
        "    [2, -6,  20,  2,  8, -8 ]\n",
        "])\n",
        "B"
      ],
      "execution_count": 182,
      "outputs": [
        {
          "output_type": "execute_result",
          "data": {
            "text/latex": "$\\displaystyle \\left[\\begin{matrix}0 & 3 & -6 & -4 & -3 & -5\\\\-1 & 3 & -10 & -4 & -4 & -2\\\\4 & -9 & 34 & 0 & 1 & -21\\\\2 & -6 & 20 & 2 & 8 & -8\\end{matrix}\\right]$",
            "text/plain": [
              "Matrix([\n",
              "[ 0,  3,  -6, -4, -3,  -5],\n",
              "[-1,  3, -10, -4, -4,  -2],\n",
              "[ 4, -9,  34,  0,  1, -21],\n",
              "[ 2, -6,  20,  2,  8,  -8]])"
            ]
          },
          "metadata": {
            "tags": []
          },
          "execution_count": 182
        }
      ]
    },
    {
      "cell_type": "code",
      "metadata": {
        "colab": {
          "base_uri": "https://localhost:8080/",
          "height": 99
        },
        "id": "jFT_8SM9tNlu",
        "outputId": "4e5bb2db-5e4b-4d05-8722-84aa3af8124b"
      },
      "source": [
        "M=B[:,:]\n",
        "M"
      ],
      "execution_count": 183,
      "outputs": [
        {
          "output_type": "execute_result",
          "data": {
            "text/latex": "$\\displaystyle \\left[\\begin{matrix}0 & 3 & -6 & -4 & -3 & -5\\\\-1 & 3 & -10 & -4 & -4 & -2\\\\4 & -9 & 34 & 0 & 1 & -21\\\\2 & -6 & 20 & 2 & 8 & -8\\end{matrix}\\right]$",
            "text/plain": [
              "Matrix([\n",
              "[ 0,  3,  -6, -4, -3,  -5],\n",
              "[-1,  3, -10, -4, -4,  -2],\n",
              "[ 4, -9,  34,  0,  1, -21],\n",
              "[ 2, -6,  20,  2,  8,  -8]])"
            ]
          },
          "metadata": {
            "tags": []
          },
          "execution_count": 183
        }
      ]
    },
    {
      "cell_type": "markdown",
      "metadata": {
        "id": "qVFozCDIFRLb"
      },
      "source": [
        "Como el elemento `M[0,0]` es un 0, y bajo él hay elementos diferentes de cero es necesario cambiar el renglón 0 por otro renglón. Se escogió el renglón 1 ya que bajo el cero hay un -1, el cual divide al 4 a al 2 que también están bajo el 0.  "
      ]
    },
    {
      "cell_type": "code",
      "metadata": {
        "id": "dqGONOZZFRLb",
        "colab": {
          "base_uri": "https://localhost:8080/",
          "height": 99
        },
        "outputId": "f9320546-49ad-4d3f-8b3c-0c75a416e47c"
      },
      "source": [
        "#R1<->R0\n",
        "M.row_swap(0,1)\n",
        "M"
      ],
      "execution_count": 57,
      "outputs": [
        {
          "output_type": "execute_result",
          "data": {
            "text/latex": "$\\displaystyle \\left[\\begin{matrix}-1 & 3 & -10 & -4 & -4 & -2\\\\0 & 3 & -6 & -4 & -3 & -5\\\\4 & -9 & 34 & 0 & 1 & -21\\\\2 & -6 & 20 & 2 & 8 & -8\\end{matrix}\\right]$",
            "text/plain": [
              "Matrix([\n",
              "[-1,  3, -10, -4, -4,  -2],\n",
              "[ 0,  3,  -6, -4, -3,  -5],\n",
              "[ 4, -9,  34,  0,  1, -21],\n",
              "[ 2, -6,  20,  2,  8,  -8]])"
            ]
          },
          "metadata": {
            "tags": []
          },
          "execution_count": 57
        }
      ]
    },
    {
      "cell_type": "markdown",
      "metadata": {
        "id": "D5_F31C0FRLb"
      },
      "source": [
        "Ahora hay que eliminar los elementos diferentes de cero que están bajo el -1. Primero se elimina el 4. Sumando al renglón 2, 4 veces el renglón 0.  "
      ]
    },
    {
      "cell_type": "code",
      "metadata": {
        "id": "FuAS9my4FRLc",
        "colab": {
          "base_uri": "https://localhost:8080/",
          "height": 99
        },
        "outputId": "c4571e62-e07f-490a-ae1a-c9f90a043f48"
      },
      "source": [
        "# 4R0 + R2 -> R2\n",
        "M[2,:] += 4*M[0,:]      # M[2,:] = M[2,:] + 4*M[0,:]\n",
        "M"
      ],
      "execution_count": 58,
      "outputs": [
        {
          "output_type": "execute_result",
          "data": {
            "text/latex": "$\\displaystyle \\left[\\begin{matrix}-1 & 3 & -10 & -4 & -4 & -2\\\\0 & 3 & -6 & -4 & -3 & -5\\\\0 & 3 & -6 & -16 & -15 & -29\\\\2 & -6 & 20 & 2 & 8 & -8\\end{matrix}\\right]$",
            "text/plain": [
              "Matrix([\n",
              "[-1,  3, -10,  -4,  -4,  -2],\n",
              "[ 0,  3,  -6,  -4,  -3,  -5],\n",
              "[ 0,  3,  -6, -16, -15, -29],\n",
              "[ 2, -6,  20,   2,   8,  -8]])"
            ]
          },
          "metadata": {
            "tags": []
          },
          "execution_count": 58
        }
      ]
    },
    {
      "cell_type": "markdown",
      "metadata": {
        "id": "cJXP_soeFRLc"
      },
      "source": [
        "Ahora hay que eliminar el 2 que está bajo el -1. Sumando al renglón 3, 2 veces el renglón 0.  "
      ]
    },
    {
      "cell_type": "code",
      "metadata": {
        "id": "dkTOZe__FRLc",
        "colab": {
          "base_uri": "https://localhost:8080/",
          "height": 99
        },
        "outputId": "fba399bd-32e6-49af-965c-ce02a1e7782e"
      },
      "source": [
        "# 2R0 + R3 -> R3\n",
        "M[3,:] += 2*M[0,:]\n",
        "M"
      ],
      "execution_count": 59,
      "outputs": [
        {
          "output_type": "execute_result",
          "data": {
            "text/latex": "$\\displaystyle \\left[\\begin{matrix}-1 & 3 & -10 & -4 & -4 & -2\\\\0 & 3 & -6 & -4 & -3 & -5\\\\0 & 3 & -6 & -16 & -15 & -29\\\\0 & 0 & 0 & -6 & 0 & -12\\end{matrix}\\right]$",
            "text/plain": [
              "Matrix([\n",
              "[-1, 3, -10,  -4,  -4,  -2],\n",
              "[ 0, 3,  -6,  -4,  -3,  -5],\n",
              "[ 0, 3,  -6, -16, -15, -29],\n",
              "[ 0, 0,   0,  -6,   0, -12]])"
            ]
          },
          "metadata": {
            "tags": []
          },
          "execution_count": 59
        }
      ]
    },
    {
      "cell_type": "markdown",
      "metadata": {
        "id": "kj8aSzChFRLc"
      },
      "source": [
        "El -1 va a ser el pivote de la columna 0 y del renglón 0. \n",
        "\n",
        "Ahora pasamos a la segunda columna e ignoramos el renglón 0. Con `M[1,1]`, que es un 3, se elimina el contenido de `M[2,1]`, que es otro 3. Para hacer esto, basta con restarle el renglón 1 al renglón 2. "
      ]
    },
    {
      "cell_type": "code",
      "metadata": {
        "id": "EUFcHUXFFRLc",
        "colab": {
          "base_uri": "https://localhost:8080/",
          "height": 99
        },
        "outputId": "a175c738-5e60-4ef2-b2ae-57e3d26f8a90"
      },
      "source": [
        "# -R1 + R2 -> R2\n",
        "M[2,:] += -M[1,:]\n",
        "M"
      ],
      "execution_count": 60,
      "outputs": [
        {
          "output_type": "execute_result",
          "data": {
            "text/latex": "$\\displaystyle \\left[\\begin{matrix}-1 & 3 & -10 & -4 & -4 & -2\\\\0 & 3 & -6 & -4 & -3 & -5\\\\0 & 0 & 0 & -12 & -12 & -24\\\\0 & 0 & 0 & -6 & 0 & -12\\end{matrix}\\right]$",
            "text/plain": [
              "Matrix([\n",
              "[-1, 3, -10,  -4,  -4,  -2],\n",
              "[ 0, 3,  -6,  -4,  -3,  -5],\n",
              "[ 0, 0,   0, -12, -12, -24],\n",
              "[ 0, 0,   0,  -6,   0, -12]])"
            ]
          },
          "metadata": {
            "tags": []
          },
          "execution_count": 60
        }
      ]
    },
    {
      "cell_type": "markdown",
      "metadata": {
        "id": "tCaSCqtxFRLd"
      },
      "source": [
        "El 3 de `M[1,1]` va a ser el pivote de la columna 1 y del renglón 1. \n",
        "\n",
        "Ahora ignoramos el renglón 0 y el renglón 1. Al pasar a la columna 2, la que tiene en los renglones ignorados -10 y -6, vemos que en los otros renglones sólo tiene ceros, por lo tanto esta columna no tendrá pivote. \n",
        "\n",
        "La columna 2 no va a tener pivote."
      ]
    },
    {
      "cell_type": "code",
      "metadata": {
        "id": "b4xxA3o1FRLd",
        "colab": {
          "base_uri": "https://localhost:8080/",
          "height": 99
        },
        "outputId": "bf265de4-d19f-404a-8dbe-ec4e37fadee8"
      },
      "source": [
        "M"
      ],
      "execution_count": 61,
      "outputs": [
        {
          "output_type": "execute_result",
          "data": {
            "text/latex": "$\\displaystyle \\left[\\begin{matrix}-1 & 3 & -10 & -4 & -4 & -2\\\\0 & 3 & -6 & -4 & -3 & -5\\\\0 & 0 & 0 & -12 & -12 & -24\\\\0 & 0 & 0 & -6 & 0 & -12\\end{matrix}\\right]$",
            "text/plain": [
              "Matrix([\n",
              "[-1, 3, -10,  -4,  -4,  -2],\n",
              "[ 0, 3,  -6,  -4,  -3,  -5],\n",
              "[ 0, 0,   0, -12, -12, -24],\n",
              "[ 0, 0,   0,  -6,   0, -12]])"
            ]
          },
          "metadata": {
            "tags": []
          },
          "execution_count": 61
        }
      ]
    },
    {
      "cell_type": "markdown",
      "metadata": {
        "id": "kqmV6HsWFRLd"
      },
      "source": [
        "Al ver la columna 3, en los dos últimos renglones hay un -12 y un -6. Con el -12 hay que eliminar el -6. Una forma es sumar el renglón 2  a menos dos veces el renglón 3. Esta no es una operación elemental ya que el renglón de destino se multiplica por -2. Pero es equivalente a dos operaciones elementales, como se explicó anteriormente."
      ]
    },
    {
      "cell_type": "code",
      "metadata": {
        "id": "n2j908xkFRLe",
        "colab": {
          "base_uri": "https://localhost:8080/",
          "height": 99
        },
        "outputId": "481e7f7d-1ebd-4972-c5d8-4a2dc9fc8e02"
      },
      "source": [
        "# R2 - 2R3 -> R3\n",
        "M[3,:] = M[2,:] + (-2)*M[3,:] \n",
        "M"
      ],
      "execution_count": 62,
      "outputs": [
        {
          "output_type": "execute_result",
          "data": {
            "text/latex": "$\\displaystyle \\left[\\begin{matrix}-1 & 3 & -10 & -4 & -4 & -2\\\\0 & 3 & -6 & -4 & -3 & -5\\\\0 & 0 & 0 & -12 & -12 & -24\\\\0 & 0 & 0 & 0 & -12 & 0\\end{matrix}\\right]$",
            "text/plain": [
              "Matrix([\n",
              "[-1, 3, -10,  -4,  -4,  -2],\n",
              "[ 0, 3,  -6,  -4,  -3,  -5],\n",
              "[ 0, 0,   0, -12, -12, -24],\n",
              "[ 0, 0,   0,   0, -12,   0]])"
            ]
          },
          "metadata": {
            "tags": []
          },
          "execution_count": 62
        }
      ]
    },
    {
      "cell_type": "markdown",
      "metadata": {
        "id": "m5iVqiF_FRLe"
      },
      "source": [
        "Con esto hemos obtenido una <u>matriz escalón</u>. Con lo cual se pueden ubicar los pivotes en `M[0,0]`, `M[1,1]`, `M[2,3]` y en `M[3,4]`.\n",
        "\n",
        "Ahora se puede continuar con el proceso hasta obtener una matriz reducida."
      ]
    },
    {
      "cell_type": "code",
      "metadata": {
        "id": "MWmAiz3mFRLe",
        "colab": {
          "base_uri": "https://localhost:8080/",
          "height": 99
        },
        "outputId": "ca069e64-79cd-467d-b248-a938d74af199"
      },
      "source": [
        "# -(1/12)R3 -> R3\n",
        "\n",
        "M[3,:] = M[3,:]*-1/12\n",
        "M"
      ],
      "execution_count": 63,
      "outputs": [
        {
          "output_type": "execute_result",
          "data": {
            "text/latex": "$\\displaystyle \\left[\\begin{matrix}-1 & 3 & -10 & -4 & -4 & -2\\\\0 & 3 & -6 & -4 & -3 & -5\\\\0 & 0 & 0 & -12 & -12 & -24\\\\0 & 0 & 0 & 0 & 1 & 0\\end{matrix}\\right]$",
            "text/plain": [
              "Matrix([\n",
              "[-1, 3, -10,  -4,  -4,  -2],\n",
              "[ 0, 3,  -6,  -4,  -3,  -5],\n",
              "[ 0, 0,   0, -12, -12, -24],\n",
              "[ 0, 0,   0,   0,   1,   0]])"
            ]
          },
          "metadata": {
            "tags": []
          },
          "execution_count": 63
        }
      ]
    },
    {
      "cell_type": "code",
      "metadata": {
        "id": "STnWcbIuFRLe",
        "colab": {
          "base_uri": "https://localhost:8080/",
          "height": 99
        },
        "outputId": "0974dcfc-ec16-4439-aa28-70a32133e9ae"
      },
      "source": [
        "M[2,:] += 12*M[3,:] # 12 R3 + R2 -> R2\n",
        "M[1,:] += 3*M[3,:]  # 3  R3 + R1 -> R1\n",
        "M[0,:] += 4*M[3,:]  # 4  R3 + R0 -> R0\n",
        "M"
      ],
      "execution_count": 64,
      "outputs": [
        {
          "output_type": "execute_result",
          "data": {
            "text/latex": "$\\displaystyle \\left[\\begin{matrix}-1 & 3 & -10 & -4 & 0 & -2\\\\0 & 3 & -6 & -4 & 0 & -5\\\\0 & 0 & 0 & -12 & 0 & -24\\\\0 & 0 & 0 & 0 & 1 & 0\\end{matrix}\\right]$",
            "text/plain": [
              "Matrix([\n",
              "[-1, 3, -10,  -4, 0,  -2],\n",
              "[ 0, 3,  -6,  -4, 0,  -5],\n",
              "[ 0, 0,   0, -12, 0, -24],\n",
              "[ 0, 0,   0,   0, 1,   0]])"
            ]
          },
          "metadata": {
            "tags": []
          },
          "execution_count": 64
        }
      ]
    },
    {
      "cell_type": "code",
      "metadata": {
        "id": "-6wiz6erFRLf",
        "colab": {
          "base_uri": "https://localhost:8080/",
          "height": 99
        },
        "outputId": "59bbe60b-01c7-4fcf-d470-2c06a9bdc33e"
      },
      "source": [
        "# -(1/12)R2 -> R2\n",
        "\n",
        "M[2,:] = M[2,:]*-1/12  \n",
        "M"
      ],
      "execution_count": 65,
      "outputs": [
        {
          "output_type": "execute_result",
          "data": {
            "text/latex": "$\\displaystyle \\left[\\begin{matrix}-1 & 3 & -10 & -4 & 0 & -2\\\\0 & 3 & -6 & -4 & 0 & -5\\\\0 & 0 & 0 & 1 & 0 & 2\\\\0 & 0 & 0 & 0 & 1 & 0\\end{matrix}\\right]$",
            "text/plain": [
              "Matrix([\n",
              "[-1, 3, -10, -4, 0, -2],\n",
              "[ 0, 3,  -6, -4, 0, -5],\n",
              "[ 0, 0,   0,  1, 0,  2],\n",
              "[ 0, 0,   0,  0, 1,  0]])"
            ]
          },
          "metadata": {
            "tags": []
          },
          "execution_count": 65
        }
      ]
    },
    {
      "cell_type": "code",
      "metadata": {
        "id": "aFYBVz9zFRLf",
        "colab": {
          "base_uri": "https://localhost:8080/",
          "height": 99
        },
        "outputId": "6becb39a-45ad-4d6f-c8bd-13b113c1971e"
      },
      "source": [
        "M[1,:] += 4*M[2,:] # 4 R2 + R1 -> R1\n",
        "M[0,:] += 4*M[2,:] # 4 R2 + R0 -> R0\n",
        "M"
      ],
      "execution_count": 67,
      "outputs": [
        {
          "output_type": "execute_result",
          "data": {
            "text/latex": "$\\displaystyle \\left[\\begin{matrix}-1 & 3 & -10 & 0 & 0 & 6\\\\0 & 3 & -6 & 0 & 0 & 3\\\\0 & 0 & 0 & 1 & 0 & 2\\\\0 & 0 & 0 & 0 & 1 & 0\\end{matrix}\\right]$",
            "text/plain": [
              "Matrix([\n",
              "[-1, 3, -10, 0, 0, 6],\n",
              "[ 0, 3,  -6, 0, 0, 3],\n",
              "[ 0, 0,   0, 1, 0, 2],\n",
              "[ 0, 0,   0, 0, 1, 0]])"
            ]
          },
          "metadata": {
            "tags": []
          },
          "execution_count": 67
        }
      ]
    },
    {
      "cell_type": "code",
      "metadata": {
        "id": "0Kt2Y9DeFRLf",
        "colab": {
          "base_uri": "https://localhost:8080/",
          "height": 99
        },
        "outputId": "9c329da6-206e-4321-9f5d-760fba8ed321"
      },
      "source": [
        "# (1/3)R1 -> R1\n",
        "\n",
        "M[1,:] = M[1,:] *1/3\n",
        "M"
      ],
      "execution_count": 68,
      "outputs": [
        {
          "output_type": "execute_result",
          "data": {
            "text/latex": "$\\displaystyle \\left[\\begin{matrix}-1 & 3 & -10 & 0 & 0 & 6\\\\0 & 1 & -2 & 0 & 0 & 1\\\\0 & 0 & 0 & 1 & 0 & 2\\\\0 & 0 & 0 & 0 & 1 & 0\\end{matrix}\\right]$",
            "text/plain": [
              "Matrix([\n",
              "[-1, 3, -10, 0, 0, 6],\n",
              "[ 0, 1,  -2, 0, 0, 1],\n",
              "[ 0, 0,   0, 1, 0, 2],\n",
              "[ 0, 0,   0, 0, 1, 0]])"
            ]
          },
          "metadata": {
            "tags": []
          },
          "execution_count": 68
        }
      ]
    },
    {
      "cell_type": "code",
      "metadata": {
        "id": "n6kqOobUFRLf",
        "colab": {
          "base_uri": "https://localhost:8080/",
          "height": 99
        },
        "outputId": "c1fadded-9a32-4ab1-da99-456aa1c09a8a"
      },
      "source": [
        "# R0 - 3R1 -> R1\n",
        "\n",
        "M[0,:] += -3*M[1,:]\n",
        "M"
      ],
      "execution_count": 69,
      "outputs": [
        {
          "output_type": "execute_result",
          "data": {
            "text/latex": "$\\displaystyle \\left[\\begin{matrix}-1 & 0 & -4 & 0 & 0 & 3\\\\0 & 1 & -2 & 0 & 0 & 1\\\\0 & 0 & 0 & 1 & 0 & 2\\\\0 & 0 & 0 & 0 & 1 & 0\\end{matrix}\\right]$",
            "text/plain": [
              "Matrix([\n",
              "[-1, 0, -4, 0, 0, 3],\n",
              "[ 0, 1, -2, 0, 0, 1],\n",
              "[ 0, 0,  0, 1, 0, 2],\n",
              "[ 0, 0,  0, 0, 1, 0]])"
            ]
          },
          "metadata": {
            "tags": []
          },
          "execution_count": 69
        }
      ]
    },
    {
      "cell_type": "code",
      "metadata": {
        "id": "bjZQU9JbFRLg",
        "scrolled": true,
        "colab": {
          "base_uri": "https://localhost:8080/",
          "height": 99
        },
        "outputId": "00af1168-133f-40d3-eda3-8e28d46732a0"
      },
      "source": [
        "# -R0 -> R0\n",
        "\n",
        "M[0,:] *= -1\n",
        "M"
      ],
      "execution_count": 70,
      "outputs": [
        {
          "output_type": "execute_result",
          "data": {
            "text/latex": "$\\displaystyle \\left[\\begin{matrix}1 & 0 & 4 & 0 & 0 & -3\\\\0 & 1 & -2 & 0 & 0 & 1\\\\0 & 0 & 0 & 1 & 0 & 2\\\\0 & 0 & 0 & 0 & 1 & 0\\end{matrix}\\right]$",
            "text/plain": [
              "Matrix([\n",
              "[1, 0,  4, 0, 0, -3],\n",
              "[0, 1, -2, 0, 0,  1],\n",
              "[0, 0,  0, 1, 0,  2],\n",
              "[0, 0,  0, 0, 1,  0]])"
            ]
          },
          "metadata": {
            "tags": []
          },
          "execution_count": 70
        }
      ]
    },
    {
      "cell_type": "markdown",
      "metadata": {
        "id": "PWzesY7EFRLg"
      },
      "source": [
        "La anterior matriz ya se encuentra reducida. El sistema de ecuaciones que le corresponde es el siguiente.\n",
        "\n",
        "$\\matrix{\n",
        "1a + 0b + 4c + 0d + 0e =-3\\\\\n",
        "0a + 1b - 2c + 0d + 0e = 1\\\\\n",
        "0a + 0b + 0c + 1d + 0e = 2\\\\\n",
        "0a + 0b + 0c + 0d + 1e = 0}$\n",
        "\n"
      ]
    },
    {
      "cell_type": "markdown",
      "metadata": {
        "id": "OD75VBR2FRLg"
      },
      "source": [
        "La única variable libre es $c=t$.\n",
        "\n",
        "Ahora despejamos las variables delanteras de abajo hacia arriba:\n",
        "\n",
        "$\\matrix{\n",
        "e=0\\\\\n",
        "d=2\\\\\n",
        "b=1+2t\\\\\n",
        "a=-3-4t}$\n",
        "\n",
        "Por lo tanto la solución general es\n",
        "\n",
        "$\\left( \\matrix{a \\\\ b \\\\ c \\\\ d \\\\ e} \\right)\n",
        "=\\left( \\matrix{-3 \\\\1  \\\\0  \\\\2  \\\\0   } \\right)\n",
        "+t\\left( \\matrix{-4 \\\\2  \\\\1  \\\\0  \\\\ 0  } \\right)\n",
        "$\n",
        "\n",
        "La solución particular trivial es\n",
        "$\\left( \\matrix{-3 \\\\1  \\\\0  \\\\2  \\\\0   } \\right)\n",
        "+0\\left( \\matrix{-4 \\\\2  \\\\1  \\\\0  \\\\ 0  } \\right)\n",
        "=\\left( \\matrix{-3 \\\\1  \\\\0  \\\\2  \\\\0   } \\right)\n",
        "$\n",
        "\n",
        "Como sólo hay un parámetro entonces sólo hay una solución particular básica \n",
        "$\\left( \\matrix{-3 \\\\1  \\\\0  \\\\2  \\\\0   } \\right)\n",
        "+1\\left( \\matrix{-4 \\\\2  \\\\1  \\\\0  \\\\ 0  } \\right)\n",
        "=\\left( \\matrix{-7 \\\\3  \\\\1  \\\\2  \\\\0   } \\right)\n",
        "$\n",
        "\n",
        "A continuación verificamos que ambas soluciones particulares cumplan con las 4 ecuaciones. Comenzamos probando la solución particular trivial."
      ]
    },
    {
      "cell_type": "markdown",
      "metadata": {
        "id": "90s5FDEsFRLk"
      },
      "source": [
        "Recuerde que\n",
        "# Si debe cambiar una operación elemental, antes de ejecutarla debe <u>ejecutar TODAS las celdas ANTERIORES</u>."
      ]
    }
  ]
}