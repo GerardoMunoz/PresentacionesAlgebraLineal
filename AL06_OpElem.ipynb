{
 "cells": [
  {
   "cell_type": "markdown",
   "metadata": {
    "id": "2auLNz_sFRLH"
   },
   "source": [
    "# Matriz Extendida\n",
    "<!--## Aplicaciones\n",
    "## Equivalencia con sistema de ecuacioes\n",
    "## E1 a E4\n",
    "## Operaciones elementales\n",
    "## Algoritmo de Gauss-->\n",
    "\n"
   ]
  },
  {
   "cell_type": "markdown",
   "metadata": {
    "id": "k1jYuSTKFRLN"
   },
   "source": [
    "## Uso de herramientas computacionales \n",
    "La notación matricial ha sido una de las predilectas por las herramientas de cómputo. Por ejemplo MatLab, que significa laboratorio de matrices. En Python la librería `numpy` se ha especializado en las operaciones matriciales. \n"
   ]
  },
  {
   "cell_type": "code",
   "execution_count": null,
   "metadata": {
    "id": "C4acJORQFRLO",
    "outputId": "a286f4c4-a157-4583-f458-bdfbc545f8c9"
   },
   "outputs": [
    {
     "data": {
      "text/plain": [
       "matrix([[11,  2,  3],\n",
       "        [ 4, 15,  6],\n",
       "        [ 7,  8, 19]])"
      ]
     },
     "execution_count": 160,
     "metadata": {
      "tags": []
     },
     "output_type": "execute_result"
    }
   ],
   "source": [
    "import numpy as np # Se llama la librería con el alias.\n",
    "\n",
    "# se define en la matriz A\n",
    "\n",
    "A=np.matrix([ \n",
    "    [11, 2,  3],\n",
    "    [4,  15, 6],\n",
    "    [7,  8,  19]\n",
    "])\n",
    "A"
   ]
  },
  {
   "cell_type": "code",
   "execution_count": null,
   "metadata": {
    "id": "CmRbT8OHFRLQ",
    "outputId": "bfc28f0d-d71c-4b95-9ee1-027caaf501a0"
   },
   "outputs": [
    {
     "data": {
      "text/plain": [
       "11"
      ]
     },
     "execution_count": 121,
     "metadata": {
      "tags": []
     },
     "output_type": "execute_result"
    }
   ],
   "source": [
    "# Obtener un elemento de la matriz\n",
    "# Renglón 0 y columna 0\n",
    "# Recuerde que comienza desde cero\n",
    "\n",
    "A[0,0]"
   ]
  },
  {
   "cell_type": "code",
   "execution_count": null,
   "metadata": {
    "id": "M11B2HfeFRLQ",
    "outputId": "03637cdc-52fd-4fd1-fb68-b8d1d40494a9"
   },
   "outputs": [
    {
     "data": {
      "text/plain": [
       "6"
      ]
     },
     "execution_count": 122,
     "metadata": {
      "tags": []
     },
     "output_type": "execute_result"
    }
   ],
   "source": [
    "# Obtener un elemento de la matriz\n",
    "# Renglón 1 y columna 2\n",
    "# Recuerde que comienza desde cero\n",
    "\n",
    "A[1,2]"
   ]
  },
  {
   "cell_type": "code",
   "execution_count": null,
   "metadata": {
    "id": "wRjiCFgJFRLQ",
    "outputId": "48216335-3207-4a10-ce57-47c9ebfbf2b2"
   },
   "outputs": [
    {
     "data": {
      "text/plain": [
       "matrix([[ 3],\n",
       "        [ 6],\n",
       "        [19]])"
      ]
     },
     "execution_count": 123,
     "metadata": {
      "tags": []
     },
     "output_type": "execute_result"
    }
   ],
   "source": [
    "# Obtener la columna 2 de la matriz\n",
    "\n",
    "A[:,2]"
   ]
  },
  {
   "cell_type": "code",
   "execution_count": null,
   "metadata": {
    "id": "TE3DRHfYFRLR",
    "outputId": "88ab0278-d782-4eec-de98-5d37dc68697b"
   },
   "outputs": [
    {
     "data": {
      "text/plain": [
       "matrix([[ 4, 15,  6]])"
      ]
     },
     "execution_count": 124,
     "metadata": {
      "tags": []
     },
     "output_type": "execute_result"
    }
   ],
   "source": [
    "# Obtener el renglón 1 de la matriz\n",
    "\n",
    "A[1,:]"
   ]
  },
  {
   "cell_type": "code",
   "execution_count": null,
   "metadata": {
    "id": "oMak7SaSFRLR",
    "outputId": "25937cff-696c-4bb9-84ee-8eb32418603a"
   },
   "outputs": [
    {
     "data": {
      "text/plain": [
       "matrix([[11,  2,  3],\n",
       "        [ 7,  8, 19]])"
      ]
     },
     "execution_count": 125,
     "metadata": {
      "tags": []
     },
     "output_type": "execute_result"
    }
   ],
   "source": [
    "# Obtener los renglones 0 y 2\n",
    "\n",
    "A[[0,2],:]"
   ]
  },
  {
   "cell_type": "code",
   "execution_count": null,
   "metadata": {
    "id": "IU8gTJmtFRLS",
    "outputId": "c9883982-13b6-440a-8844-3fc7a9b90955"
   },
   "outputs": [
    {
     "data": {
      "text/plain": [
       "matrix([[ 7,  8, 19],\n",
       "        [11,  2,  3]])"
      ]
     },
     "execution_count": 126,
     "metadata": {
      "tags": []
     },
     "output_type": "execute_result"
    }
   ],
   "source": [
    "# Obtener primero el renglón 2 y después el renglón 0\n",
    "\n",
    "A[[2,0],:]"
   ]
  },
  {
   "cell_type": "markdown",
   "metadata": {
    "id": "xFXV7Y4hFRLS"
   },
   "source": [
    "# Matriz extendida y los sistemas de ecuaciones \n",
    "\n",
    "Un sistema de ecuaciones como el siguiente, \n",
    "\n",
    "$\\matrix{\n",
    "a_{11} x_1 + a_{12} x_2 + \\ldots + a_{1n} x_n &= b_1 \\\\\n",
    "a_{21} x_1 + a_{22} x_2 + \\ldots + a_{2n} x_n &= b_2 \\\\\n",
    "&\\vdots\\\\\n",
    "a_{m1} x_1 + a_{m2} x_2 + \\ldots + a_{mn} x_n &= b_m \\\\\n",
    "}$\n",
    "\n",
    "en el que las variables $x_j$ son desconocidas, se puede representar por medio de la siguiente **matriz extendida**.\n",
    "\n",
    "$[A:\\vec{b}]=\\left[\\matrix{\n",
    "a_{11} & a_{12} & \\ldots & a_{1n} & : & b_1 \\\\\n",
    "a_{21} & a_{22} & \\ldots & a_{2n} & : & b_2 \\\\\n",
    "\\vdots & \\vdots & \\ddots & \\vdots & : & \\vdots \\\\\n",
    "a_{m1} & a_{m2} & \\ldots & a_{mn} & : & b_m \\\\\n",
    "}\\right]$\n",
    "\n",
    "En la izquierda de la matriz está la **matriz de coeficientes** $A$ y en la derecha de la matriz está el **vector de términos constantes** (VTC) $\\vec{b}$.\n",
    "\n",
    "\n",
    "$A=\\left[\\matrix{\n",
    "a_{11} & a_{12} & \\ldots & a_{1n}  \\\\\n",
    "a_{21} & a_{22} & \\ldots & a_{2n}  \\\\\n",
    "\\vdots & \\vdots & \\ddots & \\vdots  \\\\\n",
    "a_{m1} & a_{m2} & \\ldots & a_{mn}  \\\\\n",
    "}\\right]$, \n",
    "$\\vec{b}=\\left[\\matrix{\n",
    " b_1 \\\\\n",
    " b_2 \\\\\n",
    " \\vdots \\\\\n",
    " b_m \\\\\n",
    "}\\right]$\n",
    "\n"
   ]
  },
  {
   "cell_type": "markdown",
   "metadata": {
    "id": "fr0FwQgEFRLT"
   },
   "source": [
    "## Definiciones \n",
    "Las siguientes definiciones son para una matriz $A$ o para una matriz extendida $[A:\\vec{b}]$\n",
    "\n",
    "* Un __renglón de ceros__ sólo tiene ceros. \n",
    "* El __elemento delantero__ de un renglón no cero, está en el primer elemento a la izquierda diferente de cero. \n",
    "Por ejemplo, el sistema \n",
    "\n",
    "ecuaciones \n",
    "\\begin{align}\n",
    "0 x_0 + 3 x_1 + 0 x_2 + 1 x_3 &= 5 \\\\\n",
    "0 x_0 + 0 x_1 + 0 x_2 + 0 x_3 &= 0\\\\\n",
    "2 x_0 + 1 x_1 + 0 x_2 + 2 x_3 &= 6\\\\\n",
    "0 x_0 + 0 x_1 + 0 x_2 + 1 x_3 &= 0\\\\\n",
    "0 x_0 + 0 x_1 + 0 x_2 + 0 x_3 &= 3\\\\\n",
    "\\end{align}\n",
    "\n",
    "ordenando las variable alfabéticamente la matriz extendida corresponde a \n",
    "\n",
    "\\begin{align}\n",
    "\\begin{bmatrix}\n",
    "\t0 & 3 & 0 & 1 & : & 5\\\\\n",
    "\t0 & 0 & 0 & 0 & : & 0\\\\\n",
    "\t2 & 1 & 0 & 2 & : & 6\\\\\n",
    "\t0 & 0 & 0 & 1 & : & 0\\\\\n",
    "\t0 & 0 & 0 & 0 & : & 3\n",
    "\\end{bmatrix}\n",
    "\\end{align}\n",
    "\n",
    "*\tEl elemento delantero del renglón 0 está en $x_1$. \n",
    "*\tEl renglón 1 es un renglón de ceros y no tiene elemento delantero. \n",
    "*\tEl elemento delantero del renglón 2 está en $x_0$. \n",
    "*\tLa variable delantera del renglón 3 está en $x_3$. \n",
    "*\tEn el renglón 4 el elemento delantero está en el término constante. \n",
    "\t"
   ]
  },
  {
   "cell_type": "markdown",
   "metadata": {
    "id": "9bqbVHvTFRLU"
   },
   "source": [
    "## Clasificación de matrices extendidas\n",
    "### E1\n",
    "'Los renglones de ceros están en la parte inferior de la matriz o no hay renglones de ceros.'\n",
    "\n",
    "El ejemplo tiene sólo un renglón de ceros que está al final, por lo tanto, cumple E1.\n",
    "\n",
    "\\begin{align*}\n",
    "\\begin{aligned}\n",
    "\t0 x_0 + 0 x_1 + 0 x_2 + 0 x_3 &= 3\\\\\n",
    "\t0 x_0 + 3 x_1 + 0 x_2 + 1 x_3 &= 5 \\\\\n",
    "\t0 x_0 + 0 x_1 + 0 x_2 + 1 x_3 &= 0\\\\\n",
    "\t2 x_0 + 1 x_1 + 0 x_2 + 2 x_3 &= 6\\\\\n",
    "\t0 x_0 + 0 x_1 + 0 x_2 + 0 x_3 &= 0\n",
    "\\end{aligned} \\ \\ \\ \\ \\ \\ \n",
    "\t\\begin{bmatrix}\n",
    "\t\t0 & 0 & 0 & 0 & : & 3\\\\\n",
    "\t\t0 & 3 & 0 & 1 & : & 5\\\\\n",
    "\t\t0 & 0 & 0 & 1 & : & 0\\\\\n",
    "\t\t2 & 1 & 0 & 2 & : & 6\\\\\n",
    "\t\t0 & 0 & 0 & 0 & : & 0\n",
    "\t\\end{bmatrix}\n",
    "\\end{align*}"
   ]
  },
  {
   "cell_type": "markdown",
   "metadata": {
    "id": "Jn8aqvrtFRLV"
   },
   "source": [
    "### E2\n",
    "\n",
    "'Para cada elemento delantero $a_{i,j}$ se tiene que el elemento delantero del siguiente renglón $a_{i+1,k}$ (si lo hay) debe estar a la derecha (es decir $j < k$).'\n",
    "\n",
    "En el siguiente ejemplo, los elementos de las variables $x_1$ y $x_3$ están abajo a la derecha de $x_0$ y $x_1$ respectivamente, por lo tanto, cumple E2.\n",
    "\n",
    "\\begin{align*}\n",
    "\t\\begin{aligned}\n",
    "\t\t2 x_0 + 1 x_1 + 2 x_2 + 2 x_3 &= 6\\\\\n",
    "\t\t0 x_0 + 3 x_1 + 4 x_2 + 1 x_3 &= 5 \\\\\n",
    "\t\t0 x_0 + 0 x_1 + 0 x_2 + 1 x_3 &= 0\\\\\n",
    "\t\t0 x_0 + 0 x_1 + 0 x_2 + 0 x_3 &= 3\\\\\n",
    "\t\t0 x_0 + 0 x_1 + 0 x_2 + 0 x_3 &= 0\n",
    "\t\\end{aligned} \\ \\ \\\n",
    "\t\\begin{bmatrix}\n",
    "\t\t2 & 1 & 2 & 2 & : & 6\\\\\n",
    "\t\t0 & 3 & 4 & 1 & : & 5\\\\\n",
    "\t\t0 & 0 & 0 & 1 & : & 0\\\\\n",
    "\t\t0 & 0 & 0 & 0 & : & 3\\\\\n",
    "\t\t0 & 0 & 0 & 0 & : & 0\n",
    "\t\\end{bmatrix}\n",
    "\\end{align*}\n",
    "\n",
    "* Una matriz está en forma (renglón) __escalón__ si cumple (E1) y (E2).\n",
    "* La ubicación de cada elemento delantero de una <u>matriz escalón</u> se le llama __pivote__.\n",
    "* La variable asociada a un pivote (si la hay) se llama __variable delantera__.\n",
    "* Una variable que no es delantera se llama __variable libre__.  \n",
    "\n",
    "\n",
    "\n",
    "#### Propiedades\n",
    "1. En cada columna y en cada renglón de una matriz hay máximo un pivote.\n",
    "2. El número de pivotes de una matriz $A_{m \\times n}$ es menor o igual que $m$ y que $n$.\n",
    "3. Si en la columna de términos constantes de una matriz extendida hay un <u>elemento delantero</u>, el sistema es __inconsistente__.\n",
    "4. Si la columna de términos constantes de una matriz extendida  <u>escalón</u> está <u>sin pivote</u> (elemento delantero) entonces el sistema es __consistente__. \n",
    "5. Si una matriz extendida <u>escalón</u> tiene <u>pivotes</u> en cada columna menos en la de terminos constantes entonces el sistema tiene __solución única__.\n",
    "6. Si una matriz extendida <u>escalón</u> tiene otra columna además de la de terminos constantes <u>sin pivote</u>  entonces el sistema tiene __infinitas soluciones__. \n",
    "\n",
    "Ejemplo:\n",
    "\\begin{align*}\n",
    "\t\\begin{bmatrix}\n",
    "        2 & 1 & 2 & 2 & : & 6\\\\\n",
    "        0 & 3 & 4 & 1 & : & 5\\\\\n",
    "        0 & 3 & 4 & 1 & : & 0\\\\\n",
    "        0 & 0 & 0 & 0 & : & 3\n",
    "\t\\end{bmatrix}\n",
    "\t\\begin{bmatrix}\n",
    "        2 & 1 & 2 & 2 & : & 6\\\\\n",
    "        0 & 3 & 4 & 1 & : & 5\\\\\n",
    "        0 & 0 & 0 & 1 & : & 0\\\\\n",
    "        0 & 0 & 0 & 0 & : & 0\n",
    "\t\\end{bmatrix}\n",
    "\t\\begin{bmatrix}\n",
    "        2 & 1 & 2 & 2 & : & 6\\\\\n",
    "        0 & 3 & 4 & 1 & : & 5\\\\\n",
    "        0 & 0 & 1 & 1 & : & 0\\\\\n",
    "        0 & 0 & 0 & 3 & : & 0\n",
    "\t\\end{bmatrix}\n",
    "\t\\begin{bmatrix}\n",
    "        2 & 1 & 2 & 2 & : & 6\\\\\n",
    "        0 & 3 & 4 & 1 & : & 5\\\\\n",
    "        2 & 4 & 6 & 3 & : & 0\\\\\n",
    "        0 & 0 & 0 & 0 & : & 0\n",
    "\t\\end{bmatrix}\n",
    "\\end{align*}\n",
    "\n",
    "La primera matriz extendida es inconsistente ya que tiene un elemento delantero en los términos constantes.\n",
    "\n",
    "Las matrices extendidas segunda y tercera son consistentes ya que están en forma escalón y sus pivotes no son términos constantes. La segunda matriz tiene infinitas soluciones ya que tiene al menos una variable libre. La tercera matriz tiene solución única ya que no tiene variables libres.\n",
    "\n",
    "Para la cuarta matriz extendida, no podemos afirmar a priori que sea inconsistente, porque no tiene elementos delanteros en los términos constantes. Tampoco podemos afirmar a priori que sea consistente, ya que no está en forma escalón.   "
   ]
  },
  {
   "cell_type": "markdown",
   "metadata": {
    "id": "7QwkIsRAFRLX"
   },
   "source": [
    "### E3\n",
    "'Cada elemento delantero es $1$ (y se llama __1 delantero__).'\n",
    "\n",
    "En [Gro06] se define una matriz __escalonada__ (por renglones) como la matriz que cumple (E1), (E2) y (E3).\n",
    "\n",
    "La siguiente matriz es un ejemplo de una matriz escalonada.\n",
    "\n",
    "\\begin{align*}\n",
    "\t\\begin{aligned}\n",
    "\t\t1 x_0 + 1 x_1 + 2 x_2 + 2 x_3 &= 6\\\\\n",
    "\t\t0 x_0 + 1 x_1 + 4 x_2 + 1 x_3 &= 5 \\\\\n",
    "\t\t0 x_0 + 0 x_1 + 0 x_2 + 1 x_3 &= 0\\\\\n",
    "\t\t0 x_0 + 0 x_1 + 0 x_2 + 0 x_3 &= 0\\\\\n",
    "\t\t0 x_0 + 0 x_1 + 0 x_2 + 0 x_3 &= 0\n",
    "\t\\end{aligned} \\ \\ \\\n",
    "\t\\begin{bmatrix}\n",
    "\t\t1 & 1 & 2 & 2 & : & 6\\\\\n",
    "\t\t0 & 1 & 4 & 1 & : & 5\\\\\n",
    "\t\t0 & 0 & 0 & 1 & : & 0\\\\\n",
    "\t\t0 & 0 & 0 & 0 & : & 0\\\\\n",
    "\t\t0 & 0 & 0 & 0 & : & 0\n",
    "\t\\end{bmatrix}\n",
    "\\end{align*}\n",
    "\n",
    "¿Cuál es la ventaja de E3?\n",
    "\n",
    "### E4\n",
    "\n",
    "'Arriba y abajo de cada elemento delantero hay ceros.'\n",
    "\n",
    "Una matriz está en forma __escalón reducida__ o es __escalonada reducida__ si cumple (E1), (E2), (E3) y (E4).\n",
    "\n",
    "La siguiente matriz es un ejemplo de una matriz reducida.\n",
    "\n",
    "$$\\begin{aligned}\n",
    "\t\t1 x_0 + 0 x_1 + 2 x_2 + 0 x_3 &= 6\\\\\n",
    "\t\t0 x_0 + 1 x_1 + 4 x_2 + 0 x_3 &= 5 \\\\\n",
    "\t\t0 x_0 + 0 x_1 + 0 x_2 + 1 x_3 &= 0\\\\\n",
    "\t\t0 x_0 + 0 x_1 + 0 x_2 + 0 x_3 &= 0\\\\\n",
    "\t\t0 x_0 + 0 x_1 + 0 x_2 + 0 x_3 &= 0\n",
    "\t\\end{aligned} \\ \\ \\ \n",
    "    \t\\begin{bmatrix}\n",
    "\t\t1 & 0 & 2 & 0 & : & 6\\\\\n",
    "\t\t0 & 1 & 4 & 0 & : & 5\\\\\n",
    "\t\t0 & 0 & 0 & 1 & : & 0\\\\\n",
    "\t\t0 & 0 & 0 & 0 & : & 0\\\\\n",
    "\t\t0 & 0 & 0 & 0 & : & 0\n",
    "\t\\end{bmatrix}$$\n",
    "\n",
    "En las matrices en escalón reducida, las variables delanteras se encuentran prácticamente despejadas y están en función de las variables libres (a estas últimas hay que asignarle parámetros). Lo cual se puede observar en el ejemplo anterior.\n",
    "\\begin{align}\n",
    "x_2&=t\\\\\n",
    "x_3&=0\\\\\n",
    "x_1&=5-4t\\\\\n",
    "x_0&=6-2t\n",
    "\\end{align}\n",
    "\n"
   ]
  },
  {
   "cell_type": "markdown",
   "metadata": {
    "id": "VWLOFt_DFRLX"
   },
   "source": [
    "# Operaciones elementales\n",
    "[Nakos, Sec. 1.1]\n",
    "\n",
    "Las siguientes operaciones entre los renglones de una matriz: \n",
    "* Intercambio de renglón. $R_i \\leftrightarrow R_j$ \n",
    "* Multiplica un renglones por un escalar (diferente de cero). $kR_i \\rightarrow R_i$ \n",
    "* Suma un múltiplo (no nulo) de un renglón a otro. $kR_j + R_i \\rightarrow R_i$ \n",
    "\n",
    "se llaman __operaciones elementales__ y cumplen que:\n",
    "* no alteran la solución del sistema de ecuaciones,\n",
    "* permiten modificar la matriz para que cumplan las propiedades E1, E2, E3 y E4. \n",
    "\n",
    "La operación $k_jR_j + k_iR_i \\rightarrow R_i$ corresponde a realizar:\n",
    "* primero  $k_iR_i \\rightarrow R_i$, \n",
    "* luego $k_jR_j + R_i \\rightarrow R_i$. \n",
    "\n",
    "Dos matrices se dice que son __equivalentes__ si es posible pasar de una a la otra por medio de operaciones elementales y se denota $A \\sim B$.  \n",
    "\n",
    "A continuación, se dan ejemplos de las operaciones elementales."
   ]
  },
  {
   "cell_type": "code",
   "execution_count": null,
   "metadata": {
    "id": "fhipsw3aFRLY",
    "outputId": "c9d7d121-061e-4523-9014-16fc87636a97"
   },
   "outputs": [
    {
     "data": {
      "text/plain": [
       "matrix([[  0,   3,  -6],\n",
       "        [ -1,   3, -10],\n",
       "        [  4,  -9,  34],\n",
       "        [  2,  -6,  20]])"
      ]
     },
     "execution_count": 127,
     "metadata": {
      "tags": []
     },
     "output_type": "execute_result"
    }
   ],
   "source": [
    "B = np.matrix([\n",
    "    [0, 3, -6, ],\n",
    "    [-1, 3, -10],\n",
    "    [4, -9, 34],\n",
    "    [2, -6, 20]\n",
    "])\n",
    "\n",
    "B"
   ]
  },
  {
   "cell_type": "code",
   "execution_count": null,
   "metadata": {
    "id": "KkAX-ostFRLZ",
    "outputId": "9173a86c-d55a-44d4-aee7-4e464c050700"
   },
   "outputs": [
    {
     "data": {
      "text/plain": [
       "matrix([[  2,  -6,  20],\n",
       "        [ -1,   3, -10],\n",
       "        [  4,  -9,  34],\n",
       "        [  0,   3,  -6]])"
      ]
     },
     "execution_count": 128,
     "metadata": {
      "tags": []
     },
     "output_type": "execute_result"
    }
   ],
   "source": [
    "# Intercambiar el renglón 0 con el renglón 3, \n",
    "# R0 <-> R3\n",
    "\n",
    "B[[0,3],:] = B[[3,0],:]\n",
    "B"
   ]
  },
  {
   "cell_type": "code",
   "execution_count": null,
   "metadata": {
    "id": "43iQusdYFRLZ",
    "outputId": "316b4930-b873-4482-d96f-68ae650fcf0e"
   },
   "outputs": [
    {
     "data": {
      "text/plain": [
       "matrix([[  1,  -3,  10],\n",
       "        [ -1,   3, -10],\n",
       "        [  4,  -9,  34],\n",
       "        [  0,   3,  -6]])"
      ]
     },
     "execution_count": 129,
     "metadata": {
      "tags": []
     },
     "output_type": "execute_result"
    }
   ],
   "source": [
    "# Multiplicar el renglón 0  por un 1/2, \n",
    "# (1/2)R0 -> R0\n",
    "\n",
    "B[0,:] *= 1/2   #  B[0,:] = B[0,:]*1/2\n",
    "B"
   ]
  },
  {
   "cell_type": "code",
   "execution_count": null,
   "metadata": {
    "id": "IyD65bnfFRLZ",
    "outputId": "c6bdcf39-8432-49b9-8d38-f35ee80f534b"
   },
   "outputs": [
    {
     "data": {
      "text/plain": [
       "matrix([[  1,  -3,  10],\n",
       "        [ -1,   3, -10],\n",
       "        [  0,   3,  -6],\n",
       "        [  0,   3,  -6]])"
      ]
     },
     "execution_count": 130,
     "metadata": {
      "tags": []
     },
     "output_type": "execute_result"
    }
   ],
   "source": [
    "# Suma (-4) veces el renglón 0 al renglón 2, \n",
    "# -4R0 + R2 -> R2\n",
    "\n",
    "B[2,:] += -4*B[0,:]  #  B[2,:] = B[2,:] + (-4)*B[0,:]\n",
    "B"
   ]
  },
  {
   "cell_type": "markdown",
   "metadata": {
    "id": "_GL_OAw4FRLa"
   },
   "source": [
    "# Operaciones no idempotentes y las celdas de Jupyter\n",
    "Una operación es **idempotente** si da lo mismo realizarla una vez o más de una vez. Por ejemplo, el valor absoluto es una operación idempotente. Pero el cambio de signo no es una operación idempotente.\n",
    "\n",
    "Las operaciones entre renglones usualmente no son operaciones idempotentes, entonces si usted ejecuta la celda de Jupyter dos veces, realizará dos veces la operación elemental y eso puede ser un inconveniente. \n",
    "\n",
    "Para solucionar ese problema es mejor que <u>**ejecute todas las celdas**</u>, para eso le recomiendo usar la opción que hay en el menú de ejecutar todo.  \n",
    "\n",
    "# Si debe cambiar una operación elemental, antes de ejecutarla debe ejecutar TODAS las celdas ANTERIORES.  \n",
    "\n",
    "Quiero recordar que las variables en Jupyter se actualizan en el orden en que se ejecutan las celdas. Si usted ejecuta las celdas en desorden las variables pueden tener valores inesperados. Es por esto mi insistencia en el uso de la opción del menú que <u>ejecuta todas las celdas</u>."
   ]
  },
  {
   "cell_type": "markdown",
   "metadata": {
    "id": "kBa6oyX1FRLa"
   },
   "source": [
    "# Eliminación de Gauss\n",
    "[Nakos, Sec. 1.2]\n",
    "\n",
    "\n",
    "Una matriz se puede transformar a la forma escalón mediante los siguientes cuatro pasos. El último paso la convierte a la forma escalón reducida.\n",
    "1. Vaya a la columna extrema izquierda que no sea de ceros.\n",
    "2. Si el primer renglón tiene un cero en la columna del paso (1), intercámbielo con uno que tenga un elemento no cero en la misma columna.\n",
    "3. Obtenga ceros debajo del elemento delantero, sumando múltiplos adecuados del renglón superior a los renglones debajo de él.\n",
    "4. Cubra el renglón superior y repita el mismo proceso comenzando por el paso (1) aplicado a la sub-matriz restante. Repita este proceso con el resto de los renglones.\n",
    "5. Comenzando con el último renglón no cero, avance hacia arriba: para cada renglón obtenga un 1 delantero e introduzca ceros arriba de él, sumando múltiplos adecuados a los renglones correspondientes. "
   ]
  },
  {
   "cell_type": "markdown",
   "metadata": {
    "id": "YA70LJGGFRLa"
   },
   "source": [
    "## Ejemplo\n",
    "\n",
    "Utilizando el algoritmo de Gauss, encuentre la solución general del siguiente sistema de ecuaciones. En la variable `respuesta_ejemplo` asigne una tupla con la tupla de la solución particular trivial y las tuplas de las soluciones particulares básicas, si existen, cómo se realizó en el taller de sistemas de ecuaciones escalón.\n",
    "\n",
    "$\\matrix{\n",
    "0a + 3b - 6c - 4d - 3e = -5\\\\\n",
    "-1a + 3b - 10c - 4d - 4e = -2\\\\\n",
    "4a - 9b + 34c + 0d + 1e = -21\\\\\n",
    "2a - 6b + 20c + 2d + 8e = -8}$\n",
    "\n",
    "## Solución\n",
    "\n"
   ]
  },
  {
   "cell_type": "code",
   "execution_count": null,
   "metadata": {
    "id": "sAWTySKSFRLb",
    "outputId": "fef04dc9-5089-4e96-e70d-86f88f1e0427"
   },
   "outputs": [
    {
     "data": {
      "text/plain": [
       "matrix([[  0,   3,  -6,  -4,  -3,  -5],\n",
       "        [ -1,   3, -10,  -4,  -4,  -2],\n",
       "        [  4,  -9,  34,   0,   1, -21],\n",
       "        [  2,  -6,  20,   2,   8,  -8]])"
      ]
     },
     "execution_count": 131,
     "metadata": {
      "tags": []
     },
     "output_type": "execute_result"
    }
   ],
   "source": [
    "C=np.matrix([\n",
    "    [0,  3,  -6, -4, -3, -5 ],\n",
    "    [-1, 3, -10, -4, -4, -2 ],\n",
    "    [4, -9,  34,  0,  1, -21],\n",
    "    [2, -6,  20,  2,  8, -8 ]\n",
    "])\n",
    "C"
   ]
  },
  {
   "cell_type": "markdown",
   "metadata": {
    "id": "qVFozCDIFRLb"
   },
   "source": [
    "Como el elemento `C[0,0]` es un 0, y bajo él hay elementos diferentes de cero es necesario cambiar el renglón 0 por otro renglón. Se escogió el renglón 1 ya que bajo el cero hay un -1, el cual divide al 4 a al 2 que también están bajo el 0.  "
   ]
  },
  {
   "cell_type": "code",
   "execution_count": null,
   "metadata": {
    "id": "dqGONOZZFRLb",
    "outputId": "a2ca76a8-d1de-4198-f3ac-1f140a2bc59c"
   },
   "outputs": [
    {
     "data": {
      "text/plain": [
       "matrix([[ -1,   3, -10,  -4,  -4,  -2],\n",
       "        [  0,   3,  -6,  -4,  -3,  -5],\n",
       "        [  4,  -9,  34,   0,   1, -21],\n",
       "        [  2,  -6,  20,   2,   8,  -8]])"
      ]
     },
     "execution_count": 132,
     "metadata": {
      "tags": []
     },
     "output_type": "execute_result"
    }
   ],
   "source": [
    "#R1<->R0\n",
    "C[[0,1],:]=C[[1,0],:]\n",
    "C"
   ]
  },
  {
   "cell_type": "markdown",
   "metadata": {
    "id": "D5_F31C0FRLb"
   },
   "source": [
    "Ahora hay que eliminar los elementos diferentes de cero que están bajo el -1. Primero se elimina el 4. Sumando al renglón 2, 4 veces el renglón 0.  "
   ]
  },
  {
   "cell_type": "code",
   "execution_count": null,
   "metadata": {
    "id": "FuAS9my4FRLc",
    "outputId": "1c5094bb-f028-4c2f-804b-c63bd84aa49c"
   },
   "outputs": [
    {
     "data": {
      "text/plain": [
       "matrix([[ -1,   3, -10,  -4,  -4,  -2],\n",
       "        [  0,   3,  -6,  -4,  -3,  -5],\n",
       "        [  0,   3,  -6, -16, -15, -29],\n",
       "        [  2,  -6,  20,   2,   8,  -8]])"
      ]
     },
     "execution_count": 133,
     "metadata": {
      "tags": []
     },
     "output_type": "execute_result"
    }
   ],
   "source": [
    "# 4R0 + R2 -> R2\n",
    "C[2,:] += 4*C[0,:]      # C[2,:] = C[2,:] + 4*C[0,:]\n",
    "C"
   ]
  },
  {
   "cell_type": "markdown",
   "metadata": {
    "id": "cJXP_soeFRLc"
   },
   "source": [
    "Ahora hay que eliminar el 2 que está bajo el -1. Sumando al renglón 3, 2 veces el renglón 0.  "
   ]
  },
  {
   "cell_type": "code",
   "execution_count": null,
   "metadata": {
    "id": "dkTOZe__FRLc",
    "outputId": "348e55c8-ff8a-4280-9da8-2ee5bad0de51"
   },
   "outputs": [
    {
     "data": {
      "text/plain": [
       "matrix([[ -1,   3, -10,  -4,  -4,  -2],\n",
       "        [  0,   3,  -6,  -4,  -3,  -5],\n",
       "        [  0,   3,  -6, -16, -15, -29],\n",
       "        [  0,   0,   0,  -6,   0, -12]])"
      ]
     },
     "execution_count": 134,
     "metadata": {
      "tags": []
     },
     "output_type": "execute_result"
    }
   ],
   "source": [
    "# 2R0 + R3 -> R3\n",
    "C[3,:] += 2*C[0,:]\n",
    "C"
   ]
  },
  {
   "cell_type": "markdown",
   "metadata": {
    "id": "kj8aSzChFRLc"
   },
   "source": [
    "El -1 va a ser el pivote de la columna 0 y del renglón 0. \n",
    "\n",
    "Ahora pasamos a la segunda columna e ignoramos el renglón 0. Con `C[1,1]`, que es un 3, se elimina el contenido de `C[2,1]`, que es otro 3. Para hacer esto, basta con restarle el renglón 1 al renglón 2. "
   ]
  },
  {
   "cell_type": "code",
   "execution_count": null,
   "metadata": {
    "id": "EUFcHUXFFRLc",
    "outputId": "eaf45876-191d-4e2e-8d71-759bebb484b0"
   },
   "outputs": [
    {
     "data": {
      "text/plain": [
       "matrix([[ -1,   3, -10,  -4,  -4,  -2],\n",
       "        [  0,   3,  -6,  -4,  -3,  -5],\n",
       "        [  0,   0,   0, -12, -12, -24],\n",
       "        [  0,   0,   0,  -6,   0, -12]])"
      ]
     },
     "execution_count": 135,
     "metadata": {
      "tags": []
     },
     "output_type": "execute_result"
    }
   ],
   "source": [
    "# -R1 + R2 -> R2\n",
    "C[2,:] += -C[1,:]\n",
    "C"
   ]
  },
  {
   "cell_type": "markdown",
   "metadata": {
    "id": "tCaSCqtxFRLd"
   },
   "source": [
    "El 3 de `C[1,1]` va a ser el pivote de la columna 1 y del renglón 1. \n",
    "\n",
    "Ahora ignoramos el renglón 0 y el renglón 1. Al pasar a la columna 2, la que tiene en los renglones ignorados -10 y -6, vemos que en los otros renglones sólo tiene ceros, por lo tanto esta columna no tendrá pivote. \n",
    "\n",
    "La columna 2 no va a tener pivote."
   ]
  },
  {
   "cell_type": "code",
   "execution_count": null,
   "metadata": {
    "id": "b4xxA3o1FRLd",
    "outputId": "cfda362f-5521-409d-9601-f90d7c62c500"
   },
   "outputs": [
    {
     "data": {
      "text/plain": [
       "matrix([[ -1,   3, -10,  -4,  -4,  -2],\n",
       "        [  0,   3,  -6,  -4,  -3,  -5],\n",
       "        [  0,   0,   0, -12, -12, -24],\n",
       "        [  0,   0,   0,  -6,   0, -12]])"
      ]
     },
     "execution_count": 136,
     "metadata": {
      "tags": []
     },
     "output_type": "execute_result"
    }
   ],
   "source": [
    "C"
   ]
  },
  {
   "cell_type": "markdown",
   "metadata": {
    "id": "kqmV6HsWFRLd"
   },
   "source": [
    "Al ver la columna 3, en los dos últimos renglones hay un -12 y un -6. Con el -12 hay que eliminar el -6. Una forma es sumar el renglón 2  a menos dos veces el renglón 3. Esta no es una operación elemental ya que el renglón de destino se multiplica por -2. Pero es equivalente a dos operaciones elementales, como se explicó anteriormente."
   ]
  },
  {
   "cell_type": "code",
   "execution_count": null,
   "metadata": {
    "id": "n2j908xkFRLe",
    "outputId": "c6ec2bd9-4913-4ede-dce7-c3f15c26750b"
   },
   "outputs": [
    {
     "data": {
      "text/plain": [
       "matrix([[ -1,   3, -10,  -4,  -4,  -2],\n",
       "        [  0,   3,  -6,  -4,  -3,  -5],\n",
       "        [  0,   0,   0, -12, -12, -24],\n",
       "        [  0,   0,   0,   0, -12,   0]])"
      ]
     },
     "execution_count": 137,
     "metadata": {
      "tags": []
     },
     "output_type": "execute_result"
    }
   ],
   "source": [
    "# R2 - 2R3 -> R3\n",
    "C[3,:] = C[2,:] + (-2)*C[3,:] \n",
    "C"
   ]
  },
  {
   "cell_type": "markdown",
   "metadata": {
    "id": "m5iVqiF_FRLe"
   },
   "source": [
    "Con esto hemos obtenido una <u>matriz escalón</u>. Con lo cual se pueden ubicar los pivotes en `C[0,0]`, `C[1,1]`, `C[2,3]` y en `C[3,4]`.\n",
    "\n",
    "Ahora se puede continuar con el proceso hasta obtener una matriz reducida."
   ]
  },
  {
   "cell_type": "code",
   "execution_count": null,
   "metadata": {
    "id": "MWmAiz3mFRLe",
    "outputId": "d53bf9c2-e313-41c5-db3a-2c6e15c51c13"
   },
   "outputs": [
    {
     "data": {
      "text/plain": [
       "matrix([[ -1,   3, -10,  -4,  -4,  -2],\n",
       "        [  0,   3,  -6,  -4,  -3,  -5],\n",
       "        [  0,   0,   0, -12, -12, -24],\n",
       "        [  0,   0,   0,   0,   1,   0]])"
      ]
     },
     "execution_count": 138,
     "metadata": {
      "tags": []
     },
     "output_type": "execute_result"
    }
   ],
   "source": [
    "# -(1/12)R3 -> R3\n",
    "\n",
    "C[3,:] *= -1/12\n",
    "C"
   ]
  },
  {
   "cell_type": "code",
   "execution_count": null,
   "metadata": {
    "id": "STnWcbIuFRLe",
    "outputId": "9c8c702c-898a-4bc3-cea7-adba9ed2cd16"
   },
   "outputs": [
    {
     "data": {
      "text/plain": [
       "matrix([[ -1,   3, -10,  -4,   0,  -2],\n",
       "        [  0,   3,  -6,  -4,   0,  -5],\n",
       "        [  0,   0,   0, -12,   0, -24],\n",
       "        [  0,   0,   0,   0,   1,   0]])"
      ]
     },
     "execution_count": 139,
     "metadata": {
      "tags": []
     },
     "output_type": "execute_result"
    }
   ],
   "source": [
    "C[2,:] += 12*C[3] # 12 R3 + R2 -> R2\n",
    "C[1,:] += 3*C[3]  # 3  R3 + R1 -> R1\n",
    "C[0,:] += 4*C[3]  # 4  R3 + R0 -> R0\n",
    "C"
   ]
  },
  {
   "cell_type": "code",
   "execution_count": null,
   "metadata": {
    "id": "-6wiz6erFRLf",
    "outputId": "61128d3c-e9df-429a-cf44-65624c46139e"
   },
   "outputs": [
    {
     "data": {
      "text/plain": [
       "matrix([[ -1,   3, -10,  -4,   0,  -2],\n",
       "        [  0,   3,  -6,  -4,   0,  -5],\n",
       "        [  0,   0,   0,   1,   0,   2],\n",
       "        [  0,   0,   0,   0,   1,   0]])"
      ]
     },
     "execution_count": 140,
     "metadata": {
      "tags": []
     },
     "output_type": "execute_result"
    }
   ],
   "source": [
    "# -(1/12)R2 -> R2\n",
    "\n",
    "C[2,:] *= -1/12  \n",
    "C"
   ]
  },
  {
   "cell_type": "code",
   "execution_count": null,
   "metadata": {
    "id": "aFYBVz9zFRLf",
    "outputId": "60db78bc-0afd-45cd-feb5-a817e51c6b45"
   },
   "outputs": [
    {
     "data": {
      "text/plain": [
       "matrix([[ -1,   3, -10,   0,   0,   6],\n",
       "        [  0,   3,  -6,   0,   0,   3],\n",
       "        [  0,   0,   0,   1,   0,   2],\n",
       "        [  0,   0,   0,   0,   1,   0]])"
      ]
     },
     "execution_count": 141,
     "metadata": {
      "tags": []
     },
     "output_type": "execute_result"
    }
   ],
   "source": [
    "C[1,:] += 4*C[2] # 4 R2 + R1 -> R1\n",
    "C[0,:] += 4*C[2] # 4 R2 + R0 -> R0\n",
    "C"
   ]
  },
  {
   "cell_type": "code",
   "execution_count": null,
   "metadata": {
    "id": "0Kt2Y9DeFRLf",
    "outputId": "e0ccc7c2-6293-485c-85a8-e09c65c84a94"
   },
   "outputs": [
    {
     "data": {
      "text/plain": [
       "matrix([[ -1,   3, -10,   0,   0,   6],\n",
       "        [  0,   1,  -2,   0,   0,   1],\n",
       "        [  0,   0,   0,   1,   0,   2],\n",
       "        [  0,   0,   0,   0,   1,   0]])"
      ]
     },
     "execution_count": 142,
     "metadata": {
      "tags": []
     },
     "output_type": "execute_result"
    }
   ],
   "source": [
    "# (1/3)R1 -> R1\n",
    "\n",
    "C[1,:] *= 1/3\n",
    "C"
   ]
  },
  {
   "cell_type": "code",
   "execution_count": null,
   "metadata": {
    "id": "n6kqOobUFRLf",
    "outputId": "d7af72d6-f844-41db-bf34-9aa1f82db7c5"
   },
   "outputs": [
    {
     "data": {
      "text/plain": [
       "matrix([[-1,  0, -4,  0,  0,  3],\n",
       "        [ 0,  1, -2,  0,  0,  1],\n",
       "        [ 0,  0,  0,  1,  0,  2],\n",
       "        [ 0,  0,  0,  0,  1,  0]])"
      ]
     },
     "execution_count": 143,
     "metadata": {
      "tags": []
     },
     "output_type": "execute_result"
    }
   ],
   "source": [
    "# R0 - 3R1 -> R1\n",
    "\n",
    "C[0,:] += -3*C[1]\n",
    "C"
   ]
  },
  {
   "cell_type": "code",
   "execution_count": null,
   "metadata": {
    "id": "bjZQU9JbFRLg",
    "outputId": "869a7671-fa5b-4a62-c9a4-33e5ef515a70",
    "scrolled": true
   },
   "outputs": [
    {
     "data": {
      "text/plain": [
       "matrix([[ 1,  0,  4,  0,  0, -3],\n",
       "        [ 0,  1, -2,  0,  0,  1],\n",
       "        [ 0,  0,  0,  1,  0,  2],\n",
       "        [ 0,  0,  0,  0,  1,  0]])"
      ]
     },
     "execution_count": 144,
     "metadata": {
      "tags": []
     },
     "output_type": "execute_result"
    }
   ],
   "source": [
    "# -R0 -> R0\n",
    "\n",
    "C[0,:] *= -1\n",
    "C"
   ]
  },
  {
   "cell_type": "markdown",
   "metadata": {
    "id": "PWzesY7EFRLg"
   },
   "source": [
    "La anterior matriz ya se encuentra reducida. El sistema de ecuaciones que le corresponde es el siguiente.\n",
    "\n",
    "$\\matrix{\n",
    "1a + 0b + 4c + 0d + 0e =-3\\\\\n",
    "0a + 1b - 2c + 0d + 0e = 1\\\\\n",
    "0a + 0b + 0c + 1d + 0e = 2\\\\\n",
    "0a + 0b + 0c + 0d + 1e = 0}$\n",
    "\n"
   ]
  },
  {
   "cell_type": "markdown",
   "metadata": {
    "id": "OD75VBR2FRLg"
   },
   "source": [
    "La única variable libre es $c=t$.\n",
    "\n",
    "Ahora despejamos las variables delanteras de abajo hacia arriba:\n",
    "\n",
    "$\\matrix{\n",
    "e=0\\\\\n",
    "d=2\\\\\n",
    "b=1+2t\\\\\n",
    "a=-3-4t}$\n",
    "\n",
    "Por lo tanto la solución general es\n",
    "\n",
    "$\\left( \\matrix{a \\\\ b \\\\ c \\\\ d \\\\ e} \\right)\n",
    "=\\left( \\matrix{-3 \\\\1  \\\\0  \\\\2  \\\\0   } \\right)\n",
    "+t\\left( \\matrix{-4 \\\\2  \\\\1  \\\\0  \\\\ 0  } \\right)\n",
    "$\n",
    "\n",
    "La solución particular trivial es\n",
    "$\\left( \\matrix{-3 \\\\1  \\\\0  \\\\2  \\\\0   } \\right)\n",
    "+0\\left( \\matrix{-4 \\\\2  \\\\1  \\\\0  \\\\ 0  } \\right)\n",
    "=\\left( \\matrix{-3 \\\\1  \\\\0  \\\\2  \\\\0   } \\right)\n",
    "$\n",
    "\n",
    "Como sólo hay un parámetro entonces sólo hay una solución particular básica \n",
    "$\\left( \\matrix{-3 \\\\1  \\\\0  \\\\2  \\\\0   } \\right)\n",
    "+1\\left( \\matrix{-4 \\\\2  \\\\1  \\\\0  \\\\ 0  } \\right)\n",
    "=\\left( \\matrix{-7 \\\\3  \\\\1  \\\\2  \\\\0   } \\right)\n",
    "$\n",
    "\n",
    "A continuación verificamos que ambas soluciones particulares cumplan con las 4 ecuaciones. Comenzamos probando la solución particular trivial."
   ]
  },
  {
   "cell_type": "code",
   "execution_count": null,
   "metadata": {
    "id": "P-iWMvgVFRLg",
    "outputId": "fc89b323-aaea-4be1-e951-be3dd827b139"
   },
   "outputs": [
    {
     "data": {
      "text/plain": [
       "(-3, 1, 0, 2, 0)"
      ]
     },
     "execution_count": 145,
     "metadata": {
      "tags": []
     },
     "output_type": "execute_result"
    }
   ],
   "source": [
    "(a, b, c, d, e)=(-3, 1, 0, 2, 0)\n",
    "(a, b, c, d, e)"
   ]
  },
  {
   "cell_type": "code",
   "execution_count": null,
   "metadata": {
    "id": "B-3JF9kbFRLh",
    "outputId": "91256e80-b4d5-43b3-c04e-469c897aa31b"
   },
   "outputs": [
    {
     "data": {
      "text/plain": [
       "True"
      ]
     },
     "execution_count": 146,
     "metadata": {
      "tags": []
     },
     "output_type": "execute_result"
    }
   ],
   "source": [
    "0*a + 3*b - 6*c - 4*d - 3*e ==-5\n"
   ]
  },
  {
   "cell_type": "code",
   "execution_count": null,
   "metadata": {
    "id": "-8Aa85iPFRLh",
    "outputId": "829ba15e-e869-440e-d012-ca075e437c53"
   },
   "outputs": [
    {
     "data": {
      "text/plain": [
       "True"
      ]
     },
     "execution_count": 147,
     "metadata": {
      "tags": []
     },
     "output_type": "execute_result"
    }
   ],
   "source": [
    "-1*a + 3*b -10*c - 4*d - 4*e == -2 "
   ]
  },
  {
   "cell_type": "code",
   "execution_count": null,
   "metadata": {
    "id": "udyMyXwUFRLh",
    "outputId": "7348022d-79cf-40de-ccd3-506711628617"
   },
   "outputs": [
    {
     "data": {
      "text/plain": [
       "True"
      ]
     },
     "execution_count": 148,
     "metadata": {
      "tags": []
     },
     "output_type": "execute_result"
    }
   ],
   "source": [
    "4*a - 9*b + 34*c + 0*d + 1*e == -21\n"
   ]
  },
  {
   "cell_type": "code",
   "execution_count": null,
   "metadata": {
    "id": "C3m0o0jAFRLh",
    "outputId": "edc341fb-59e4-48d0-c0eb-44606c1fc9ea"
   },
   "outputs": [
    {
     "data": {
      "text/plain": [
       "True"
      ]
     },
     "execution_count": 149,
     "metadata": {
      "tags": []
     },
     "output_type": "execute_result"
    }
   ],
   "source": [
    "2*a - 6*b + 20*c + 2*d + 8*e == -8 "
   ]
  },
  {
   "cell_type": "markdown",
   "metadata": {
    "id": "iY3GI7LEFRLi"
   },
   "source": [
    "Ahora verificamos la solución particular básica"
   ]
  },
  {
   "cell_type": "code",
   "execution_count": null,
   "metadata": {
    "id": "36p0IMrMFRLi",
    "outputId": "9eb7056b-14b4-4da7-c2c1-25a944a01e3d"
   },
   "outputs": [
    {
     "data": {
      "text/plain": [
       "(-7, 3, 1, 2, 0)"
      ]
     },
     "execution_count": 150,
     "metadata": {
      "tags": []
     },
     "output_type": "execute_result"
    }
   ],
   "source": [
    "(a, b, c, d, e)=(-7, 3, 1, 2, 0 )\n",
    "(a, b, c, d, e)"
   ]
  },
  {
   "cell_type": "code",
   "execution_count": null,
   "metadata": {
    "id": "FAjBPxZ5FRLi",
    "outputId": "887213f9-bbe6-4d0b-9854-d5e541397c0d"
   },
   "outputs": [
    {
     "data": {
      "text/plain": [
       "True"
      ]
     },
     "execution_count": 151,
     "metadata": {
      "tags": []
     },
     "output_type": "execute_result"
    }
   ],
   "source": [
    "0*a + 3*b - 6*c - 4*d - 3*e ==-5\n"
   ]
  },
  {
   "cell_type": "code",
   "execution_count": null,
   "metadata": {
    "id": "mjxyVXJ3FRLj",
    "outputId": "318ba2b5-5ab9-4bd7-e11b-da6c7fbd9f9e"
   },
   "outputs": [
    {
     "data": {
      "text/plain": [
       "True"
      ]
     },
     "execution_count": 152,
     "metadata": {
      "tags": []
     },
     "output_type": "execute_result"
    }
   ],
   "source": [
    "-1*a + 3*b -10*c - 4*d - 4*e == -2 "
   ]
  },
  {
   "cell_type": "code",
   "execution_count": null,
   "metadata": {
    "id": "S-yr3Ti6FRLj",
    "outputId": "efd37a94-b618-43c7-de25-066c514d3965"
   },
   "outputs": [
    {
     "data": {
      "text/plain": [
       "True"
      ]
     },
     "execution_count": 153,
     "metadata": {
      "tags": []
     },
     "output_type": "execute_result"
    }
   ],
   "source": [
    "4*a - 9*b + 34*c + 0*d + 1*e == -21\n"
   ]
  },
  {
   "cell_type": "code",
   "execution_count": null,
   "metadata": {
    "id": "6gwvZcK6FRLj",
    "outputId": "f7666f0e-3562-4bdc-f4ad-8fc3b0bd91dd"
   },
   "outputs": [
    {
     "data": {
      "text/plain": [
       "True"
      ]
     },
     "execution_count": 154,
     "metadata": {
      "tags": []
     },
     "output_type": "execute_result"
    }
   ],
   "source": [
    "2*a - 6*b + 20*c + 2*d + 8*e == -8 "
   ]
  },
  {
   "cell_type": "markdown",
   "metadata": {
    "id": "1_FkXcLgFRLj"
   },
   "source": [
    "Luego de verificar los resultados escribimos la respuesta del ejercicio."
   ]
  },
  {
   "cell_type": "code",
   "execution_count": null,
   "metadata": {
    "id": "wOFEzn0gFRLk",
    "outputId": "f91112d7-4b22-477a-bf23-42dc92bd6f45"
   },
   "outputs": [
    {
     "data": {
      "text/plain": [
       "((-3, 1, 0, 2, 0), (-7, 3, 1, 2, 0))"
      ]
     },
     "execution_count": 155,
     "metadata": {
      "tags": []
     },
     "output_type": "execute_result"
    }
   ],
   "source": [
    "respuesta_ejemplo=(\n",
    "    (-3, 1, 0, 2, 0),    \n",
    "    (-7, 3, 1, 2, 0)\n",
    ")\n",
    "\n",
    "respuesta_ejemplo"
   ]
  },
  {
   "cell_type": "markdown",
   "metadata": {
    "id": "90s5FDEsFRLk"
   },
   "source": [
    "Recuerde que\n",
    "# Si debe cambiar una operación elemental, antes de ejecutarla debe <u>ejecutar TODAS las celdas ANTERIORES</u>."
   ]
  },
  {
   "cell_type": "code",
   "execution_count": null,
   "metadata": {
    "id": "t06HbkASFRLk"
   },
   "outputs": [],
   "source": [
    "nombre= '  escriba aquí su nombre   '\n",
    "código=0    # reemplazar el cero por su cógdio"
   ]
  },
  {
   "cell_type": "markdown",
   "metadata": {
    "id": "CgVyAAn4FRLk"
   },
   "source": [
    "## Ejercicio\n",
    "\n",
    "Utilizando el algoritmo de Gauss, encuentre:\n",
    "* la solución general del siguiente sistema de ecuaciones. \n",
    "* En la variable `respuesta_ejercicio` asigne una tupla con la tupla de la solución particular trivial y las tuplas de las soluciones particulares básicas, si existen, como se realizó en el taller de sistemas de ecuaciones escalón.\n",
    "\n",
    "$\\matrix{\n",
    "-2x_1 + ax_2 - bx_3 - (a+1)x_4 - (b-1)x_5 = -5\\\\\n",
    "0x_1 + 0x_2 - 10x_3 - 4x_4 - 4x_5 = -2\\\\\n",
    "6x_1 - 9x_2 + 34x_3 + 0x_4 + 1x_5 = -21}$\n",
    "\n",
    "Recuerde que $a$ es el último dígito de su código y que $b$ es el penúltimo dígito de su código."
   ]
  },
  {
   "cell_type": "code",
   "execution_count": null,
   "metadata": {
    "id": "KHTy3pnfFRLk"
   },
   "outputs": [],
   "source": [
    "respuesta_ejercicio=(\n",
    ")"
   ]
  }
 ],
 "metadata": {
  "colab": {
   "name": "Clase05_Repr2_MatrizExt_2020_mayo_6.ipynb",
   "provenance": []
  },
  "kernelspec": {
   "display_name": "Python 3",
   "language": "python",
   "name": "python3"
  },
  "language_info": {
   "codemirror_mode": {
    "name": "ipython",
    "version": 3
   },
   "file_extension": ".py",
   "mimetype": "text/x-python",
   "name": "python",
   "nbconvert_exporter": "python",
   "pygments_lexer": "ipython3",
   "version": "3.9.2"
  }
 },
 "nbformat": 4,
 "nbformat_minor": 1
}
