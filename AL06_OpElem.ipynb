{
  "nbformat": 4,
  "nbformat_minor": 0,
  "metadata": {
    "colab": {
      "name": "Clase05_Repr2_MatrizExt_2020_mayo_6.ipynb",
      "provenance": [],
      "include_colab_link": true
    },
    "kernelspec": {
      "display_name": "Python 3",
      "language": "python",
      "name": "python3"
    },
    "language_info": {
      "codemirror_mode": {
        "name": "ipython",
        "version": 3
      },
      "file_extension": ".py",
      "mimetype": "text/x-python",
      "name": "python",
      "nbconvert_exporter": "python",
      "pygments_lexer": "ipython3",
      "version": "3.9.2"
    }
  },
  "cells": [
    {
      "cell_type": "markdown",
      "metadata": {
        "id": "view-in-github",
        "colab_type": "text"
      },
      "source": [
        "<a href=\"https://colab.research.google.com/github/GerardoMunoz/PresentacionesAlgebraLineal/blob/main/AL06_OpElem.ipynb\" target=\"_parent\"><img src=\"https://colab.research.google.com/assets/colab-badge.svg\" alt=\"Open In Colab\"/></a>"
      ]
    },
    {
      "cell_type": "markdown",
      "metadata": {
        "id": "qEPYsXIbBss4"
      },
      "source": [
        "Lo invito a ver est cuaderno desde Colab o descarguelo a su computador. "
      ]
    },
    {
      "cell_type": "markdown",
      "metadata": {
        "id": "VWLOFt_DFRLX"
      },
      "source": [
        "# Notación\n",
        "Así como durante el <u>primer</u> año de vida tenemos <u>cero</u> años. También en Python y otros lenguajes de programación, el primer renglón de las matrices es el renglón cero. \n",
        "\n",
        "$$\\begin{matrix}\\text{renglón 0}\\\\\\text{renglón 1}\\\\\\text{renglón 2}\\end{matrix}\\begin{bmatrix}a&b&c&:&x\\\\d&e&f&:&y\\\\g&h&i&:&z\\end{bmatrix}$$\n",
        "\n",
        "\n",
        "Sin embargo, en otros lenguajes como Matlab, llaman el <u>primer</u> renglón, el renglón <u>uno</u>. Esto último coincide con la notación de la mayoría de los libros de álgebra lineal.\n",
        "\n",
        "$$\\begin{matrix}\\text{renglón 1}\\\\\\text{renglón 2}\\\\\\text{renglón 3}\\end{matrix}\\begin{bmatrix}a&b&c&:&x\\\\d&e&f&:&y\\\\g&h&i&:&z\\end{bmatrix}$$\n",
        "\n",
        "En este curso usaremos ambas notaciones. Si hay duda en que, si el primer renglón es el renglón cero o el renglón uno, lo invito a que pregunte para evitar confusiones.\n",
        "En particular para la clase de HOY, como usaremos Python, llamaremos el <u>primer</u> renglón el renglón <u>cero</u>.\n",
        "\n",
        "$$\\begin{matrix}\\text{renglón 0}\\\\\\text{renglón 1}\\\\\\text{renglón 2}\\end{matrix}\\begin{bmatrix}a&b&c&:&x\\\\d&e&f&:&y\\\\g&h&i&:&z\\end{bmatrix}$$\n",
        "\n",
        "\n",
        "\n",
        "\n",
        "\n",
        "# Operaciones elementales\n",
        "[Nakos, Sec. 1.1]\n",
        "\n",
        "En esta clase veremos cómo encontrar la solución de sistemas de ecuaciones que no cumplen con E1, E2, E3 o E4.\n",
        "\n",
        "Para esto definiremos las siguientes  __operaciones elementales__  entre los renglones de una matriz extendida, las cuales permiten modificar la matriz para que cumplan las propiedades E1, E2, E3 y E4. Pero lo más importante es que <u> no alteran la solución</u> del sistema de ecuaciones.\n",
        "\n",
        "* **Intercambio de renglones**. $r_i \\leftrightarrow r_j$\n",
        "\n",
        "$$\\begin{bmatrix}a&b&c&:&x\\\\d&e&f&:&y\\\\g&h&i&:&z\\end{bmatrix}r_0 \\leftrightarrow r_1\\begin{bmatrix}d&e&f&:&y\\\\a&b&c&:&x\\\\g&h&i&:&z\\end{bmatrix}$$\n",
        "\n",
        "El intercambio de renglones no afecta la solución del sistema de ecuaciones ya que el orden de las ecuaciones no altera la solución. \n",
        "\n",
        "* **Multiplica un renglón por un escalar** (diferente de cero). $kr_i \\rightarrow r_i$ \n",
        "$$\\begin{bmatrix}a&b&c&:&x\\\\d&e&f&:&y\\\\g&h&i&:&z\\end{bmatrix}  3r_2 \\rightarrow r_2 \\begin{bmatrix}a&b&c&:&x\\\\d&e&f&:&y\\\\3g&3h&3i&:&3z\\end{bmatrix}$$\n",
        "\n",
        "Al multiplicar un renglón por una constante no se altera la solución ya que la respectiva ecuación se multiplica a ambos lados por la misma constante.\n",
        "\n",
        "* **Suma un múltiplo (no nulo) de un renglón a otro**. $kr_j + 1r_i \\rightarrow r_i$ \n",
        "\n",
        "Observe que el renglón de destino ($r_i$) es multiplicado por 1, mientras que el otro renglón ($r_j$) sí es multiplicado por $k$.\n",
        "\n",
        "$$\\begin{bmatrix}a&b&c&:&x\\\\d&e&f&:&y\\\\g&h&i&:&z\\end{bmatrix} 3r_2 + r_1  \\rightarrow r_1$$ $$\\begin{bmatrix}a&b&c&:&x\\\\3g+d&3h+e&3i+f&:&3z+y\\\\g&h&i&:&z\\end{bmatrix}$$\n",
        "\n",
        "En las siguientes páginas el profesor Von Schmohawk visualiza esta operación en  $\\mathbb{R}^2$ y en $\\mathbb{R}^3$. \n",
        "\n",
        "* https://www.youtube.com/watch?v=fGq07lDUb9k&list=PL20023FA07684B937&index=38\n",
        "* https://www.youtube.com/watch?v=cB2t5VIVHZI&list=PL20023FA07684B937&index=48\n",
        "\n",
        "Más adelante, en nuestro curso, veremos el tema de la visualización. \n",
        "\n",
        "# Una operación no tan elemental\n",
        "\n",
        "La operación $k_jr_j + k_ir_i \\rightarrow r_i$ corresponde a realizar:\n",
        "* primero  $k_ir_i \\rightarrow r_i$, \n",
        "* luego $k_jr_j + r_i \\rightarrow r_i$. \n",
        "\n",
        "$$\\begin{bmatrix}a&b&c&:&x\\\\d&e&f&:&y\\\\g&h&i&:&z\\end{bmatrix} 3r_2 + 4r_1  \\rightarrow r_1$$ $$\\begin{bmatrix}a&b&c&:&x\\\\3g+4d&3h+4e&3i+4f&:&3z+4y\\\\g&h&i&:&z\\end{bmatrix}$$\n",
        "\n",
        "# Equivalencia de matrices\n",
        "Dos matrices se dice que son __equivalentes__ si es posible pasar de una a la otra por medio de operaciones elementales y se denota $A \\sim B$.  \n",
        "\n"
      ]
    },
    {
      "cell_type": "markdown",
      "metadata": {
        "id": "k1jYuSTKFRLN"
      },
      "source": [
        "## Uso de Python para hacer operaciones matriciales \n",
        "Antes de entrar en materia es conveniente saber que en Python el símbolo numeral `#` es usado para escribir comentarios. \n",
        "\n",
        "\n",
        "\n"
      ]
    },
    {
      "cell_type": "code",
      "metadata": {
        "colab": {
          "base_uri": "https://localhost:8080/"
        },
        "id": "gPUjlaWKpejB",
        "outputId": "0d00c88b-fde5-49fe-b7b1-633c901162e2"
      },
      "source": [
        "# Esto es un cometario de Python y por lo tanto no se ejecuta\n",
        "a=5\n",
        "\n",
        "a"
      ],
      "execution_count": null,
      "outputs": [
        {
          "output_type": "execute_result",
          "data": {
            "text/plain": [
              "5"
            ]
          },
          "metadata": {
            "tags": []
          },
          "execution_count": 2
        }
      ]
    },
    {
      "cell_type": "markdown",
      "metadata": {
        "id": "RTZq5a6QpfHK"
      },
      "source": [
        "A continuación, usaremos la librería `sympy` de Python, que permite realizar operaciones matriciales."
      ]
    },
    {
      "cell_type": "code",
      "metadata": {
        "id": "C4acJORQFRLO",
        "colab": {
          "base_uri": "https://localhost:8080/",
          "height": 99
        },
        "outputId": "2b89da32-0611-4e6b-acfb-87e4eef7eda7"
      },
      "source": [
        "import sympy as sp # Se llama la librería `sympy` con el alias `sp`.\n",
        "\n",
        "# se define en la matriz `A`\n",
        "\n",
        "A = sp.Matrix([\n",
        "    [0, 3, -6, ],\n",
        "    [3, 3, -10],\n",
        "    [4, -9, 34],\n",
        "    [2, -5, 20]\n",
        "])\n",
        "\n",
        "A"
      ],
      "execution_count": null,
      "outputs": [
        {
          "output_type": "execute_result",
          "data": {
            "text/latex": "$\\displaystyle \\left[\\begin{matrix}0 & 3 & -6\\\\3 & 3 & -10\\\\4 & -9 & 34\\\\2 & -5 & 20\\end{matrix}\\right]$",
            "text/plain": [
              "Matrix([\n",
              "[0,  3,  -6],\n",
              "[3,  3, -10],\n",
              "[4, -9,  34],\n",
              "[2, -5,  20]])"
            ]
          },
          "metadata": {
            "tags": []
          },
          "execution_count": 3
        }
      ]
    },
    {
      "cell_type": "code",
      "metadata": {
        "id": "CmRbT8OHFRLQ",
        "colab": {
          "base_uri": "https://localhost:8080/",
          "height": 37
        },
        "outputId": "c0ac433e-5cce-43c3-bbe0-f7a75e663a1e"
      },
      "source": [
        "# Obtener un elemento de la matriz\n",
        "# Renglón 0 y columna 0\n",
        "# Recuerde que comienza desde cero\n",
        "\n",
        "A[0,0]"
      ],
      "execution_count": null,
      "outputs": [
        {
          "output_type": "execute_result",
          "data": {
            "text/latex": "$\\displaystyle 0$",
            "text/plain": [
              "0"
            ]
          },
          "metadata": {
            "tags": []
          },
          "execution_count": 4
        }
      ]
    },
    {
      "cell_type": "code",
      "metadata": {
        "id": "M11B2HfeFRLQ",
        "colab": {
          "base_uri": "https://localhost:8080/",
          "height": 37
        },
        "outputId": "4c4590ad-4dba-434b-cad7-914ab9293f2d"
      },
      "source": [
        "# Obtener un elemento de la matriz\n",
        "# Renglón 1 y columna 2\n",
        "# Recuerde que comienza desde cero\n",
        "\n",
        "A[1,2]"
      ],
      "execution_count": null,
      "outputs": [
        {
          "output_type": "execute_result",
          "data": {
            "text/latex": "$\\displaystyle -10$",
            "text/plain": [
              "-10"
            ]
          },
          "metadata": {
            "tags": []
          },
          "execution_count": 5
        }
      ]
    },
    {
      "cell_type": "code",
      "metadata": {
        "id": "wRjiCFgJFRLQ",
        "colab": {
          "base_uri": "https://localhost:8080/",
          "height": 99
        },
        "outputId": "f9a7e4d4-7db0-4d23-d121-6681a3e51626"
      },
      "source": [
        "# Obtener la columna 2 de la matriz\n",
        "\n",
        "A[:,2]"
      ],
      "execution_count": null,
      "outputs": [
        {
          "output_type": "execute_result",
          "data": {
            "text/latex": "$\\displaystyle \\left[\\begin{matrix}-6\\\\-10\\\\34\\\\20\\end{matrix}\\right]$",
            "text/plain": [
              "Matrix([\n",
              "[ -6],\n",
              "[-10],\n",
              "[ 34],\n",
              "[ 20]])"
            ]
          },
          "metadata": {
            "tags": []
          },
          "execution_count": 6
        }
      ]
    },
    {
      "cell_type": "code",
      "metadata": {
        "id": "TE3DRHfYFRLR",
        "colab": {
          "base_uri": "https://localhost:8080/",
          "height": 38
        },
        "outputId": "cc537cd0-7a30-43ab-9ecf-320e97839317"
      },
      "source": [
        "# Obtener el renglón 1 de la matriz\n",
        "\n",
        "A[1,:]"
      ],
      "execution_count": null,
      "outputs": [
        {
          "output_type": "execute_result",
          "data": {
            "text/latex": "$\\displaystyle \\left[\\begin{matrix}3 & 3 & -10\\end{matrix}\\right]$",
            "text/plain": [
              "Matrix([[3, 3, -10]])"
            ]
          },
          "metadata": {
            "tags": []
          },
          "execution_count": 7
        }
      ]
    },
    {
      "cell_type": "code",
      "metadata": {
        "id": "oMak7SaSFRLR",
        "colab": {
          "base_uri": "https://localhost:8080/",
          "height": 58
        },
        "outputId": "fb27f7c4-69a5-406a-85cf-27fa42c24fa3"
      },
      "source": [
        "# Obtener los renglones 0 y 2\n",
        "\n",
        "A[[0,2],:]"
      ],
      "execution_count": null,
      "outputs": [
        {
          "output_type": "execute_result",
          "data": {
            "text/latex": "$\\displaystyle \\left[\\begin{matrix}0 & 3 & -6\\\\4 & -9 & 34\\end{matrix}\\right]$",
            "text/plain": [
              "Matrix([\n",
              "[0,  3, -6],\n",
              "[4, -9, 34]])"
            ]
          },
          "metadata": {
            "tags": []
          },
          "execution_count": 8
        }
      ]
    },
    {
      "cell_type": "code",
      "metadata": {
        "id": "IU8gTJmtFRLS",
        "colab": {
          "base_uri": "https://localhost:8080/",
          "height": 58
        },
        "outputId": "36b88e06-597d-4533-d57e-434182be8e72"
      },
      "source": [
        "# Obtener primero el renglón 2 y después el renglón 0\n",
        "\n",
        "A[[2,0],:]"
      ],
      "execution_count": null,
      "outputs": [
        {
          "output_type": "execute_result",
          "data": {
            "text/latex": "$\\displaystyle \\left[\\begin{matrix}4 & -9 & 34\\\\0 & 3 & -6\\end{matrix}\\right]$",
            "text/plain": [
              "Matrix([\n",
              "[4, -9, 34],\n",
              "[0,  3, -6]])"
            ]
          },
          "metadata": {
            "tags": []
          },
          "execution_count": 9
        }
      ]
    },
    {
      "cell_type": "code",
      "metadata": {
        "id": "fhipsw3aFRLY",
        "colab": {
          "base_uri": "https://localhost:8080/",
          "height": 99
        },
        "outputId": "26eb650c-6400-493f-bc7b-50a30cf98010"
      },
      "source": [
        "# Copia la matriz en otra variable. \n",
        "# Evita que las dos variables apunten a la misma matriz.\n",
        "\n",
        "M = A[:,:]\n",
        "\n",
        "M"
      ],
      "execution_count": null,
      "outputs": [
        {
          "output_type": "execute_result",
          "data": {
            "text/latex": "$\\displaystyle \\left[\\begin{matrix}0 & 3 & -6\\\\3 & 3 & -10\\\\4 & -9 & 34\\\\2 & -5 & 20\\end{matrix}\\right]$",
            "text/plain": [
              "Matrix([\n",
              "[0,  3,  -6],\n",
              "[3,  3, -10],\n",
              "[4, -9,  34],\n",
              "[2, -5,  20]])"
            ]
          },
          "metadata": {
            "tags": []
          },
          "execution_count": 10
        }
      ]
    },
    {
      "cell_type": "code",
      "metadata": {
        "id": "KkAX-ostFRLZ",
        "colab": {
          "base_uri": "https://localhost:8080/",
          "height": 99
        },
        "outputId": "8e1712b0-f6a0-4d00-f1cb-fbec74549f14"
      },
      "source": [
        "# Intercambiar el renglón 0 con el renglón 3, \n",
        "# R0 <-> R3\n",
        "\n",
        "M.row_swap(0,3)\n",
        "M"
      ],
      "execution_count": null,
      "outputs": [
        {
          "output_type": "execute_result",
          "data": {
            "text/latex": "$\\displaystyle \\left[\\begin{matrix}2 & -5 & 20\\\\3 & 3 & -10\\\\4 & -9 & 34\\\\0 & 3 & -6\\end{matrix}\\right]$",
            "text/plain": [
              "Matrix([\n",
              "[2, -5,  20],\n",
              "[3,  3, -10],\n",
              "[4, -9,  34],\n",
              "[0,  3,  -6]])"
            ]
          },
          "metadata": {
            "tags": []
          },
          "execution_count": 11
        }
      ]
    },
    {
      "cell_type": "code",
      "metadata": {
        "id": "IyD65bnfFRLZ",
        "colab": {
          "base_uri": "https://localhost:8080/",
          "height": 99
        },
        "outputId": "520d3c1a-93a1-4126-d561-d7dcd87f967d"
      },
      "source": [
        "# Resta 2 veces el renglón 0 al renglón 2, \n",
        "# -2R0 + R2 -> R2\n",
        "\n",
        "M[2,:] -= M[0,:]*2    #  M[2,:] = M[2,:] - M[0,:]*2\n",
        "M"
      ],
      "execution_count": null,
      "outputs": [
        {
          "output_type": "execute_result",
          "data": {
            "text/latex": "$\\displaystyle \\left[\\begin{matrix}2 & -5 & 20\\\\3 & 3 & -10\\\\0 & 1 & -6\\\\0 & 3 & -6\\end{matrix}\\right]$",
            "text/plain": [
              "Matrix([\n",
              "[2, -5,  20],\n",
              "[3,  3, -10],\n",
              "[0,  1,  -6],\n",
              "[0,  3,  -6]])"
            ]
          },
          "metadata": {
            "tags": []
          },
          "execution_count": 12
        }
      ]
    },
    {
      "cell_type": "code",
      "metadata": {
        "colab": {
          "base_uri": "https://localhost:8080/",
          "height": 99
        },
        "id": "2WqjH_jvrozs",
        "outputId": "ed67aa1c-f2c6-4ff7-fef1-6118333efd00"
      },
      "source": [
        "# La operación que no es tan elemental, \n",
        "#     es muy útil para evitar fraccionarios\n",
        "\n",
        "# Resta 3 veces el renglón 0 a 2 veces renglón 1, \n",
        "# -3R0 + 2R1 -> R1\n",
        "\n",
        "M[1,:] = M[1,:]*2 - M[0,:]*3   #Esta operación no se puede contraer\n",
        "M"
      ],
      "execution_count": null,
      "outputs": [
        {
          "output_type": "execute_result",
          "data": {
            "text/latex": "$\\displaystyle \\left[\\begin{matrix}2 & -5 & 20\\\\0 & 21 & -80\\\\0 & 1 & -6\\\\0 & 3 & -6\\end{matrix}\\right]$",
            "text/plain": [
              "Matrix([\n",
              "[2, -5,  20],\n",
              "[0, 21, -80],\n",
              "[0,  1,  -6],\n",
              "[0,  3,  -6]])"
            ]
          },
          "metadata": {
            "tags": []
          },
          "execution_count": 13
        }
      ]
    },
    {
      "cell_type": "code",
      "metadata": {
        "id": "43iQusdYFRLZ",
        "colab": {
          "base_uri": "https://localhost:8080/",
          "height": 99
        },
        "outputId": "7c567819-82a4-4d6e-ba5b-92eb218e32bd"
      },
      "source": [
        "# Multiplicar el renglón 0  por un 1/2, \n",
        "# (1/2)R0 -> R0\n",
        "\n",
        "M[0,:] = M[0,:]*1/2    #Si se contrae cambia las fracciones por decimales\n",
        "M"
      ],
      "execution_count": null,
      "outputs": [
        {
          "output_type": "execute_result",
          "data": {
            "text/latex": "$\\displaystyle \\left[\\begin{matrix}1 & - \\frac{5}{2} & 10\\\\0 & 21 & -80\\\\0 & 1 & -6\\\\0 & 3 & -6\\end{matrix}\\right]$",
            "text/plain": [
              "Matrix([\n",
              "[1, -5/2,  10],\n",
              "[0,   21, -80],\n",
              "[0,    1,  -6],\n",
              "[0,    3,  -6]])"
            ]
          },
          "metadata": {
            "tags": []
          },
          "execution_count": 14
        }
      ]
    },
    {
      "cell_type": "markdown",
      "metadata": {
        "id": "_GL_OAw4FRLa"
      },
      "source": [
        "# Operaciones no idempotentes y las celdas de Jupyter\n",
        "Una operación es **idempotente** si da lo mismo realizarla una vez o más de una vez. Por ejemplo: \n",
        "* multiplicar por cero es una operación idempotente. $0 \\cdot x=0\\cdot0 \\cdot x$. Si ejecuta una celda idempotente varias veces seguidas no cambia el resultado. \n",
        "* elevar al cuadrado no es una operación idempotente. $x^2 \\neq (x^2)^2$. Si ejecuta varas veces seguidas una celda no idempotente cambia el resultado.\n",
        "\n",
        "Las operaciones entre renglones usualmente <u>no</u> son operaciones idempotentes, entonces si usted ejecuta la celda de Jupyter dos veces, realizará dos veces la operación elemental y cambia el valor esperado. \n",
        "\n",
        "Para solucionar ese problema es mejor que <u>**ejecute todas las celdas**</u>, para eso le recomiendo usar la opción que hay en el menú de Jupyter.  \n",
        "\n",
        "Cuando corrija una operación elemental, debe volver a ejecutar TODAS las celdas ANTERIORES.  \n",
        "------------------------\n",
        "\n",
        "Quiero recordar que las variables en Jupyter se actualizan en el orden en que se ejecutan las celdas. Si usted ejecuta las celdas en desorden las variables pueden tener valores inesperados. Es por esto mi insistencia en el uso de la opción del menú que <u>ejecuta todas las celdas</u>."
      ]
    },
    {
      "cell_type": "markdown",
      "metadata": {
        "id": "kBa6oyX1FRLa"
      },
      "source": [
        "# Eliminación de Gauss\n",
        "[Nakos, Sec. 1.2]\n",
        "\n",
        "\n",
        "Una matriz se puede transformar a la forma escalón mediante los siguientes cuatro pasos. El último paso la convierte a la forma escalón reducida.\n",
        "1. Vaya a la columna extrema izquierda que no sea de ceros.\n",
        "2. Si el primer renglón tiene un cero en la columna del paso (1), intercámbielo con uno que tenga un elemento no cero en la misma columna.\n",
        "3. Obtenga ceros debajo del elemento delantero, sumando múltiplos adecuados del renglón superior a los renglones debajo de él.\n",
        "4. Cubra el renglón superior y repita el mismo proceso comenzando por el paso (1) aplicado a la sub-matriz restante. Repita este proceso con el resto de los renglones.\n",
        "5. Comenzando con el último renglón no cero, avance hacia arriba: para cada renglón obtenga un 1 delantero e introduzca ceros arriba de él, sumando múltiplos adecuados a los renglones correspondientes. "
      ]
    },
    {
      "cell_type": "markdown",
      "metadata": {
        "id": "YA70LJGGFRLa"
      },
      "source": [
        "## Ejemplo\n",
        "\n",
        "Utilizando el algoritmo de Gauss, encuentre la solución general del siguiente sistema de ecuaciones. \n",
        "\n",
        "$\\matrix{\n",
        "0a + 3b - 6c - 4d - 3e = -5\\\\\n",
        "-1a + 3b - 10c - 4d - 4e = -2\\\\\n",
        "4a - 9b + 34c + 0d + 1e = -21\\\\\n",
        "2a - 6b + 20c + 2d + 8e = -8}$\n",
        "\n",
        "## Solución\n",
        "\n"
      ]
    },
    {
      "cell_type": "code",
      "metadata": {
        "colab": {
          "base_uri": "https://localhost:8080/",
          "height": 99
        },
        "id": "MzvEB4HFv4wA",
        "outputId": "30fb12d1-3b08-44e4-e9ac-f15a0322ad99"
      },
      "source": [
        "import sympy as sp\n",
        "M=sp.Matrix([\n",
        "    [0,  3,  -6, -4, -3, -5 ],\n",
        "    [-1, 3, -10, -4, -4, -2 ],\n",
        "    [4, -9,  34,  0,  1, -21],\n",
        "    [2, -6,  20,  2,  8, -8 ]\n",
        "])\n",
        "M"
      ],
      "execution_count": null,
      "outputs": [
        {
          "output_type": "execute_result",
          "data": {
            "text/latex": "$\\displaystyle \\left[\\begin{matrix}0 & 3 & -6 & -4 & -3 & -5\\\\-1 & 3 & -10 & -4 & -4 & -2\\\\4 & -9 & 34 & 0 & 1 & -21\\\\2 & -6 & 20 & 2 & 8 & -8\\end{matrix}\\right]$",
            "text/plain": [
              "Matrix([\n",
              "[ 0,  3,  -6, -4, -3,  -5],\n",
              "[-1,  3, -10, -4, -4,  -2],\n",
              "[ 4, -9,  34,  0,  1, -21],\n",
              "[ 2, -6,  20,  2,  8,  -8]])"
            ]
          },
          "metadata": {
            "tags": []
          },
          "execution_count": 15
        }
      ]
    },
    {
      "cell_type": "markdown",
      "metadata": {
        "id": "qVFozCDIFRLb"
      },
      "source": [
        "Como el elemento `C[0,0]` es un 0, y bajo él hay elementos diferentes de cero es necesario cambiar el renglón 0 por otro renglón. Se escogió el renglón 1 ya que bajo el cero hay un -1, el cual divide al 4 a al 2 que también están bajo el 0.  "
      ]
    },
    {
      "cell_type": "code",
      "metadata": {
        "id": "dqGONOZZFRLb"
      },
      "source": [
        "#R1<->R0\n",
        "C[[0,1],:]=C[[1,0],:]\n",
        "C"
      ],
      "execution_count": null,
      "outputs": []
    },
    {
      "cell_type": "markdown",
      "metadata": {
        "id": "D5_F31C0FRLb"
      },
      "source": [
        "Ahora hay que eliminar los elementos diferentes de cero que están bajo el -1. Primero se elimina el 4. Sumando al renglón 2, 4 veces el renglón 0.  "
      ]
    },
    {
      "cell_type": "code",
      "metadata": {
        "id": "FuAS9my4FRLc"
      },
      "source": [
        "# 4R0 + R2 -> R2\n",
        "C[2,:] += 4*C[0,:]      # C[2,:] = C[2,:] + 4*C[0,:]\n",
        "C"
      ],
      "execution_count": null,
      "outputs": []
    },
    {
      "cell_type": "markdown",
      "metadata": {
        "id": "cJXP_soeFRLc"
      },
      "source": [
        "Ahora hay que eliminar el 2 que está bajo el -1. Sumando al renglón 3, 2 veces el renglón 0.  "
      ]
    },
    {
      "cell_type": "code",
      "metadata": {
        "id": "dkTOZe__FRLc"
      },
      "source": [
        "# 2R0 + R3 -> R3\n",
        "C[3,:] += 2*C[0,:]\n",
        "C"
      ],
      "execution_count": null,
      "outputs": []
    },
    {
      "cell_type": "markdown",
      "metadata": {
        "id": "kj8aSzChFRLc"
      },
      "source": [
        "El -1 va a ser el pivote de la columna 0 y del renglón 0. \n",
        "\n",
        "Ahora pasamos a la segunda columna e ignoramos el renglón 0. Con `C[1,1]`, que es un 3, se elimina el contenido de `C[2,1]`, que es otro 3. Para hacer esto, basta con restarle el renglón 1 al renglón 2. "
      ]
    },
    {
      "cell_type": "code",
      "metadata": {
        "id": "EUFcHUXFFRLc"
      },
      "source": [
        "# -R1 + R2 -> R2\n",
        "C[2,:] += -C[1,:]\n",
        "C"
      ],
      "execution_count": null,
      "outputs": []
    },
    {
      "cell_type": "markdown",
      "metadata": {
        "id": "tCaSCqtxFRLd"
      },
      "source": [
        "El 3 de `C[1,1]` va a ser el pivote de la columna 1 y del renglón 1. \n",
        "\n",
        "Ahora ignoramos el renglón 0 y el renglón 1. Al pasar a la columna 2, la que tiene en los renglones ignorados -10 y -6, vemos que en los otros renglones sólo tiene ceros, por lo tanto esta columna no tendrá pivote. \n",
        "\n",
        "La columna 2 no va a tener pivote."
      ]
    },
    {
      "cell_type": "code",
      "metadata": {
        "id": "b4xxA3o1FRLd"
      },
      "source": [
        "C"
      ],
      "execution_count": null,
      "outputs": []
    },
    {
      "cell_type": "markdown",
      "metadata": {
        "id": "kqmV6HsWFRLd"
      },
      "source": [
        "Al ver la columna 3, en los dos últimos renglones hay un -12 y un -6. Con el -12 hay que eliminar el -6. Una forma es sumar el renglón 2  a menos dos veces el renglón 3. Esta no es una operación elemental ya que el renglón de destino se multiplica por -2. Pero es equivalente a dos operaciones elementales, como se explicó anteriormente."
      ]
    },
    {
      "cell_type": "code",
      "metadata": {
        "id": "n2j908xkFRLe"
      },
      "source": [
        "# R2 - 2R3 -> R3\n",
        "C[3,:] = C[2,:] + (-2)*C[3,:] \n",
        "C"
      ],
      "execution_count": null,
      "outputs": []
    },
    {
      "cell_type": "markdown",
      "metadata": {
        "id": "m5iVqiF_FRLe"
      },
      "source": [
        "Con esto hemos obtenido una <u>matriz escalón</u>. Con lo cual se pueden ubicar los pivotes en `C[0,0]`, `C[1,1]`, `C[2,3]` y en `C[3,4]`.\n",
        "\n",
        "Ahora se puede continuar con el proceso hasta obtener una matriz reducida."
      ]
    },
    {
      "cell_type": "code",
      "metadata": {
        "id": "MWmAiz3mFRLe"
      },
      "source": [
        "# -(1/12)R3 -> R3\n",
        "\n",
        "C[3,:] *= -1/12\n",
        "C"
      ],
      "execution_count": null,
      "outputs": []
    },
    {
      "cell_type": "code",
      "metadata": {
        "id": "STnWcbIuFRLe"
      },
      "source": [
        "C[2,:] += 12*C[3] # 12 R3 + R2 -> R2\n",
        "C[1,:] += 3*C[3]  # 3  R3 + R1 -> R1\n",
        "C[0,:] += 4*C[3]  # 4  R3 + R0 -> R0\n",
        "C"
      ],
      "execution_count": null,
      "outputs": []
    },
    {
      "cell_type": "code",
      "metadata": {
        "id": "-6wiz6erFRLf"
      },
      "source": [
        "# -(1/12)R2 -> R2\n",
        "\n",
        "C[2,:] *= -1/12  \n",
        "C"
      ],
      "execution_count": null,
      "outputs": []
    },
    {
      "cell_type": "code",
      "metadata": {
        "id": "aFYBVz9zFRLf"
      },
      "source": [
        "C[1,:] += 4*C[2] # 4 R2 + R1 -> R1\n",
        "C[0,:] += 4*C[2] # 4 R2 + R0 -> R0\n",
        "C"
      ],
      "execution_count": null,
      "outputs": []
    },
    {
      "cell_type": "code",
      "metadata": {
        "id": "0Kt2Y9DeFRLf"
      },
      "source": [
        "# (1/3)R1 -> R1\n",
        "\n",
        "C[1,:] *= 1/3\n",
        "C"
      ],
      "execution_count": null,
      "outputs": []
    },
    {
      "cell_type": "code",
      "metadata": {
        "id": "n6kqOobUFRLf"
      },
      "source": [
        "# R0 - 3R1 -> R1\n",
        "\n",
        "C[0,:] += -3*C[1]\n",
        "C"
      ],
      "execution_count": null,
      "outputs": []
    },
    {
      "cell_type": "code",
      "metadata": {
        "id": "bjZQU9JbFRLg",
        "scrolled": true
      },
      "source": [
        "# -R0 -> R0\n",
        "\n",
        "C[0,:] *= -1\n",
        "C"
      ],
      "execution_count": null,
      "outputs": []
    },
    {
      "cell_type": "markdown",
      "metadata": {
        "id": "PWzesY7EFRLg"
      },
      "source": [
        "La anterior matriz ya se encuentra reducida. El sistema de ecuaciones que le corresponde es el siguiente.\n",
        "\n",
        "$\\matrix{\n",
        "1a + 0b + 4c + 0d + 0e =-3\\\\\n",
        "0a + 1b - 2c + 0d + 0e = 1\\\\\n",
        "0a + 0b + 0c + 1d + 0e = 2\\\\\n",
        "0a + 0b + 0c + 0d + 1e = 0}$\n",
        "\n"
      ]
    },
    {
      "cell_type": "markdown",
      "metadata": {
        "id": "OD75VBR2FRLg"
      },
      "source": [
        "La única variable libre es $c=t$.\n",
        "\n",
        "Ahora despejamos las variables delanteras de abajo hacia arriba:\n",
        "\n",
        "$\\matrix{\n",
        "e=0\\\\\n",
        "d=2\\\\\n",
        "b=1+2t\\\\\n",
        "a=-3-4t}$\n",
        "\n",
        "Por lo tanto la solución general es\n",
        "\n",
        "$\\left( \\matrix{a \\\\ b \\\\ c \\\\ d \\\\ e} \\right)\n",
        "=\\left( \\matrix{-3 \\\\1  \\\\0  \\\\2  \\\\0   } \\right)\n",
        "+t\\left( \\matrix{-4 \\\\2  \\\\1  \\\\0  \\\\ 0  } \\right)\n",
        "$\n",
        "\n",
        "La solución particular trivial es\n",
        "$\\left( \\matrix{-3 \\\\1  \\\\0  \\\\2  \\\\0   } \\right)\n",
        "+0\\left( \\matrix{-4 \\\\2  \\\\1  \\\\0  \\\\ 0  } \\right)\n",
        "=\\left( \\matrix{-3 \\\\1  \\\\0  \\\\2  \\\\0   } \\right)\n",
        "$\n",
        "\n",
        "Como sólo hay un parámetro entonces sólo hay una solución particular básica \n",
        "$\\left( \\matrix{-3 \\\\1  \\\\0  \\\\2  \\\\0   } \\right)\n",
        "+1\\left( \\matrix{-4 \\\\2  \\\\1  \\\\0  \\\\ 0  } \\right)\n",
        "=\\left( \\matrix{-7 \\\\3  \\\\1  \\\\2  \\\\0   } \\right)\n",
        "$\n",
        "\n",
        "A continuación verificamos que ambas soluciones particulares cumplan con las 4 ecuaciones. Comenzamos probando la solución particular trivial."
      ]
    },
    {
      "cell_type": "code",
      "metadata": {
        "id": "P-iWMvgVFRLg"
      },
      "source": [
        "(a, b, c, d, e)=(-3, 1, 0, 2, 0)\n",
        "(a, b, c, d, e)"
      ],
      "execution_count": null,
      "outputs": []
    },
    {
      "cell_type": "code",
      "metadata": {
        "id": "B-3JF9kbFRLh"
      },
      "source": [
        "0*a + 3*b - 6*c - 4*d - 3*e ==-5\n"
      ],
      "execution_count": null,
      "outputs": []
    },
    {
      "cell_type": "code",
      "metadata": {
        "id": "-8Aa85iPFRLh"
      },
      "source": [
        "-1*a + 3*b -10*c - 4*d - 4*e == -2 "
      ],
      "execution_count": null,
      "outputs": []
    },
    {
      "cell_type": "code",
      "metadata": {
        "id": "udyMyXwUFRLh"
      },
      "source": [
        "4*a - 9*b + 34*c + 0*d + 1*e == -21\n"
      ],
      "execution_count": null,
      "outputs": []
    },
    {
      "cell_type": "code",
      "metadata": {
        "id": "C3m0o0jAFRLh"
      },
      "source": [
        "2*a - 6*b + 20*c + 2*d + 8*e == -8 "
      ],
      "execution_count": null,
      "outputs": []
    },
    {
      "cell_type": "markdown",
      "metadata": {
        "id": "iY3GI7LEFRLi"
      },
      "source": [
        "Ahora verificamos la solución particular básica"
      ]
    },
    {
      "cell_type": "code",
      "metadata": {
        "id": "36p0IMrMFRLi"
      },
      "source": [
        "(a, b, c, d, e)=(-7, 3, 1, 2, 0 )\n",
        "(a, b, c, d, e)"
      ],
      "execution_count": null,
      "outputs": []
    },
    {
      "cell_type": "code",
      "metadata": {
        "id": "FAjBPxZ5FRLi"
      },
      "source": [
        "0*a + 3*b - 6*c - 4*d - 3*e ==-5\n"
      ],
      "execution_count": null,
      "outputs": []
    },
    {
      "cell_type": "code",
      "metadata": {
        "id": "mjxyVXJ3FRLj"
      },
      "source": [
        "-1*a + 3*b -10*c - 4*d - 4*e == -2 "
      ],
      "execution_count": null,
      "outputs": []
    },
    {
      "cell_type": "code",
      "metadata": {
        "id": "S-yr3Ti6FRLj"
      },
      "source": [
        "4*a - 9*b + 34*c + 0*d + 1*e == -21\n"
      ],
      "execution_count": null,
      "outputs": []
    },
    {
      "cell_type": "code",
      "metadata": {
        "id": "6gwvZcK6FRLj"
      },
      "source": [
        "2*a - 6*b + 20*c + 2*d + 8*e == -8 "
      ],
      "execution_count": null,
      "outputs": []
    },
    {
      "cell_type": "markdown",
      "metadata": {
        "id": "1_FkXcLgFRLj"
      },
      "source": [
        "Luego de verificar los resultados escribimos la respuesta del ejercicio."
      ]
    },
    {
      "cell_type": "code",
      "metadata": {
        "id": "wOFEzn0gFRLk"
      },
      "source": [
        "respuesta_ejemplo=(\n",
        "    (-3, 1, 0, 2, 0),    \n",
        "    (-7, 3, 1, 2, 0)\n",
        ")\n",
        "\n",
        "respuesta_ejemplo"
      ],
      "execution_count": null,
      "outputs": []
    },
    {
      "cell_type": "markdown",
      "metadata": {
        "id": "90s5FDEsFRLk"
      },
      "source": [
        "Recuerde que\n",
        "# Si debe cambiar una operación elemental, antes de ejecutarla debe <u>ejecutar TODAS las celdas ANTERIORES</u>."
      ]
    },
    {
      "cell_type": "code",
      "metadata": {
        "id": "t06HbkASFRLk"
      },
      "source": [
        "nombre= '  escriba aquí su nombre   '\n",
        "código=0    # reemplazar el cero por su cógdio"
      ],
      "execution_count": null,
      "outputs": []
    },
    {
      "cell_type": "markdown",
      "metadata": {
        "id": "CgVyAAn4FRLk"
      },
      "source": [
        "## Ejercicio\n",
        "\n",
        "Utilizando el algoritmo de Gauss, encuentre:\n",
        "* la solución general del siguiente sistema de ecuaciones. \n",
        "* En la variable `respuesta_ejercicio` asigne una tupla con la tupla de la solución particular trivial y las tuplas de las soluciones particulares básicas, si existen, como se realizó en el taller de sistemas de ecuaciones escalón.\n",
        "\n",
        "$\\matrix{\n",
        "-2x_1 + ax_2 - bx_3 - (a+1)x_4 - (b-1)x_5 = -5\\\\\n",
        "0x_1 + 0x_2 - 10x_3 - 4x_4 - 4x_5 = -2\\\\\n",
        "6x_1 - 9x_2 + 34x_3 + 0x_4 + 1x_5 = -21}$\n",
        "\n",
        "Recuerde que $a$ es el último dígito de su código y que $b$ es el penúltimo dígito de su código."
      ]
    },
    {
      "cell_type": "code",
      "metadata": {
        "id": "KHTy3pnfFRLk"
      },
      "source": [
        "respuesta_ejercicio=(\n",
        ")"
      ],
      "execution_count": null,
      "outputs": []
    }
  ]
}